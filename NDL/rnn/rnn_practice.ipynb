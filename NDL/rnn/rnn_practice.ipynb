{
 "cells": [
  {
   "cell_type": "code",
   "execution_count": null,
   "metadata": {},
   "outputs": [],
   "source": [
    "VOCAB_SIZE = 300  # 사용할 단어 수\n",
    "SEQ_LEN = 100     # 시퀀스 하나의 최대 길이"
   ]
  },
  {
   "cell_type": "code",
   "execution_count": 2,
   "metadata": {},
   "outputs": [
    {
     "name": "stdout",
     "output_type": "stream",
     "text": [
      "Downloading data from https://storage.googleapis.com/tensorflow/tf-keras-datasets/imdb.npz\n",
      "\u001b[1m17464789/17464789\u001b[0m \u001b[32m━━━━━━━━━━━━━━━━━━━━\u001b[0m\u001b[37m\u001b[0m \u001b[1m2s\u001b[0m 0us/step\n"
     ]
    }
   ],
   "source": [
    "# 데이터 로드\n",
    "from tensorflow.keras.datasets import imdb\n",
    "\n",
    "(train_input, train_target), (test_input, test_target) =  imdb.load_data(num_words=VOCAB_SIZE)\n"
   ]
  },
  {
   "cell_type": "code",
   "execution_count": null,
   "metadata": {},
   "outputs": [
    {
     "name": "stdout",
     "output_type": "stream",
     "text": [
      "25000 25000\n",
      "torch.Size([25000]) torch.Size([25000])\n"
     ]
    }
   ],
   "source": [
    "# PyTorch Teensor 로 변환\n",
    "import torch\n",
    "\n",
    "# torch.tensor() :  ndarray -> torch의 tensor형태로 변환\n",
    "train_input = [torch.tensor(seq,dtype=torch.long) for seq in train_input]\n",
    "test_input = [torch.tensor(seq, dtype=torch.long) for seq in test_input]\n",
    "\n",
    "train_target = torch.tensor(train_target, dtype = torch.long)\n",
    "test_target = torch.tensor(test_target, dtype = torch.long)\n",
    "\n",
    "print(len(train_input), len(test_input))\n",
    "print(train_target.shape, test_target.shape)"
   ]
  },
  {
   "cell_type": "code",
   "execution_count": 4,
   "metadata": {},
   "outputs": [],
   "source": [
    "train_input, test_input = train_input[:10000], test_input[:5000]\n",
    "train_target, test_target = train_target[:10000], test_target[:5000]\n"
   ]
  },
  {
   "cell_type": "code",
   "execution_count": 5,
   "metadata": {},
   "outputs": [
    {
     "data": {
      "image/png": "[encoded data removed]",
      "text/plain": [
       "<Figure size 640x480 with 1 Axes>"
      ]
     },
     "metadata": {},
     "output_type": "display_data"
    }
   ],
   "source": [
    "# 입력데이터 길이 체크\n",
    "import matplotlib.pyplot as plt\n",
    "import numpy as np\n",
    "\n",
    "train_len = [len(seq) for seq in train_input]\n",
    "\n",
    "plt.hist(train_len, bins=50)\n",
    "plt.xlabel('seq_len')\n",
    "plt.ylabel('freq')\n",
    "plt.show()"
   ]
  },
  {
   "cell_type": "code",
   "execution_count": null,
   "metadata": {},
   "outputs": [
    {
     "data": {
      "text/plain": [
       "(torch.Size([10000, 100]), torch.Size([5000, 100]))"
      ]
     },
     "execution_count": 7,
     "metadata": {},
     "output_type": "execute_result"
    }
   ],
   "source": [
    "# padding 처리\n",
    "import torch.nn.functional as F\n",
    "\n",
    "# F.pad() : 텐서의 특정 차원에 padding을 추가하는 함수\n",
    "# pad(input, pad, mode='constant', value=0) -> Tensor\n",
    "# input : padding을 추가할 텐서\n",
    "# pad : 각 차원에 추가할 padding의 양을 지정하는 튜플\n",
    "# mode : padding 방법을 지정하는 문자열\n",
    "# value : mode가 'constant'인 경우 padding에 사용할 상수값\n",
    "# mode='constant' : 상수값으로 padding을 채움\n",
    "\n",
    "def pad_sequences(sequences, maxlen, padding_value=0):\n",
    "  # seq[:maxlen] : seq의 길이가 maxlen보다 길면 maxlen만큼 잘라냄\n",
    "  # (0,max(0,maxlen-len(seq))) : seq의 길이가 maxlen보다 짧으면 0으로 채움\n",
    "  # value : padding_value로 채움\n",
    "  padded_sequences = [F.pad(seq[:maxlen], (0,max(0,maxlen-len(seq))), value=padding_value) for seq in sequences]\n",
    "  return torch.stack(padded_sequences)  # torch.stack을 이용해 단일 텐서로 만듬\n",
    "\n",
    "train_seq = pad_sequences(train_input, maxlen=SEQ_LEN)\n",
    "test_seq = pad_sequences(test_input, maxlen=SEQ_LEN)\n",
    "\n",
    "train_seq.shape, test_seq.shape"
   ]
  },
  {
   "cell_type": "code",
   "execution_count": 8,
   "metadata": {},
   "outputs": [
    {
     "data": {
      "text/plain": [
       "(torch.Size([10000, 100, 300]), torch.Size([5000, 100, 300]))"
      ]
     },
     "execution_count": 8,
     "metadata": {},
     "output_type": "execute_result"
    }
   ],
   "source": [
    "# one-hot encoding\n",
    "train_onehot = F.one_hot(train_seq, num_classes=VOCAB_SIZE).float()\n",
    "test_onehot = F.one_hot(test_seq, num_classes=VOCAB_SIZE).float()\n",
    "\n",
    "# 1. 시퀀스개수\n",
    "# 2. 토큰개수\n",
    "# 3. 원핫인코딩 차원의 개수\n",
    "train_onehot.shape, test_onehot.shape"
   ]
  },
  {
   "cell_type": "code",
   "execution_count": 9,
   "metadata": {},
   "outputs": [],
   "source": [
    "import torch.nn as nn\n",
    "class SentimentRNN(nn.Module):\n",
    "  def __init__(self, seq_len, vocab_size, hidden_dim, output_dim):\n",
    "    super(SentimentRNN, self).__init__()\n",
    "    self.rnn = nn.RNN(input_size=vocab_size, hidden_size=hidden_dim, batch_first=True)  # RNN안에 활성화 함수가 적용돼 있기에 굳이 따로 적용 필요 X\n",
    "    self.fc = nn.Linear(hidden_dim, output_dim)\n",
    "    self.sigmoid = nn.Sigmoid()\n",
    "\n",
    "  def forward(self,x):\n",
    "    _, hidden = self.rnn(x) # RNN을 지나 출력층으로 보냄\n",
    "    out = self.fc(hidden.squeeze(0))  # 출력층에서 선형으로 차원제거\n",
    "    return self.sigmoid(out)  # 활성화 함수 적용"
   ]
  },
  {
   "cell_type": "code",
   "execution_count": 10,
   "metadata": {},
   "outputs": [
    {
     "name": "stdout",
     "output_type": "stream",
     "text": [
      "SentimentRNN(\n",
      "  (rnn): RNN(300, 8, batch_first=True)\n",
      "  (fc): Linear(in_features=8, out_features=1, bias=True)\n",
      "  (sigmoid): Sigmoid()\n",
      ")\n"
     ]
    }
   ],
   "source": [
    "HIDDEN_DIM = 8\n",
    "OUTPUT_DIM = 1\n",
    "\n",
    "model = SentimentRNN(seq_len=SEQ_LEN, vocab_size=VOCAB_SIZE, hidden_dim=HIDDEN_DIM, output_dim=OUTPUT_DIM)\n",
    "print(model)"
   ]
  },
  {
   "cell_type": "code",
   "execution_count": null,
   "metadata": {},
   "outputs": [
    {
     "name": "stdout",
     "output_type": "stream",
     "text": [
      "Layer                Shape                          Params\n",
      "============================================================\n",
      "rnn.weight_ih_l0     [8, 300]                       2400\n",
      "rnn.weight_hh_l0     [8, 8]                         64\n",
      "rnn.bias_ih_l0       [8]                            8\n",
      "rnn.bias_hh_l0       [8]                            8\n",
      "fc.weight            [1, 8]                         8\n",
      "fc.bias              [1]                            1\n",
      "============================================================\n",
      "Total Trainable Parameters: 2489\n"
     ]
    }
   ],
   "source": [
    "total_params = 0\n",
    "print(f\"{'Layer':<20} {'Shape':<30} {'Params'}\")\n",
    "print(\"=\" * 60)\n",
    "\n",
    "for name, param in model.named_parameters():  # 학습 가능한 모든 파라미터 정보를 반환해 반복\n",
    "  if param.requires_grad:   # 역전파가 이뤄나 학습을 반환하는 파라미터인지 확인\n",
    "    param_count = param.numel() # numel() : 파라미터의 개수를 반환\n",
    "    total_params += param_count\n",
    "    print(f'{name:<20} {str(list(param.shape)):<30} {param_count}')\n",
    "\n",
    "print(\"=\" * 60)\n",
    "print(f'Total Trainable Parameters: {total_params}')\n",
    "# rnn.weight_ih_l0 : 입력층 은닉층 가중치\n",
    "# rnn.weight_hh_l0 : 은닉층 은닉층 가중치\n",
    "# rnn.bias_ih_l0 : 입력층 은닉층 편향\n",
    "# rnn.bias_hh_l0 : 은닉층 은닉층 편향"
   ]
  },
  {
   "cell_type": "code",
   "execution_count": null,
   "metadata": {},
   "outputs": [],
   "source": [
    "import torch.optim as optim\n",
    "import pandas as pd\n",
    "from torch.utils.data import DataLoader, TensorDataset, random_split\n",
    "\n",
    "BATCH_SIZE = 65\n",
    "train_size = int(len(train_onehot) *0.8)\n",
    "val_size = len(train_onehot) - train_size\n",
    "\n",
    "train_target = train_target.float()\n",
    "test_target = test_target.float()\n",
    "\n",
    "train_dataset, val_dataset = random_split(TensorDataset(train_onehot, train_target), [train_size, val_size])\n",
    "train_loader = DataLoader(train_dataset, batch_size=BATCH_SIZE, shuffle=True)\n",
    "val_loader = DataLoader(val_dataset, batch_size=BATCH_SIZE)"
   ]
  },
  {
   "cell_type": "code",
   "execution_count": 19,
   "metadata": {},
   "outputs": [
    {
     "name": "stdout",
     "output_type": "stream",
     "text": [
      "Epoch 1/100 | Train Loss: 0.6385 | Train Acc: 0.5793 | Val Loss: 0.6451 | Val Acc: 0.5775\n",
      "Epoch 2/100 | Train Loss: 0.6347 | Train Acc: 0.5910 | Val Loss: 0.6376 | Val Acc: 0.5810\n",
      "Epoch 3/100 | Train Loss: 0.6296 | Train Acc: 0.5919 | Val Loss: 0.6447 | Val Acc: 0.5855\n",
      "Epoch 4/100 | Train Loss: 0.6284 | Train Acc: 0.5925 | Val Loss: 0.6360 | Val Acc: 0.5815\n",
      "Epoch 5/100 | Train Loss: 0.6282 | Train Acc: 0.5981 | Val Loss: 0.6399 | Val Acc: 0.5835\n",
      "Epoch 6/100 | Train Loss: 0.6283 | Train Acc: 0.5972 | Val Loss: 0.6503 | Val Acc: 0.5670\n",
      "Epoch 7/100 | Train Loss: 0.6395 | Train Acc: 0.5887 | Val Loss: 0.6478 | Val Acc: 0.5735\n",
      "Epoch 8/100 | Train Loss: 0.6340 | Train Acc: 0.5889 | Val Loss: 0.6512 | Val Acc: 0.5685\n",
      "Epoch 9/100 | Train Loss: 0.6322 | Train Acc: 0.5899 | Val Loss: 0.6533 | Val Acc: 0.5685\n",
      "Epoch 10/100 | Train Loss: 0.6262 | Train Acc: 0.6025 | Val Loss: 0.6468 | Val Acc: 0.5790\n",
      "Epoch 11/100 | Train Loss: 0.6228 | Train Acc: 0.6016 | Val Loss: 0.6503 | Val Acc: 0.5750\n",
      "Early stopping at epoch 11\n"
     ]
    },
    {
     "data": {
      "image/png": "[encoded data removed]",
      "text/plain": [
       "<Figure size 640x480 with 1 Axes>"
      ]
     },
     "metadata": {},
     "output_type": "display_data"
    }
   ],
   "source": [
    "import torch.optim as optim\n",
    "import pandas as pd\n",
    "from torch.utils.data import DataLoader, TensorDataset, random_split\n",
    "\n",
    "# 배치 사이즈 설정 + 학습/검증셋 크기 설정\n",
    "BATCH_SIZE = 65\n",
    "train_size = int(len(train_onehot) * 0.8)\n",
    "val_size = len(train_onehot) - train_size\n",
    "\n",
    "# label 데이터 실수 처리\n",
    "train_target = train_target.float()\n",
    "test_target = test_target.float()\n",
    "\n",
    "# 학습/검증셋 분할 + 미니배치로 사용하도록 DataLoader 생성\n",
    "train_dataset, val_dataset = random_split(\n",
    "    TensorDataset(train_onehot, train_target), [train_size, val_size]\n",
    ")\n",
    "train_loader = DataLoader(train_dataset, batch_size=BATCH_SIZE, shuffle=True)\n",
    "val_loader = DataLoader(val_dataset, batch_size=BATCH_SIZE)\n",
    "\n",
    "# epoch, 손실함수, 최적화함수 정의\n",
    "epochs = 100\n",
    "criterion = nn.BCELoss()\n",
    "optimizer = optim.Adam(model.parameters(), lr=0.005)\n",
    "\n",
    "\n",
    "# 시각화를 위한 손실값/정확도 저장용\n",
    "train_losses, val_losses, train_accs, val_accs = [], [], [], []\n",
    "\n",
    "# 조기종료 관련 변수 초기화\n",
    "early_stopping_patience = 7\n",
    "best_val_loss = float(\"inf\")\n",
    "early_stop_counter = 0\n",
    "\n",
    "for epoch in range(epochs):\n",
    "    # train mode\n",
    "    model.train()\n",
    "    total_loss, correct, total = 0, 0, 0\n",
    "\n",
    "    for inputs, targets in train_loader:\n",
    "        optimizer.zero_grad()  # 가중치 초기화\n",
    "        outputs = model(inputs).squeeze()  # 순전파\n",
    "\n",
    "        loss = criterion(outputs, targets)  # 손실계산\n",
    "\n",
    "        loss.backward()  # 역전파\n",
    "        optimizer.step()  # 가중치 업데이트\n",
    "        total_loss += loss.item()\n",
    "\n",
    "        pred = (outputs > 0.5).float()\n",
    "        correct += (pred == targets).sum().item()\n",
    "        total += targets.size(0)\n",
    "\n",
    "    train_loss = total_loss / len(train_loader)\n",
    "    train_acc = correct / total\n",
    "    train_losses.append(train_loss)\n",
    "    train_accs.append(train_acc)\n",
    "\n",
    "    # validation mode\n",
    "    model.eval()\n",
    "    val_loss, val_correct, val_total = 0, 0, 0\n",
    "\n",
    "    with torch.no_grad():\n",
    "        for val_inputs, val_targets in val_loader:\n",
    "            val_outputs = model(val_inputs).squeeze()\n",
    "            loss = criterion(val_outputs, val_targets)\n",
    "            val_loss += loss.item()\n",
    "\n",
    "            val_pred = (val_outputs > 0.5).float()\n",
    "            val_correct += (val_pred == val_targets).sum().item()\n",
    "            val_total += val_targets.size(0)\n",
    "\n",
    "    val_loss = val_loss / len(val_loader)\n",
    "    val_acc = val_correct / val_total\n",
    "    val_losses.append(val_loss)\n",
    "    val_accs.append(val_acc)\n",
    "\n",
    "    print(\n",
    "        f\"Epoch {epoch+1}/{epochs} | Train Loss: {train_loss:.4f} | Train Acc: {train_acc:.4f} | Val Loss: {val_loss:.4f} | Val Acc: {val_acc:.4f}\"\n",
    "    )\n",
    "\n",
    "    # 조기종료\n",
    "    if val_loss < best_val_loss:\n",
    "        best_val_loss = val_loss\n",
    "        early_stop_counter = 0\n",
    "    else:\n",
    "        early_stop_counter += 1\n",
    "        if early_stop_counter >= early_stopping_patience:\n",
    "            print(f\"Early stopping at epoch {epoch+1}\")\n",
    "            break\n",
    "\n",
    "train_history_df = pd.DataFrame(\n",
    "    {\n",
    "        \"train_loss\": train_losses,\n",
    "        \"val_loss\": val_losses,\n",
    "        \"train_acc\": train_accs,\n",
    "        \"val_acc\": val_accs,\n",
    "    }\n",
    ")\n",
    "train_history_df.plot()\n",
    "plt.show()"
   ]
  }
 ],
 "metadata": {
  "kernelspec": {
   "display_name": "pystudy_env",
   "language": "python",
   "name": "python3"
  },
  "language_info": {
   "codemirror_mode": {
    "name": "ipython",
    "version": 3
   },
   "file_extension": ".py",
   "mimetype": "text/x-python",
   "name": "python",
   "nbconvert_exporter": "python",
   "pygments_lexer": "ipython3",
   "version": "3.12.8"
  }
 },
 "nbformat": 4,
 "nbformat_minor": 2
}
