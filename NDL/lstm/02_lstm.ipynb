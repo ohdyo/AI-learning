{
  "cells": [
    {
      "cell_type": "markdown",
      "metadata": {
        "id": "tyEJyfvsGPP2"
      },
      "source": [
        "# LSTM"
      ]
    },
    {
      "cell_type": "code",
      "execution_count": 10,
      "metadata": {
        "id": "4BkCFTTXGst5"
      },
      "outputs": [],
      "source": [
        "VOCAB_SIZE = 300    # 사용할 단어 수\n",
        "SEQ_LEN = 100       # 시퀀스 하나의 최대 길이"
      ]
    },
    {
      "cell_type": "markdown",
      "metadata": {
        "id": "OD7_inwuQqic"
      },
      "source": [
        "### 데이터 준비"
      ]
    },
    {
      "cell_type": "code",
      "execution_count": 11,
      "metadata": {
        "colab": {
          "base_uri": "https://localhost:8080/"
        },
        "id": "vnMNsnuIF6hj",
        "outputId": "1039f051-0110-40f4-b517-69528c1d6262"
      },
      "outputs": [],
      "source": [
        "# 데이터 로드\n",
        "from tensorflow.keras.datasets import imdb\n",
        "\n",
        "(train_input, train_target), (test_input, test_target) = imdb.load_data(num_words=VOCAB_SIZE)"
      ]
    },
    {
      "cell_type": "code",
      "execution_count": 12,
      "metadata": {},
      "outputs": [
        {
          "name": "stdout",
          "output_type": "stream",
          "text": [
            "(25000,) object\n"
          ]
        }
      ],
      "source": [
        "print(train_input.shape, train_input.dtype)"
      ]
    },
    {
      "cell_type": "code",
      "execution_count": 13,
      "metadata": {
        "colab": {
          "base_uri": "https://localhost:8080/"
        },
        "id": "U5FkM8kiH50k",
        "outputId": "43f4db2f-8178-4dc0-a650-60de8f131d00"
      },
      "outputs": [
        {
          "name": "stdout",
          "output_type": "stream",
          "text": [
            "25000 25000\n",
            "torch.Size([25000]) torch.Size([25000])\n"
          ]
        }
      ],
      "source": [
        "# PyTorch Tensor로 변환\n",
        "import torch\n",
        "\n",
        "# ndarray형식의 데이터를 torch.tensor로 변환\n",
        "train_input = [torch.tensor(seq, dtype=torch.long) for seq in train_input]\n",
        "test_input = [torch.tensor(seq, dtype=torch.long) for seq in test_input]\n",
        "\n",
        "train_target = torch.tensor(train_target, dtype=torch.long)\n",
        "test_target = torch.tensor(test_target, dtype=torch.long)\n",
        "\n",
        "print(len(train_input), len(test_input))\n",
        "print(train_target.shape, test_target.shape)"
      ]
    },
    {
      "cell_type": "code",
      "execution_count": 14,
      "metadata": {
        "id": "yguCeMyqJQ53"
      },
      "outputs": [],
      "source": [
        "train_input, test_input = train_input[:10000], test_input[:5000]\n",
        "train_target, test_target = train_target[:10000], test_target[:5000]"
      ]
    },
    {
      "cell_type": "code",
      "execution_count": 15,
      "metadata": {
        "colab": {
          "base_uri": "https://localhost:8080/"
        },
        "id": "0oe1uxoXMve7",
        "outputId": "d9cf38a8-24f1-4028-f307-5958dcc3f668"
      },
      "outputs": [
        {
          "data": {
            "text/plain": [
              "tensor([  1,  14,  22,  16,  43,   2,   2,   2,   2,  65,   2,   2,  66,   2,\n",
              "          4, 173,  36, 256,   5,  25, 100,  43,   2, 112,  50,   2,   2,   9,\n",
              "         35,   2, 284,   5, 150,   4, 172, 112, 167,   2,   2,   2,  39,   4,\n",
              "        172,   2,   2,  17,   2,  38,  13,   2,   4, 192,  50,  16,   6, 147,\n",
              "          2,  19,  14,  22,   4,   2,   2,   2,   4,  22,  71,  87,  12,  16,\n",
              "         43,   2,  38,  76,  15,  13,   2,   4,  22,  17,   2,  17,  12,  16,\n",
              "          2,  18,   2,   5,  62,   2,  12,   8,   2,   8, 106,   5,   4,   2,\n",
              "          2,  16,   2,  66,   2,  33,   4, 130,  12,  16,  38,   2,   5,  25,\n",
              "        124,  51,  36, 135,  48,  25,   2,  33,   6,  22,  12, 215,  28,  77,\n",
              "         52,   5,  14,   2,  16,  82,   2,   8,   4, 107, 117,   2,  15, 256,\n",
              "          4,   2,   7,   2,   5,   2,  36,  71,  43,   2,   2,  26,   2,   2,\n",
              "         46,   7,   4,   2,   2,  13, 104,  88,   4,   2,  15, 297,  98,  32,\n",
              "          2,  56,  26, 141,   6, 194,   2,  18,   4, 226,  22,  21, 134,   2,\n",
              "         26,   2,   5, 144,  30,   2,  18,  51,  36,  28, 224,  92,  25, 104,\n",
              "          4, 226,  65,  16,  38,   2,  88,  12,  16, 283,   5,  16,   2, 113,\n",
              "        103,  32,  15,  16,   2,  19, 178,  32])"
            ]
          },
          "execution_count": 15,
          "metadata": {},
          "output_type": "execute_result"
        }
      ],
      "source": [
        "train_input[0]"
      ]
    },
    {
      "cell_type": "code",
      "execution_count": 16,
      "metadata": {
        "colab": {
          "base_uri": "https://localhost:8080/",
          "height": 450
        },
        "id": "UFp6DliKJoFx",
        "outputId": "6b87a1e4-05b3-47e2-b4c0-394aefdf8526"
      },
      "outputs": [
        {
          "data": {
            "image/png": "[encoded data removed]",
            "text/plain": [
              "<Figure size 640x480 with 1 Axes>"
            ]
          },
          "metadata": {},
          "output_type": "display_data"
        }
      ],
      "source": [
        "# 입력 데이터 길이 체크\n",
        "import matplotlib.pyplot as plt\n",
        "import numpy as np\n",
        "\n",
        "train_len = [len(seq) for seq in train_input]\n",
        "\n",
        "# 시퀀스 길이 분포 확인\n",
        "# X축이 의미하는 것 : 시퀀스의 길이\n",
        "# Y축이 의미하는 것 : 해당 길이의 시퀀스가 몇 개 있는지\n",
        "plt.hist(train_len, bins=50)\n",
        "plt.xlabel('seq_len')\n",
        "plt.ylabel('freq')\n",
        "plt.show()"
      ]
    },
    {
      "cell_type": "code",
      "execution_count": null,
      "metadata": {
        "colab": {
          "base_uri": "https://localhost:8080/"
        },
        "id": "W4EBgD0YKJl5",
        "outputId": "2e644bf9-127f-4377-99c3-f1a755ffd4d1"
      },
      "outputs": [
        {
          "data": {
            "text/plain": [
              "(torch.Size([10000, 100]), torch.Size([5000, 100]))"
            ]
          },
          "execution_count": 17,
          "metadata": {},
          "output_type": "execute_result"
        }
      ],
      "source": [
        "# padding 처리\n",
        "# PyTorch의 F.pad() 함수를 사용하여 시퀀스 길이를 맞추는 작업을 수행\n",
        "# F.pad() 함수는 입력 시퀀스의 길이를 maxlen으로 맞추고, 남는 부분은 0으로 채움\n",
        "import torch.nn.functional as F\n",
        "\n",
        "def pad_sequences(sequences, maxlen, padding_value=0):\n",
        "  # F.pad 함수를 사용하여 시퀀스 길이를 맞춤\n",
        "  # padding_value는 0으로 설정\n",
        "  # 입력받은 시퀀스가 1차원이므로 pad의 인자로 2개의 튜플을 사용한다.\n",
        "  padded_sequences = [F.pad(seq[:maxlen], (0, max(0, maxlen-len(seq))), value=padding_value) for seq in sequences]\n",
        "  return torch.stack(padded_sequences)\n",
        "\n",
        "train_seq = pad_sequences(train_input, maxlen=SEQ_LEN)\n",
        "test_seq = pad_sequences(test_input, maxlen=SEQ_LEN)\n",
        "\n",
        "train_seq.shape, test_seq.shape"
      ]
    },
    {
      "cell_type": "code",
      "execution_count": 18,
      "metadata": {
        "colab": {
          "base_uri": "https://localhost:8080/"
        },
        "id": "-IjPZBsxMTk5",
        "outputId": "036ea165-06bd-40ea-d278-021f205e1b7b"
      },
      "outputs": [
        {
          "data": {
            "text/plain": [
              "(torch.Size([10000, 100, 300]), torch.Size([5000, 100, 300]))"
            ]
          },
          "execution_count": 18,
          "metadata": {},
          "output_type": "execute_result"
        }
      ],
      "source": [
        "# one-hot encoding\n",
        "train_onehot = F.one_hot(train_seq, num_classes=VOCAB_SIZE).float()\n",
        "test_onehot = F.one_hot(test_seq, num_classes=VOCAB_SIZE).float()\n",
        "\n",
        "train_onehot.shape, test_onehot.shape"
      ]
    },
    {
      "cell_type": "markdown",
      "metadata": {
        "id": "iOv3sUE-Gh35"
      },
      "source": [
        "### 모델 준비 및 학습"
      ]
    },
    {
      "cell_type": "markdown",
      "metadata": {
        "id": "-DbqPU4aM5rn"
      },
      "source": [
        "##### one-hot encoding + LSTM"
      ]
    },
    {
      "cell_type": "code",
      "execution_count": null,
      "metadata": {
        "id": "RJ731LgpDJOM"
      },
      "outputs": [],
      "source": [
        "import torch\n",
        "import torch.nn as nn\n",
        "\n",
        "class SentimentLSTM(nn.Module):\n",
        "  def __init__(self, seq_len, vocab_size, hidden_dim, output_dim):\n",
        "    super(SentimentLSTM, self).__init__()\n",
        "    # input_size : 단어의 개수\n",
        "    # hidden_size : 은닉 상태의 크기\n",
        "    # batch_first : True로 설정하여 입력 텐서의 첫 번째 차원이 배치 크기임을 나타냄\n",
        "    self.lstm = nn.LSTM(input_size=vocab_size, hidden_size=hidden_dim, batch_first=True)\n",
        "    # nn.Linear : 선형 변환을 수행하는 객체\n",
        "    # hidden_dim : 입력 차원\n",
        "    # output_dim : 출력 차원\n",
        "    self.fc = nn.Linear(hidden_dim, output_dim)\n",
        "    # \n",
        "    self.sigmoid = nn.Sigmoid()\n",
        "\n",
        "  def forward(self, x):\n",
        "    # LSTM은 은닉 상태와 셀 상태를 반환\n",
        "    # LSTM의 출력은 모든 시퀀스에 대한 은닉 상태\n",
        "    # LSTM의 마지막 은닉 상태를 사용하여 긍정/부정을 분류\n",
        "    _, (hidden, _) = self.lstm(x)\n",
        "    out = self.fc(hidden[-1])\n",
        "    return self.sigmoid(out)"
      ]
    },
    {
      "cell_type": "code",
      "execution_count": 20,
      "metadata": {
        "colab": {
          "base_uri": "https://localhost:8080/"
        },
        "id": "2av3BTqBIrrP",
        "outputId": "00736db0-25ed-4c3b-a56b-70f8280a61d9"
      },
      "outputs": [
        {
          "name": "stdout",
          "output_type": "stream",
          "text": [
            "SentimentLSTM(\n",
            "  (lstm): LSTM(300, 8, batch_first=True)\n",
            "  (fc): Linear(in_features=8, out_features=1, bias=True)\n",
            "  (sigmoid): Sigmoid()\n",
            ")\n"
          ]
        }
      ],
      "source": [
        "HIDDEN_DIM = 8\n",
        "OUTPUT_DIM = 1\n",
        "\n",
        "lstm_model = SentimentLSTM(seq_len=SEQ_LEN, vocab_size=VOCAB_SIZE, hidden_dim=HIDDEN_DIM, output_dim=OUTPUT_DIM)\n",
        "\n",
        "print(lstm_model)"
      ]
    },
    {
      "cell_type": "code",
      "execution_count": 21,
      "metadata": {
        "colab": {
          "base_uri": "https://localhost:8080/"
        },
        "id": "fOVZaEtwJV34",
        "outputId": "19b2900b-8815-4529-c739-5d7325eea9fe"
      },
      "outputs": [
        {
          "name": "stdout",
          "output_type": "stream",
          "text": [
            "Layer                Shape                          Params\n",
            "============================================================\n",
            "lstm.weight_ih_l0    [32, 300]                      9600\n",
            "lstm.weight_hh_l0    [32, 8]                        256\n",
            "lstm.bias_ih_l0      [32]                           32\n",
            "lstm.bias_hh_l0      [32]                           32\n",
            "fc.weight            [1, 8]                         8\n",
            "fc.bias              [1]                            1\n",
            "============================================================\n",
            "Total Trainable Parameters: 9929\n"
          ]
        }
      ],
      "source": [
        "total_params = 0\n",
        "print(f\"{'Layer':<20} {'Shape':<30} {'Params'}\")\n",
        "print(\"=\" * 60)\n",
        "\n",
        "for name, param in lstm_model.named_parameters():\n",
        "  if param.requires_grad:\n",
        "    param_count = param.numel()\n",
        "    total_params += param_count\n",
        "    print(f'{name:<20} {str(list(param.shape)):<30} {param_count}')\n",
        "\n",
        "print(\"=\" * 60)\n",
        "print(f'Total Trainable Parameters: {total_params}')"
      ]
    },
    {
      "cell_type": "code",
      "execution_count": 22,
      "metadata": {
        "colab": {
          "base_uri": "https://localhost:8080/",
          "height": 698
        },
        "id": "Yl4Egyw6K21B",
        "outputId": "763ae653-39c3-4cec-8b50-6c45ab0c01ba"
      },
      "outputs": [
        {
          "name": "stdout",
          "output_type": "stream",
          "text": [
            "Epoch 1/100 | Train Loss: 0.6928, Train Acc: 0.5111, Val Loss: 0.6918, Val Acc: 0.5100\n",
            "Epoch 2/100 | Train Loss: 0.6926, Train Acc: 0.5367, Val Loss: 0.6938, Val Acc: 0.4920\n",
            "Epoch 3/100 | Train Loss: 0.6907, Train Acc: 0.5226, Val Loss: 0.6911, Val Acc: 0.5215\n",
            "Epoch 4/100 | Train Loss: 0.6864, Train Acc: 0.5474, Val Loss: 0.6971, Val Acc: 0.5070\n",
            "Epoch 5/100 | Train Loss: 0.6725, Train Acc: 0.5876, Val Loss: 0.6549, Val Acc: 0.6190\n",
            "Epoch 6/100 | Train Loss: 0.6886, Train Acc: 0.5567, Val Loss: 0.6866, Val Acc: 0.5490\n",
            "Epoch 7/100 | Train Loss: 0.6624, Train Acc: 0.6164, Val Loss: 0.6835, Val Acc: 0.5975\n",
            "Epoch 8/100 | Train Loss: 0.6580, Train Acc: 0.6150, Val Loss: 0.6907, Val Acc: 0.5070\n",
            "Epoch 9/100 | Train Loss: 0.6557, Train Acc: 0.6136, Val Loss: 0.6398, Val Acc: 0.6545\n",
            "Epoch 10/100 | Train Loss: 0.6554, Train Acc: 0.6161, Val Loss: 0.6209, Val Acc: 0.6580\n",
            "Epoch 11/100 | Train Loss: 0.6284, Train Acc: 0.6660, Val Loss: 0.6087, Val Acc: 0.6930\n",
            "Epoch 12/100 | Train Loss: 0.6237, Train Acc: 0.6677, Val Loss: 0.6029, Val Acc: 0.6990\n",
            "Epoch 13/100 | Train Loss: 0.6114, Train Acc: 0.6816, Val Loss: 0.7065, Val Acc: 0.5900\n",
            "Epoch 14/100 | Train Loss: 0.5955, Train Acc: 0.6950, Val Loss: 0.5864, Val Acc: 0.7085\n",
            "Epoch 15/100 | Train Loss: 0.5887, Train Acc: 0.7004, Val Loss: 0.6166, Val Acc: 0.6955\n",
            "Epoch 16/100 | Train Loss: 0.5728, Train Acc: 0.7113, Val Loss: 0.5937, Val Acc: 0.6930\n",
            "Epoch 17/100 | Train Loss: 0.5533, Train Acc: 0.7285, Val Loss: 0.5843, Val Acc: 0.7120\n",
            "Epoch 18/100 | Train Loss: 0.5555, Train Acc: 0.7316, Val Loss: 0.5842, Val Acc: 0.6960\n",
            "Epoch 19/100 | Train Loss: 0.5406, Train Acc: 0.7381, Val Loss: 0.5878, Val Acc: 0.6820\n",
            "Epoch 20/100 | Train Loss: 0.5266, Train Acc: 0.7494, Val Loss: 0.5703, Val Acc: 0.7180\n",
            "Epoch 21/100 | Train Loss: 0.5191, Train Acc: 0.7500, Val Loss: 0.5801, Val Acc: 0.7110\n",
            "Epoch 22/100 | Train Loss: 0.5054, Train Acc: 0.7529, Val Loss: 0.5604, Val Acc: 0.7180\n",
            "Epoch 23/100 | Train Loss: 0.4934, Train Acc: 0.7619, Val Loss: 0.5749, Val Acc: 0.7210\n",
            "Epoch 24/100 | Train Loss: 0.4890, Train Acc: 0.7680, Val Loss: 0.5836, Val Acc: 0.7025\n",
            "Epoch 25/100 | Train Loss: 0.4822, Train Acc: 0.7726, Val Loss: 0.5898, Val Acc: 0.6975\n",
            "Epoch 26/100 | Train Loss: 0.4818, Train Acc: 0.7718, Val Loss: 0.5683, Val Acc: 0.7170\n",
            "Epoch 27/100 | Train Loss: 0.4736, Train Acc: 0.7804, Val Loss: 0.5794, Val Acc: 0.7035\n",
            "Epoch 28/100 | Train Loss: 0.4655, Train Acc: 0.7808, Val Loss: 0.5806, Val Acc: 0.7145\n",
            "Epoch 29/100 | Train Loss: 0.4616, Train Acc: 0.7814, Val Loss: 0.6008, Val Acc: 0.7150\n",
            "Early stopping 할게!\n"
          ]
        },
        {
          "data": {
            "image/png": "[encoded data removed]",
            "text/plain": [
              "<Figure size 640x480 with 1 Axes>"
            ]
          },
          "metadata": {},
          "output_type": "display_data"
        }
      ],
      "source": [
        "import torch.optim as optim\n",
        "import pandas as pd\n",
        "from torch.utils.data import DataLoader, TensorDataset, random_split\n",
        "\n",
        "# 배치 사이즈 설정 + 학습/검증셋 크기 설정\n",
        "BATCH_SIZE = 65\n",
        "train_size = int(len(train_onehot) * 0.8)\n",
        "val_size = len(train_onehot) - train_size\n",
        "\n",
        "# label 데이터 실수 처리\n",
        "train_target = train_target.float()\n",
        "test_target = test_target.float()\n",
        "\n",
        "# 학습/검증셋 분할 + 미니배치로 사용하도록 DataLoader 생성\n",
        "train_dataset, val_dataset = random_split(TensorDataset(train_onehot, train_target), [train_size, val_size])\n",
        "train_loader = DataLoader(train_dataset, batch_size=BATCH_SIZE, shuffle=True)\n",
        "val_loader = DataLoader(val_dataset, batch_size=BATCH_SIZE)\n",
        "\n",
        "# epoch, 손실함수, 최적화함수 정의\n",
        "epochs = 100\n",
        "criterion = nn.BCELoss()\n",
        "optimizer = optim.Adam(lstm_model.parameters(), lr=0.005)\n",
        "\n",
        "# 시각화를 위한 손실값/정확도 저장용\n",
        "train_losses, val_losses, train_accs, val_accs = [], [], [], []\n",
        "\n",
        "# 조기종료 관련 변수 초기화\n",
        "early_stopping_patience = 7\n",
        "best_val_loss = float('inf')\n",
        "early_stop_counter = 0\n",
        "\n",
        "# 학습 과정\n",
        "for epoch in range(epochs):\n",
        "  # train mode\n",
        "  lstm_model.train()\n",
        "  total_loss, correct, total = 0, 0, 0\n",
        "\n",
        "  for inputs, targets in train_loader:\n",
        "    optimizer.zero_grad()              # 가중치 초기화\n",
        "    outputs = lstm_model(inputs).squeeze()  # 순전파\n",
        "\n",
        "    loss = criterion(outputs, targets) # 손실 계산\n",
        "\n",
        "    loss.backward()                    # 역전파\n",
        "    optimizer.step()                   # 가중치 업데이트\n",
        "    total_loss += loss.item()\n",
        "\n",
        "    pred = (outputs > 0.5).float()\n",
        "    correct += (pred == targets).sum().item()\n",
        "    total += targets.size(0)\n",
        "\n",
        "  train_loss = total_loss / len(train_loader)\n",
        "  train_acc = correct / total\n",
        "  train_losses.append(train_loss)\n",
        "  train_accs.append(train_acc)\n",
        "\n",
        "  # validation mode\n",
        "  lstm_model.eval()\n",
        "  val_loss, val_correct, val_total = 0, 0, 0\n",
        "\n",
        "  with torch.no_grad():\n",
        "    for val_inputs, val_targets in val_loader:\n",
        "      val_outputs = lstm_model(val_inputs).squeeze()\n",
        "      loss = criterion(val_outputs, val_targets)\n",
        "      val_loss += loss.item()\n",
        "\n",
        "      val_pred = (val_outputs > 0.5).float()\n",
        "      val_correct += (val_pred == val_targets).sum().item()\n",
        "      val_total += val_targets.size(0)\n",
        "\n",
        "  val_loss = val_loss / len(val_loader)\n",
        "  val_acc = val_correct / val_total\n",
        "  val_losses.append(val_loss)\n",
        "  val_accs.append(val_acc)\n",
        "\n",
        "  print(f'Epoch {epoch+1}/{epochs} | Train Loss: {train_loss:.4f}, Train Acc: {train_acc:.4f}, Val Loss: {val_loss:.4f}, Val Acc: {val_acc:.4f}')\n",
        "\n",
        "  # 조기종료 처리\n",
        "  if val_loss < best_val_loss:\n",
        "    best_val_loss = val_loss\n",
        "    early_stop_counter = 0\n",
        "  else:\n",
        "    early_stop_counter += 1\n",
        "    if early_stop_counter >= early_stopping_patience:\n",
        "      print(\"Early stopping 할게!\")\n",
        "      break\n",
        "\n",
        "# 시각화\n",
        "train_history_df = pd.DataFrame({\n",
        "    \"train_loss\": train_losses,\n",
        "    \"val_loss\": val_losses,\n",
        "    \"train_acc\": train_accs,\n",
        "    \"val_acc\": val_accs\n",
        "})\n",
        "train_history_df.plot()\n",
        "plt.show()"
      ]
    },
    {
      "cell_type": "code",
      "execution_count": 23,
      "metadata": {
        "id": "TV-hKg64MMV1"
      },
      "outputs": [],
      "source": [
        "def evaluate_model(model, test_loader, criterion):\n",
        "  model.eval()\n",
        "  val_loss, val_correct, val_total = 0, 0, 0\n",
        "\n",
        "  with torch.no_grad():\n",
        "    for val_inputs, val_targets in test_loader:\n",
        "      val_outputs = model(val_inputs).squeeze()\n",
        "      loss = criterion(val_outputs, val_targets)\n",
        "      val_loss += loss.item()\n",
        "\n",
        "      val_pred = (val_outputs > 0.5).float()\n",
        "      val_correct += (val_pred == val_targets).sum().item()\n",
        "      val_total += val_targets.size(0)\n",
        "\n",
        "  test_loss = val_loss / len(test_loader)\n",
        "  test_acc = val_correct / val_total\n",
        "  return test_loss, test_acc"
      ]
    },
    {
      "cell_type": "code",
      "execution_count": 24,
      "metadata": {
        "colab": {
          "base_uri": "https://localhost:8080/"
        },
        "id": "ppxqbWdEMNmD",
        "outputId": "95068776-584f-42a5-d19f-2aba786d981d"
      },
      "outputs": [
        {
          "name": "stdout",
          "output_type": "stream",
          "text": [
            "Test Loss: 0.6228, Test Accuracy: 0.7058\n"
          ]
        }
      ],
      "source": [
        "test_dataset = TensorDataset(test_onehot, test_target)\n",
        "test_loader = DataLoader(test_dataset, batch_size=65)\n",
        "\n",
        "loss, accuracy = evaluate_model(lstm_model, test_loader, criterion)\n",
        "\n",
        "print(f'Test Loss: {loss:.4f}, Test Accuracy: {accuracy:.4f}')"
      ]
    },
    {
      "cell_type": "markdown",
      "metadata": {
        "id": "olwmw6oYM_5B"
      },
      "source": [
        "##### Embedding + LSTM"
      ]
    },
    {
      "cell_type": "code",
      "execution_count": 25,
      "metadata": {
        "id": "aUZnKsPCM_5C"
      },
      "outputs": [],
      "source": [
        "import torch\n",
        "import torch.nn as nn\n",
        "\n",
        "class SentimentLSTM(nn.Module):\n",
        "  def __init__(self, vocab_size, embedding_dim, hidden_dim, output_dim):\n",
        "    super(SentimentLSTM, self).__init__()\n",
        "    self.embedding = nn.Embedding(num_embeddings=vocab_size, embedding_dim=embedding_dim)\n",
        "    self.lstm = nn.LSTM(input_size=embedding_dim, hidden_size=hidden_dim, batch_first=True)\n",
        "    self.fc = nn.Linear(hidden_dim, output_dim)\n",
        "    self.sigmoid = nn.Sigmoid()\n",
        "\n",
        "  def forward(self, x):\n",
        "    x = self.embedding(x)\n",
        "    _, (hidden, _) = self.lstm(x)\n",
        "    out = self.fc(hidden[-1])\n",
        "    return self.sigmoid(out)"
      ]
    },
    {
      "cell_type": "code",
      "execution_count": 26,
      "metadata": {
        "colab": {
          "base_uri": "https://localhost:8080/"
        },
        "id": "cHiHpHSIM_5D",
        "outputId": "f33071e1-cb62-4855-b625-7838600accd9"
      },
      "outputs": [
        {
          "name": "stdout",
          "output_type": "stream",
          "text": [
            "SentimentLSTM(\n",
            "  (embedding): Embedding(300, 50)\n",
            "  (lstm): LSTM(50, 8, batch_first=True)\n",
            "  (fc): Linear(in_features=8, out_features=1, bias=True)\n",
            "  (sigmoid): Sigmoid()\n",
            ")\n"
          ]
        }
      ],
      "source": [
        "HIDDEN_DIM = 8\n",
        "OUTPUT_DIM = 1\n",
        "EMBEDDING_DIM = 50\n",
        "\n",
        "ebd_lstm_model = SentimentLSTM(vocab_size=VOCAB_SIZE, embedding_dim=EMBEDDING_DIM, hidden_dim=HIDDEN_DIM, output_dim=OUTPUT_DIM)\n",
        "\n",
        "print(ebd_lstm_model)"
      ]
    },
    {
      "cell_type": "code",
      "execution_count": 27,
      "metadata": {
        "colab": {
          "base_uri": "https://localhost:8080/"
        },
        "id": "saZuCayLM_5D",
        "outputId": "dabd5dee-69ca-4c75-cc58-8a4b5fad5128"
      },
      "outputs": [
        {
          "name": "stdout",
          "output_type": "stream",
          "text": [
            "Layer                Shape                          Params\n",
            "============================================================\n",
            "embedding.weight     [300, 50]                      15000\n",
            "lstm.weight_ih_l0    [32, 50]                       1600\n",
            "lstm.weight_hh_l0    [32, 8]                        256\n",
            "lstm.bias_ih_l0      [32]                           32\n",
            "lstm.bias_hh_l0      [32]                           32\n",
            "fc.weight            [1, 8]                         8\n",
            "fc.bias              [1]                            1\n",
            "============================================================\n",
            "Total Trainable Parameters: 16929\n"
          ]
        }
      ],
      "source": [
        "total_params = 0\n",
        "print(f\"{'Layer':<20} {'Shape':<30} {'Params'}\")\n",
        "print(\"=\" * 60)\n",
        "\n",
        "for name, param in ebd_lstm_model.named_parameters():\n",
        "  if param.requires_grad:\n",
        "    param_count = param.numel()\n",
        "    total_params += param_count\n",
        "    print(f'{name:<20} {str(list(param.shape)):<30} {param_count}')\n",
        "\n",
        "print(\"=\" * 60)\n",
        "print(f'Total Trainable Parameters: {total_params}')"
      ]
    },
    {
      "cell_type": "code",
      "execution_count": 28,
      "metadata": {
        "colab": {
          "base_uri": "https://localhost:8080/",
          "height": 805
        },
        "id": "tiwaG_1rM_5E",
        "outputId": "0cba600d-a51b-441e-8e71-598c0e843dd5"
      },
      "outputs": [
        {
          "name": "stdout",
          "output_type": "stream",
          "text": [
            "Epoch 1/100 | Train Loss: 0.6935, Train Acc: 0.5065, Val Loss: 0.6910, Val Acc: 0.5215\n",
            "Epoch 2/100 | Train Loss: 0.6911, Train Acc: 0.5326, Val Loss: 0.6901, Val Acc: 0.5260\n",
            "Epoch 3/100 | Train Loss: 0.6879, Train Acc: 0.5464, Val Loss: 0.6891, Val Acc: 0.5300\n",
            "Epoch 4/100 | Train Loss: 0.6847, Train Acc: 0.5616, Val Loss: 0.6872, Val Acc: 0.5440\n",
            "Epoch 5/100 | Train Loss: 0.6808, Train Acc: 0.5730, Val Loss: 0.6864, Val Acc: 0.5575\n",
            "Epoch 6/100 | Train Loss: 0.6737, Train Acc: 0.5866, Val Loss: 0.6819, Val Acc: 0.5685\n",
            "Epoch 7/100 | Train Loss: 0.6660, Train Acc: 0.6006, Val Loss: 0.6785, Val Acc: 0.5750\n",
            "Epoch 8/100 | Train Loss: 0.6539, Train Acc: 0.6164, Val Loss: 0.6743, Val Acc: 0.5870\n",
            "Epoch 9/100 | Train Loss: 0.6544, Train Acc: 0.6150, Val Loss: 0.6707, Val Acc: 0.5970\n",
            "Epoch 10/100 | Train Loss: 0.6389, Train Acc: 0.6369, Val Loss: 0.6766, Val Acc: 0.5855\n",
            "Epoch 11/100 | Train Loss: 0.6367, Train Acc: 0.6398, Val Loss: 0.6650, Val Acc: 0.6020\n",
            "Epoch 12/100 | Train Loss: 0.6283, Train Acc: 0.6459, Val Loss: 0.6634, Val Acc: 0.6000\n",
            "Epoch 13/100 | Train Loss: 0.6166, Train Acc: 0.6634, Val Loss: 0.6740, Val Acc: 0.6075\n",
            "Epoch 14/100 | Train Loss: 0.6174, Train Acc: 0.6574, Val Loss: 0.6616, Val Acc: 0.6140\n",
            "Epoch 15/100 | Train Loss: 0.5986, Train Acc: 0.6893, Val Loss: 0.6498, Val Acc: 0.6420\n",
            "Epoch 16/100 | Train Loss: 0.5813, Train Acc: 0.7037, Val Loss: 0.6507, Val Acc: 0.6400\n",
            "Epoch 17/100 | Train Loss: 0.5747, Train Acc: 0.7125, Val Loss: 0.6652, Val Acc: 0.6270\n",
            "Epoch 18/100 | Train Loss: 0.5703, Train Acc: 0.7081, Val Loss: 0.6521, Val Acc: 0.6335\n",
            "Epoch 19/100 | Train Loss: 0.5646, Train Acc: 0.7131, Val Loss: 0.6469, Val Acc: 0.6485\n",
            "Epoch 20/100 | Train Loss: 0.5529, Train Acc: 0.7284, Val Loss: 0.6484, Val Acc: 0.6545\n",
            "Epoch 21/100 | Train Loss: 0.5464, Train Acc: 0.7319, Val Loss: 0.6513, Val Acc: 0.6515\n",
            "Epoch 22/100 | Train Loss: 0.5430, Train Acc: 0.7366, Val Loss: 0.6576, Val Acc: 0.6485\n",
            "Epoch 23/100 | Train Loss: 0.5238, Train Acc: 0.7588, Val Loss: 0.6621, Val Acc: 0.6550\n",
            "Epoch 24/100 | Train Loss: 0.5292, Train Acc: 0.7428, Val Loss: 0.6610, Val Acc: 0.6490\n",
            "Epoch 25/100 | Train Loss: 0.5172, Train Acc: 0.7549, Val Loss: 0.6489, Val Acc: 0.6650\n",
            "Epoch 26/100 | Train Loss: 0.5145, Train Acc: 0.7604, Val Loss: 0.6483, Val Acc: 0.6675\n",
            "Early stopping 할게!\n"
          ]
        },
        {
          "data": {
            "image/png": "[encoded data removed]",
            "text/plain": [
              "<Figure size 640x480 with 1 Axes>"
            ]
          },
          "metadata": {},
          "output_type": "display_data"
        }
      ],
      "source": [
        "import torch.optim as optim\n",
        "import pandas as pd\n",
        "from torch.utils.data import DataLoader, TensorDataset, random_split\n",
        "\n",
        "# 배치 사이즈 설정 + 학습/검증셋 크기 설정\n",
        "BATCH_SIZE = 65\n",
        "train_size = int(len(train_seq) * 0.8)\n",
        "val_size = len(train_seq) - train_size\n",
        "\n",
        "train_target = train_target.to(torch.float32)\n",
        "train_dataset, val_dataset = random_split(TensorDataset(train_seq.to(torch.long), train_target), [train_size, val_size])\n",
        "train_loader = DataLoader(train_dataset, batch_size=BATCH_SIZE, shuffle=True)\n",
        "val_loader = DataLoader(val_dataset, batch_size=BATCH_SIZE)\n",
        "\n",
        "# epoch, 손실함수, 최적화함수 정의\n",
        "epochs = 100\n",
        "criterion = nn.BCELoss()\n",
        "optimizer = optim.Adam(ebd_lstm_model.parameters(), lr=0.001)\n",
        "\n",
        "# 시각화를 위한 손실값/정확도 저장용\n",
        "train_losses, val_losses, train_accs, val_accs = [], [], [], []\n",
        "\n",
        "# 조기종료 관련 변수 초기화\n",
        "early_stopping_patience = 7\n",
        "best_val_loss = float('inf')\n",
        "early_stop_counter = 0\n",
        "\n",
        "# 학습 과정\n",
        "for epoch in range(epochs):\n",
        "  # train mode\n",
        "  ebd_lstm_model.train()\n",
        "  total_loss, correct, total = 0, 0, 0\n",
        "\n",
        "  for inputs, targets in train_loader:\n",
        "    optimizer.zero_grad()              # 가중치 초기화\n",
        "    outputs = ebd_lstm_model(inputs).squeeze()  # 순전파\n",
        "\n",
        "    loss = criterion(outputs, targets) # 손실 계산\n",
        "\n",
        "    loss.backward()                    # 역전파\n",
        "    optimizer.step()                   # 가중치 업데이트\n",
        "    total_loss += loss.item()\n",
        "\n",
        "    pred = (outputs > 0.5).float()\n",
        "    correct += (pred == targets).sum().item()\n",
        "    total += targets.size(0)\n",
        "\n",
        "  train_loss = total_loss / len(train_loader)\n",
        "  train_acc = correct / total\n",
        "  train_losses.append(train_loss)\n",
        "  train_accs.append(train_acc)\n",
        "\n",
        "  # validation mode\n",
        "  ebd_lstm_model.eval()\n",
        "  val_loss, val_correct, val_total = 0, 0, 0\n",
        "\n",
        "  with torch.no_grad():\n",
        "    for val_inputs, val_targets in val_loader:\n",
        "      val_outputs = ebd_lstm_model(val_inputs).squeeze()\n",
        "      loss = criterion(val_outputs, val_targets)\n",
        "      val_loss += loss.item()\n",
        "\n",
        "      val_pred = (val_outputs > 0.5).float()\n",
        "      val_correct += (val_pred == val_targets).sum().item()\n",
        "      val_total += val_targets.size(0)\n",
        "\n",
        "  val_loss = val_loss / len(val_loader)\n",
        "  val_acc = val_correct / val_total\n",
        "  val_losses.append(val_loss)\n",
        "  val_accs.append(val_acc)\n",
        "\n",
        "  print(f'Epoch {epoch+1}/{epochs} | Train Loss: {train_loss:.4f}, Train Acc: {train_acc:.4f}, Val Loss: {val_loss:.4f}, Val Acc: {val_acc:.4f}')\n",
        "\n",
        "  # 조기종료 처리\n",
        "  if val_loss < best_val_loss:\n",
        "    best_val_loss = val_loss\n",
        "    early_stop_counter = 0\n",
        "  else:\n",
        "    early_stop_counter += 1\n",
        "    if early_stop_counter >= early_stopping_patience:\n",
        "      print(\"Early stopping 할게!\")\n",
        "      break\n",
        "\n",
        "# 시각화\n",
        "train_history_df = pd.DataFrame({\n",
        "    \"train_loss\": train_losses,\n",
        "    \"val_loss\": val_losses,\n",
        "    \"train_acc\": train_accs,\n",
        "    \"val_acc\": val_accs\n",
        "})\n",
        "train_history_df.plot()\n",
        "plt.show()"
      ]
    },
    {
      "cell_type": "code",
      "execution_count": 29,
      "metadata": {
        "id": "Ono8s72bM_5F"
      },
      "outputs": [],
      "source": [
        "def evaluate_model(model, test_loader, criterion):\n",
        "  model.eval()\n",
        "  val_loss, val_correct, val_total = 0, 0, 0\n",
        "\n",
        "  with torch.no_grad():\n",
        "    for val_inputs, val_targets in test_loader:\n",
        "      val_outputs = model(val_inputs).squeeze()\n",
        "      loss = criterion(val_outputs, val_targets)\n",
        "      val_loss += loss.item()\n",
        "\n",
        "      val_pred = (val_outputs > 0.5).float()\n",
        "      val_correct += (val_pred == val_targets).sum().item()\n",
        "      val_total += val_targets.size(0)\n",
        "\n",
        "  test_loss = val_loss / len(test_loader)\n",
        "  test_acc = val_correct / val_total\n",
        "  return test_loss, test_acc"
      ]
    },
    {
      "cell_type": "code",
      "execution_count": 30,
      "metadata": {
        "colab": {
          "base_uri": "https://localhost:8080/"
        },
        "id": "ucqEBPQFM_5F",
        "outputId": "cc8c3f62-ec7b-4797-d139-fd183e42ada0"
      },
      "outputs": [
        {
          "name": "stdout",
          "output_type": "stream",
          "text": [
            "Test Loss: 0.6383, Test Accuracy: 0.6798\n"
          ]
        }
      ],
      "source": [
        "test_dataset = TensorDataset(test_seq.to(torch.long), test_target.to(torch.float32))\n",
        "test_loader = DataLoader(test_dataset, batch_size=65)\n",
        "\n",
        "loss, accuracy = evaluate_model(ebd_lstm_model, test_loader, criterion)\n",
        "\n",
        "print(f'Test Loss: {loss:.4f}, Test Accuracy: {accuracy:.4f}')"
      ]
    },
    {
      "cell_type": "markdown",
      "metadata": {
        "id": "HMd5EK78Xb2M"
      },
      "source": [
        "##### Embedding + LSTM + LSTM"
      ]
    },
    {
      "cell_type": "code",
      "execution_count": 31,
      "metadata": {
        "id": "6IwrHjhrXmfu"
      },
      "outputs": [],
      "source": [
        "import torch\n",
        "import torch.nn as nn\n",
        "\n",
        "class SentimentLSTM(nn.Module):\n",
        "  def __init__(self, vocab_size, embedding_dim, hidden_dim, output_dim):\n",
        "    super(SentimentLSTM, self).__init__()\n",
        "    self.embedding = nn.Embedding(num_embeddings=vocab_size, embedding_dim=embedding_dim)\n",
        "    self.lstm1 = nn.LSTM(input_size=embedding_dim, hidden_size=hidden_dim, batch_first=True)\n",
        "    self.lstm2 = nn.LSTM(input_size=hidden_dim, hidden_size=hidden_dim, batch_first=True)\n",
        "    self.fc = nn.Linear(hidden_dim, output_dim)\n",
        "    self.sigmoid = nn.Sigmoid()\n",
        "\n",
        "  def forward(self, x):\n",
        "    x = self.embedding(x)\n",
        "    x, _ = self.lstm1(x)\n",
        "    _, (hidden, _) = self.lstm2(x)\n",
        "    out = self.fc(hidden[-1])\n",
        "    return self.sigmoid(out)"
      ]
    },
    {
      "cell_type": "code",
      "execution_count": 32,
      "metadata": {
        "colab": {
          "base_uri": "https://localhost:8080/"
        },
        "id": "xXH4zYruYY0K",
        "outputId": "105d2121-4bbe-46f6-a986-1dd13f7822c6"
      },
      "outputs": [
        {
          "name": "stdout",
          "output_type": "stream",
          "text": [
            "SentimentLSTM(\n",
            "  (embedding): Embedding(300, 50)\n",
            "  (lstm1): LSTM(50, 8, batch_first=True)\n",
            "  (lstm2): LSTM(8, 8, batch_first=True)\n",
            "  (fc): Linear(in_features=8, out_features=1, bias=True)\n",
            "  (sigmoid): Sigmoid()\n",
            ")\n"
          ]
        }
      ],
      "source": [
        "HIDDEN_DIM = 8\n",
        "OUTPUT_DIM = 1\n",
        "EMBEDDING_DIM = 50\n",
        "\n",
        "ebd_lstm_model = SentimentLSTM(vocab_size=VOCAB_SIZE, embedding_dim=EMBEDDING_DIM, hidden_dim=HIDDEN_DIM, output_dim=OUTPUT_DIM)\n",
        "\n",
        "print(ebd_lstm_model)"
      ]
    },
    {
      "cell_type": "code",
      "execution_count": 33,
      "metadata": {
        "colab": {
          "base_uri": "https://localhost:8080/"
        },
        "id": "SoXPNgvEYkMi",
        "outputId": "40d4c8f7-c4c6-474c-919d-3c6fcafdc9e6"
      },
      "outputs": [
        {
          "name": "stdout",
          "output_type": "stream",
          "text": [
            "Layer                Shape                          Params\n",
            "============================================================\n",
            "embedding.weight     [300, 50]                      15000\n",
            "lstm1.weight_ih_l0   [32, 50]                       1600\n",
            "lstm1.weight_hh_l0   [32, 8]                        256\n",
            "lstm1.bias_ih_l0     [32]                           32\n",
            "lstm1.bias_hh_l0     [32]                           32\n",
            "lstm2.weight_ih_l0   [32, 8]                        256\n",
            "lstm2.weight_hh_l0   [32, 8]                        256\n",
            "lstm2.bias_ih_l0     [32]                           32\n",
            "lstm2.bias_hh_l0     [32]                           32\n",
            "fc.weight            [1, 8]                         8\n",
            "fc.bias              [1]                            1\n",
            "============================================================\n",
            "Total Trainable Parameters: 17505\n"
          ]
        }
      ],
      "source": [
        "total_params = 0\n",
        "print(f\"{'Layer':<20} {'Shape':<30} {'Params'}\")\n",
        "print(\"=\" * 60)\n",
        "\n",
        "for name, param in ebd_lstm_model.named_parameters():\n",
        "  if param.requires_grad:\n",
        "    param_count = param.numel()\n",
        "    total_params += param_count\n",
        "    print(f'{name:<20} {str(list(param.shape)):<30} {param_count}')\n",
        "\n",
        "print(\"=\" * 60)\n",
        "print(f'Total Trainable Parameters: {total_params}')"
      ]
    },
    {
      "cell_type": "code",
      "execution_count": 34,
      "metadata": {
        "colab": {
          "base_uri": "https://localhost:8080/",
          "height": 734
        },
        "id": "h-vvYiFbYwO2",
        "outputId": "2d2b6cfe-ca2b-413e-da7d-41de7a9333e5"
      },
      "outputs": [
        {
          "name": "stdout",
          "output_type": "stream",
          "text": [
            "Epoch 1/100 | Train Loss: 0.6917, Train Acc: 0.5176, Val Loss: 0.6882, Val Acc: 0.5340\n",
            "Epoch 2/100 | Train Loss: 0.6790, Train Acc: 0.5864, Val Loss: 0.6806, Val Acc: 0.5700\n",
            "Epoch 3/100 | Train Loss: 0.6656, Train Acc: 0.5995, Val Loss: 0.6822, Val Acc: 0.5765\n",
            "Epoch 4/100 | Train Loss: 0.6461, Train Acc: 0.6355, Val Loss: 0.6658, Val Acc: 0.6000\n",
            "Epoch 5/100 | Train Loss: 0.6411, Train Acc: 0.6394, Val Loss: 0.6844, Val Acc: 0.5770\n",
            "Epoch 6/100 | Train Loss: 0.6464, Train Acc: 0.6390, Val Loss: 0.6741, Val Acc: 0.6015\n",
            "Epoch 7/100 | Train Loss: 0.6235, Train Acc: 0.6616, Val Loss: 0.6791, Val Acc: 0.6110\n",
            "Epoch 8/100 | Train Loss: 0.6068, Train Acc: 0.6794, Val Loss: 0.6751, Val Acc: 0.6100\n",
            "Epoch 9/100 | Train Loss: 0.5915, Train Acc: 0.6983, Val Loss: 0.6702, Val Acc: 0.6195\n",
            "Epoch 10/100 | Train Loss: 0.5850, Train Acc: 0.7000, Val Loss: 0.6721, Val Acc: 0.6185\n",
            "Epoch 11/100 | Train Loss: 0.5720, Train Acc: 0.7121, Val Loss: 0.6606, Val Acc: 0.6290\n",
            "Epoch 12/100 | Train Loss: 0.5565, Train Acc: 0.7226, Val Loss: 0.6627, Val Acc: 0.6305\n",
            "Epoch 13/100 | Train Loss: 0.5443, Train Acc: 0.7339, Val Loss: 0.6561, Val Acc: 0.6405\n",
            "Epoch 14/100 | Train Loss: 0.5394, Train Acc: 0.7385, Val Loss: 0.6557, Val Acc: 0.6470\n",
            "Epoch 15/100 | Train Loss: 0.5210, Train Acc: 0.7519, Val Loss: 0.6499, Val Acc: 0.6585\n",
            "Epoch 16/100 | Train Loss: 0.5105, Train Acc: 0.7558, Val Loss: 0.6510, Val Acc: 0.6550\n",
            "Epoch 17/100 | Train Loss: 0.4983, Train Acc: 0.7606, Val Loss: 0.6443, Val Acc: 0.6475\n",
            "Epoch 18/100 | Train Loss: 0.4999, Train Acc: 0.7620, Val Loss: 0.6338, Val Acc: 0.6700\n",
            "Epoch 19/100 | Train Loss: 0.4829, Train Acc: 0.7756, Val Loss: 0.6611, Val Acc: 0.6570\n",
            "Epoch 20/100 | Train Loss: 0.4633, Train Acc: 0.7865, Val Loss: 0.6455, Val Acc: 0.6760\n",
            "Epoch 21/100 | Train Loss: 0.4596, Train Acc: 0.7889, Val Loss: 0.6627, Val Acc: 0.6725\n",
            "Epoch 22/100 | Train Loss: 0.4563, Train Acc: 0.7897, Val Loss: 0.6590, Val Acc: 0.6795\n",
            "Epoch 23/100 | Train Loss: 0.4448, Train Acc: 0.8000, Val Loss: 0.6585, Val Acc: 0.6770\n",
            "Epoch 24/100 | Train Loss: 0.4411, Train Acc: 0.8003, Val Loss: 0.6380, Val Acc: 0.6805\n",
            "Epoch 25/100 | Train Loss: 0.4214, Train Acc: 0.8080, Val Loss: 0.6712, Val Acc: 0.6765\n",
            "Early stopping 할게!\n"
          ]
        },
        {
          "data": {
            "image/png": "[encoded data removed]",
            "text/plain": [
              "<Figure size 640x480 with 1 Axes>"
            ]
          },
          "metadata": {},
          "output_type": "display_data"
        }
      ],
      "source": [
        "import torch.optim as optim\n",
        "import pandas as pd\n",
        "from torch.utils.data import DataLoader, TensorDataset, random_split\n",
        "\n",
        "# 배치 사이즈 설정 + 학습/검증셋 크기 설정\n",
        "BATCH_SIZE = 65\n",
        "train_size = int(len(train_seq) * 0.8)\n",
        "val_size = len(train_seq) - train_size\n",
        "\n",
        "train_target = train_target.to(torch.float32)\n",
        "train_dataset, val_dataset = random_split(TensorDataset(train_seq.to(torch.long), train_target), [train_size, val_size])\n",
        "train_loader = DataLoader(train_dataset, batch_size=BATCH_SIZE, shuffle=True)\n",
        "val_loader = DataLoader(val_dataset, batch_size=BATCH_SIZE)\n",
        "\n",
        "# epoch, 손실함수, 최적화함수 정의\n",
        "epochs = 100\n",
        "criterion = nn.BCELoss()\n",
        "optimizer = optim.Adam(ebd_lstm_model.parameters(), lr=0.01)\n",
        "\n",
        "# 시각화를 위한 손실값/정확도 저장용\n",
        "train_losses, val_losses, train_accs, val_accs = [], [], [], []\n",
        "\n",
        "# 조기종료 관련 변수 초기화\n",
        "early_stopping_patience = 7\n",
        "best_val_loss = float('inf')\n",
        "early_stop_counter = 0\n",
        "\n",
        "# 학습 과정\n",
        "for epoch in range(epochs):\n",
        "  # train mode\n",
        "  ebd_lstm_model.train()\n",
        "  total_loss, correct, total = 0, 0, 0\n",
        "\n",
        "  for inputs, targets in train_loader:\n",
        "    optimizer.zero_grad()              # 가중치 초기화\n",
        "    outputs = ebd_lstm_model(inputs).squeeze()  # 순전파\n",
        "\n",
        "    loss = criterion(outputs, targets) # 손실 계산\n",
        "\n",
        "    loss.backward()                    # 역전파\n",
        "    optimizer.step()                   # 가중치 업데이트\n",
        "    total_loss += loss.item()\n",
        "\n",
        "    pred = (outputs > 0.5).float()\n",
        "    correct += (pred == targets).sum().item()\n",
        "    total += targets.size(0)\n",
        "\n",
        "  train_loss = total_loss / len(train_loader)\n",
        "  train_acc = correct / total\n",
        "  train_losses.append(train_loss)\n",
        "  train_accs.append(train_acc)\n",
        "\n",
        "  # validation mode\n",
        "  ebd_lstm_model.eval()\n",
        "  val_loss, val_correct, val_total = 0, 0, 0\n",
        "\n",
        "  with torch.no_grad():\n",
        "    for val_inputs, val_targets in val_loader:\n",
        "      val_outputs = ebd_lstm_model(val_inputs).squeeze()\n",
        "      loss = criterion(val_outputs, val_targets)\n",
        "      val_loss += loss.item()\n",
        "\n",
        "      val_pred = (val_outputs > 0.5).float()\n",
        "      val_correct += (val_pred == val_targets).sum().item()\n",
        "      val_total += val_targets.size(0)\n",
        "\n",
        "  val_loss = val_loss / len(val_loader)\n",
        "  val_acc = val_correct / val_total\n",
        "  val_losses.append(val_loss)\n",
        "  val_accs.append(val_acc)\n",
        "\n",
        "  print(f'Epoch {epoch+1}/{epochs} | Train Loss: {train_loss:.4f}, Train Acc: {train_acc:.4f}, Val Loss: {val_loss:.4f}, Val Acc: {val_acc:.4f}')\n",
        "\n",
        "  # 조기종료 처리\n",
        "  if val_loss < best_val_loss:\n",
        "    best_val_loss = val_loss\n",
        "    early_stop_counter = 0\n",
        "  else:\n",
        "    early_stop_counter += 1\n",
        "    if early_stop_counter >= early_stopping_patience:\n",
        "      print(\"Early stopping 할게!\")\n",
        "      break\n",
        "\n",
        "# 시각화\n",
        "train_history_df = pd.DataFrame({\n",
        "    \"train_loss\": train_losses,\n",
        "    \"val_loss\": val_losses,\n",
        "    \"train_acc\": train_accs,\n",
        "    \"val_acc\": val_accs\n",
        "})\n",
        "train_history_df.plot()\n",
        "plt.show()"
      ]
    },
    {
      "cell_type": "code",
      "execution_count": 35,
      "metadata": {
        "colab": {
          "base_uri": "https://localhost:8080/"
        },
        "id": "EBglyBZXY0a2",
        "outputId": "bb960c10-390d-4acf-b117-2646972f1857"
      },
      "outputs": [
        {
          "name": "stdout",
          "output_type": "stream",
          "text": [
            "Test Loss: 0.6971, Test Accuracy: 0.6700\n"
          ]
        }
      ],
      "source": [
        "test_dataset = TensorDataset(test_seq.to(torch.long), test_target.to(torch.float32))\n",
        "test_loader = DataLoader(test_dataset, batch_size=65)\n",
        "\n",
        "loss, accuracy = evaluate_model(ebd_lstm_model, test_loader, criterion)\n",
        "\n",
        "print(f'Test Loss: {loss:.4f}, Test Accuracy: {accuracy:.4f}')"
      ]
    },
    {
      "cell_type": "markdown",
      "metadata": {
        "id": "Un2VOYQ0Zv0d"
      },
      "source": [
        "##### Embedding + LSTM + LSTM + Dropout"
      ]
    },
    {
      "cell_type": "code",
      "execution_count": 36,
      "metadata": {
        "id": "bvy5JyHEZv0f"
      },
      "outputs": [],
      "source": [
        "import torch\n",
        "import torch.nn as nn\n",
        "\n",
        "class SentimentLSTM(nn.Module):\n",
        "  def __init__(self, vocab_size, embedding_dim, hidden_dim, output_dim, dropout_rate):\n",
        "    super(SentimentLSTM, self).__init__()\n",
        "    self.embedding = nn.Embedding(num_embeddings=vocab_size, embedding_dim=embedding_dim)\n",
        "    self.lstm1 = nn.LSTM(input_size=embedding_dim, hidden_size=hidden_dim, batch_first=True)\n",
        "    self.dropout1 = nn.Dropout(p=dropout_rate)\n",
        "    self.lstm2 = nn.LSTM(input_size=hidden_dim, hidden_size=hidden_dim, batch_first=True)\n",
        "    self.dropout2 = nn.Dropout(p=dropout_rate)\n",
        "    self.fc = nn.Linear(hidden_dim, output_dim)\n",
        "    self.sigmoid = nn.Sigmoid()\n",
        "\n",
        "  def forward(self, x):\n",
        "    x = self.embedding(x)\n",
        "    x, _ = self.lstm1(x)\n",
        "    x = self.dropout1(x)\n",
        "    _, (hidden, _) = self.lstm2(x)\n",
        "    x = self.dropout2(hidden[-1])\n",
        "    out = self.fc(x)\n",
        "    return self.sigmoid(out)"
      ]
    },
    {
      "cell_type": "code",
      "execution_count": 37,
      "metadata": {
        "colab": {
          "base_uri": "https://localhost:8080/"
        },
        "id": "0dCc0zMyZv0f",
        "outputId": "1df2bdaa-efa1-4590-b234-09a802c36604"
      },
      "outputs": [
        {
          "name": "stdout",
          "output_type": "stream",
          "text": [
            "SentimentLSTM(\n",
            "  (embedding): Embedding(300, 50)\n",
            "  (lstm1): LSTM(50, 8, batch_first=True)\n",
            "  (dropout1): Dropout(p=0.3, inplace=False)\n",
            "  (lstm2): LSTM(8, 8, batch_first=True)\n",
            "  (dropout2): Dropout(p=0.3, inplace=False)\n",
            "  (fc): Linear(in_features=8, out_features=1, bias=True)\n",
            "  (sigmoid): Sigmoid()\n",
            ")\n"
          ]
        }
      ],
      "source": [
        "HIDDEN_DIM = 8\n",
        "OUTPUT_DIM = 1\n",
        "EMBEDDING_DIM = 50\n",
        "DROPOUT_RATE = 0.3\n",
        "\n",
        "ebd_lstm_model = SentimentLSTM(vocab_size=VOCAB_SIZE, embedding_dim=EMBEDDING_DIM, hidden_dim=HIDDEN_DIM,\n",
        "                               output_dim=OUTPUT_DIM, dropout_rate=DROPOUT_RATE)\n",
        "\n",
        "print(ebd_lstm_model)"
      ]
    },
    {
      "cell_type": "code",
      "execution_count": 38,
      "metadata": {
        "colab": {
          "base_uri": "https://localhost:8080/"
        },
        "id": "wl6TvH6YZv0g",
        "outputId": "8cbe8f09-9719-4b1c-e439-e66b62743f7f"
      },
      "outputs": [
        {
          "name": "stdout",
          "output_type": "stream",
          "text": [
            "Layer                Shape                          Params\n",
            "============================================================\n",
            "embedding.weight     [300, 50]                      15000\n",
            "lstm1.weight_ih_l0   [32, 50]                       1600\n",
            "lstm1.weight_hh_l0   [32, 8]                        256\n",
            "lstm1.bias_ih_l0     [32]                           32\n",
            "lstm1.bias_hh_l0     [32]                           32\n",
            "lstm2.weight_ih_l0   [32, 8]                        256\n",
            "lstm2.weight_hh_l0   [32, 8]                        256\n",
            "lstm2.bias_ih_l0     [32]                           32\n",
            "lstm2.bias_hh_l0     [32]                           32\n",
            "fc.weight            [1, 8]                         8\n",
            "fc.bias              [1]                            1\n",
            "============================================================\n",
            "Total Trainable Parameters: 17505\n"
          ]
        }
      ],
      "source": [
        "total_params = 0\n",
        "print(f\"{'Layer':<20} {'Shape':<30} {'Params'}\")\n",
        "print(\"=\" * 60)\n",
        "\n",
        "for name, param in ebd_lstm_model.named_parameters():\n",
        "  if param.requires_grad:\n",
        "    param_count = param.numel()\n",
        "    total_params += param_count\n",
        "    print(f'{name:<20} {str(list(param.shape)):<30} {param_count}')\n",
        "\n",
        "print(\"=\" * 60)\n",
        "print(f'Total Trainable Parameters: {total_params}')"
      ]
    },
    {
      "cell_type": "code",
      "execution_count": 39,
      "metadata": {
        "colab": {
          "base_uri": "https://localhost:8080/",
          "height": 948
        },
        "id": "z38SpbdoZv0h",
        "outputId": "956de1c0-3688-4ef9-c751-2b891d06583c"
      },
      "outputs": [
        {
          "name": "stdout",
          "output_type": "stream",
          "text": [
            "Epoch 1/100 | Train Loss: 0.6927, Train Acc: 0.5038, Val Loss: 0.6902, Val Acc: 0.5395\n",
            "Epoch 2/100 | Train Loss: 0.6821, Train Acc: 0.5707, Val Loss: 0.6830, Val Acc: 0.5755\n",
            "Epoch 3/100 | Train Loss: 0.6709, Train Acc: 0.5914, Val Loss: 0.6874, Val Acc: 0.5465\n",
            "Epoch 4/100 | Train Loss: 0.6527, Train Acc: 0.6244, Val Loss: 0.6734, Val Acc: 0.6310\n",
            "Epoch 5/100 | Train Loss: 0.6266, Train Acc: 0.6595, Val Loss: 0.6429, Val Acc: 0.6460\n",
            "Epoch 6/100 | Train Loss: 0.6384, Train Acc: 0.6466, Val Loss: 0.6675, Val Acc: 0.5935\n",
            "Epoch 7/100 | Train Loss: 0.6113, Train Acc: 0.6830, Val Loss: 0.6311, Val Acc: 0.6535\n",
            "Epoch 8/100 | Train Loss: 0.5889, Train Acc: 0.7036, Val Loss: 0.6154, Val Acc: 0.6680\n",
            "Epoch 9/100 | Train Loss: 0.5690, Train Acc: 0.7231, Val Loss: 0.6086, Val Acc: 0.6650\n",
            "Epoch 10/100 | Train Loss: 0.5596, Train Acc: 0.7248, Val Loss: 0.6030, Val Acc: 0.6735\n",
            "Epoch 11/100 | Train Loss: 0.5488, Train Acc: 0.7364, Val Loss: 0.6006, Val Acc: 0.6740\n",
            "Epoch 12/100 | Train Loss: 0.5440, Train Acc: 0.7388, Val Loss: 0.5992, Val Acc: 0.6820\n",
            "Epoch 13/100 | Train Loss: 0.5368, Train Acc: 0.7449, Val Loss: 0.5895, Val Acc: 0.6930\n",
            "Epoch 14/100 | Train Loss: 0.5214, Train Acc: 0.7578, Val Loss: 0.5862, Val Acc: 0.6905\n",
            "Epoch 15/100 | Train Loss: 0.5136, Train Acc: 0.7586, Val Loss: 0.5847, Val Acc: 0.6960\n",
            "Epoch 16/100 | Train Loss: 0.5139, Train Acc: 0.7604, Val Loss: 0.5795, Val Acc: 0.6930\n",
            "Epoch 17/100 | Train Loss: 0.5086, Train Acc: 0.7631, Val Loss: 0.5929, Val Acc: 0.6845\n",
            "Epoch 18/100 | Train Loss: 0.5065, Train Acc: 0.7622, Val Loss: 0.6056, Val Acc: 0.6865\n",
            "Epoch 19/100 | Train Loss: 0.5063, Train Acc: 0.7718, Val Loss: 0.6174, Val Acc: 0.6845\n",
            "Epoch 20/100 | Train Loss: 0.5062, Train Acc: 0.7710, Val Loss: 0.5998, Val Acc: 0.6905\n",
            "Epoch 21/100 | Train Loss: 0.4881, Train Acc: 0.7726, Val Loss: 0.5903, Val Acc: 0.6810\n",
            "Epoch 22/100 | Train Loss: 0.4798, Train Acc: 0.7805, Val Loss: 0.5913, Val Acc: 0.7000\n",
            "Epoch 23/100 | Train Loss: 0.4813, Train Acc: 0.7819, Val Loss: 0.5962, Val Acc: 0.6920\n",
            "Early stopping 할게!\n"
          ]
        },
        {
          "data": {
            "image/png": "[encoded data removed]",
            "text/plain": [
              "<Figure size 640x480 with 1 Axes>"
            ]
          },
          "metadata": {},
          "output_type": "display_data"
        }
      ],
      "source": [
        "import torch.optim as optim\n",
        "import pandas as pd\n",
        "from torch.utils.data import DataLoader, TensorDataset, random_split\n",
        "\n",
        "# 배치 사이즈 설정 + 학습/검증셋 크기 설정\n",
        "BATCH_SIZE = 65\n",
        "train_size = int(len(train_seq) * 0.8)\n",
        "val_size = len(train_seq) - train_size\n",
        "\n",
        "train_target = train_target.to(torch.float32)\n",
        "train_dataset, val_dataset = random_split(TensorDataset(train_seq.to(torch.long), train_target), [train_size, val_size])\n",
        "train_loader = DataLoader(train_dataset, batch_size=BATCH_SIZE, shuffle=True)\n",
        "val_loader = DataLoader(val_dataset, batch_size=BATCH_SIZE)\n",
        "\n",
        "# epoch, 손실함수, 최적화함수 정의\n",
        "epochs = 100\n",
        "criterion = nn.BCELoss()\n",
        "optimizer = optim.Adam(ebd_lstm_model.parameters(), lr=0.01)\n",
        "\n",
        "# 시각화를 위한 손실값/정확도 저장용\n",
        "train_losses, val_losses, train_accs, val_accs = [], [], [], []\n",
        "\n",
        "# 조기종료 관련 변수 초기화\n",
        "early_stopping_patience = 7\n",
        "best_val_loss = float('inf')\n",
        "early_stop_counter = 0\n",
        "\n",
        "# 학습 과정\n",
        "for epoch in range(epochs):\n",
        "  # train mode\n",
        "  ebd_lstm_model.train()\n",
        "  total_loss, correct, total = 0, 0, 0\n",
        "\n",
        "  for inputs, targets in train_loader:\n",
        "    optimizer.zero_grad()              # 가중치 초기화\n",
        "    outputs = ebd_lstm_model(inputs).squeeze()  # 순전파\n",
        "\n",
        "    loss = criterion(outputs, targets) # 손실 계산\n",
        "\n",
        "    loss.backward()                    # 역전파\n",
        "    optimizer.step()                   # 가중치 업데이트\n",
        "    total_loss += loss.item()\n",
        "\n",
        "    pred = (outputs > 0.5).float()\n",
        "    correct += (pred == targets).sum().item()\n",
        "    total += targets.size(0)\n",
        "\n",
        "  train_loss = total_loss / len(train_loader)\n",
        "  train_acc = correct / total\n",
        "  train_losses.append(train_loss)\n",
        "  train_accs.append(train_acc)\n",
        "\n",
        "  # validation mode\n",
        "  ebd_lstm_model.eval()\n",
        "  val_loss, val_correct, val_total = 0, 0, 0\n",
        "\n",
        "  with torch.no_grad():\n",
        "    for val_inputs, val_targets in val_loader:\n",
        "      val_outputs = ebd_lstm_model(val_inputs).squeeze()\n",
        "      loss = criterion(val_outputs, val_targets)\n",
        "      val_loss += loss.item()\n",
        "\n",
        "      val_pred = (val_outputs > 0.5).float()\n",
        "      val_correct += (val_pred == val_targets).sum().item()\n",
        "      val_total += val_targets.size(0)\n",
        "\n",
        "  val_loss = val_loss / len(val_loader)\n",
        "  val_acc = val_correct / val_total\n",
        "  val_losses.append(val_loss)\n",
        "  val_accs.append(val_acc)\n",
        "\n",
        "  print(f'Epoch {epoch+1}/{epochs} | Train Loss: {train_loss:.4f}, Train Acc: {train_acc:.4f}, Val Loss: {val_loss:.4f}, Val Acc: {val_acc:.4f}')\n",
        "\n",
        "  # 조기종료 처리\n",
        "  if val_loss < best_val_loss:\n",
        "    best_val_loss = val_loss\n",
        "    early_stop_counter = 0\n",
        "  else:\n",
        "    early_stop_counter += 1\n",
        "    if early_stop_counter >= early_stopping_patience:\n",
        "      print(\"Early stopping 할게!\")\n",
        "      break\n",
        "\n",
        "# 시각화\n",
        "train_history_df = pd.DataFrame({\n",
        "    \"train_loss\": train_losses,\n",
        "    \"val_loss\": val_losses,\n",
        "    \"train_acc\": train_accs,\n",
        "    \"val_acc\": val_accs\n",
        "})\n",
        "train_history_df.plot()\n",
        "plt.show()"
      ]
    },
    {
      "cell_type": "code",
      "execution_count": 40,
      "metadata": {
        "colab": {
          "base_uri": "https://localhost:8080/"
        },
        "id": "K0BnFSkVZv0h",
        "outputId": "5904169c-4749-4f97-f95a-3daf8dcb115c"
      },
      "outputs": [
        {
          "name": "stdout",
          "output_type": "stream",
          "text": [
            "Test Loss: 0.5879, Test Accuracy: 0.6974\n"
          ]
        }
      ],
      "source": [
        "test_dataset = TensorDataset(test_seq.to(torch.long), test_target.to(torch.float32))\n",
        "test_loader = DataLoader(test_dataset, batch_size=65)\n",
        "\n",
        "loss, accuracy = evaluate_model(ebd_lstm_model, test_loader, criterion)\n",
        "\n",
        "print(f'Test Loss: {loss:.4f}, Test Accuracy: {accuracy:.4f}')"
      ]
    }
  ],
  "metadata": {
    "colab": {
      "collapsed_sections": [
        "OD7_inwuQqic",
        "HMd5EK78Xb2M"
      ],
      "provenance": []
    },
    "kernelspec": {
      "display_name": "pystudy_env",
      "language": "python",
      "name": "python3"
    },
    "language_info": {
      "codemirror_mode": {
        "name": "ipython",
        "version": 3
      },
      "file_extension": ".py",
      "mimetype": "text/x-python",
      "name": "python",
      "nbconvert_exporter": "python",
      "pygments_lexer": "ipython3",
      "version": "3.12.8"
    }
  },
  "nbformat": 4,
  "nbformat_minor": 0
}
