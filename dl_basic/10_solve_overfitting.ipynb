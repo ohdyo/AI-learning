{
 "cells": [
  {
   "cell_type": "markdown",
   "metadata": {},
   "source": [
    "# 과적합 해결"
   ]
  },
  {
   "cell_type": "code",
   "execution_count": 18,
   "metadata": {},
   "outputs": [],
   "source": [
    "import torch\n",
    "import torch.nn as nn\n",
    "import torch.optim as optim\n",
    "from torch.utils.data import DataLoader, random_split\n",
    "import torchvision.transforms as transforms\n",
    "import torchvision.datasets as datasets"
   ]
  },
  {
   "cell_type": "markdown",
   "metadata": {},
   "source": [
    "### 배치 정규화 적용"
   ]
  },
  {
   "cell_type": "code",
   "execution_count": 19,
   "metadata": {},
   "outputs": [],
   "source": [
    "# 데이터셋 로드\n",
    "transform = transforms.Compose([transforms.ToTensor(), transforms.Normalize((0.5), (0.5,))])\n",
    "dataset = datasets.MNIST(root='./data', train=True, transform=transform, download=True)"
   ]
  },
  {
   "cell_type": "code",
   "execution_count": 20,
   "metadata": {},
   "outputs": [],
   "source": [
    "# 데이터 분할\n",
    "train_size = int(0.8 * len(dataset))\n",
    "val_size = len(dataset) - train_size\n",
    "\n",
    "train_data, val_data = random_split(dataset, [train_size, val_size])\n",
    "train_loader = DataLoader(train_data, batch_size=64, shuffle=True)\n",
    "val_loader = DataLoader(val_data, batch_size=64, shuffle=False)"
   ]
  },
  {
   "cell_type": "code",
   "execution_count": 21,
   "metadata": {},
   "outputs": [],
   "source": [
    "class SimpleNN(nn.Module):\n",
    "    def __init__(self, use_bn=False):\n",
    "        super(SimpleNN, self).__init__()\n",
    "        self.fc1 = nn.Linear(28 * 28, 128)\n",
    "        self.bn1 = nn.BatchNorm1d(128) if use_bn else nn.Identity()\n",
    "        self.fc2 = nn.Linear(128, 64)\n",
    "        self.bn2 = nn.BatchNorm1d(64) if use_bn else nn.Identity()\n",
    "        self.fc3 = nn.Linear(64, 10)\n",
    "\n",
    "    def forward(self, x):\n",
    "        x = x.view(x.size(0), -1)    # (배치 크기, h, w) -> (배치 크기, 특성)\n",
    "        x = torch.relu(self.bn1(self.fc1(x)))\n",
    "        x = torch.relu(self.bn2(self.fc2(x)))\n",
    "        x = self.fc3(x)\n",
    "        return x"
   ]
  },
  {
   "cell_type": "code",
   "execution_count": 22,
   "metadata": {},
   "outputs": [],
   "source": [
    "def train(model, train_loader, val_loader, epochs=5):\n",
    "    criterion = nn.CrossEntropyLoss()\n",
    "    optimizer = optim.Adam(model.parameters(), lr=0.001)\n",
    "\n",
    "    for epoch in range(epochs):\n",
    "        model.train()\n",
    "        for images, labels in train_loader:\n",
    "            images = images.view(images.size(0), -1)\n",
    "            optimizer.zero_grad()\n",
    "            outputs = model(images)\n",
    "            loss = criterion(outputs, labels)\n",
    "            loss.backward()\n",
    "            optimizer.step()\n",
    "        \n",
    "        model.eval()\n",
    "        val_loss = 0\n",
    "        correct = 0\n",
    "        with torch.no_grad():\n",
    "            for images, labels in val_loader:\n",
    "                images = images.view(images.size(0), -1)\n",
    "                outputs = model(images)\n",
    "                val_loss += criterion(outputs, labels).item()\n",
    "                preds = outputs.argmax(dim=1)\n",
    "                correct += (preds == labels).sum().item()\n",
    "        print(f'Epoch {epoch + 1} | Val Loss: {val_loss/len(val_loader):.4f}, Accuracy: {correct/len(val_data):.4f}')"
   ]
  },
  {
   "cell_type": "code",
   "execution_count": 23,
   "metadata": {},
   "outputs": [
    {
     "name": "stdout",
     "output_type": "stream",
     "text": [
      "배치 정규화 적용 안함\n",
      "Epoch 1 | Val Loss: 0.2921, Accuracy: 0.9137\n",
      "Epoch 2 | Val Loss: 0.1991, Accuracy: 0.9419\n",
      "Epoch 3 | Val Loss: 0.1635, Accuracy: 0.9517\n",
      "Epoch 4 | Val Loss: 0.1692, Accuracy: 0.9503\n",
      "Epoch 5 | Val Loss: 0.1279, Accuracy: 0.9620\n",
      "\n",
      "배치 정규화 적용\n",
      "Epoch 1 | Val Loss: 0.1272, Accuracy: 0.9618\n",
      "Epoch 2 | Val Loss: 0.1043, Accuracy: 0.9677\n",
      "Epoch 3 | Val Loss: 0.0909, Accuracy: 0.9732\n",
      "Epoch 4 | Val Loss: 0.0841, Accuracy: 0.9751\n",
      "Epoch 5 | Val Loss: 0.0845, Accuracy: 0.9753\n"
     ]
    }
   ],
   "source": [
    "print('배치 정규화 적용 안함')\n",
    "model_without_bn = SimpleNN(use_bn=False)\n",
    "train(model_without_bn, train_loader, val_loader)\n",
    "\n",
    "print('\\n배치 정규화 적용')\n",
    "model_with_bn = SimpleNN(use_bn=True)\n",
    "train(model_with_bn, train_loader, val_loader)"
   ]
  },
  {
   "cell_type": "code",
   "execution_count": 24,
   "metadata": {},
   "outputs": [
    {
     "name": "stdout",
     "output_type": "stream",
     "text": [
      "batch size: 16\n",
      "Epoch 1 | Val Loss: 0.1267, Accuracy: 0.9626\n",
      "Epoch 2 | Val Loss: 0.1007, Accuracy: 0.9696\n",
      "Epoch 3 | Val Loss: 0.0877, Accuracy: 0.9725\n",
      "Epoch 4 | Val Loss: 0.0879, Accuracy: 0.9732\n",
      "Epoch 5 | Val Loss: 0.0815, Accuracy: 0.9749\n",
      "batch size: 32\n",
      "Epoch 1 | Val Loss: 0.1191, Accuracy: 0.9644\n",
      "Epoch 2 | Val Loss: 0.1001, Accuracy: 0.9683\n",
      "Epoch 3 | Val Loss: 0.0988, Accuracy: 0.9690\n",
      "Epoch 4 | Val Loss: 0.0932, Accuracy: 0.9711\n",
      "Epoch 5 | Val Loss: 0.0827, Accuracy: 0.9751\n",
      "batch size: 128\n",
      "Epoch 1 | Val Loss: 0.1550, Accuracy: 0.9555\n",
      "Epoch 2 | Val Loss: 0.1203, Accuracy: 0.9626\n",
      "Epoch 3 | Val Loss: 0.0899, Accuracy: 0.9715\n",
      "Epoch 4 | Val Loss: 0.0911, Accuracy: 0.9717\n",
      "Epoch 5 | Val Loss: 0.1359, Accuracy: 0.9589\n"
     ]
    }
   ],
   "source": [
    "for batch_size in [16, 32, 128]:\n",
    "    print(f\"batch size: {batch_size}\")\n",
    "    train_loader = DataLoader(train_data, batch_size=batch_size, shuffle=True)\n",
    "    val_loader = DataLoader(val_data, batch_size=batch_size, shuffle=False)\n",
    "    model = SimpleNN(use_bn=True)\n",
    "    train(model, train_loader, val_loader)"
   ]
  },
  {
   "cell_type": "markdown",
   "metadata": {},
   "source": [
    "### 드롭아웃 적용"
   ]
  },
  {
   "cell_type": "code",
   "execution_count": 25,
   "metadata": {},
   "outputs": [],
   "source": [
    "class DropoutNN(nn.Module):\n",
    "    def __init__(self, dropout_rate):\n",
    "        super(DropoutNN, self).__init__()\n",
    "        self.fc1 = nn.Linear(28 * 28, 128)\n",
    "        self.dropout1 = nn.Dropout(dropout_rate)\n",
    "        self.fc2 = nn.Linear(128, 64)\n",
    "        self.dropout2 = nn.Dropout(dropout_rate)\n",
    "        self.fc3 = nn.Linear(64, 10)\n",
    "\n",
    "    def forward(self, x):\n",
    "        x = x.view(x.size(0), -1)\n",
    "        x = torch.relu(self.dropout1(self.fc1(x)))\n",
    "        x = torch.relu(self.dropout2(self.fc2(x)))\n",
    "        x = self.fc3(x)\n",
    "        return x"
   ]
  },
  {
   "cell_type": "code",
   "execution_count": 26,
   "metadata": {},
   "outputs": [
    {
     "name": "stdout",
     "output_type": "stream",
     "text": [
      "Dropout Rate: 0.2\n",
      "Epoch 1 | Val Loss: 0.2600, Accuracy: 0.9221\n",
      "Epoch 2 | Val Loss: 0.1929, Accuracy: 0.9423\n",
      "Epoch 3 | Val Loss: 0.1578, Accuracy: 0.9517\n",
      "Epoch 4 | Val Loss: 0.1416, Accuracy: 0.9577\n",
      "Epoch 5 | Val Loss: 0.1424, Accuracy: 0.9543\n",
      "Dropout Rate: 0.5\n",
      "Epoch 1 | Val Loss: 0.3409, Accuracy: 0.9012\n",
      "Epoch 2 | Val Loss: 0.3043, Accuracy: 0.9137\n",
      "Epoch 3 | Val Loss: 0.2715, Accuracy: 0.9203\n",
      "Epoch 4 | Val Loss: 0.2487, Accuracy: 0.9289\n",
      "Epoch 5 | Val Loss: 0.2387, Accuracy: 0.9327\n",
      "Dropout Rate: 0.8\n",
      "Epoch 1 | Val Loss: 1.4210, Accuracy: 0.6988\n",
      "Epoch 2 | Val Loss: 1.3169, Accuracy: 0.7070\n",
      "Epoch 3 | Val Loss: 1.3379, Accuracy: 0.6911\n",
      "Epoch 4 | Val Loss: 1.2275, Accuracy: 0.7151\n",
      "Epoch 5 | Val Loss: 1.2442, Accuracy: 0.6836\n"
     ]
    }
   ],
   "source": [
    "train_loader = DataLoader(train_data, batch_size=64, shuffle=True)\n",
    "val_loader = DataLoader(val_data, batch_size=64, shuffle=False)\n",
    "\n",
    "for rate in [0.2, 0.5, 0.8]:\n",
    "    print(f'Dropout Rate: {rate}')\n",
    "    model = DropoutNN(dropout_rate=rate)\n",
    "    train(model, train_loader, val_loader)"
   ]
  },
  {
   "cell_type": "markdown",
   "metadata": {},
   "source": [
    "- 훈련 시 드롭아웃 활성화, 테스트 시 비활성화"
   ]
  },
  {
   "cell_type": "code",
   "execution_count": 27,
   "metadata": {},
   "outputs": [],
   "source": [
    "def train_do(model, train_loader, val_loader, epochs=5):\n",
    "    criterion = nn.CrossEntropyLoss()\n",
    "    optimizer = optim.Adam(model.parameters(), lr=0.001)\n",
    "\n",
    "    for epoch in range(epochs):\n",
    "        for images, labels in train_loader:\n",
    "            images = images.view(images.size(0), -1)\n",
    "            optimizer.zero_grad()\n",
    "            outputs = model(images)\n",
    "            loss = criterion(outputs, labels)\n",
    "            loss.backward()\n",
    "            optimizer.step()\n",
    "        \n",
    "        val_loss = 0\n",
    "        correct = 0\n",
    "        with torch.no_grad():\n",
    "            for images, labels in val_loader:\n",
    "                images = images.view(images.size(0), -1)\n",
    "                outputs = model(images)\n",
    "                val_loss += criterion(outputs, labels).item()\n",
    "                preds = outputs.argmax(dim=1)\n",
    "                correct += (preds == labels).sum().item()\n",
    "        print(f'Epoch {epoch + 1} | Val Loss: {val_loss/len(val_loader):.4f}, Accuracy: {correct/len(val_data):.4f}')"
   ]
  },
  {
   "cell_type": "code",
   "execution_count": 28,
   "metadata": {},
   "outputs": [
    {
     "name": "stdout",
     "output_type": "stream",
     "text": [
      "Epoch 1 | Val Loss: 0.4122, Accuracy: 0.8790\n",
      "Epoch 2 | Val Loss: 0.3249, Accuracy: 0.9065\n",
      "Epoch 3 | Val Loss: 0.2861, Accuracy: 0.9173\n",
      "Epoch 4 | Val Loss: 0.2706, Accuracy: 0.9222\n",
      "Epoch 5 | Val Loss: 0.2536, Accuracy: 0.9267\n",
      "\n",
      "Epoch 1 | Val Loss: 0.1475, Accuracy: 0.9577\n",
      "Epoch 2 | Val Loss: 0.1218, Accuracy: 0.9627\n",
      "Epoch 3 | Val Loss: 0.1102, Accuracy: 0.9676\n",
      "Epoch 4 | Val Loss: 0.1273, Accuracy: 0.9627\n",
      "Epoch 5 | Val Loss: 0.1155, Accuracy: 0.9652\n"
     ]
    }
   ],
   "source": [
    "model = DropoutNN(dropout_rate=0.3)\n",
    "\n",
    "# train 모드 == 드롭아웃 활성화\n",
    "model.train()\n",
    "train_do(model, train_loader, val_loader)\n",
    "\n",
    "print()\n",
    "\n",
    "# eval 모드 == 드롭아웃 비활성화\n",
    "model.eval()\n",
    "train_do(model, train_loader, val_loader)"
   ]
  },
  {
   "cell_type": "markdown",
   "metadata": {},
   "source": [
    "### Learning Rate Scheduler 적용"
   ]
  },
  {
   "cell_type": "code",
   "execution_count": 29,
   "metadata": {},
   "outputs": [],
   "source": [
    "class RealSimpleNN(nn.Module):\n",
    "    def __init__(self):\n",
    "        super(RealSimpleNN, self).__init__()\n",
    "        self.fc1 = nn.Linear(28 * 28, 128)\n",
    "        self.fc2 = nn.Linear(128, 64)\n",
    "        self.fc3 = nn.Linear(64, 10)\n",
    "\n",
    "    def forward(self, x):\n",
    "        x = x.view(x.size(0), -1)\n",
    "        x = torch.relu(self.fc1(x))\n",
    "        x = torch.relu(self.fc2(x))\n",
    "        x = self.fc3(x)\n",
    "        return x"
   ]
  },
  {
   "cell_type": "code",
   "execution_count": 30,
   "metadata": {},
   "outputs": [],
   "source": [
    "def train_lr(model, train_loader, val_loader, optimizer, scheduler, epochs=10):\n",
    "    criterion = nn.CrossEntropyLoss()\n",
    "\n",
    "    for epoch in range(epochs):\n",
    "        model.train()\n",
    "        for images, labels in train_loader:\n",
    "            images = images.view(images.size(0), -1)\n",
    "            optimizer.zero_grad()\n",
    "            outputs = model(images)\n",
    "            loss = criterion(outputs, labels)\n",
    "            loss.backward()\n",
    "            optimizer.step()\n",
    "\n",
    "        model.eval()\n",
    "        val_loss = 0\n",
    "        correct = 0\n",
    "        with torch.no_grad():\n",
    "            for images, labels in val_loader:\n",
    "                images = images.view(images.size(0), -1)\n",
    "                outputs = model(images)\n",
    "                val_loss += criterion(outputs, labels).item()\n",
    "                preds = outputs.argmax(dim=1)\n",
    "                correct += (preds == labels).sum().item()\n",
    "        \n",
    "        scheduler.step()\n",
    "        print(f\"Epoch {epoch+1} | Val Loss: {val_loss/len(val_loader):.4f}, Accuracy: {correct/len(val_data):.4f}, LearningRate: {scheduler.get_last_lr()[0]}\")"
   ]
  },
  {
   "cell_type": "code",
   "execution_count": 31,
   "metadata": {},
   "outputs": [
    {
     "name": "stdout",
     "output_type": "stream",
     "text": [
      "Epoch 1 | Val Loss: 0.3312, Accuracy: 0.8987, LearningRate: 0.01\n",
      "Epoch 2 | Val Loss: 0.2972, Accuracy: 0.9147, LearningRate: 0.01\n",
      "Epoch 3 | Val Loss: 0.2452, Accuracy: 0.9297, LearningRate: 0.001\n",
      "Epoch 4 | Val Loss: 0.1558, Accuracy: 0.9547, LearningRate: 0.001\n",
      "Epoch 5 | Val Loss: 0.1556, Accuracy: 0.9565, LearningRate: 0.001\n",
      "Epoch 6 | Val Loss: 0.1539, Accuracy: 0.9558, LearningRate: 0.0001\n",
      "Epoch 7 | Val Loss: 0.1451, Accuracy: 0.9593, LearningRate: 0.0001\n",
      "Epoch 8 | Val Loss: 0.1454, Accuracy: 0.9595, LearningRate: 0.0001\n",
      "Epoch 9 | Val Loss: 0.1445, Accuracy: 0.9595, LearningRate: 1e-05\n",
      "Epoch 10 | Val Loss: 0.1441, Accuracy: 0.9597, LearningRate: 1e-05\n"
     ]
    }
   ],
   "source": [
    "model = RealSimpleNN()\n",
    "optimizer = optim.Adam(model.parameters(), lr=0.01)\n",
    "scheduler = optim.lr_scheduler.StepLR(optimizer, step_size=3, gamma=0.1)\n",
    "\n",
    "train_lr(model, train_loader, val_loader, optimizer, scheduler)"
   ]
  },
  {
   "cell_type": "markdown",
   "metadata": {},
   "source": [
    "### 조기 종료 적용"
   ]
  },
  {
   "cell_type": "code",
   "execution_count": 32,
   "metadata": {},
   "outputs": [],
   "source": [
    "def train_es(model, train_loader, val_loader, optimizer, epochs=50, early_stopping=None):\n",
    "    criterion = nn.CrossEntropyLoss()\n",
    "    train_losses = []\n",
    "    val_losses = []\n",
    "\n",
    "    for epoch in range(epochs):\n",
    "        model.train()\n",
    "        train_loss = 0\n",
    "        for images, labels in train_loader:\n",
    "            images = images.view(images.size(0), -1)\n",
    "            optimizer.zero_grad()\n",
    "            outputs = model(images)\n",
    "            loss = criterion(outputs, labels)\n",
    "            loss.backward()\n",
    "            optimizer.step()\n",
    "            train_loss += loss.item()\n",
    "        train_loss /= len(train_loader)\n",
    "        train_losses.append(train_loss)\n",
    "\n",
    "        model.eval()\n",
    "        val_loss = 0\n",
    "        correct = 0\n",
    "        with torch.no_grad():\n",
    "            for images, labels in val_loader:\n",
    "                images = images.view(images.size(0), -1)\n",
    "                outputs = model(images)\n",
    "                loss = criterion(outputs, labels)\n",
    "                val_loss += loss.item()\n",
    "                preds = outputs.argmax(dim=1)\n",
    "                correct += (preds == labels).sum().item()\n",
    "\n",
    "        val_loss /= len(val_loader)\n",
    "        val_losses.append(val_loss)\n",
    "        accuracy = correct / len(val_data)\n",
    "\n",
    "        print(f'Epoch {epoch + 1} | Loss: {val_loss:.4f}, Accuracy: {accuracy:.4f}')\n",
    "\n",
    "        if early_stopping and early_stopping(val_loss):\n",
    "            print(f'조기 종료 epoch {epoch + 1}')\n",
    "            break\n",
    "\n",
    "    return train_losses, val_losses"
   ]
  },
  {
   "cell_type": "code",
   "execution_count": 33,
   "metadata": {},
   "outputs": [],
   "source": [
    "# !pip install skorch"
   ]
  },
  {
   "cell_type": "code",
   "execution_count": 34,
   "metadata": {},
   "outputs": [],
   "source": [
    "class EarlyStopping:\n",
    "    def __init__(self, patience=5, min_delta=0.001):\n",
    "        self.patience = patience\n",
    "        self.min_delta = min_delta\n",
    "        self.best_loss = float('inf')\n",
    "        self.counter = 0\n",
    "\n",
    "    def __call__(self, val_loss):\n",
    "        if val_loss < self.best_loss - self.min_delta:\n",
    "            self.best_loss = val_loss\n",
    "            self.counter = 0\n",
    "        else:\n",
    "            self.counter += 1\n",
    "\n",
    "        return self.counter >= self.patience"
   ]
  },
  {
   "cell_type": "code",
   "execution_count": 35,
   "metadata": {},
   "outputs": [
    {
     "name": "stdout",
     "output_type": "stream",
     "text": [
      "Epoch 1 | Loss: 0.3117, Accuracy: 0.9080\n",
      "Epoch 2 | Loss: 0.3622, Accuracy: 0.8928\n",
      "Epoch 3 | Loss: 0.3266, Accuracy: 0.9082\n",
      "Epoch 4 | Loss: 0.2592, Accuracy: 0.9256\n",
      "Epoch 5 | Loss: 0.2858, Accuracy: 0.9164\n",
      "Epoch 6 | Loss: 0.2687, Accuracy: 0.9249\n",
      "Epoch 7 | Loss: 0.2656, Accuracy: 0.9273\n",
      "Epoch 8 | Loss: 0.2985, Accuracy: 0.9233\n",
      "Epoch 9 | Loss: 0.2767, Accuracy: 0.9260\n",
      "Epoch 10 | Loss: 0.2647, Accuracy: 0.9303\n",
      "Epoch 11 | Loss: 0.2681, Accuracy: 0.9306\n",
      "Epoch 12 | Loss: 0.2836, Accuracy: 0.9260\n",
      "Epoch 13 | Loss: 0.2778, Accuracy: 0.9303\n",
      "Epoch 14 | Loss: 0.2423, Accuracy: 0.9365\n",
      "Epoch 15 | Loss: 0.2707, Accuracy: 0.9355\n",
      "Epoch 16 | Loss: 0.2905, Accuracy: 0.9316\n",
      "Epoch 17 | Loss: 0.3243, Accuracy: 0.9267\n",
      "Epoch 18 | Loss: 0.2753, Accuracy: 0.9253\n",
      "Epoch 19 | Loss: 0.2619, Accuracy: 0.9337\n",
      "Epoch 20 | Loss: 0.3218, Accuracy: 0.9237\n",
      "Epoch 21 | Loss: 0.2763, Accuracy: 0.9318\n",
      "Epoch 22 | Loss: 0.2943, Accuracy: 0.9308\n",
      "Epoch 23 | Loss: 0.2774, Accuracy: 0.9312\n",
      "Epoch 24 | Loss: 0.3250, Accuracy: 0.9287\n",
      "Epoch 25 | Loss: 0.2772, Accuracy: 0.9333\n",
      "Epoch 26 | Loss: 0.2907, Accuracy: 0.9287\n",
      "Epoch 27 | Loss: 0.2571, Accuracy: 0.9414\n",
      "Epoch 28 | Loss: 0.2713, Accuracy: 0.9342\n",
      "Epoch 29 | Loss: 0.2700, Accuracy: 0.9369\n",
      "Epoch 30 | Loss: 0.2608, Accuracy: 0.9372\n",
      "Epoch 31 | Loss: 0.2541, Accuracy: 0.9390\n",
      "Epoch 32 | Loss: 0.3155, Accuracy: 0.9328\n",
      "Epoch 33 | Loss: 0.2986, Accuracy: 0.9289\n",
      "Epoch 34 | Loss: 0.3894, Accuracy: 0.9137\n",
      "Epoch 35 | Loss: 0.3140, Accuracy: 0.9290\n",
      "Epoch 36 | Loss: 0.3448, Accuracy: 0.9260\n",
      "Epoch 37 | Loss: 0.3053, Accuracy: 0.9344\n",
      "Epoch 38 | Loss: 0.2490, Accuracy: 0.9375\n",
      "Epoch 39 | Loss: 0.2914, Accuracy: 0.9329\n",
      "Epoch 40 | Loss: 0.2460, Accuracy: 0.9407\n",
      "Epoch 41 | Loss: 0.2745, Accuracy: 0.9367\n",
      "Epoch 42 | Loss: 0.2858, Accuracy: 0.9330\n",
      "Epoch 43 | Loss: 0.2860, Accuracy: 0.9328\n",
      "Epoch 44 | Loss: 0.2956, Accuracy: 0.9284\n",
      "Epoch 45 | Loss: 0.3025, Accuracy: 0.9310\n",
      "Epoch 46 | Loss: 0.3292, Accuracy: 0.9267\n",
      "Epoch 47 | Loss: 0.2903, Accuracy: 0.9363\n",
      "Epoch 48 | Loss: 0.2533, Accuracy: 0.9413\n",
      "Epoch 49 | Loss: 0.3177, Accuracy: 0.9320\n",
      "Epoch 50 | Loss: 0.2877, Accuracy: 0.9362\n",
      "Epoch 1 | Loss: 0.2662, Accuracy: 0.9193\n",
      "Epoch 2 | Loss: 0.2579, Accuracy: 0.9246\n",
      "Epoch 3 | Loss: 0.2467, Accuracy: 0.9289\n",
      "Epoch 4 | Loss: 0.2298, Accuracy: 0.9387\n",
      "Epoch 5 | Loss: 0.2780, Accuracy: 0.9263\n",
      "Epoch 6 | Loss: 0.2601, Accuracy: 0.9322\n",
      "Epoch 7 | Loss: 0.2442, Accuracy: 0.9401\n",
      "Epoch 8 | Loss: 0.3097, Accuracy: 0.9202\n",
      "Epoch 9 | Loss: 0.2241, Accuracy: 0.9419\n",
      "Epoch 10 | Loss: 0.2782, Accuracy: 0.9264\n",
      "Epoch 11 | Loss: 0.2928, Accuracy: 0.9283\n",
      "Epoch 12 | Loss: 0.2848, Accuracy: 0.9257\n",
      "Epoch 13 | Loss: 0.2404, Accuracy: 0.9383\n",
      "Epoch 14 | Loss: 0.2385, Accuracy: 0.9433\n",
      "조기 종료 epoch 14\n"
     ]
    }
   ],
   "source": [
    "model_no_es = RealSimpleNN()\n",
    "optim_no_es = optim.Adam(model_no_es.parameters(), lr=0.01)\n",
    "train_losses, val_losses = train_es(model_no_es, train_loader, val_loader, optim_no_es)\n",
    "\n",
    "model_es = RealSimpleNN()\n",
    "optim_es = optim.Adam(model_es.parameters(), lr=0.01)\n",
    "early_stopping = EarlyStopping(patience=5)\n",
    "train_es_losses, val_es_losses = train_es(model_es, train_loader, val_loader, optim_es, early_stopping=early_stopping)"
   ]
  },
  {
   "cell_type": "code",
   "execution_count": 36,
   "metadata": {},
   "outputs": [
    {
     "data": {
      "image/png": "[encoded data removed]",
      "text/plain": [
       "<Figure size 1000x400 with 1 Axes>"
      ]
     },
     "metadata": {},
     "output_type": "display_data"
    }
   ],
   "source": [
    "import matplotlib.pyplot as plt\n",
    "\n",
    "plt.figure(figsize=(10,4))\n",
    "plt.plot(train_losses, label='Train Loss (All epoch)', linestyle='dashed')\n",
    "plt.plot(val_losses, label='Valid Loss (All epoch)')\n",
    "plt.plot(train_es_losses, label=\"Train Loss (Early Stopping)\", linestyle='dashed')\n",
    "plt.plot(val_es_losses, label=\"Valid Loss (Early Stopping)\")\n",
    "\n",
    "plt.xlabel('Epoch')\n",
    "plt.ylabel('Loss')\n",
    "plt.legend()\n",
    "plt.show()"
   ]
  },
  {
   "cell_type": "markdown",
   "metadata": {},
   "source": [
    "### (L1, )L2 적용"
   ]
  },
  {
   "cell_type": "code",
   "execution_count": 37,
   "metadata": {},
   "outputs": [],
   "source": [
    "def train_reg(model, train_loader, val_loader, optimizer, epochs=10):\n",
    "    criterion = nn.CrossEntropyLoss()\n",
    "    train_losses = []\n",
    "    val_losses = []\n",
    "     \n",
    "    for epoch in range(epochs):\n",
    "        model.train()\n",
    "        train_loss = 0\n",
    "        for images, labels in train_loader:\n",
    "            images = images.view(images.size(0), -1)\n",
    "            optimizer.zero_grad()\n",
    "            outputs = model(images)\n",
    "            loss = criterion(outputs, labels)\n",
    "            loss.backward()\n",
    "            optimizer.step()\n",
    "            train_loss += loss.item()\n",
    "        train_loss /= len(train_loader)\n",
    "        train_losses.append(train_loss)\n",
    "\n",
    "        model.eval()\n",
    "        val_loss = 0\n",
    "        correct = 0\n",
    "        with torch.no_grad():\n",
    "            for images, labels in val_loader:\n",
    "                images = images.view(images.size(0), -1)\n",
    "                outputs = model(images)\n",
    "                loss = criterion(outputs, labels)\n",
    "                val_loss += loss.item()\n",
    "                preds = outputs.argmax(dim=1)\n",
    "                correct += (preds == labels).sum().item()\n",
    "\n",
    "        val_loss /= len(val_loader)\n",
    "        val_losses.append(val_loss)\n",
    "        accuracy = correct / len(val_data)\n",
    "\n",
    "        print(f'Epoch {epoch + 1} | Loss: {val_loss:.4f}, Accuracy: {accuracy:.4f}')\n",
    "\n",
    "        if early_stopping and early_stopping(val_loss):\n",
    "            print(f'조기 종료 epoch {epoch + 1} | Train Loss: {train_loss:.4f}, Val Loss: {val_loss:.4f}, Accuracy: {accuracy:.4f}')\n",
    "            break\n",
    "\n",
    "    return train_losses, val_losses"
   ]
  },
  {
   "cell_type": "code",
   "execution_count": 38,
   "metadata": {},
   "outputs": [
    {
     "name": "stdout",
     "output_type": "stream",
     "text": [
      "Epoch 1 | Loss: 0.2564, Accuracy: 0.9214\n",
      "조기 종료 epoch 1 | Train Loss: 0.4608, Val Loss: 0.2564, Accuracy: 0.9214\n"
     ]
    },
    {
     "ename": "TypeError",
     "evalue": "SGD.__init__() got an unexpected keyword argument 'weighth_decay'",
     "output_type": "error",
     "traceback": [
      "\u001b[1;31m---------------------------------------------------------------------------\u001b[0m",
      "\u001b[1;31mTypeError\u001b[0m                                 Traceback (most recent call last)",
      "Cell \u001b[1;32mIn[38], line 6\u001b[0m\n\u001b[0;32m      3\u001b[0m train_losses, val_losses \u001b[38;5;241m=\u001b[39m train_reg(model_no_reg, train_loader, val_loader, optim_no_reg)\n\u001b[0;32m      5\u001b[0m model_reg \u001b[38;5;241m=\u001b[39m RealSimpleNN()\n\u001b[1;32m----> 6\u001b[0m optim_reg \u001b[38;5;241m=\u001b[39m \u001b[43moptim\u001b[49m\u001b[38;5;241;43m.\u001b[39;49m\u001b[43mSGD\u001b[49m\u001b[43m(\u001b[49m\u001b[43mmodel_reg\u001b[49m\u001b[38;5;241;43m.\u001b[39;49m\u001b[43mparameters\u001b[49m\u001b[43m(\u001b[49m\u001b[43m)\u001b[49m\u001b[43m,\u001b[49m\u001b[43m \u001b[49m\u001b[43mlr\u001b[49m\u001b[38;5;241;43m=\u001b[39;49m\u001b[38;5;241;43m0.01\u001b[39;49m\u001b[43m,\u001b[49m\u001b[43m \u001b[49m\u001b[43mweighth_decay\u001b[49m\u001b[38;5;241;43m=\u001b[39;49m\u001b[38;5;241;43m0.01\u001b[39;49m\u001b[43m,\u001b[49m\u001b[43m \u001b[49m\u001b[43mmomentum\u001b[49m\u001b[38;5;241;43m=\u001b[39;49m\u001b[38;5;241;43m0.9\u001b[39;49m\u001b[43m)\u001b[49m\n\u001b[0;32m      7\u001b[0m train_reg(model_reg, train_losses, val_losses, optim_reg)\n",
      "\u001b[1;31mTypeError\u001b[0m: SGD.__init__() got an unexpected keyword argument 'weighth_decay'"
     ]
    }
   ],
   "source": [
    "model_no_reg = RealSimpleNN()\n",
    "optim_no_reg = optim.SGD(model_no_reg.parameters(),lr=0.01,weight_decay=0.0, momentum=0.9)\n",
    "train_losses, val_losses = train_reg(model_no_reg, train_loader, val_loader, optim_no_reg)\n",
    "\n",
    "model_reg = RealSimpleNN()\n",
    "optim_reg = optim.SGD(model_reg.parameters(), lr=0.01, weighth_decay=0.01, momentum=0.9)\n",
    "train_reg(model_reg, train_losses, val_losses, optim_reg)\n"
   ]
  }
 ],
 "metadata": {
  "kernelspec": {
   "display_name": "pystudy_env",
   "language": "python",
   "name": "python3"
  },
  "language_info": {
   "codemirror_mode": {
    "name": "ipython",
    "version": 3
   },
   "file_extension": ".py",
   "mimetype": "text/x-python",
   "name": "python",
   "nbconvert_exporter": "python",
   "pygments_lexer": "ipython3",
   "version": "3.12.8"
  }
 },
 "nbformat": 4,
 "nbformat_minor": 2
}
