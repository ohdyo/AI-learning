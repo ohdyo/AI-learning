{
 "cells": [
  {
   "cell_type": "markdown",
   "metadata": {},
   "source": [
    "# 역전파 (Backpropagation)\n",
    "## 연쇄법칙\n",
    "- 기본 수식의 역전파 & 연쇄법칙 적용"
   ]
  },
  {
   "cell_type": "code",
   "execution_count": 4,
   "metadata": {},
   "outputs": [
    {
     "name": "stdout",
     "output_type": "stream",
     "text": [
      "9.0\n",
      "6.0\n"
     ]
    }
   ],
   "source": [
    "import numpy as np\n",
    "def forward(x):\n",
    "    y = x ** 2\n",
    "    return y\n",
    "\n",
    "def backward(x):\n",
    "    dy_dx = 2 * x\n",
    "    return dy_dx\n",
    "\n",
    "x = 3.0\n",
    "print(forward(x))\n",
    "print(backward(x))"
   ]
  },
  {
   "cell_type": "markdown",
   "metadata": {},
   "source": [
    "- 다중 신경망에서 연쇄법칙 적용"
   ]
  },
  {
   "cell_type": "code",
   "execution_count": 5,
   "metadata": {},
   "outputs": [
    {
     "name": "stdout",
     "output_type": "stream",
     "text": [
      "18.0\n",
      "12.0\n"
     ]
    }
   ],
   "source": [
    "def forward(x):\n",
    "    y = x ** 2\n",
    "    z = 2 * y\n",
    "    return z\n",
    "\n",
    "def backward(x):\n",
    "    dy_dx = 2 * x\n",
    "    dz_dy = 2\n",
    "    dz_dx = dz_dy * dy_dx\n",
    "    return dz_dx\n",
    "\n",
    "x = 3.0\n",
    "print(forward(x))\n",
    "print(backward(x))\n"
   ]
  },
  {
   "cell_type": "markdown",
   "metadata": {},
   "source": [
    "- 단순 신경망 학습"
   ]
  },
  {
   "cell_type": "code",
   "execution_count": 6,
   "metadata": {},
   "outputs": [
    {
     "name": "stdout",
     "output_type": "stream",
     "text": [
      "[0.21196456 0.4191433 ]\n"
     ]
    }
   ],
   "source": [
    "def sigmoid(x):\n",
    "    return 1/ (1 + np.exp(-x))\n",
    "\n",
    "def sigmoid_d(x):\n",
    "    return sigmoid(x) * (1-sigmoid(x))\n",
    "\n",
    "x = np.array([0.5,0.8])\n",
    "y = np.array([1])\n",
    "\n",
    "W = np.array([0.2,0.4])\n",
    "\n",
    "# 순전파\n",
    "z = np.dot(x,W)\n",
    "r = sigmoid(z) # 활성화 함수 적용\n",
    "\n",
    "# 오차 계산\n",
    "loss = 0.5 * (y-r) ** 2\n",
    "\n",
    "# 역전파 (기울기 계산)\n",
    "delta = (r-y) * sigmoid(z)\n",
    "grad_w = delta * x\n",
    "\n",
    "# 가중치 갱신\n",
    "W -= 0.1 * grad_w # 0.1 = learning_rate\n",
    "\n",
    "print(W)"
   ]
  },
  {
   "cell_type": "markdown",
   "metadata": {},
   "source": [
    "- 은닉층 추가"
   ]
  },
  {
   "cell_type": "code",
   "execution_count": 8,
   "metadata": {},
   "outputs": [
    {
     "name": "stdout",
     "output_type": "stream",
     "text": [
      "[[0.5004928]\n",
      " [0.6011264]]\n",
      "[[0.20044   0.400528 ]\n",
      " [0.100704  0.3008448]]\n"
     ]
    }
   ],
   "source": [
    "def relu(x):\n",
    "    return np.maximum(0, x)\n",
    "\n",
    "def relu_d(x):\n",
    "    return np.where(x > 0, 1, 0)\n",
    "\n",
    "X = np.array([0.5, 0.8])   # (2,)\n",
    "y = np.array([1])\n",
    "\n",
    "W1 = np.array([[0.2, 0.4], [0.1, 0.3]])    # (2, 2)\n",
    "b1 = np.array([0.1, 0.2])    # (2,)\n",
    "W2 = np.array([[0.5], [0.6]])    # (2, 1)\n",
    "b2 = np.array([0.3])\n",
    "\n",
    "# 순전파\n",
    "z1 = np.dot(X, W1) + b1\n",
    "r1 = relu(z1)\n",
    "\n",
    "z2 = np.dot(r1, W2) + b2\n",
    "r2 = relu(z2)\n",
    "\n",
    "# 역전파 (기울기 계산)\n",
    "delta2 = (r2 - y) * relu_d(z2)\n",
    "grad_W2 = np.outer(r1, delta2)\n",
    "\n",
    "delta1 = np.dot(W2, delta2) * relu_d(z1)\n",
    "grad_W1 = np.outer(X, delta1)\n",
    "\n",
    "# 가중치 갱신\n",
    "learning_rate = 0.01\n",
    "W2 -= learning_rate * grad_W2\n",
    "W1 -= learning_rate * grad_W1\n",
    "\n",
    "print(W2)\n",
    "print(W1)"
   ]
  },
  {
   "cell_type": "code",
   "execution_count": 9,
   "metadata": {},
   "outputs": [
    {
     "name": "stdout",
     "output_type": "stream",
     "text": [
      "6.000000000039306\n",
      "6.0\n"
     ]
    }
   ],
   "source": [
    "def f(x):\n",
    "    return x**2\n",
    "\n",
    "def num_d_gradient(f, x):\n",
    "    h = 1e-5\n",
    "    return (f(x + h) - f(x - h)) / (2 * h)\n",
    "\n",
    "def backward_gradient(x):\n",
    "    return 2 * x\n",
    "\n",
    "print(num_d_gradient(f, 3.0))\n",
    "print(backward_gradient(3.0))"
   ]
  },
  {
   "cell_type": "markdown",
   "metadata": {},
   "source": [
    "- 숫자 맞추기 AI"
   ]
  },
  {
   "cell_type": "code",
   "execution_count": 10,
   "metadata": {},
   "outputs": [
    {
     "name": "stdout",
     "output_type": "stream",
     "text": [
      "epoch 0 | 예측값: 4.046097826813256, 손실: 889.1967223282898\n",
      "epoch 5 | 예측값: 19.58860030575496, 손실: 310.0437260834609\n",
      "epoch 10 | 예측값: 28.766292594545245, 손실: 108.10556277357284\n",
      "epoch 15 | 예측값: 34.18562811415302, 손실: 37.694078994022036\n",
      "epoch 20 | 예측값: 37.385691545126214, 손실: 13.14311266464181\n",
      "epoch 25 | 예측값: 39.27529700048158, 손실: 4.582720021965859\n",
      "epoch 30 | 예측값: 40.39109012581437, 손실: 1.5978956686740844\n",
      "epoch 35 | 예측값: 41.04995480839213, 손실: 0.5571517691958257\n",
      "epoch 40 | 예측값: 41.43900781480747, 손실: 0.19426680978215524\n",
      "epoch 45 | 예측값: 41.66873972456566, 손실: 0.06773664819804684\n",
      "41.78266013328753\n"
     ]
    }
   ],
   "source": [
    "target_number = 42\n",
    "\n",
    "guess = np.random.randn()\n",
    "\n",
    "learning_rate = 0.1\n",
    "\n",
    "for i in range(50):\n",
    "    # 오차 계산\n",
    "    loss = 0.5 * (guess - target_number) ** 2\n",
    "    \n",
    "    # 역전파 (기울기 계산)\n",
    "    grad = (guess - target_number)\n",
    "    \n",
    "    # 업데이트 (guess 업데이트)\n",
    "    guess -= learning_rate * grad\n",
    "\n",
    "    # epoch 5마다 예측값과 손실 출력\n",
    "    if i % 5 ==0:\n",
    "        print(f'epoch {i} | 예측값: {guess}, 손실: {loss}')\n",
    "    \n",
    "# 최종 예측값 guess 출력\n",
    "print(guess)"
   ]
  }
 ],
 "metadata": {
  "kernelspec": {
   "display_name": "pystudy_env",
   "language": "python",
   "name": "python3"
  },
  "language_info": {
   "codemirror_mode": {
    "name": "ipython",
    "version": 3
   },
   "file_extension": ".py",
   "mimetype": "text/x-python",
   "name": "python",
   "nbconvert_exporter": "python",
   "pygments_lexer": "ipython3",
   "version": "3.12.8"
  }
 },
 "nbformat": 4,
 "nbformat_minor": 2
}
