{
 "cells": [
  {
   "cell_type": "markdown",
   "metadata": {},
   "source": [
    "# 다차원 텐서 (다차원 배열)"
   ]
  },
  {
   "cell_type": "code",
   "execution_count": 2,
   "metadata": {},
   "outputs": [],
   "source": [
    "import numpy as np"
   ]
  },
  {
   "cell_type": "markdown",
   "metadata": {},
   "source": [
    "## 다차원 배열의 계산 복습"
   ]
  },
  {
   "cell_type": "code",
   "execution_count": 3,
   "metadata": {},
   "outputs": [
    {
     "name": "stdout",
     "output_type": "stream",
     "text": [
      "[[ 8 10 12]\n",
      " [14 16 18]] \n",
      " [[2 4 6]\n",
      " [5 7 9]]\n",
      "[[ 50  68]\n",
      " [122 167]]\n"
     ]
    }
   ],
   "source": [
    "A = np.array([[1,2,3],[4,5,6]])\n",
    "B = np.array([[7,8,9],[10,11,12]])\n",
    "\n",
    "add_result = A + B\n",
    "add_result\n",
    "\n",
    "vec = np.array([1,2,3])\n",
    "add_result2 = A + vec   # 브로드 캐스팅\n",
    "print(add_result,'\\n',add_result2)\n",
    "\n",
    "dot_result = A.dot(B.T) # T : 전치행렬\n",
    "print(dot_result)"
   ]
  },
  {
   "cell_type": "markdown",
   "metadata": {},
   "source": [
    "# 다차원 배열의 계산으로 순전파 구현"
   ]
  },
  {
   "cell_type": "code",
   "execution_count": 4,
   "metadata": {},
   "outputs": [
    {
     "name": "stdout",
     "output_type": "stream",
     "text": [
      "[[0.         0.81252649 0.        ]\n",
      " [0.87027511 0.         0.        ]\n",
      " [0.63509495 3.00931885 4.41594548]\n",
      " [3.5073596  0.         2.46817539]]\n"
     ]
    }
   ],
   "source": [
    "# -- 단층 퍼셉트론\n",
    "# 입력 데이터\n",
    "X = np.random.randn(4,5)\n",
    "\n",
    "# 가중치\n",
    "W = np.random.randn(5,3)    # 5개의 입력(feature), 3개의 뉴런으로 구성된 레이어\n",
    "\n",
    "# 편향\n",
    "b = np.random.randn(1,3)\n",
    "\n",
    "# 선형계산 (W*X + b)\n",
    "z = np.dot(X,W) + b\n",
    "\n",
    "# ReLU(활성화 함수)\n",
    "result = np.maximum(0,z)\n",
    "print(result)"
   ]
  },
  {
   "cell_type": "markdown",
   "metadata": {},
   "source": [
    "# 다층 퍼셉트론\n"
   ]
  },
  {
   "cell_type": "code",
   "execution_count": 5,
   "metadata": {},
   "outputs": [
    {
     "name": "stdout",
     "output_type": "stream",
     "text": [
      "[[1.36519464e-01 4.70508089e-01 1.01287300e-02 3.82843716e-01]\n",
      " [7.25916418e-06 9.97936733e-01 4.14770928e-04 1.64123733e-03]\n",
      " [2.43291503e-05 9.93702725e-01 1.10039320e-03 5.17255220e-03]\n",
      " [2.23833690e-05 9.85264143e-01 1.34041300e-03 1.33730603e-02]\n",
      " [3.66470886e-06 9.92790152e-01 6.22324441e-04 6.58385845e-03]\n",
      " [1.79808861e-05 9.74283150e-01 6.55567014e-04 2.50433016e-02]]\n"
     ]
    }
   ],
   "source": [
    "X = np.random.randn(6,10)\n",
    "\n",
    "# 은닉층 : 10개의 입력 -> 8개의 뉴런\n",
    "W1 = np.random.randn(10,8)\n",
    "b1 = np.random.randn(1,8)\n",
    "\n",
    "# 출력층 : 8개의 입력 -> 4개의 클래스\n",
    "W2 = np.random.randn(8,4)\n",
    "b2 = np.random.randn(1,4)\n",
    "\n",
    "#은닉층 계산 (선형 계산 + tanh 활성화 함수)\n",
    "z1 = np.tanh(np.dot(X,W1)) + b1\n",
    "\n",
    "# 출력층 계산 (선형 계산 + softmax 활성화 함수)\n",
    "z2 = np.dot(z1, W2) + b2\n",
    "exp_z = np.exp(z2 - np.max(z2, axis=1, keepdims=True))\n",
    "result = exp_z/np.sum(exp_z, axis=1, keepdims=True)\n",
    "print(result)\n"
   ]
  },
  {
   "cell_type": "markdown",
   "metadata": {},
   "source": [
    "# 이미지 데이터 예시\n"
   ]
  },
  {
   "cell_type": "code",
   "execution_count": 9,
   "metadata": {},
   "outputs": [
    {
     "data": {
      "image/png": "[encoded data removed]",
      "text/plain": [
       "<Figure size 640x480 with 3 Axes>"
      ]
     },
     "metadata": {},
     "output_type": "display_data"
    }
   ],
   "source": [
    "import matplotlib.pyplot as plt\n",
    "\n",
    "batch_size = 5\n",
    "channels = 3\n",
    "height = 32\n",
    "width = 32\n",
    "\n",
    "# PyTorch 프레임워크에서는 이미지 데이터를 (채널, 높이, 너비)순서로 저장\n",
    "# matplotlib.pyplot.imshow()는 (높이,너비,채널) 순서로 기대\n",
    "# 따라서 transpose()를 이용해 축의 순서를 재배열 \n",
    "images = np.random.rand(batch_size,channels,height,width)\n",
    "\n",
    "bright_images = np.clip(images + 0.2,0,1) \n",
    "\n",
    "graty_images = np.mean(images, axis=1)\n",
    "\n",
    "images_for_display = images[0].transpose(1,2,0)\n",
    "bright_images_display = bright_images[0].transpose(1,2,0)\n",
    "\n",
    "plt.subplot(1,3,1)\n",
    "plt.imshow(images_for_display)\n",
    "plt.axis('off')\n",
    "\n",
    "plt.subplot(1,3,2)\n",
    "plt.imshow(bright_images_display)\n",
    "plt.axis('off')\n",
    "\n",
    "plt.subplot(1,3,3)\n",
    "plt.imshow(graty_images[0], cmap='gray')\n",
    "plt.axis('off')\n",
    "\n",
    "plt.show()"
   ]
  }
 ],
 "metadata": {
  "kernelspec": {
   "display_name": "pystudy_env",
   "language": "python",
   "name": "python3"
  },
  "language_info": {
   "codemirror_mode": {
    "name": "ipython",
    "version": 3
   },
   "file_extension": ".py",
   "mimetype": "text/x-python",
   "name": "python",
   "nbconvert_exporter": "python",
   "pygments_lexer": "ipython3",
   "version": "3.12.8"
  }
 },
 "nbformat": 4,
 "nbformat_minor": 2
}
