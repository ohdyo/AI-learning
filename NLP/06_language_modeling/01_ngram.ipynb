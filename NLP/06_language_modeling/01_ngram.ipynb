{
 "cells": [
  {
   "cell_type": "markdown",
   "metadata": {},
   "source": [
    "# n-gram 언어 모델링"
   ]
  },
  {
   "cell_type": "code",
   "execution_count": 1,
   "metadata": {},
   "outputs": [],
   "source": [
    "import nltk\n",
    "from nltk.util import ngrams\n",
    "from collections import Counter"
   ]
  },
  {
   "cell_type": "code",
   "execution_count": 4,
   "metadata": {},
   "outputs": [
    {
     "name": "stdout",
     "output_type": "stream",
     "text": [
      "P(날씨가|오늘은) = 0.250\n",
      "P(좋다|날씨가) = 1.000\n",
      "P(.|좋다) = 1.000\n",
      "P(오늘은|.) = 0.750\n",
      "P(기분이|오늘은) = 0.250\n",
      "P(좋다|기분이) = 1.000\n",
      "P(일이|오늘은) = 0.250\n",
      "P(많다|일이) = 1.000\n",
      "P(.|많다) = 1.000\n",
      "P(사람이|오늘은) = 0.250\n",
      "P(많다|사람이) = 1.000\n"
     ]
    }
   ],
   "source": [
    "text = \"오늘은 날씨가 좋다. 오늘은 기분이 좋다. 오늘은 일이 많다. 오늘은 사람이 많다.\"\n",
    "\n",
    "tokens = nltk.word_tokenize(text)\n",
    "\n",
    "# 1-gram, 2-gram 생성 -> 빈도수 계산\n",
    "unigrams = tokens\n",
    "bigrams = list(ngrams(tokens,2))\n",
    "\n",
    "unigram_freq = Counter(unigrams)\n",
    "bigrams_freq = Counter(bigrams)\n",
    "\n",
    "# 조건부 확률 계산\n",
    "for (w1,w2), freq in bigrams_freq.items():\n",
    "    prob = freq / unigram_freq[w1]\n",
    "    print(f'P({w2}|{w1}) = {prob:.3f}')\n"
   ]
  },
  {
   "cell_type": "markdown",
   "metadata": {},
   "source": [
    "### Perplexity 계산"
   ]
  },
  {
   "cell_type": "code",
   "execution_count": 6,
   "metadata": {},
   "outputs": [],
   "source": [
    "import math\n",
    "\n",
    "def compute_bigram_perplexity(test_text, unigram_freq, bigrams_freq):\n",
    "    test_tokens = nltk.word_tokenize(test_text)\n",
    "    test_bigrams = list(ngrams(test_tokens,2))\n",
    "    \n",
    "    log_prob_sum = 0\n",
    "    N = len(test_bigrams)\n",
    "\n",
    "    for bigram in test_bigrams:\n",
    "        w1, w2 = bigram\n",
    "        prob = bigrams.get(bigram, 0) / unigram_freq.get(w1,1)\n",
    "        if prob == 0:\n",
    "            prob = 1e-10\n",
    "        log_prob_sum += math.log2(prob)\n",
    "\n",
    "    cross_entropy = -log_prob_sum / N\n",
    "    perplexity = math.pow(2, cross_entropy)\n",
    "    return perplexity"
   ]
  },
  {
   "cell_type": "code",
   "execution_count": 7,
   "metadata": {},
   "outputs": [],
   "source": [
    "train_text = \"자연어 처리는 재미있다. 자연어 처리는 어렵지만 도전하고 싶다. 오늘은 날씨가 좋다.\"\n",
    "train_tokens = nltk.word_tokenize(train_text)\n",
    "unigrams = train_tokens\n",
    "bigrams = list(ngrams(train_tokens,2))\n",
    "unigram_freq = Counter(unigrams)\n",
    "bigrams_freq = Counter(bigrams)"
   ]
  },
  {
   "cell_type": "code",
   "execution_count": 8,
   "metadata": {},
   "outputs": [
    {
     "ename": "AttributeError",
     "evalue": "'list' object has no attribute 'get'",
     "output_type": "error",
     "traceback": [
      "\u001b[1;31m---------------------------------------------------------------------------\u001b[0m",
      "\u001b[1;31mAttributeError\u001b[0m                            Traceback (most recent call last)",
      "Cell \u001b[1;32mIn[8], line 11\u001b[0m\n\u001b[0;32m      1\u001b[0m test_sentences \u001b[38;5;241m=\u001b[39m [\n\u001b[0;32m      2\u001b[0m     \u001b[38;5;124m'\u001b[39m\u001b[38;5;124m자연어 처리는 재미있다\u001b[39m\u001b[38;5;124m'\u001b[39m,\n\u001b[0;32m      3\u001b[0m     \u001b[38;5;124m'\u001b[39m\u001b[38;5;124m자연어 처리는 어렵지만 도전하고 싶다\u001b[39m\u001b[38;5;124m'\u001b[39m,\n\u001b[1;32m   (...)\u001b[0m\n\u001b[0;32m      7\u001b[0m     \u001b[38;5;124m'\u001b[39m\u001b[38;5;124m오늘 날씨가 흐리다\u001b[39m\u001b[38;5;124m'\u001b[39m\n\u001b[0;32m      8\u001b[0m ]\n\u001b[0;32m     10\u001b[0m \u001b[38;5;28;01mfor\u001b[39;00m sentence \u001b[38;5;129;01min\u001b[39;00m test_sentences:\n\u001b[1;32m---> 11\u001b[0m     pp \u001b[38;5;241m=\u001b[39m \u001b[43mcompute_bigram_perplexity\u001b[49m\u001b[43m(\u001b[49m\u001b[43msentence\u001b[49m\u001b[43m,\u001b[49m\u001b[43m \u001b[49m\u001b[43munigram_freq\u001b[49m\u001b[43m,\u001b[49m\u001b[43m \u001b[49m\u001b[43mbigrams_freq\u001b[49m\u001b[43m)\u001b[49m\n\u001b[0;32m     12\u001b[0m     \u001b[38;5;28mprint\u001b[39m(\u001b[38;5;124mf\u001b[39m\u001b[38;5;124m'\u001b[39m\u001b[38;5;124m문장: \u001b[39m\u001b[38;5;132;01m{\u001b[39;00msentence\u001b[38;5;132;01m}\u001b[39;00m\u001b[38;5;124m | perplexity: \u001b[39m\u001b[38;5;132;01m{\u001b[39;00mpp\u001b[38;5;132;01m:\u001b[39;00m\u001b[38;5;124m.4f\u001b[39m\u001b[38;5;132;01m}\u001b[39;00m\u001b[38;5;124m'\u001b[39m)\n",
      "Cell \u001b[1;32mIn[6], line 12\u001b[0m, in \u001b[0;36mcompute_bigram_perplexity\u001b[1;34m(test_text, unigram_freq, bigrams_freq)\u001b[0m\n\u001b[0;32m     10\u001b[0m \u001b[38;5;28;01mfor\u001b[39;00m bigram \u001b[38;5;129;01min\u001b[39;00m test_bigrams:\n\u001b[0;32m     11\u001b[0m     w1, w2 \u001b[38;5;241m=\u001b[39m bigram\n\u001b[1;32m---> 12\u001b[0m     prob \u001b[38;5;241m=\u001b[39m \u001b[43mbigrams\u001b[49m\u001b[38;5;241;43m.\u001b[39;49m\u001b[43mget\u001b[49m(bigram, \u001b[38;5;241m0\u001b[39m) \u001b[38;5;241m/\u001b[39m unigram_freq\u001b[38;5;241m.\u001b[39mget(w1,\u001b[38;5;241m1\u001b[39m)\n\u001b[0;32m     13\u001b[0m     \u001b[38;5;28;01mif\u001b[39;00m prob \u001b[38;5;241m==\u001b[39m \u001b[38;5;241m0\u001b[39m:\n\u001b[0;32m     14\u001b[0m         prob \u001b[38;5;241m=\u001b[39m \u001b[38;5;241m1e-10\u001b[39m\n",
      "\u001b[1;31mAttributeError\u001b[0m: 'list' object has no attribute 'get'"
     ]
    }
   ],
   "source": [
    "test_sentences = [\n",
    "    '자연어 처리는 재미있다',\n",
    "    '자연어 처리는 어렵지만 도전하고 싶다',\n",
    "    '오늘은 라씨가 좋다',\n",
    "    '기계 번역은 어렵다',\n",
    "    '자연어 처리에 도전하고 싶다.',\n",
    "    '오늘 날씨가 흐리다'\n",
    "]\n",
    "\n",
    "for sentence in test_sentences:\n",
    "    pp = compute_bigram_perplexity(sentence, unigram_freq, bigrams_freq)\n",
    "    print(f'문장: {sentence} | perplexity: {pp:.4f}')\n",
    "    "
   ]
  }
 ],
 "metadata": {
  "kernelspec": {
   "display_name": "pystudy_env",
   "language": "python",
   "name": "python3"
  },
  "language_info": {
   "codemirror_mode": {
    "name": "ipython",
    "version": 3
   },
   "file_extension": ".py",
   "mimetype": "text/x-python",
   "name": "python",
   "nbconvert_exporter": "python",
   "pygments_lexer": "ipython3",
   "version": "3.12.8"
  }
 },
 "nbformat": 4,
 "nbformat_minor": 2
}
