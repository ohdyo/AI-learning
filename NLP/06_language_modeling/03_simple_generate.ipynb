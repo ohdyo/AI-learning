{
 "cells": [
  {
   "cell_type": "markdown",
   "metadata": {},
   "source": [
    "# ngram 기반의 간단한 텍스트 생성기"
   ]
  },
  {
   "cell_type": "code",
   "execution_count": 2,
   "metadata": {},
   "outputs": [],
   "source": [
    "import nltk\n",
    "from nltk.util import ngrams\n",
    "from collections import Counter\n",
    "import random"
   ]
  },
  {
   "cell_type": "code",
   "execution_count": 4,
   "metadata": {},
   "outputs": [],
   "source": [
    "def generate_text_bigram(seed, unigram_freq, bigram_freq, max_len=10):\n",
    "    current_word = seed # 함수에 넘길 첫 단어\n",
    "    generated = [current_word]\n",
    "    \n",
    "    for _ in range(max_len -1):\n",
    "        # candidates : current_word 다음에 올 수 있는 후보들을 담은 리스트\n",
    "        candidates = [(bigram,freq) for bigram,freq in bigram_freq.items() if bigram[0] == current_word]\n",
    "        \n",
    "        if not candidates:\n",
    "            break\n",
    "        \n",
    "        # 후보들의 두번째 단어와 그 빈도수를 각각 words, freqs 리스트에 담음\n",
    "        words, freqs = zip(*[(bigram[1],freq) for bigram,freq in candidates])\n",
    "        total = sum(freqs)\n",
    "        probs = [f / total for f in freqs]\n",
    "\n",
    "        # 다음 단어를 랜덤하게 선택, weights는 각 단어의 확률로 가중치 조정\n",
    "        next_word = random.choices(words, weights=probs)[0]\n",
    "        generated.append(next_word)\n",
    "        current_word = next_word\n",
    "\n",
    "    return ' '.join(generated)  # 토큰이 10개인 하나의 문자열로 반환\n"
   ]
  },
  {
   "cell_type": "code",
   "execution_count": 5,
   "metadata": {},
   "outputs": [],
   "source": [
    "train_text = \"자연어 처리는 재미있다. 자연어 처리는 어렵지만 도전하고 싶다. 오늘은 날씨가 좋다.\"\n",
    "train_tokens = nltk.word_tokenize(train_text)\n",
    "unigrams = train_tokens\n",
    "bigrams = list(ngrams(train_tokens,2))\n",
    "unigram_freq = Counter(unigrams)\n",
    "bigrams_freq = Counter(bigrams)"
   ]
  },
  {
   "cell_type": "code",
   "execution_count": 11,
   "metadata": {},
   "outputs": [
    {
     "data": {
      "text/plain": [
       "'자연어 처리는 재미있다 . 자연어'"
      ]
     },
     "execution_count": 11,
     "metadata": {},
     "output_type": "execute_result"
    }
   ],
   "source": [
    "generate_text_bigram('자연어', unigram_freq, bigrams_freq, max_len=5)"
   ]
  }
 ],
 "metadata": {
  "kernelspec": {
   "display_name": "pystudy_env",
   "language": "python",
   "name": "python3"
  },
  "language_info": {
   "codemirror_mode": {
    "name": "ipython",
    "version": 3
   },
   "file_extension": ".py",
   "mimetype": "text/x-python",
   "name": "python",
   "nbconvert_exporter": "python",
   "pygments_lexer": "ipython3",
   "version": "3.12.8"
  }
 },
 "nbformat": 4,
 "nbformat_minor": 2
}
