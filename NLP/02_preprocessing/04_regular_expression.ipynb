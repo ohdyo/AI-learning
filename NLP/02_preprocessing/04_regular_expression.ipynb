{
 "cells": [
  {
   "cell_type": "markdown",
   "metadata": {},
   "source": [
    "# 정규표현식 (Regular Expression)\n",
    "\n",
    "- 특정한 규칙을 가진 문자열을 찾기 위한 패턴\n",
    "- 정규 표현식을 사용하면 대량의 텍스트 데이터에서 특정 패턴을 효율적으로 추출, 삭제, 대체 가능"
   ]
  },
  {
   "cell_type": "code",
   "execution_count": 1,
   "metadata": {},
   "outputs": [],
   "source": [
    "import re"
   ]
  },
  {
   "cell_type": "markdown",
   "metadata": {},
   "source": [
    "# Syntax\n",
    "\n",
    "### 임의의 한 글자 .\n",
    "- 임의의 한글자가 이니셜의 위치에 들어가기만 하면 된다.\n",
    "\n"
   ]
  },
  {
   "cell_type": "code",
   "execution_count": null,
   "metadata": {},
   "outputs": [
    {
     "name": "stdout",
     "output_type": "stream",
     "text": [
      "<re.Match object; span=(0, 3), match='abc'>\n",
      "['abc']\n",
      "None\n",
      "<re.Match object; span=(0, 3), match='aXc'>\n",
      "<re.Match object; span=(0, 3), match='a c'>\n",
      "None\n",
      "None\n"
     ]
    }
   ],
   "source": [
    "reg_exp = re.compile('a.c')\n",
    "\n",
    "print(reg_exp.search('abc'))\n",
    "print(reg_exp.search('basdfasbdfabcsfwerwqera'))\n",
    "print(reg_exp.search('abbbbbbbbbbc'))\n",
    "print(reg_exp.search('aXc'))\n",
    "print(reg_exp.search('a c'))\n",
    "print(reg_exp.search('ac'))\n",
    "print(reg_exp.search('bc'))"
   ]
  },
  {
   "cell_type": "markdown",
   "metadata": {},
   "source": [
    "\n",
    "### 수량자 * : 0개 이상\n",
    "- 해당 이니셜의 앞에 문자가 0개 이상이어야 한다."
   ]
  },
  {
   "cell_type": "code",
   "execution_count": null,
   "metadata": {},
   "outputs": [
    {
     "name": "stdout",
     "output_type": "stream",
     "text": [
      "<re.Match object; span=(0, 2), match='ac'>\n",
      "None\n",
      "<re.Match object; span=(0, 7), match='abbbbbc'>\n"
     ]
    }
   ],
   "source": [
    "reg_exp = re.compile('ab*c')\n",
    "# a로 시작 + b가 0개 이상 + c로 끝나는 문자열\n",
    "\n",
    "print(reg_exp.search('ac'))\n",
    "print(reg_exp.search('ab'))\n",
    "print(reg_exp.search('abbbbbc'))"
   ]
  },
  {
   "cell_type": "markdown",
   "metadata": {},
   "source": [
    "\n",
    "### 수량자 ? : 0 또는 1개\n",
    "- 이니셜이 위치한 앞의 문자가 0개 또는 1개 이상"
   ]
  },
  {
   "cell_type": "code",
   "execution_count": 7,
   "metadata": {},
   "outputs": [
    {
     "name": "stdout",
     "output_type": "stream",
     "text": [
      "<re.Match object; span=(0, 2), match='ac'>\n",
      "<re.Match object; span=(0, 3), match='abc'>\n",
      "None\n",
      "None\n",
      "None\n"
     ]
    }
   ],
   "source": [
    "reg_exp = re.compile('ab?c')\n",
    "\n",
    "print(reg_exp.search('ac'))\n",
    "print(reg_exp.search('abc'))\n",
    "print(reg_exp.search('abbc'))\n",
    "print(reg_exp.search('adc'))\n",
    "print(reg_exp.search('abbbbbbbbbbc'))"
   ]
  },
  {
   "cell_type": "markdown",
   "metadata": {},
   "source": [
    "\n",
    "### 수량자 + : 1개 이상\n",
    "- 이니셜이 위치한 앞의 문자가 1개 이상이어야한다.\n",
    "- 1개 이상이면 전부 담아서 반환한다."
   ]
  },
  {
   "cell_type": "code",
   "execution_count": null,
   "metadata": {},
   "outputs": [
    {
     "name": "stdout",
     "output_type": "stream",
     "text": [
      "None\n",
      "<re.Match object; span=(0, 3), match='abc'>\n",
      "<re.Match object; span=(0, 4), match='abbc'>\n",
      "None\n",
      "<re.Match object; span=(0, 12), match='abbbbbbbbbbc'>\n"
     ]
    }
   ],
   "source": [
    "reg_exp = re.compile('ab+c')\n",
    "# a로 시작 + + c로 끝\n",
    "\n",
    "print(reg_exp.search('ac'))\n",
    "print(reg_exp.search('abc'))\n",
    "print(reg_exp.search('abbc'))\n",
    "print(reg_exp.search('adc'))\n",
    "print(reg_exp.search('abbbbbbbbbbc'))"
   ]
  },
  {
   "cell_type": "markdown",
   "metadata": {},
   "source": [
    "\n",
    "### 수량자 {n}\n",
    "- 이니셜이 위치한 앞의 문자가 n개만큼 있어야 한다."
   ]
  },
  {
   "cell_type": "code",
   "execution_count": 9,
   "metadata": {},
   "outputs": [
    {
     "name": "stdout",
     "output_type": "stream",
     "text": [
      "None\n",
      "None\n",
      "None\n",
      "<re.Match object; span=(0, 5), match='abbbc'>\n",
      "None\n",
      "None\n"
     ]
    }
   ],
   "source": [
    "reg_exp = re.compile('ab{3}c')\n",
    "\n",
    "print(reg_exp.search('ac'))\n",
    "print(reg_exp.search('abc'))\n",
    "print(reg_exp.search('abbc'))\n",
    "print(reg_exp.search('abbbc'))\n",
    "print(reg_exp.search('abbbbc'))\n",
    "print(reg_exp.search('abbbbbc'))"
   ]
  },
  {
   "cell_type": "markdown",
   "metadata": {},
   "source": [
    "### 수량자 {min,max}`\n",
    "- 이니셜이 위치한 앞의 문자가 min개 이상 max개 이하인 경우가 있어야 한다."
   ]
  },
  {
   "cell_type": "code",
   "execution_count": 10,
   "metadata": {},
   "outputs": [
    {
     "name": "stdout",
     "output_type": "stream",
     "text": [
      "None\n",
      "<re.Match object; span=(0, 3), match='abc'>\n",
      "<re.Match object; span=(0, 4), match='abbc'>\n",
      "<re.Match object; span=(0, 5), match='abbbc'>\n",
      "None\n",
      "None\n"
     ]
    }
   ],
   "source": [
    "reg_exp = re.compile('ab{1,3}c')\n",
    "\n",
    "print(reg_exp.search('ac'))\n",
    "print(reg_exp.search('abc'))\n",
    "print(reg_exp.search('abbc'))\n",
    "print(reg_exp.search('abbbc'))\n",
    "print(reg_exp.search('abbbbc'))\n",
    "print(reg_exp.search('abbbbbc'))"
   ]
  },
  {
   "cell_type": "markdown",
   "metadata": {},
   "source": [
    "---\n",
    "\n",
    "### 문자열 끝까지 서치하는 방법"
   ]
  },
  {
   "cell_type": "code",
   "execution_count": null,
   "metadata": {},
   "outputs": [
    {
     "name": "stdout",
     "output_type": "stream",
     "text": [
      "<re.Match object; span=(10, 13), match='abc'>\n",
      "<re.Match object; span=(22, 25), match='abc'>\n"
     ]
    }
   ],
   "source": [
    "reg_exp = re.compile('a.c')\n",
    "\n",
    "text = \"basdfasbdfabcsfwerwqerabc\"\n",
    "\n",
    "reg_exp.search(text)\n",
    "\n",
    "# 문자열에서 원하는 부분을 찾아내는 방법\n",
    "# finditer() 함수를 사용하면 정규식과 매치되는 모든 문자열(substring)을 iterator 객체로 리턴\n",
    "for temp in re.finditer(reg_exp, text):\n",
    "    print(temp)\n"
   ]
  },
  {
   "cell_type": "markdown",
   "metadata": {},
   "source": [
    "### 문자 매칭 []\n",
    "- [] 안에 있는 문자중 하나라도 존재하면 그걸 반환하고 멈춘다."
   ]
  },
  {
   "cell_type": "code",
   "execution_count": null,
   "metadata": {},
   "outputs": [
    {
     "name": "stdout",
     "output_type": "stream",
     "text": [
      "<re.Match object; span=(7, 8), match='a'>\n",
      "<re.Match object; span=(7, 8), match='c'>\n",
      "<re.Match object; span=(7, 8), match='A'>\n"
     ]
    }
   ],
   "source": [
    "reg_exp = re.compile('[abc]', re.IGNORECASE) \n",
    "# re.IGNORECASE 옵션을 사용하면 대소문자를 구분하지 않음\n",
    "\n",
    "print(reg_exp.search('안녕하세요, abc입니다!')) # 먼저 매치되는 문자 a를 찾아서 반환\n",
    "print(reg_exp.search('안녕하세요, cba입니다!')) # 먼저 매치되는 문자 c를 찾아서 반환\n",
    "print(reg_exp.search('안녕하세요, ABC입니다!')) # 먼저 매치되는 문자 A를 찾아서 반환"
   ]
  },
  {
   "cell_type": "code",
   "execution_count": 21,
   "metadata": {},
   "outputs": [
    {
     "name": "stdout",
     "output_type": "stream",
     "text": [
      "<re.Match object; span=(0, 1), match='3'>\n"
     ]
    }
   ],
   "source": [
    "reg_exp = re.compile('[a-zA-Z0-9]')\n",
    "# 대소문자 모두 매치되는 정규식\n",
    "\n",
    "print(reg_exp.search('300살 X씨, 안녕하세요 x!'))"
   ]
  },
  {
   "cell_type": "markdown",
   "metadata": {},
   "source": [
    "### 시작하는 문자열 ^\n",
    "- 문자열이 반드시 이니셜뒤의 문자로 시작하는지 판단하고 반환"
   ]
  },
  {
   "cell_type": "code",
   "execution_count": 38,
   "metadata": {},
   "outputs": [
    {
     "name": "stdout",
     "output_type": "stream",
     "text": [
      "<re.Match object; span=(0, 3), match='who'>\n",
      "['who', 'who']\n",
      "['who']\n"
     ]
    }
   ],
   "source": [
    "reg_exp = re.compile('^who')\n",
    "print(reg_exp.search('who is who'))\n",
    "\n",
    "print(re.findall('who', 'who is who'))\n",
    "print(re.findall('^who', 'who is who'))"
   ]
  },
  {
   "cell_type": "markdown",
   "metadata": {},
   "source": [
    "### re 모듈 함수 & re 객체 메소드"
   ]
  },
  {
   "cell_type": "markdown",
   "metadata": {},
   "source": [
    "### search() : 문자열 패턴 검사\n",
    "- 해당 하는 문자열이 있는지 판단하고 있으면 그 뒤는 무시하고 반환"
   ]
  },
  {
   "cell_type": "code",
   "execution_count": 39,
   "metadata": {},
   "outputs": [
    {
     "name": "stdout",
     "output_type": "stream",
     "text": [
      "<re.Match object; span=(0, 2), match='ab'>\n",
      "None\n",
      "<re.Match object; span=(3, 5), match='ab'>\n"
     ]
    }
   ],
   "source": [
    "reg_exp = re.compile('ab')\n",
    "\n",
    "print(reg_exp.search('abc'))\n",
    "print(reg_exp.search('123'))\n",
    "print(reg_exp.search('123abc'))"
   ]
  },
  {
   "cell_type": "markdown",
   "metadata": {},
   "source": [
    "### 메소드 match(): 시작하는 문자열 패턴 검사\n",
    "- 문자열의 처음이 해당 패턴으로 시작하는지 같으면 반환"
   ]
  },
  {
   "cell_type": "code",
   "execution_count": null,
   "metadata": {},
   "outputs": [
    {
     "name": "stdout",
     "output_type": "stream",
     "text": [
      "<re.Match object; span=(0, 2), match='ab'>\n",
      "None\n",
      "None\n"
     ]
    }
   ],
   "source": [
    "reg_exp = re.compile('ab')\n",
    "\n",
    "# match() 함수는 문자열의 처음부터 정규식과 매치되는지 조사\n",
    "print(reg_exp.match('abc'))\n",
    "print(reg_exp.match('123'))\n",
    "print(reg_exp.match('123abc'))"
   ]
  },
  {
   "cell_type": "markdown",
   "metadata": {},
   "source": [
    "### 함수 split(): 정규식 패턴으로 분할\n",
    "- 패턴에 담긴 문자를 없애고 문자열을 반환한다.\n",
    "- 공백은 앞의 문자열에 포함된다."
   ]
  },
  {
   "cell_type": "code",
   "execution_count": 42,
   "metadata": {},
   "outputs": [
    {
     "data": {
      "text/plain": [
       "['Apple ', 'anana ', 'range']"
      ]
     },
     "execution_count": 42,
     "metadata": {},
     "output_type": "execute_result"
    }
   ],
   "source": [
    "text = \"Apple Banana Orange\"\n",
    "\n",
    "split_text = re.split('[BO]', text)\n",
    "split_text\n"
   ]
  },
  {
   "cell_type": "markdown",
   "metadata": {},
   "source": [
    "### findall() : 매칭된 결과 모두 반환\n",
    "- 해당 패턴이 존재한다면 문자열 끝까지 보고 모두 반환\n"
   ]
  },
  {
   "cell_type": "code",
   "execution_count": 51,
   "metadata": {},
   "outputs": [
    {
     "data": {
      "text/plain": [
       "['010-1234-5678']"
      ]
     },
     "execution_count": 51,
     "metadata": {},
     "output_type": "execute_result"
    }
   ],
   "source": [
    "text = \"제 전화번호는 010-1234-5678,\"\n",
    "\n",
    "nums = re.findall('[0-9]+-[0-9]+-[0-9]+', text)\n",
    "nums"
   ]
  },
  {
   "cell_type": "markdown",
   "metadata": {},
   "source": [
    "### 함수 sub()\n",
    "- 전달해준 문자열에 매칭되는 문자열을 원하는 방식으로 바꿔준다."
   ]
  },
  {
   "cell_type": "code",
   "execution_count": null,
   "metadata": {},
   "outputs": [
    {
     "data": {
      "text/plain": [
       "'Hello everyone Welcome to NLP'"
      ]
     },
     "execution_count": 55,
     "metadata": {},
     "output_type": "execute_result"
    }
   ],
   "source": [
    "text = \"Hello, everyone! Welcome to NLP❤️❤️❤️❤️\"\n",
    "\n",
    "#[^] : ^ 뒤에 붙은 문자들을 제외한 모든 문자를 매치\n",
    "#[^a-zA-Z ] : 알파벳 대소문자와 공백을 제외한 모든 문자를 매치\n",
    "# '' : 공백으로 치환\n",
    "sub_text = re.sub('[^a-zA-Z ]', '', text)\n",
    "sub_text"
   ]
  },
  {
   "cell_type": "markdown",
   "metadata": {},
   "source": [
    "### 정규표현식 토큰화"
   ]
  },
  {
   "cell_type": "code",
   "execution_count": null,
   "metadata": {},
   "outputs": [
    {
     "data": {
      "text/plain": [
       "['He',\n",
       " 's',\n",
       " 'a',\n",
       " 'runner',\n",
       " 'but',\n",
       " 'not',\n",
       " 'a',\n",
       " 'long_distance',\n",
       " 'runner',\n",
       " 'His',\n",
       " 'number',\n",
       " 'is',\n",
       " '1234']"
      ]
     },
     "execution_count": 59,
     "metadata": {},
     "output_type": "execute_result"
    }
   ],
   "source": [
    "from nltk.tokenize import RegexpTokenizer\n",
    "txt = \"He's a runner, but not a long_distance runner. His number is 1234.\"\n",
    "\n",
    "\n",
    "# tokenizer = RegexpTokenizer('[a-zA-Z0-9_]+')\n",
    "tokenizer = RegexpTokenizer(r'\\w+')\n",
    "# \\w+ : 문자 또는 숫자, _ 허용\n",
    "tokens = tokenizer.tokenize(txt)\n",
    "tokens"
   ]
  }
 ],
 "metadata": {
  "kernelspec": {
   "display_name": "pystudy_env",
   "language": "python",
   "name": "python3"
  },
  "language_info": {
   "codemirror_mode": {
    "name": "ipython",
    "version": 3
   },
   "file_extension": ".py",
   "mimetype": "text/x-python",
   "name": "python",
   "nbconvert_exporter": "python",
   "pygments_lexer": "ipython3",
   "version": "3.12.8"
  }
 },
 "nbformat": 4,
 "nbformat_minor": 2
}
