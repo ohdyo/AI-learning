{
 "cells": [
  {
   "cell_type": "markdown",
   "metadata": {},
   "source": [
    "# Attention"
   ]
  },
  {
   "cell_type": "code",
   "execution_count": 2,
   "metadata": {},
   "outputs": [],
   "source": [
    "import torch\n",
    "import torch.nn as nn\n",
    "import torch.nn.functional as F\n"
   ]
  },
  {
   "cell_type": "markdown",
   "metadata": {},
   "source": [
    "### 어텐션 가중치 계산"
   ]
  },
  {
   "cell_type": "code",
   "execution_count": 3,
   "metadata": {},
   "outputs": [],
   "source": [
    "def attention(query, key, value):\n",
    "    # 1. 어텐션 스코어 계산(Query - Key)\n",
    "    scores = torch.matmul(query, key.transpose(-2,-1))\n",
    "    print('Attention Score shape : ', scores.shape)\n",
    "\n",
    "    # 2. Softmax 적용 (가중치 계산)\n",
    "    attention_weights = F.softmax(scores, dim=-1)\n",
    "    print('attention_weights shape : ', attention_weights.shape)\n",
    "\n",
    "    # 3. 어텐션 벨류 계산 (Value 적용 => 최종 Context Vector 계산)\n",
    "    context_vector = torch.matmul(attention_weights, value)\n",
    "    print('context_vector shape : ', context_vector.shape)\n",
    "    \n",
    "    return context_vector"
   ]
  },
  {
   "cell_type": "code",
   "execution_count": 4,
   "metadata": {},
   "outputs": [],
   "source": [
    "# 토큰화 및 임베딩 결과 예시\n",
    "vocab = {\n",
    "    '나는' : 0,\n",
    "    '학교에' : 1,\n",
    "    '간다' : 2,\n",
    "    '<pad>' : 3\n",
    "}\n",
    "vocab_size = len(vocab)\n",
    "EMBEDDING_DIM = 4"
   ]
  },
  {
   "cell_type": "code",
   "execution_count": 5,
   "metadata": {},
   "outputs": [],
   "source": [
    "# 입력 문장\n",
    "inputs = ['나는', '학교에', '간다']\n",
    "inputs_ids = torch.tensor([[vocab[word] for word in inputs]])   # (1,3)"
   ]
  },
  {
   "cell_type": "code",
   "execution_count": 6,
   "metadata": {},
   "outputs": [
    {
     "name": "stdout",
     "output_type": "stream",
     "text": [
      "torch.Size([1, 3, 4]) torch.Size([1, 3, 4]) torch.Size([1, 3, 4])\n"
     ]
    }
   ],
   "source": [
    "# 1. 임베딩\n",
    "embedding_layer = nn.Embedding(vocab_size, EMBEDDING_DIM)\n",
    "inputs_embeded = embedding_layer(inputs_ids)\n",
    "# print(inputs_embeded.shape)\n",
    "\n",
    "\n",
    "# 2. 선형 변환 -> Query, Key, Value\n",
    "HIDDEN_DIM = 4\n",
    "W_query = nn.Linear(EMBEDDING_DIM, HIDDEN_DIM)\n",
    "W_key = nn.Linear(EMBEDDING_DIM, HIDDEN_DIM)\n",
    "W_value = nn.Linear(EMBEDDING_DIM, HIDDEN_DIM)\n",
    "\n",
    "input_query = W_query(inputs_embeded)\n",
    "input_key = W_key(inputs_embeded)\n",
    "input_value = W_value(inputs_embeded)\n",
    "\n",
    "print(input_query.shape, input_key.shape, input_value.shape)\n"
   ]
  },
  {
   "cell_type": "code",
   "execution_count": 7,
   "metadata": {},
   "outputs": [
    {
     "name": "stdout",
     "output_type": "stream",
     "text": [
      "Attention Score shape :  torch.Size([1, 3, 3])\n",
      "attention_weights shape :  torch.Size([1, 3, 3])\n",
      "context_vector shape :  torch.Size([1, 3, 4])\n"
     ]
    },
    {
     "data": {
      "text/plain": [
       "tensor([[[-0.4006,  0.3373,  0.1517,  0.5974],\n",
       "         [-0.3587,  0.3901,  0.2104,  0.5476],\n",
       "         [-0.4059,  0.3132,  0.1366,  0.6119]]], grad_fn=<UnsafeViewBackward0>)"
      ]
     },
     "execution_count": 7,
     "metadata": {},
     "output_type": "execute_result"
    }
   ],
   "source": [
    "context_vector = attention(input_query, input_key, input_value)\n",
    "context_vector"
   ]
  },
  {
   "cell_type": "markdown",
   "metadata": {},
   "source": [
    "### Seq2Seq 모델에 어텐션 추가"
   ]
  },
  {
   "cell_type": "code",
   "execution_count": 8,
   "metadata": {},
   "outputs": [],
   "source": [
    "class Attention(nn.Module):\n",
    "    def __init__(self, hidden_size):    # 히든 사이즈는 은닉 사이즈\n",
    "        super(Attention, self).__init__()\n",
    "        self.attn = nn.Linear(hidden_size * 2, hidden_size)     # 쿼리와 키 벡터를 반환 하기 위해 *2를 실행\n",
    "        self.v = nn.Parameter(torch.rand(hidden_size))  # 어텐션 값들을 스칼라 값으로 변환하기 위한 작업 / 가중치를 의미 \n",
    "\n",
    "    def forward(self, hidden, encoder_outputs):\n",
    "        seq_len = encoder_outputs.shape[1]  # 첫번째 시퀀스를 넣어야 배치 사이즈만큼 크기만큼 받아올 수 있음\n",
    "        hidden_expanded = hidden.unsqueeze(1).repeat(1, seq_len, 1)     # 입력 시퀀스 만큼 복제를 해서 반환 / 디코더의 현재 STATE를 받아서 사용\n",
    "        energy = torch.tanh(self.attn(torch.cat((hidden_expanded, encoder_outputs), dim=2)))    # 현재의 상태와 현재의 출력(계산된 state)을 받아와서 사용 / 디코더의 현재 상태와 인코더의 출력을 연결하기 위함\n",
    "        attention_scores= torch.sum(self.v * energy, dim=2)     # 가중치에 현재 상태를 합채줘서 곱해줌 \n",
    "        attention_weights = F.softmax(attention_scores, dim=1)\n",
    "        context_vector = torch.bmm(attention_weights.unsqueeze(1), encoder_outputs).squeeze(1)\n",
    "        \n",
    "        return context_vector, attention_weights"
   ]
  },
  {
   "cell_type": "code",
   "execution_count": 9,
   "metadata": {},
   "outputs": [],
   "source": [
    "class Seq2SeqWithAttention(nn.Module):\n",
    "    def __init__(self, input_dim, hidden_dim, output_dim):\n",
    "        super(Seq2SeqWithAttention, self).__init__()\n",
    "        self.encoder = nn.GRU(input_dim, hidden_dim, batch_first=True)\n",
    "        self.decoder = nn.GRU(hidden_dim, hidden_dim, batch_first=True)\n",
    "        self.attention = Attention(hidden_dim)\n",
    "        self.fc = nn.Linear(hidden_dim *2, output_dim)\n",
    "        self.decoder_input_transform = nn.Linear(input_dim, hidden_dim)\n",
    "\n",
    "    def forward(self, encoder_input, decoder_input):\n",
    "        encoder_output, hidden = self.encoder(encoder_input)\n",
    "        context_vector, _ = self.attention(hidden[-1], encoder_output)\n",
    "        decoder_input = self.decoder_input_transform(decoder_input)\n",
    "        output, _ = self.decoder(decoder_input, hidden)\n",
    "        combined = torch.cat((output, context_vector.unsqueeze(1)), dim=2)\n",
    "        return self.fc(combined)"
   ]
  },
  {
   "cell_type": "code",
   "execution_count": 10,
   "metadata": {},
   "outputs": [
    {
     "name": "stdout",
     "output_type": "stream",
     "text": [
      "tensor([[[-0.1095,  0.0429,  0.1522,  0.1474,  0.0809, -0.1300, -0.1748,\n",
      "          -0.0850,  0.2255, -0.0280,  0.4096, -0.1512, -0.0450, -0.1638,\n",
      "          -0.1225]]], grad_fn=<ViewBackward0>)\n"
     ]
    }
   ],
   "source": [
    "batch_size = 1\n",
    "seq_len = 5\n",
    "input_dim = 10\n",
    "hidden_dim = 20\n",
    "output_dim = 15\n",
    "\n",
    "encoder_input = torch.randn(batch_size, seq_len, input_dim)\n",
    "decoder_input = torch.randn(batch_size, 1, input_dim)\n",
    "\n",
    "model = Seq2SeqWithAttention(input_dim=10, hidden_dim=20, output_dim=15)\n",
    "result = model(encoder_input,decoder_input)\n",
    "print(result)\n"
   ]
  }
 ],
 "metadata": {
  "kernelspec": {
   "display_name": "pystudy_env",
   "language": "python",
   "name": "python3"
  },
  "language_info": {
   "codemirror_mode": {
    "name": "ipython",
    "version": 3
   },
   "file_extension": ".py",
   "mimetype": "text/x-python",
   "name": "python",
   "nbconvert_exporter": "python",
   "pygments_lexer": "ipython3",
   "version": "3.12.9"
  }
 },
 "nbformat": 4,
 "nbformat_minor": 2
}
