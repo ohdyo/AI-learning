{
 "cells": [
  {
   "cell_type": "markdown",
   "metadata": {},
   "source": [
    "# Beam Search"
   ]
  },
  {
   "cell_type": "code",
   "execution_count": null,
   "metadata": {},
   "outputs": [],
   "source": [
    "import torch.nn.functional as F\n",
    "import torch\n",
    "\n",
    "def beam_search(decoder, hidden, context, beam_width=3, max_length=10):\n",
    "    \n",
    "    sequences = [[[], 1.0, hidden]]\n",
    "    \n",
    "\n",
    "    for _ in range(max_length):\n",
    "        all_candidates = []\n",
    "\n",
    "        for seq, score, hidden in sequences:\n",
    "            decoder_input = torch.tensor\n",
    "            output, hidden = decoder(decoder_input, hidden, context)\n",
    "            top_probs, top_indices = torch.topk(F.softmax(output, dim=1), beam_width)\n",
    "\n",
    "            for i in range(beam_width):\n",
    "                candidate = [seq + [top_indices[0][i].item()], score * top_probs[0][i].item(), hidden]\n",
    "                all_candidates.append(candidate)\n",
    "        \n",
    "        sequences = sorted(all_candidates, key=lambda x: x[1], reverse=True)[:beam_width]\n",
    "    \n",
    "    return sequences[0][0]"
   ]
  }
 ],
 "metadata": {
  "kernelspec": {
   "display_name": "pystudy_env",
   "language": "python",
   "name": "python3"
  },
  "language_info": {
   "codemirror_mode": {
    "name": "ipython",
    "version": 3
   },
   "file_extension": ".py",
   "mimetype": "text/x-python",
   "name": "python",
   "nbconvert_exporter": "python",
   "pygments_lexer": "ipython3",
   "version": "3.12.9"
  }
 },
 "nbformat": 4,
 "nbformat_minor": 2
}
