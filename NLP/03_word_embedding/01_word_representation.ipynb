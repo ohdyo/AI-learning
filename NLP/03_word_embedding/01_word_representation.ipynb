{
 "cells": [
  {
   "cell_type": "markdown",
   "metadata": {},
   "source": [
    "# 단어 표현 (Word Representation)\n",
    "\n",
    "### 문장 벡터화(Vectorization of Statement)\n",
    "\n",
    "- BOW (Bag of Words)\n",
    "    - DTM(TDM)\n",
    "    - TF-IDF (Term Frequency - Inverse Document Frequency)\n",
    "\n",
    "- Word Embedding(Keras word API 사용)\n"
   ]
  }
 ],
 "metadata": {
  "language_info": {
   "name": "python"
  }
 },
 "nbformat": 4,
 "nbformat_minor": 2
}
