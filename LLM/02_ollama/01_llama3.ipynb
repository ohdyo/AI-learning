{
 "cells": [
  {
   "cell_type": "markdown",
   "metadata": {},
   "source": [
    "# Ollama를 이용한 LLaMA3 모델 사용"
   ]
  },
  {
   "cell_type": "code",
   "execution_count": null,
   "metadata": {},
   "outputs": [],
   "source": [
    "!pip install ollama"
   ]
  },
  {
   "cell_type": "markdown",
   "metadata": {},
   "source": [
    "### 1. 간단한 질의"
   ]
  },
  {
   "cell_type": "code",
   "execution_count": 4,
   "metadata": {},
   "outputs": [
    {
     "data": {
      "text/plain": [
       "GenerateResponse(model='llama3', created_at='2025-03-06T02:05:25.0852446Z', done=True, done_reason='stop', total_duration=25773418600, load_duration=3152575100, prompt_eval_count=29, prompt_eval_duration=2003000000, eval_count=131, eval_duration=20614000000, response='안녕하세요! 😊\\n\\nAI(Artificial Intelligence)는 인간이 아닌 어떤 시스템이나 기계가 지적행위나 학습을 통해 인공적으로 지식을 얻는 것을 말합니다.\\n\\n한국어로 짧게 요약하면:\\n\\n* AI는 컴퓨터 프로그램으로, 사람과 같은 지능을 가질 수 있습니다.\\n* AI는 데이터를 분석하고 학습하여 새로운 지식을 얻습니다.\\n* AI의 목적은 인간의 삶을 편리하게 하거나 문제를 해결하는 것입니다.\\n\\n이러한 AI 기술은 다양한 분야에서 사용され며, 더 나은 생활을 제공합니다. 💻', context=[128006, 882, 128007, 271, 101193, 116024, 13, 15592, 18918, 104008, 32179, 17835, 49011, 100, 35495, 105131, 89881, 102893, 114942, 34983, 59269, 246, 13, 128009, 128006, 78191, 128007, 271, 101193, 124409, 0, 27623, 232, 271, 15836, 83584, 16895, 22107, 114484, 118623, 13094, 116548, 112700, 117022, 106593, 55216, 101015, 20565, 67890, 82068, 101066, 82001, 61415, 102533, 36630, 18359, 110155, 59777, 79225, 104182, 67890, 118156, 119215, 16969, 107387, 101264, 61938, 382, 112699, 32179, 17835, 49011, 100, 58901, 87097, 103168, 108302, 1473, 9, 15592, 16969, 118209, 126692, 113052, 43139, 11, 102745, 54780, 105718, 67890, 67119, 18359, 36609, 103194, 29833, 103924, 627, 9, 15592, 16969, 55348, 18918, 109862, 101360, 102533, 36630, 83290, 116453, 67890, 118156, 119215, 39331, 627, 9, 15592, 21028, 103504, 82068, 34804, 118623, 21028, 124883, 18359, 105613, 29102, 102893, 55000, 109745, 107651, 18918, 125347, 44005, 123263, 382, 13094, 61394, 24486, 15592, 113094, 34804, 118696, 127290, 57575, 41820, 84389, 101203, 11, 102519, 74618, 34804, 120376, 18359, 108273, 61938, 13, 64139, 119])"
      ]
     },
     "execution_count": 4,
     "metadata": {},
     "output_type": "execute_result"
    }
   ],
   "source": [
    "import ollama\n",
    "\n",
    "prompts = '안녕. AI를 한국어로 짧고 간결하게 설명해줘.'\n",
    "response = ollama.generate(model='llama3', prompt=prompts)\n",
    "response"
   ]
  },
  {
   "cell_type": "code",
   "execution_count": 5,
   "metadata": {},
   "outputs": [
    {
     "data": {
      "text/plain": [
       "'안녕하세요! 😊\\n\\nAI(Artificial Intelligence)는 인간이 아닌 어떤 시스템이나 기계가 지적행위나 학습을 통해 인공적으로 지식을 얻는 것을 말합니다.\\n\\n한국어로 짧게 요약하면:\\n\\n* AI는 컴퓨터 프로그램으로, 사람과 같은 지능을 가질 수 있습니다.\\n* AI는 데이터를 분석하고 학습하여 새로운 지식을 얻습니다.\\n* AI의 목적은 인간의 삶을 편리하게 하거나 문제를 해결하는 것입니다.\\n\\n이러한 AI 기술은 다양한 분야에서 사용され며, 더 나은 생활을 제공합니다. 💻'"
      ]
     },
     "execution_count": 5,
     "metadata": {},
     "output_type": "execute_result"
    }
   ],
   "source": [
    "response['response']"
   ]
  },
  {
   "cell_type": "markdown",
   "metadata": {},
   "source": [
    "### 2. 입력 프롬프트에 따른 출력 변화"
   ]
  },
  {
   "cell_type": "code",
   "execution_count": null,
   "metadata": {},
   "outputs": [],
   "source": [
    "def test_prompt_variations():\n",
    "    prompts= [\n",
    "        'Explain AI in simple terms',\n",
    "        'What is artificaial intelligence?',\n",
    "        'Can you describe how AI works?',\n",
    "        'Give me a short introduction to artificial intelligence.'\n",
    "    ]\n",
    "    \n",
    "    for prompt in prompts:\n",
    "        response = ollama.generate(model = 'llama3', prompt=prompt)\n",
    "        print('[',prompt,']')\n",
    "        print(response['response'])\n",
    "        print('='*100)\n",
    "\n",
    "test_prompt_variations()"
   ]
  },
  {
   "cell_type": "code",
   "execution_count": null,
   "metadata": {},
   "outputs": [],
   "source": []
  }
 ],
 "metadata": {
  "kernelspec": {
   "display_name": "ollama_env",
   "language": "python",
   "name": "python3"
  },
  "language_info": {
   "codemirror_mode": {
    "name": "ipython",
    "version": 3
   },
   "file_extension": ".py",
   "mimetype": "text/x-python",
   "name": "python",
   "nbconvert_exporter": "python",
   "pygments_lexer": "ipython3",
   "version": "3.12.9"
  }
 },
 "nbformat": 4,
 "nbformat_minor": 2
}
