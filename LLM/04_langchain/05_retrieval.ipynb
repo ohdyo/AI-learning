{
 "cells": [
  {
   "cell_type": "markdown",
   "metadata": {},
   "source": [
    "# Retrieval"
   ]
  },
  {
   "cell_type": "code",
   "execution_count": 19,
   "metadata": {},
   "outputs": [
    {
     "data": {
      "text/plain": [
       "True"
      ]
     },
     "execution_count": 19,
     "metadata": {},
     "output_type": "execute_result"
    }
   ],
   "source": [
    "from dotenv import load_dotenv\n",
    "load_dotenv()"
   ]
  },
  {
   "cell_type": "markdown",
   "metadata": {},
   "source": [
    "### Document Loader"
   ]
  },
  {
   "cell_type": "code",
   "execution_count": null,
   "metadata": {},
   "outputs": [],
   "source": [
    "from langchain_community.document_loaders import WebBaseLoader\n",
    "\n",
    "url = 'https://ko.wikipedia.org/wiki/%EC%9C%84%ED%82%A4%EB%B0%B1%EA%B3%BC:%EC%A0%95%EC%B1%85%EA%B3%BC_%EC%A7%80%EC%B9%A8'\n",
    "\n",
    "loader = WebBaseLoader(url)\n",
    "documents = loader.load()\n",
    "print(documents[0].metadata['title'])\n",
    "print(documents[0].page_content[:1000])\n"
   ]
  },
  {
   "cell_type": "code",
   "execution_count": null,
   "metadata": {},
   "outputs": [],
   "source": [
    "!pip install pypdf"
   ]
  },
  {
   "cell_type": "code",
   "execution_count": 17,
   "metadata": {},
   "outputs": [
    {
     "name": "stdout",
     "output_type": "stream",
     "text": [
      "35\n",
      "{'producer': '3-Heights(TM) PDF Optimization Shell 5.9.1.5 (http://www.pdf-tools.com)', 'creator': 'Acrobat PDFMaker 7.0 dla programu Word', 'creationdate': '2006-08-26T00:50:00+02:00', 'author': 'GOLDEN', 'company': 'c', 'title': 'Microsoft Word - 1', 'moddate': '2021-01-27T15:00:11+01:00', 'source': './data/The_Adventures_of_Tom_Sawyer.pdf', 'total_pages': 35, 'page': 0, 'page_label': '1'}\n",
      "==\n",
      "The Adventures of                 \n",
      "Tom Sawyer \n",
      " \n",
      "MARK TWAIN \n",
      "Level 1 \n",
      " \n",
      "Retold by Jacqueline Kehl                                                    \n",
      "Series Editors: Andy Hopkins and Jocelyn Potter\n"
     ]
    }
   ],
   "source": [
    "from langchain_community.document_loaders import PyPDFLoader\n",
    "\n",
    "loader = PyPDFLoader('./data/The_Adventures_of_Tom_Sawyer.pdf')\n",
    "documents = loader.load()   # 하나의 페이지를 하나의 document객체로 가져와 리스트로 반환\n",
    "print(len(documents))\n",
    "print(documents[0].metadata)\n",
    "print()\n",
    "print(documents)"
   ]
  },
  {
   "cell_type": "markdown",
   "metadata": {},
   "source": [
    "# Embedding Model"
   ]
  },
  {
   "cell_type": "code",
   "execution_count": 20,
   "metadata": {},
   "outputs": [
    {
     "name": "stdout",
     "output_type": "stream",
     "text": [
      "1536\n"
     ]
    }
   ],
   "source": [
    "from langchain_openai import OpenAIEmbeddings\n",
    "\n",
    "embedding_model = OpenAIEmbeddings(model='text-embedding-3-small')\n",
    "\n",
    "text='The quick brown fox jumps over the lazy dog.'\n",
    "\n",
    "vector = embedding_model.embed_query(text)\n",
    "print(len(vector))"
   ]
  },
  {
   "cell_type": "code",
   "execution_count": 21,
   "metadata": {},
   "outputs": [
    {
     "name": "stdout",
     "output_type": "stream",
     "text": [
      "35\n",
      "1536\n"
     ]
    }
   ],
   "source": [
    "docs = [document.page_content for document in documents]\n",
    "\n",
    "vects = embedding_model.embed_documents(docs)\n",
    "\n",
    "print(len(vects))\n",
    "print(len(vects[0]))\n"
   ]
  },
  {
   "cell_type": "markdown",
   "metadata": {},
   "source": [
    "### Vector Store"
   ]
  },
  {
   "cell_type": "code",
   "execution_count": 24,
   "metadata": {},
   "outputs": [],
   "source": [
    "from langchain.vectorstores import FAISS\n",
    "vector_score = FAISS.from_documents(documents,embedding_model)"
   ]
  },
  {
   "cell_type": "code",
   "execution_count": 25,
   "metadata": {},
   "outputs": [
    {
     "data": {
      "text/plain": [
       "[Document(id='bd7579bf-7c20-4f7f-a25f-d3f3d605d077', metadata={'producer': '3-Heights(TM) PDF Optimization Shell 5.9.1.5 (http://www.pdf-tools.com)', 'creator': 'Acrobat PDFMaker 7.0 dla programu Word', 'creationdate': '2006-08-26T00:50:00+02:00', 'author': 'GOLDEN', 'company': 'c', 'title': 'Microsoft Word - 1', 'moddate': '2021-01-27T15:00:11+01:00', 'source': './data/The_Adventures_of_Tom_Sawyer.pdf', 'total_pages': 35, 'page': 4, 'page_label': '5'}, page_content='Introduction \\n \\n \\nOne Saturday afternoon Tom wanted to have an adventure                    \\nbecause he didn’t want to think about Injun Joe. He went \\nto Huck and said, “I’m going to look for treasure. Do you \\nwant to come with me?” \\n \\nTom Sawyer loves adventures. He has a lot of adventures \\nat home, at school, and with his friends. He has one \\nadventure in a cave. But why is he there? What does he \\nsee in the cave? And why is he afraid? \\n \\nMark Twain (1835-1910) is a famous American writer. \\nHis name was Samuel Clemens. Young Samuel lived in \\nHannibal, Missouri, a small town on the Mississippi River. \\nHe loved the river and he liked watching the big boats                  \\non it. \\nSamuel loved adventures. He worked on boats on the \\nMississippi River for two years. Then he went to Nevada. \\nHe looked for treasure, but he didn’t find it. He worked for \\na newspaper there. His stories were in the name of Mark \\nTwain, and people loved them. \\nLater, Samuel lived in New York. His book The \\nAdventures of Tom Sawyer (1876) is about a young boy in \\na small town in the 1800s. Huck Finn is his friend. The \\nAdventures of Huckleberry Finn (1884) is about Huck’s \\nadventures. These two books are very famous. \\nToday, many people visit Hannibal because they want to \\nsee Mark Twain’s home and the Mark Twain Cave, the \\ncave in The Adventures of Tom Sawyer. \\n \\niii'),\n",
       " Document(id='54045802-2bbb-471e-86ab-d8589deae1b5', metadata={'producer': '3-Heights(TM) PDF Optimization Shell 5.9.1.5 (http://www.pdf-tools.com)', 'creator': 'Acrobat PDFMaker 7.0 dla programu Word', 'creationdate': '2006-08-26T00:50:00+02:00', 'author': 'GOLDEN', 'company': 'c', 'title': 'Microsoft Word - 1', 'moddate': '2021-01-27T15:00:11+01:00', 'source': './data/The_Adventures_of_Tom_Sawyer.pdf', 'total_pages': 35, 'page': 34, 'page_label': '35'}, page_content='Tom Sawyer loves adventures. He has them at home,                \\nat school, and with his friends—Huck Finn and Joe                \\nHarper. Tom has one adventure in a graveyard, and one                \\nin a cave.  Who does  he  see there,  and why is he afraid? \\nPenguin Readers are simplified texts designed in association with Longman, \\nthe world famous educational publi sher, to provide a step-by-step  \\napproach to this joys of reading for pleasure. Each book has an \\nintroduction and extensive activity material. They are published              \\nat   seven  levels  from  Easystarts  (200 words) to Advanced (3000 words). \\nSeries Editors: Andy Hopkins and Jocelyn Potter \\n \\n \\nwww.penguinreaders.com\\nCover photograph © Frank Hopkinson 2000'),\n",
       " Document(id='11987f53-fc94-460f-8172-3be11a747f36', metadata={'producer': '3-Heights(TM) PDF Optimization Shell 5.9.1.5 (http://www.pdf-tools.com)', 'creator': 'Acrobat PDFMaker 7.0 dla programu Word', 'creationdate': '2006-08-26T00:50:00+02:00', 'author': 'GOLDEN', 'company': 'c', 'title': 'Microsoft Word - 1', 'moddate': '2021-01-27T15:00:11+01:00', 'source': './data/The_Adventures_of_Tom_Sawyer.pdf', 'total_pages': 35, 'page': 8, 'page_label': '9'}, page_content='“I’m late because I talked to Huck Finn,” Tom said.              \\nThen the teacher was very angry. “Sit with the girls,” he \\nsaid to Tom. \\nTom sat near the beautiful new girl. He was happy. He \\nlooked at her. \\n“What’s your name?” he asked. \\n“Becky,” she answered. \\nTom smiled and said, “My name’s Tom.” \\nThe teacher was angry again. “Tom Sawyer, stop \\ntalking! Go to your place now,” he said. Tom went to his \\nplace. \\nAt twelve o’clock Tom and Becky didn’t go home. They \\nstayed in the school yard and talked. Tom said, “I love \\nyou. Do you love me?” \\n“Yes,” Becky answered. \\n“Good,” Tom said. “Then you’re going to walk to \\nschool with me every day. Amy always walked with me.” \\n“Amy!” Becky said angrily. “Do you love her?” \\n“No,” Tom answered. “I love you now. Do you want to \\nwalk with me?” \\nBut Becky was angry with Tom. She walked away and \\ndidn’t answer. Tom was unhappy. He didn’t go to school \\nin the afternoon. \\nThat night Tom went to bed at nine o’clock, but he \\ndidn’t sleep. At eleven o’clock he went out his bedroom \\nwindow to the yard. Huck was there. They walked to the \\ngraveyard. They stopped behind some big trees and talked \\nquietly. \\nSuddenly, there was a noise. Three men came into the \\ngraveyard—the doctor, Muff Potter, and Injun Joe. Injun \\nJoe and the doctor talked angrily. Then Injun Joe \\n \\n4')]"
      ]
     },
     "execution_count": 25,
     "metadata": {},
     "output_type": "execute_result"
    }
   ],
   "source": [
    "vector_score.similarity_search('Tom Sawyer', k=3)"
   ]
  },
  {
   "cell_type": "markdown",
   "metadata": {},
   "source": [
    "### Retriever"
   ]
  },
  {
   "cell_type": "code",
   "execution_count": 26,
   "metadata": {},
   "outputs": [
    {
     "name": "stdout",
     "output_type": "stream",
     "text": [
      "tags=['FAISS', 'OpenAIEmbeddings'] vectorstore=<langchain_community.vectorstores.faiss.FAISS object at 0x00000253349844F0> search_kwargs={}\n"
     ]
    }
   ],
   "source": [
    "from langchain.chains import RetrievalQA\n",
    "from langchain_openai import ChatOpenAI\n",
    "\n",
    "model = ChatOpenAI(\n",
    "    model='gpt-4o-mini',\n",
    "    temperature=0\n",
    ")\n",
    "\n",
    "retriever = vector_score.as_retriever()\n",
    "print(retriever)\n",
    "\n",
    "retrieval_qa = RetrievalQA.from_chain_type(\n",
    "    llm=model,\n",
    "    retriever=retriever,\n",
    "    chain_type='stuff'\n",
    ")\n"
   ]
  },
  {
   "cell_type": "code",
   "execution_count": 29,
   "metadata": {},
   "outputs": [],
   "source": [
    "response = retrieval_qa.invoke('마을 무덤에 있던 남자를 누가 죽였나요?')"
   ]
  },
  {
   "cell_type": "code",
   "execution_count": 30,
   "metadata": {},
   "outputs": [
    {
     "data": {
      "text/plain": [
       "{'query': '마을 무덤에 있던 남자를 누가 죽였나요?', 'result': '인전 조(Injun Joe)가 의사를 칼로 죽였습니다.'}"
      ]
     },
     "execution_count": 30,
     "metadata": {},
     "output_type": "execute_result"
    }
   ],
   "source": [
    "response"
   ]
  }
 ],
 "metadata": {
  "kernelspec": {
   "display_name": "vectordb_env",
   "language": "python",
   "name": "python3"
  },
  "language_info": {
   "codemirror_mode": {
    "name": "ipython",
    "version": 3
   },
   "file_extension": ".py",
   "mimetype": "text/x-python",
   "name": "python",
   "nbconvert_exporter": "python",
   "pygments_lexer": "ipython3",
   "version": "3.9.21"
  }
 },
 "nbformat": 4,
 "nbformat_minor": 2
}
