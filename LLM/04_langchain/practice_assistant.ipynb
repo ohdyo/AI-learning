{
 "cells": [
  {
   "cell_type": "code",
   "execution_count": 26,
   "metadata": {},
   "outputs": [
    {
     "data": {
      "text/plain": [
       "True"
      ]
     },
     "execution_count": 26,
     "metadata": {},
     "output_type": "execute_result"
    }
   ],
   "source": [
    "# 환경설정\n",
    "from dotenv import load_dotenv\n",
    "load_dotenv()"
   ]
  },
  {
   "cell_type": "code",
   "execution_count": 1,
   "metadata": {},
   "outputs": [],
   "source": [
    "docu_txt = \"\"\"주식회사 앨빈 - '슈퍼밴드' 10주년 기념 컴백 회의\n",
    "\n",
    "2025년 3월 11일 (화) 14:00 - 16:00, 회사 회의실 A\n",
    "\n",
    "참석자: 김앨빈 대표, 박다람 매니저, 이소리 홍보팀장, 최빛나 마케팅팀장, 강현우 프로듀서, 슈퍼밴드 멤버 전원\n",
    "\n",
    "회의 시작. 김앨빈 대표 \"이제 10주년인데 뭔가 크게 가야 하지 않겠어?\" 다들 동의\n",
    "\n",
    "일정 조율\n",
    "발매일 6월 15일 확정. 멤버들 일정 문제 없음\n",
    "티저 5월 1일부터 하나씩 공개. SNS 활용\n",
    "뮤비 촬영 4월 10~12일. 로케이션 검토 중\n",
    "쇼케이스 6월 14일로 가자. 장소는 아직 미정, 빠른 섭외 필요\n",
    "월드투어? 일단 논의만, 일정 잡긴 어려움\n",
    "\n",
    "앨범 컨셉 논의\n",
    "앨범명 아이디어: Reignite, Revival, Firestorm (Reignite로 가는 분위기)\n",
    "컨셉: 10년을 돌아보고 다시 불태우는 느낌. 레트로+현대 락 스타일로 가자\n",
    "타이틀곡 가제: 불꽃처럼. 강렬한 락 사운드, 희망적인 가사\n",
    "수록곡 10곡 예정. 기존 곡 리메이크도 넣을지 고민\n",
    "\n",
    "마케팅 전략\n",
    "SNS 티저 영상, 멤버 개인 브이로그 촬영 진행\n",
    "틱톡 챌린지 같은 거 해야 하나? 다들 긍정적 반응\n",
    "팬미팅, 사인회 6월 중에. 세부 일정은 조율 필요\n",
    "미디어 인터뷰 잡아야 함. 음악방송도 적극 참여\n",
    "패션 브랜드 콜라보 제안 있음. 검토 필요\n",
    "\n",
    "기타 논의\n",
    "굿즈 제작? 팬클럽 한정 프리오더 진행 고려\n",
    "다큐멘터리 제작할까? 가능성 있음, 제작팀 컨택 예정\n",
    "멤버들 건강 스케줄 조정 신경 써야 함\n",
    "\n",
    "결론\n",
    "3월 말까지 세부 일정 확정\n",
    "다음 회의 3월 25일 14:00\n",
    "\n",
    "회의 종료 16:00\"\"\""
   ]
  },
  {
   "cell_type": "code",
   "execution_count": 2,
   "metadata": {},
   "outputs": [],
   "source": [
    "email_txt = \"\"\"\n",
    "제목: [마케팅팀 회의 공지] '슈퍼밴드' 10주년 컴백 마케팅 전략 논의\n",
    "\n",
    "팀원 여러분,\n",
    "\n",
    "안녕하세요. 최빛나 팀장입니다.\n",
    "오늘 진행된 '슈퍼밴드' 10주년 컴백 회의 내용을 공유드립니다.\n",
    "\n",
    "컴백 일정이 6월 15일로 확정되었고, 이에 맞춰 마케팅 전략을 구체화해야 합니다. 주요 논의 사항은 다음과 같습니다.\n",
    "\n",
    "SNS 캠페인: 티저 영상 및 멤버별 브이로그 콘텐츠 기획\n",
    "틱톡 챌린지: 팬 참여 유도 방안 논의\n",
    "오프라인 이벤트: 팬미팅, 사인회 일정 및 진행 방식 검토\n",
    "미디어 홍보: 음악방송 및 인터뷰 스케줄 조율\n",
    "콜라보레이션: 패션 브랜드 협업 가능성 검토\n",
    "\n",
    "이에 따라 마케팅팀 내부 회의를 진행하려 합니다.\n",
    "📅 일정: 3월 13일(수) 오후 2시\n",
    "📍 장소: 마케팅팀 회의실\n",
    "\n",
    "각자 아이디어를 정리해 오시면 원활한 논의가 가능할 것 같습니다.\n",
    "질문이나 제안이 있으면 미리 공유해주세요.\n",
    "\n",
    "감사합니다.\n",
    "최빛나 드림\n",
    "\"\"\""
   ]
  },
  {
   "cell_type": "markdown",
   "metadata": {},
   "source": [
    "### 요약봇(Agent)\n",
    "- 회의록 요약 기능과 이메일 요약 기능을 함수로 작성 > Tools로 생성\n",
    "    - 서로 다른 프롬프트로 LLM 질의 > 응답 반환\n",
    "    - langchain.tools 패키지의 tool 활용\n",
    "- agent를 만들어 요청을 처리할 수 있도록 할 것"
   ]
  },
  {
   "cell_type": "code",
   "execution_count": 17,
   "metadata": {},
   "outputs": [],
   "source": [
    "# LLM\n",
    "from langchain_openai import ChatOpenAI\n",
    "\n",
    "model = ChatOpenAI(\n",
    "    model='gpt-4o-mini',\n",
    "    temperature=0.5\n",
    ")\n",
    "\n",
    "# 회의록 요약 기능 함수\n",
    "def summarize_doc(doc_txt):\n",
    "    \n",
    "    prompt = f\"\"\"\n",
    "    다음 조건에 맞게 회의 내용을 요약해줘.\n",
    "    \n",
    "    <조건>\n",
    "    1. 회의 장소, 일자, 참여자는 각각 작성할것\n",
    "    2. 회의 내용을 대주제, 소주제로 나누어 작성할 것\n",
    "    3. 요약한 회의 내용은 불렛 형식으로 작성할 것\n",
    "    \n",
    "    <요약할 회의 내용>\n",
    "    {doc_txt}\n",
    "    \"\"\"\n",
    "    return model.invoke(prompt).content\n",
    "\n",
    "\n",
    "# 이메일 요약 기능 함수\n",
    "def summarize_email(email_txt):\n",
    "    prompt = f\"\"\"\n",
    "    다음 조건에 맞게 이메일 내용을 요약해줘.\n",
    "    \n",
    "    <조건>\n",
    "    1. 이메일 발신자를 따로 표시할것 \n",
    "    2. 메일 내용을 간략하게 요약해서 한 줄로 표현할 것\n",
    "    3. 요청받은 업무 사항이 있으면 불렛 형식으로 표현할 것\n",
    "    \n",
    "    <요약할 이메일 내용>\n",
    "    {email_txt}\n",
    "    \"\"\"\n",
    "    return model.invoke(prompt).content\n",
    "\n",
    "\n",
    "# Tool 생성 > Agent 생성 > 테스트 데이터로 확인\n",
    "from langchain.tools import Tool\n",
    "from langchain.agents import AgentType, initialize_agent, load_tools\n",
    "\n",
    "tools = [\n",
    "    Tool(name='회의 요약', func=summarize_doc, description='긴 회의록 내용 요약'),\n",
    "    Tool(name='이메일 요약', func=summarize_email, description='업무 이메일 내용 요약')\n",
    "]\n",
    "agent = initialize_agent(\n",
    "    tools=tools,\n",
    "    llm=model,\n",
    "    agent=AgentType.ZERO_SHOT_REACT_DESCRIPTION,\n",
    "    handle_parsing_error=True,\n",
    "    verbose=True\n",
    ")"
   ]
  },
  {
   "cell_type": "code",
   "execution_count": 18,
   "metadata": {},
   "outputs": [
    {
     "name": "stderr",
     "output_type": "stream",
     "text": [
      "C:\\Users\\ljh10\\AppData\\Local\\Temp\\ipykernel_7548\\78859743.py:1: LangChainDeprecationWarning: The method `Chain.run` was deprecated in langchain 0.1.0 and will be removed in 1.0. Use :meth:`~invoke` instead.\n",
      "  agent.run('회의 내용 요약:' + summarize_doc(docu_txt))\n"
     ]
    },
    {
     "name": "stdout",
     "output_type": "stream",
     "text": [
      "\n",
      "\n",
      "\u001b[1m> Entering new AgentExecutor chain...\u001b[0m\n",
      "\u001b[32;1m\u001b[1;3mI need to summarize the provided meeting notes regarding the 10th anniversary comeback plan for 'Superband'. \n",
      "\n",
      "Action: 회의 요약  \n",
      "Action Input: ### 회의 요약\n",
      "\n",
      "**회의 장소:** 회사 회의실 A  \n",
      "**일자:** 2025년 3월 11일 (화) 14:00 - 16:00  \n",
      "**참여자:** 김앨빈 대표, 박다람 매니저, 이소리 홍보팀장, 최빛나 마케팅팀장, 강현우 프로듀서, 슈퍼밴드 멤버 전원  \n",
      "\n",
      "---\n",
      "\n",
      "#### 대주제: '슈퍼밴드' 10주년 기념 컴백 계획\n",
      "\n",
      "- **일정 조율**\n",
      "  - 발매일: 6월 15일 확정, 멤버들 일정 문제 없음.\n",
      "  - 티저 공개: 5월 1일부터 SNS 활용하여 하나씩 공개.\n",
      "  - 뮤비 촬영: 4월 10~12일, 로케이션 검토 중.\n",
      "  - 쇼케이스: 6월 14일, 장소는 미정, 빠른 섭외 필요.\n",
      "  - 월드투어: 논의 중이나 일정 잡기 어려움.\n",
      "\n",
      "- **앨범 컨셉 논의**\n",
      "  - 앨범명 아이디어: Reignite, Revival, Firestorm (Reignite로 가는 분위기).\n",
      "  - 컨셉: 10년을 돌아보고 다시 불태우는 느낌, 레트로+현대 락 스타일.\n",
      "  - 타이틀곡 가제: 불꽃처럼, 강렬한 락 사운드와 희망적인 가사.\n",
      "  - 수록곡: 10곡 예정, 기존 곡 리메이크 여부 고민.\n",
      "\n",
      "- **마케팅 전략**\n",
      "  - SNS 티저 영상 및 멤버 개인 브이로그 촬영 진행.\n",
      "  - 틱톡 챌린지 진행 여부 긍정적 반응.\n",
      "  - 팬미팅 및 사인회: 6월 중, 세부 일정 조율 필요.\n",
      "  - 미디어 인터뷰 및 음악방송 적극 참여.\n",
      "  - 패션 브랜드 콜라보 제안 검토 필요.\n",
      "\n",
      "- **기타 논의**\n",
      "  - 굿즈 제작: 팬클럽 한정 프리오더 진행 고려.\n",
      "  - 다큐멘터리 제작 가능성 있음, 제작팀 컨택 예정.\n",
      "  - 멤버들 건강 및 스케줄 조정 신경 써야 함.\n",
      "\n",
      "#### 결론\n",
      "- 3월 말까지 세부 일정 확정.\n",
      "- 다음 회의: 3월 25일 14:00.  \u001b[0m\n",
      "Observation: \u001b[36;1m\u001b[1;3m### 회의 요약\n",
      "\n",
      "**회의 장소:** 회사 회의실 A  \n",
      "**일자:** 2025년 3월 11일 (화) 14:00 - 16:00  \n",
      "**참여자:** 김앨빈 대표, 박다람 매니저, 이소리 홍보팀장, 최빛나 마케팅팀장, 강현우 프로듀서, 슈퍼밴드 멤버 전원  \n",
      "\n",
      "---\n",
      "\n",
      "#### 대주제: '슈퍼밴드' 10주년 기념 컴백 계획\n",
      "\n",
      "- **일정 조율**\n",
      "  - 발매일: 6월 15일 확정, 멤버들 일정 문제 없음.\n",
      "  - 티저 공개: 5월 1일부터 SNS를 통해 하나씩 공개.\n",
      "  - 뮤비 촬영: 4월 10~12일, 로케이션 검토 중.\n",
      "  - 쇼케이스: 6월 14일, 장소는 미정, 빠른 섭외 필요.\n",
      "  - 월드투어: 논의 중이나 일정 잡기 어려움.\n",
      "\n",
      "- **앨범 컨셉 논의**\n",
      "  - 앨범명 아이디어: Reignite, Revival, Firestorm (Reignite로 가는 분위기).\n",
      "  - 컨셉: 10년을 돌아보고 다시 불태우는 느낌, 레트로+현대 락 스타일.\n",
      "  - 타이틀곡 가제: 불꽃처럼, 강렬한 락 사운드와 희망적인 가사.\n",
      "  - 수록곡: 10곡 예정, 기존 곡 리메이크 여부 고민.\n",
      "\n",
      "- **마케팅 전략**\n",
      "  - SNS 티저 영상 및 멤버 개인 브이로그 촬영 진행.\n",
      "  - 틱톡 챌린지 진행 여부 긍정적 반응.\n",
      "  - 팬미팅 및 사인회: 6월 중, 세부 일정 조율 필요.\n",
      "  - 미디어 인터뷰 및 음악방송 적극 참여.\n",
      "  - 패션 브랜드 콜라보 제안 검토 필요.\n",
      "\n",
      "- **기타 논의**\n",
      "  - 굿즈 제작: 팬클럽 한정 프리오더 진행 고려.\n",
      "  - 다큐멘터리 제작 가능성 있음, 제작팀 컨택 예정.\n",
      "  - 멤버들 건강 및 스케줄 조정 신경 써야 함.\n",
      "\n",
      "#### 결론\n",
      "- 3월 말까지 세부 일정 확정.\n",
      "- 다음 회의: 3월 25일 14:00.\u001b[0m\n",
      "Thought:\u001b[32;1m\u001b[1;3mI now know the final answer.  \n",
      "Final Answer: The meeting focused on the 10th anniversary comeback plan for 'Superband', confirming the release date for June 15, teaser releases starting May 1, and discussing album concepts and marketing strategies. A follow-up meeting is scheduled for March 25.\u001b[0m\n",
      "\n",
      "\u001b[1m> Finished chain.\u001b[0m\n"
     ]
    },
    {
     "data": {
      "text/plain": [
       "\"The meeting focused on the 10th anniversary comeback plan for 'Superband', confirming the release date for June 15, teaser releases starting May 1, and discussing album concepts and marketing strategies. A follow-up meeting is scheduled for March 25.\""
      ]
     },
     "execution_count": 18,
     "metadata": {},
     "output_type": "execute_result"
    }
   ],
   "source": [
    "agent.run('회의 내용 요약:' + summarize_doc(docu_txt))"
   ]
  },
  {
   "cell_type": "code",
   "execution_count": 19,
   "metadata": {},
   "outputs": [
    {
     "name": "stdout",
     "output_type": "stream",
     "text": [
      "\n",
      "\n",
      "\u001b[1m> Entering new AgentExecutor chain...\u001b[0m\n",
      "\u001b[32;1m\u001b[1;3mI need to summarize the content of the email regarding the marketing strategy meeting for the 10th anniversary comeback of 'Superband'. \n",
      "\n",
      "Action: 이메일 요약  \n",
      "Action Input: **발신자:** 최빛나 팀장  \n",
      "**요약:** '슈퍼밴드' 10주년 컴백을 위한 마케팅 전략 회의 공지.  \n",
      "**요청 사항:**  \n",
      "- SNS 캠페인: 티저 영상 및 멤버별 브이로그 콘텐츠 기획  \n",
      "- 틱톡 챌린지: 팬 참여 유도 방안 논의  \n",
      "- 오프라인 이벤트: 팬미팅, 사인회 일정 및 진행 방식 검토  \n",
      "- 미디어 홍보: 음악방송 및 인터뷰 스케줄 조율  \n",
      "- 콜라보레이션: 패션 브랜드 협업 가능성 검토  \n",
      "\u001b[0m\n",
      "Observation: \u001b[33;1m\u001b[1;3m**발신자:** 최빛나 팀장  \n",
      "**요약:** '슈퍼밴드' 10주년 컴백을 위한 마케팅 전략 회의 공지.  \n",
      "**요청 사항:**  \n",
      "- SNS 캠페인: 티저 영상 및 멤버별 브이로그 콘텐츠 기획  \n",
      "- 틱톡 챌린지: 팬 참여 유도 방안 논의  \n",
      "- 오프라인 이벤트: 팬미팅, 사인회 일정 및 진행 방식 검토  \n",
      "- 미디어 홍보: 음악방송 및 인터뷰 스케줄 조율  \n",
      "- 콜라보레이션: 패션 브랜드 협업 가능성 검토  \u001b[0m\n",
      "Thought:\u001b[32;1m\u001b[1;3mI have successfully summarized the email regarding the marketing strategy meeting for 'Superband's' 10th anniversary comeback. \n",
      "\n",
      "Final Answer: **발신자:** 최빛나 팀장  \n",
      "**요약:** '슈퍼밴드' 10주년 컴백을 위한 마케팅 전략 회의 공지.  \n",
      "**요청 사항:**  \n",
      "- SNS 캠페인: 티저 영상 및 멤버별 브이로그 콘텐츠 기획  \n",
      "- 틱톡 챌린지: 팬 참여 유도 방안 논의  \n",
      "- 오프라인 이벤트: 팬미팅, 사인회 일정 및 진행 방식 검토  \n",
      "- 미디어 홍보: 음악방송 및 인터뷰 스케줄 조율  \n",
      "- 콜라보레이션: 패션 브랜드 협업 가능성 검토  \u001b[0m\n",
      "\n",
      "\u001b[1m> Finished chain.\u001b[0m\n"
     ]
    },
    {
     "data": {
      "text/plain": [
       "\"**발신자:** 최빛나 팀장  \\n**요약:** '슈퍼밴드' 10주년 컴백을 위한 마케팅 전략 회의 공지.  \\n**요청 사항:**  \\n- SNS 캠페인: 티저 영상 및 멤버별 브이로그 콘텐츠 기획  \\n- 틱톡 챌린지: 팬 참여 유도 방안 논의  \\n- 오프라인 이벤트: 팬미팅, 사인회 일정 및 진행 방식 검토  \\n- 미디어 홍보: 음악방송 및 인터뷰 스케줄 조율  \\n- 콜라보레이션: 패션 브랜드 협업 가능성 검토\""
      ]
     },
     "execution_count": 19,
     "metadata": {},
     "output_type": "execute_result"
    }
   ],
   "source": [
    "agent.run('이메일 내용 요약:' + summarize_email(email_txt))"
   ]
  },
  {
   "cell_type": "markdown",
   "metadata": {},
   "source": [
    "### News 매니저"
   ]
  },
  {
   "cell_type": "code",
   "execution_count": 11,
   "metadata": {},
   "outputs": [
    {
     "name": "stdout",
     "output_type": "stream",
     "text": [
      "Collecting google-search-results\n",
      "  Downloading google_search_results-2.4.2.tar.gz (18 kB)\n",
      "  Preparing metadata (setup.py): started\n",
      "  Preparing metadata (setup.py): finished with status 'done'\n",
      "Requirement already satisfied: requests in c:\\users\\ljh10\\anaconda3\\envs\\vectordb_env\\lib\\site-packages (from google-search-results) (2.32.3)\n",
      "Requirement already satisfied: charset-normalizer<4,>=2 in c:\\users\\ljh10\\anaconda3\\envs\\vectordb_env\\lib\\site-packages (from requests->google-search-results) (3.4.1)\n",
      "Requirement already satisfied: idna<4,>=2.5 in c:\\users\\ljh10\\anaconda3\\envs\\vectordb_env\\lib\\site-packages (from requests->google-search-results) (3.10)\n",
      "Requirement already satisfied: urllib3<3,>=1.21.1 in c:\\users\\ljh10\\anaconda3\\envs\\vectordb_env\\lib\\site-packages (from requests->google-search-results) (2.3.0)\n",
      "Requirement already satisfied: certifi>=2017.4.17 in c:\\users\\ljh10\\anaconda3\\envs\\vectordb_env\\lib\\site-packages (from requests->google-search-results) (2025.1.31)\n",
      "Building wheels for collected packages: google-search-results\n",
      "  Building wheel for google-search-results (setup.py): started\n",
      "  Building wheel for google-search-results (setup.py): finished with status 'done'\n",
      "  Created wheel for google-search-results: filename=google_search_results-2.4.2-py3-none-any.whl size=32142 sha256=63f6ce725903143b398c5dcffc064e24e6b39daa0603303b2d9aff3df1d00493\n",
      "  Stored in directory: c:\\users\\ljh10\\appdata\\local\\pip\\cache\\wheels\\68\\8e\\73\\744b7d9d7ac618849d93081a20e1c0deccd2aef90901c9f5a9\n",
      "Successfully built google-search-results\n",
      "Installing collected packages: google-search-results\n",
      "Successfully installed google-search-results-2.4.2\n"
     ]
    }
   ],
   "source": [
    "!pip install google-search-results"
   ]
  },
  {
   "cell_type": "markdown",
   "metadata": {},
   "source": [
    "### News 매니저\n",
    "1. 최신 뉴스 검색\n",
    "    - langchain.utilities 패키지의 SerpAPIWrapper\n",
    "2. 뉴스 요약 및 키워드 분석\n",
    "3. 사용자 맞춤형 뉴스 추천"
   ]
  },
  {
   "cell_type": "code",
   "execution_count": 50,
   "metadata": {},
   "outputs": [],
   "source": [
    "from langchain.utilities import SerpAPIWrapper\n",
    "param= {\n",
    "    'engine': 'google_news',\n",
    "    'gl' : 'kr',\n",
    "    'hl' : 'ko'\n",
    "}\n",
    "serp = SerpAPIWrapper(params=param)\n",
    "# news_text = serp.run('코로나')\n",
    "# news_text[:2]"
   ]
  },
  {
   "cell_type": "code",
   "execution_count": 51,
   "metadata": {},
   "outputs": [
    {
     "name": "stdout",
     "output_type": "stream",
     "text": [
      "\n",
      "\n",
      "\u001b[1m> Entering new AgentExecutor chain...\u001b[0m\n",
      "\u001b[32;1m\u001b[1;3mQuestion: 뉴스 요약:### 뉴스 요약\n",
      "\n",
      "Thought: I need to summarize the news articles provided. \n",
      "Action: 뉴스 요약\n",
      "Action Input: \"외국인 관광객 수가 코로나19 이전 수준을 초과하며, 관광업계의 회복세가 두드러지고 있다. 이는 계엄 한파에도 불구하고 나타난 현상으로, 관광 산업의 재개가 긍정적인 신호로 해석되고 있다. 최근 두 달 간 자영업자 20만명이 폐업한 것으로 나타났다. 많은 자영업자들이 코로나19 이후 회복을 기대했으나, 실제로는 더 어려운 상황에 직면하고 있음을 보여준다. 자영업자들이 코로나19 시기보다 더 힘든 상황에 처해 있으며, 최근 두 달 동안 20만명 이상이 폐업했다는 보고가 이어지고 있다. 이는 경제 회복의 지연을 반영한다.\"\u001b[0m\n",
      "Observation: \u001b[36;1m\u001b[1;3m### 뉴스 요약 및 키워드 분석\n",
      "\n",
      "1. **뉴스 제목: 외국인 관광객 수 증가**\n",
      "   - **요약**: 외국인 관광객 수가 코로나19 이전 수준을 초과하며, 관광업계의 회복세가 두드러지고 있다. 이는 계엄 한파에도 불구하고 관광 산업의 재개가 긍정적인 신호로 해석되고 있다.\n",
      "   - **핵심 키워드**: 외국인 관광객, 코로나19, 관광업계 회복, 긍정적 신호\n",
      "\n",
      "2. **뉴스 제목: 자영업자 폐업 증가**\n",
      "   - **요약**: 최근 두 달 간 자영업자 20만명이 폐업한 것으로 나타났다. 많은 자영업자들이 코로나19 이후 회복을 기대했으나, 실제로는 더 어려운 상황에 직면하고 있음을 보여준다.\n",
      "   - **핵심 키워드**: 자영업자, 폐업, 코로나19, 경제 회복 지연\n",
      "\n",
      "3. **뉴스 제목: 자영업자들의 어려운 상황**\n",
      "   - **요약**: 자영업자들이 코로나19 시기보다 더 힘든 상황에 처해 있으며, 최근 두 달 동안 20만명 이상이 폐업했다는 보고가 이어지고 있다. 이는 경제 회복의 지연을 반영한다.\n",
      "   - **핵심 키워드**: 자영업자, 코로나19, 경제 회복 지연, 어려운 상황\n",
      "\n",
      "### 관련 뉴스 추천\n",
      "- **\"관광 산업의 회복과 자영업자 지원 방안\"**: 관광 산업의 회복에 따른 자영업자 지원 정책과 관련된 기사.\n",
      "- **\"코로나19 이후 자영업자 생존 전략\"**: 자영업자들이 코로나19 이후 생존하기 위한 다양한 전략과 사례를 다룬 기사.\n",
      "- **\"경제 회복을 위한 정부의 새로운 정책\"**: 경제 회복을 위한 정부의 정책과 그 효과에 대한 분석 기사.\u001b[0m\n",
      "Thought:\u001b[32;1m\u001b[1;3mI now know the final answer\n",
      "Final Answer: 외국인 관광객 수가 코로나19 이전 수준을 초과하며 관광업계가 회복세를 보이고 있지만, 자영업자들은 최근 두 달 동안 20만명이 폐업하는 등 더 어려운 상황에 처해 있으며, 이는 경제 회복의 지연을 반영하고 있다.\u001b[0m\n",
      "\n",
      "\u001b[1m> Finished chain.\u001b[0m\n"
     ]
    },
    {
     "data": {
      "text/plain": [
       "'외국인 관광객 수가 코로나19 이전 수준을 초과하며 관광업계가 회복세를 보이고 있지만, 자영업자들은 최근 두 달 동안 20만명이 폐업하는 등 더 어려운 상황에 처해 있으며, 이는 경제 회복의 지연을 반영하고 있다.'"
      ]
     },
     "execution_count": 51,
     "metadata": {},
     "output_type": "execute_result"
    }
   ],
   "source": [
    "from langchain.utilities import SerpAPIWrapper\n",
    "\n",
    "news_txt = input('뉴스 키워드를 입력하세요:')\n",
    "news_text =serp.run(news_txt)\n",
    "news = news_text[:2]\n",
    "model = ChatOpenAI(\n",
    "    model='gpt-4o-mini',\n",
    "    temperature=0.5\n",
    ")\n",
    "\n",
    "def summary_news(news_text):\n",
    "    prompt = f\"\"\"\n",
    "    다음 뉴스 내용을 요약해줘.\n",
    "    \n",
    "    <조건>\n",
    "    최신 뉴스 3개만 정리할 것\n",
    "    키워드와 관련된 뉴스만 정리할 것\n",
    "    각 뉴스별로 요약하고 핵심 키워드 분석할 것\n",
    "    다른 연관된 뉴스 추천해줄 것\n",
    "    \n",
    "    <요약할 뉴스 내용>\n",
    "    {news_text}\n",
    "    \"\"\"\n",
    "    \n",
    "    return model.invoke(prompt).content\n",
    "\n",
    "tools = [Tool(\n",
    "    name='뉴스 요약',\n",
    "    func=summary_news,\n",
    "    description='뉴스 요약'\n",
    ")]\n",
    "\n",
    "agent = initialize_agent(\n",
    "    tools=tools,\n",
    "    llm=model,\n",
    "    agent=AgentType.ZERO_SHOT_REACT_DESCRIPTION,\n",
    "    handle_parsing_error=True,\n",
    "    verbose=True\n",
    ")\n",
    "\n",
    "agent.run('뉴스 요약:' + summary_news(news))"
   ]
  }
 ],
 "metadata": {
  "kernelspec": {
   "display_name": "vectordb_env",
   "language": "python",
   "name": "python3"
  },
  "language_info": {
   "codemirror_mode": {
    "name": "ipython",
    "version": 3
   },
   "file_extension": ".py",
   "mimetype": "text/x-python",
   "name": "python",
   "nbconvert_exporter": "python",
   "pygments_lexer": "ipython3",
   "version": "3.9.21"
  }
 },
 "nbformat": 4,
 "nbformat_minor": 2
}
