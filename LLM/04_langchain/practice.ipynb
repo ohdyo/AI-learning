{
 "cells": [
  {
   "cell_type": "markdown",
   "metadata": {},
   "source": [
    "# Chain을 이용한 Simple LLM\n",
    "1. PromptTemplate\n",
    "2. Model\n",
    "3. OuputParser"
   ]
  },
  {
   "cell_type": "code",
   "execution_count": 4,
   "metadata": {},
   "outputs": [
    {
     "data": {
      "text/plain": [
       "True"
      ]
     },
     "execution_count": 4,
     "metadata": {},
     "output_type": "execute_result"
    }
   ],
   "source": [
    "from dotenv import load_dotenv\n",
    "load_dotenv()"
   ]
  },
  {
   "cell_type": "code",
   "execution_count": null,
   "metadata": {},
   "outputs": [],
   "source": [
    "# 1. PromptTemplate\n",
    "from langchain.prompts import PromptTemplate\n",
    "\n",
    "prompt = PromptTemplate(\n",
    "    template='{question}',\n",
    "    input_variables=['question']\n",
    ")"
   ]
  },
  {
   "cell_type": "code",
   "execution_count": 5,
   "metadata": {},
   "outputs": [],
   "source": [
    "# 2. Model\n",
    "from langchain_openai import ChatOpenAI\n",
    "model = ChatOpenAI(\n",
    "    model = 'gpt-4o-mini',\n",
    "    temperature=0\n",
    ")"
   ]
  },
  {
   "cell_type": "code",
   "execution_count": null,
   "metadata": {},
   "outputs": [],
   "source": [
    "# 3. OutputParser (StrOutputParser)\n",
    "from langchain_core.output_parsers import StrOutputParser\n",
    "output_parser = StrOutputParser()\n",
    "\n"
   ]
  },
  {
   "cell_type": "code",
   "execution_count": 9,
   "metadata": {},
   "outputs": [
    {
     "data": {
      "text/plain": [
       "'포켓몬의 강함은 여러 요소에 따라 달라질 수 있습니다. 일반적으로는 전투 능력, 타입 상성, 기술 조합, 그리고 전략적인 사용 등이 중요한 요소입니다. \\n\\n전설의 포켓몬인 아르세우스(Arceus)는 많은 팬들 사이에서 가장 강력한 포켓몬으로 여겨지기도 합니다. 아르세우스는 다양한 타입으로 변환할 수 있는 능력을 가지고 있어, 상황에 맞게 전략적으로 사용할 수 있습니다.\\n\\n또한, 메가 진화나 다이나맥스 같은 특별한 형태를 가진 포켓몬들도 강력한 전투력을 발휘할 수 있습니다. 예를 들어, 메가 레쿠쟈(Mega Rayquaza)나 다이나맥스 형태의 포켓몬들도 매우 강력한 전투력을 자랑합니다.\\n\\n결국, 어떤 포켓몬이 가장 강한지는 상황과 전략에 따라 달라질 수 있습니다.'"
      ]
     },
     "execution_count": 9,
     "metadata": {},
     "output_type": "execute_result"
    }
   ],
   "source": [
    "# 4. Chain -> 질의\n",
    "# question : 어떤 포켓몬이 가장 강해?\n",
    "question = '어떤 포켓몬이 가장 강해?'\n",
    "\n",
    "chain = prompt | model | output_parser\n",
    "\n",
    "chain.invoke(question)"
   ]
  },
  {
   "cell_type": "code",
   "execution_count": 13,
   "metadata": {},
   "outputs": [],
   "source": [
    "# 강사님 ver\n",
    "# ChatPromtTemplate\n",
    "from langchain_core.prompts import ChatPromptTemplate\n",
    "\n",
    "prompt_template = ChatPromptTemplate([\n",
    "    ('system','너는 애니메이션을 잘 아는 챗봇이야. 사용자의 질문에 친절하고 상세하게 답변할 수 있어.'),\n",
    "    ('user','{question}')\n",
    "])"
   ]
  },
  {
   "cell_type": "code",
   "execution_count": 10,
   "metadata": {},
   "outputs": [],
   "source": [
    "# model\n",
    "from langchain_openai import ChatOpenAI\n",
    "model = ChatOpenAI(\n",
    "    model = 'gpt-4o-mini',\n",
    "    temperature=0.3\n",
    ")"
   ]
  },
  {
   "cell_type": "code",
   "execution_count": 11,
   "metadata": {},
   "outputs": [],
   "source": [
    "# OutPutParser (StrOutPutParser)\n",
    "from langchain_core.output_parsers import StrOutputParser\n",
    "\n",
    "output_parser = StrOutputParser()\n"
   ]
  },
  {
   "cell_type": "code",
   "execution_count": 14,
   "metadata": {},
   "outputs": [
    {
     "data": {
      "text/plain": [
       "\"포켓몬의 강함은 여러 요소에 따라 달라질 수 있습니다. 일반적으로는 전투 능력, 타입 상성, 기술, 그리고 전략적인 사용 등이 중요한 요소입니다. \\n\\n현재까지의 포켓몬 게임에서 가장 강력하다고 평가받는 포켓몬 중 하나는 **아르세우스**입니다. 아르세우스는 '신의 포켓몬'으로 불리며, 모든 타입으로 변환할 수 있는 능력을 가지고 있어 다양한 상황에서 유리하게 싸울 수 있습니다.\\n\\n또한, **메가 레쿠쟈**나 **프리져** 같은 전설의 포켓몬들도 강력한 전투 능력을 가지고 있습니다. 메가 진화가 가능한 포켓몬들은 전투에서 더욱 강력한 형태로 변신할 수 있어 전략적으로 매우 유용합니다.\\n\\n결국, 어떤 포켓몬이 가장 강한지는 사용자의 전략과 팀 구성에 따라 달라질 수 있으니, 다양한 포켓몬을 조합해보는 것이 중요합니다!\""
      ]
     },
     "execution_count": 14,
     "metadata": {},
     "output_type": "execute_result"
    }
   ],
   "source": [
    "# chain -> 질의\n",
    "# question : 어떤 포켓몬이 가장 강해?\n",
    "\n",
    "chain = prompt_template | model | output_parser\n",
    "chain.invoke({'question': '어떤 포켓몬이 가장 강해?'})"
   ]
  },
  {
   "cell_type": "code",
   "execution_count": null,
   "metadata": {},
   "outputs": [
    {
     "data": {
      "text/plain": [
       "\"포켓몬의 강함은 여러 요소에 따라 달라질 수 있습니다. 일반적으로는 전투 능력, 타입 상성, 기술 조합 등이 중요한 역할을 합니다. \\n\\n현재까지의 포켓몬 게임에서 가장 강력하다고 평가받는 포켓몬 중 하나는 **아르세우스**입니다. 아르세우스는 '신의 포켓몬'으로 불리며, 모든 타입을 가질 수 있는 능력을 가지고 있습니다. 이 때문에 다양한 상황에 적응할 수 있는 장점이 있습니다.\\n\\n또한, **메가 레쿠자**나 **프리즘 레쿠자**와 같은 전설의 포켓몬들도 매우 강력한 전투 능력을 가지고 있습니다. 이들은 높은 스탯과 강력한 기술을 통해 많은 배틀에서 우위를 점할 수 있습니다.\\n\\n하지만 포켓몬의 강함은 개인의 전략과 팀 구성에 따라 달라질 수 있으므로, 특정 포켓몬이 항상 강하다고 단정짓기는 어렵습니다. 각 포켓몬의 특성과 타입을 잘 활용하는 것이 중요합니다!\""
      ]
     },
     "execution_count": 15,
     "metadata": {},
     "output_type": "execute_result"
    }
   ],
   "source": [
    "from langchain_core.runnables import RunnableSequence\n",
    "\n",
    "chain = RunnableSequence(prompt_template,model,output_parser)\n",
    "chain.invoke({'question': '어떤 포켓몬이 가장 강해?'})"
   ]
  },
  {
   "cell_type": "code",
   "execution_count": null,
   "metadata": {},
   "outputs": [],
   "source": []
  }
 ],
 "metadata": {
  "kernelspec": {
   "display_name": "vectordb_env",
   "language": "python",
   "name": "python3"
  },
  "language_info": {
   "codemirror_mode": {
    "name": "ipython",
    "version": 3
   },
   "file_extension": ".py",
   "mimetype": "text/x-python",
   "name": "python",
   "nbconvert_exporter": "python",
   "pygments_lexer": "ipython3",
   "version": "3.9.21"
  }
 },
 "nbformat": 4,
 "nbformat_minor": 2
}
