{
 "cells": [
  {
   "cell_type": "markdown",
   "metadata": {},
   "source": [
    "# COT (Chain of Thought)"
   ]
  },
  {
   "cell_type": "code",
   "execution_count": 1,
   "metadata": {},
   "outputs": [
    {
     "data": {
      "text/plain": [
       "True"
      ]
     },
     "execution_count": 1,
     "metadata": {},
     "output_type": "execute_result"
    }
   ],
   "source": [
    "from dotenv import load_dotenv\n",
    "load_dotenv()"
   ]
  },
  {
   "cell_type": "code",
   "execution_count": 2,
   "metadata": {},
   "outputs": [],
   "source": [
    "import openai\n",
    "client = openai.OpenAI()"
   ]
  },
  {
   "cell_type": "markdown",
   "metadata": {},
   "source": [
    "### 일반 프롬프트 vs Zero-shot CoT "
   ]
  },
  {
   "cell_type": "code",
   "execution_count": 5,
   "metadata": {},
   "outputs": [],
   "source": [
    "# 일반 프롬포트\n",
    "prompt = '123 x 31은 얼마인가요?'\n",
    "\n",
    "\n",
    "# Zero-shot CoT 적용 프롬프트\n",
    "cot_prompt = '단계별로 생각해보세요: 123 x 31은 얼마인가요'\n",
    "\n",
    "response = client.chat.completions.create(\n",
    "    model='gpt-4',\n",
    "    messages=[{'role':'user','content':prompt}]\n",
    ")\n",
    "\n",
    "\n",
    "cot_response = client.chat.completions.create(\n",
    "    model='gpt-4',\n",
    "    messages=[{'role':'user','content':cot_prompt}]\n",
    ")"
   ]
  },
  {
   "cell_type": "code",
   "execution_count": 7,
   "metadata": {},
   "outputs": [
    {
     "data": {
      "text/plain": [
       "'123 x 31 = 3813'"
      ]
     },
     "execution_count": 7,
     "metadata": {},
     "output_type": "execute_result"
    }
   ],
   "source": [
    "response.choices[0].message.content"
   ]
  },
  {
   "cell_type": "code",
   "execution_count": 9,
   "metadata": {},
   "outputs": [
    {
     "name": "stdout",
     "output_type": "stream",
     "text": [
      "123 x 31의 결과를 구하는 단계는 다음과 같습니다:\n",
      "\n",
      "1. 먼저, 1의 자리 숫자에 3을 곱합니다: 3 x 3 = 9.\n",
      "2. 10의 자리 숫자에 3을 곱합니다: 2 x 3 = 6.\n",
      "3. 100의 자리 숫자에 3을 곱합니다: 1 x 3 = 3.\n",
      "이제 10진수의 각 자릿수에 3을 곱한 결과를 모두 합하여 결과값을 얻습니다: 369.\n",
      "\n",
      "그 다음, 또 다른 숫자 1과 123을 곱합니다.  1의 자리 숫자에 1을 곱합니다: 3 x 1 = 3. 10의 자리 숫자에 1을 곱합니다: 2 x 1 = 2. 100의 자리 숫자에 1을 곱합니다: 1 x 1 = 1.\n",
      "이제 10진수의 각 자릿수에 1을 곱한 결과 또한 합합니다: 123.\n",
      "\n",
      "이제 우리는 두 결과 369와 1230을 얻었습니다. 이 두 수를 더해야합니다 (단, 두번째로 얻은 결과는 10의 자리부터 시작합니다. 즉, 실제로는 1230입니다).\n",
      "369\n",
      "1230 +\n",
      "_____\n",
      " 3801\n",
      "\n",
      "따라서, 123 x 31의 결과는 3801입니다.\n"
     ]
    }
   ],
   "source": [
    "print(cot_response.choices[0].message.content)"
   ]
  },
  {
   "cell_type": "markdown",
   "metadata": {},
   "source": [
    "### Few-shot CoT"
   ]
  },
  {
   "cell_type": "code",
   "execution_count": 10,
   "metadata": {},
   "outputs": [],
   "source": [
    "few_shot_cot = \"\"\"\n",
    "Q: 123 X 31 은 얼마인가요?\n",
    "A: 123 x 31을 단계별로 계산해 보겠습니다.\n",
    "\n",
    "1. 123를 분해합니다: ( 123 = 100 + 20 + 3 )\n",
    "2. 각 항을곱합니다:\n",
    "    - 100 x 31 = 3100\n",
    "    - 20 x31 = 620\n",
    "    - 3 x 31 = 93\n",
    "\n",
    "3. 이제 이 결과들을 더합니다:\n",
    "    - 3100 + 620 + 93\n",
    "\n",
    "4. 계산을 진행하면:\n",
    "    - 3100 + 620 = 3720\n",
    "    - 3720 + 93 = 3813\n",
    "\n",
    "따라서, 123 x 31 = 3813 입니다. \n",
    "\n",
    "Q: 789 x 56 은 얼마인가요?\n",
    "A: \n",
    "\"\"\"\n",
    "\n",
    "res = client.chat.completions.create(\n",
    "    model='gpt-4',\n",
    "    messages=[{'role':'user','content':few_shot_cot}]\n",
    ")"
   ]
  },
  {
   "cell_type": "code",
   "execution_count": 11,
   "metadata": {},
   "outputs": [
    {
     "name": "stdout",
     "output_type": "stream",
     "text": [
      "789 x 56을 단계별로 계산해 보겠습니다.\n",
      "\n",
      "1. 789를 분해합니다: ( 789 = 700 + 80 + 9 )\n",
      "2. 각 항을 곱합니다:\n",
      "   - 700 x 56 = 39200\n",
      "   - 80 x 56 = 4480\n",
      "   - 9 x 56 = 504\n",
      "\n",
      "3. 이제 이 결과들을 더합니다:\n",
      "   - 39200 + 4480 + 504\n",
      "\n",
      "4. 계산을 진행하면 :\n",
      "   - 39200 + 4480 = 43680\n",
      "   - 43680 + 504 = 44184\n",
      "\n",
      "따라서, 789 x 56 = 44184 입니다.\n"
     ]
    }
   ],
   "source": [
    "print(res.choices[0].message.content)"
   ]
  },
  {
   "cell_type": "markdown",
   "metadata": {},
   "source": [
    "### 논리 문제 해결"
   ]
  },
  {
   "cell_type": "code",
   "execution_count": 12,
   "metadata": {},
   "outputs": [],
   "source": [
    "prompt = '앨리스(Alice)는 밥(Bob)보다 나이가 많다. 밥(Bob)은 찰리(Charlie)보다 나이가 많다. 데이비드(David)는 앨리스보다 어리지만, 에밀리(Emily)보다는 많다. 찰리(Charlie)는 프랭크(Frank)보다 많다. 에밀리(Emily)는 찰리보다 나이가 많지만, 밥보다는 어리다. 프랭크(Frank)는 데이비드보다 어리다. 그렇다면 가장 어린 사람은 누구인가요?'\n",
    "\n",
    "cot_prompt = '단계적으로 생각해서 대답해주세요: 앨리스(Alice)는 밥(Bob)보다 나이가 많다. 밥(Bob)은 찰리(Charlie)보다 나이가 많다. 데이비드(David)는 앨리스보다 어리지만, 에밀리(Emily)보다는 많다. 찰리(Charlie)는 프랭크(Frank)보다 많다. 에밀리(Emily)는 찰리보다 나이가 많지만, 밥보다는 어리다. 프랭크(Frank)는 데이비드보다 어리다. 그렇다면 가장 어린 사람은 누구인가요?'\n",
    "\n",
    "response = client.chat.completions.create(\n",
    "    model='gpt-4',\n",
    "    messages=[{'role':'user','content':prompt}]\n",
    ")\n",
    "\n",
    "\n",
    "cot_response = client.chat.completions.create(\n",
    "    model='gpt-4',\n",
    "    messages=[{'role':'user','content':cot_prompt}]\n",
    ")"
   ]
  },
  {
   "cell_type": "code",
   "execution_count": null,
   "metadata": {},
   "outputs": [
    {
     "data": {
      "text/plain": [
       "'가장 어린 사람은 프랭크(Frank)입니다.'"
      ]
     },
     "execution_count": 14,
     "metadata": {},
     "output_type": "execute_result"
    }
   ],
   "source": [
    "print(response.choices[0].message.content)"
   ]
  },
  {
   "cell_type": "code",
   "execution_count": null,
   "metadata": {},
   "outputs": [
    {
     "name": "stdout",
     "output_type": "stream",
     "text": [
      "먼저, 결과를 쉽게 이해하기 위해 인물에 대한 정보를 살펴보면 다음과 같습니다.\n",
      "\n",
      "1) 앨리스(Alice)는 밥(Bob)보다 나이가 많다.\n",
      "2) 밥(Bob)는 찰리(Charlie)보다 나이가 많다.\n",
      "3) 데이비드(David)는 앨리스보다 어리지만, 에밀리(Emily)보다는 많다.\n",
      "4) 찰리(Charlie)는 프랭크(Frank)보다 많다.\n",
      "5) 에밀리(Emily)는 찰리보다 나이가 많지만, 밥보다는 어리다.\n",
      "6) 프랭크(Frank)는 데이비드보다 어리다.\n",
      "\n",
      "이 정보들을 바탕으로 사람들의 나이 순서를 나열해보면, \n",
      "\n",
      "앨리스(Alice) > 밥(Bob) > 찰리(Charlie) > 프랭크(Frank), 데이비드(David) > 에밀리(Emily) > 프랭크(Frank)\n",
      "\n",
      "이므로, 가장 어린 사람은 프랭크(Frank)입니다.\n"
     ]
    }
   ],
   "source": [
    "print(cot_response.choices[0].message.content)"
   ]
  },
  {
   "cell_type": "markdown",
   "metadata": {},
   "source": [
    "### 코드 디버깅"
   ]
  },
  {
   "cell_type": "code",
   "execution_count": 17,
   "metadata": {},
   "outputs": [],
   "source": [
    "prompt = \"\"\"\n",
    "다음과 같이 코드를 작성했더니 에러가 발생합니다. 왜죠?\n",
    "\n",
    "def add_numbers(a,b):\n",
    "return a+b\n",
    "\n",
    "print(add_numbers(1,2))\n",
    "\n",
    "\"\"\"\n",
    "\n",
    "\n",
    "cot_prompt = \"\"\"\n",
    "다음과 같이 코드를 작성했더니 에러가 발생합니다.\n",
    "실수가 무엇인지 찾아 단계별로 설명해주세요.\n",
    "\n",
    "def add_numbers(a,b):\n",
    "return a+b\n",
    "\n",
    "print(add_numbers(1,2))\n",
    "\"\"\""
   ]
  },
  {
   "cell_type": "code",
   "execution_count": 18,
   "metadata": {},
   "outputs": [],
   "source": [
    "response = client.chat.completions.create(\n",
    "    model='gpt-4',\n",
    "    messages=[{'role':'user','content':prompt}]\n",
    ")\n",
    "\n",
    "\n",
    "cot_response = client.chat.completions.create(\n",
    "    model='gpt-4',\n",
    "    messages=[{'role':'user','content':cot_prompt}]\n",
    ")"
   ]
  },
  {
   "cell_type": "code",
   "execution_count": 19,
   "metadata": {},
   "outputs": [
    {
     "name": "stdout",
     "output_type": "stream",
     "text": [
      "코드의 들여쓰기(indentation)가 올바르지 않아 에러가 발생하였습니다. 파이썬은 들여쓰기를 매우 엄격하게 요구하는 언어입니다. 함수의 내용 부분은 반드시 들여쓰기를 해야합니다. 아래와 같이 코드를 수정하면 정상적으로 작동할 것입니다:\n",
      "\n",
      "```python\n",
      "def add_numbers(a,b):\n",
      "    return a+b\n",
      "\n",
      "print(add_numbers(1,2))\n",
      "```\n"
     ]
    }
   ],
   "source": [
    "print(response.choices[0].message.content)"
   ]
  },
  {
   "cell_type": "code",
   "execution_count": 20,
   "metadata": {},
   "outputs": [
    {
     "name": "stdout",
     "output_type": "stream",
     "text": [
      "해당 코드의 문제는 들여쓰기에 있습니다. 파이썬은 코드 블럭을 구분하기 위해 들여쓰기를 사용합니다.\n",
      "\n",
      "```\n",
      "def add_numbers(a,b):\n",
      "    return a+b\n",
      "```\n",
      "\n",
      "위 코드는 올바르게 수정된 코드입니다. 함수 내부를 구현하는 부분인 'return a+b'는 함수 add_numbers의 영역에 속해있음을 표시하기 위해 들여쓰기 되어야 합니다.\n",
      "\n",
      "'print(add_numbers(1,2))' 는 이미 올바르게 작성되어 있어 추가 수정이 필요 없습니다. 이 부분은 add_numbers 함수에 1과 2를 인자로 넘겨주고, 그 결과를 출력하는 역할을 합니다.\n",
      "\n",
      "요약하면, 당신의 코드는 들여쓰기 문제를 가지고 있었습니다. 파이썬은 들여쓰기를 사용하여 코드의 구조를 파악합니다. 함수 내부의 코드는 함수 선언보다 한 단계 들여써야 합니다. 이를 해결하지 않으면 파이썬은 코드의 구조를 제대로 파악하지 못하므로 에러가 발생합니다.\n"
     ]
    }
   ],
   "source": [
    "print(cot_response.choices[0].message.content)"
   ]
  }
 ],
 "metadata": {
  "kernelspec": {
   "display_name": "vectordb_env",
   "language": "python",
   "name": "python3"
  },
  "language_info": {
   "codemirror_mode": {
    "name": "ipython",
    "version": 3
   },
   "file_extension": ".py",
   "mimetype": "text/x-python",
   "name": "python",
   "nbconvert_exporter": "python",
   "pygments_lexer": "ipython3",
   "version": "3.9.21"
  }
 },
 "nbformat": 4,
 "nbformat_minor": 2
}
