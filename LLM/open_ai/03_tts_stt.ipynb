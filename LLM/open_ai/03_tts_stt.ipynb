{
  "cells": [
    {
      "cell_type": "code",
      "execution_count": 1,
      "metadata": {
        "colab": {
          "base_uri": "https://localhost:8080/"
        },
        "id": "z-W54oPVML0F",
        "outputId": "9ca973f4-dcee-4588-9eea-4ccc0cd5afaf"
      },
      "outputs": [
        {
          "name": "stdout",
          "output_type": "stream",
          "text": [
            "Collecting dotenv\n",
            "  Downloading dotenv-0.9.9-py2.py3-none-any.whl.metadata (279 bytes)\n",
            "Requirement already satisfied: python-dotenv in c:\\users\\ljh10\\anaconda3\\envs\\pystudy_env\\lib\\site-packages (from dotenv) (1.0.1)\n",
            "Downloading dotenv-0.9.9-py2.py3-none-any.whl (1.9 kB)\n",
            "Installing collected packages: dotenv\n",
            "Successfully installed dotenv-0.9.9\n"
          ]
        }
      ],
      "source": [
        "!pip install dotenv"
      ]
    },
    {
      "cell_type": "code",
      "execution_count": null,
      "metadata": {
        "colab": {
          "base_uri": "https://localhost:8080/"
        },
        "id": "kJKyPum-MFtR",
        "outputId": "342c2122-6e54-46a3-8f51-440544039535"
      },
      "outputs": [
        {
          "data": {
            "text/plain": [
              "True"
            ]
          },
          "execution_count": 2,
          "metadata": {},
          "output_type": "execute_result"
        }
      ],
      "source": [
        "from dotenv import load_dotenv\n",
        "load_dotenv()"
      ]
    },
    {
      "cell_type": "markdown",
      "metadata": {
        "id": "ytsLwm2oLLuq"
      },
      "source": [
        "# TTS (Text To Speech)\n",
        "- TTS 모델은 텍스트를 자연스러운 음성으로 변환하는 AI 모델이다.\n",
        "  - tts-1 : 실시간 텍스트-음성 변환에 최적화된 최신 모델로 속도에 중점. 텍스트를 음성으로 빠르게 변환하는 기능 제공.\n",
        "  - tts-1-hd : 품질에 최적화된 최신 텍스트-음성 변환 모델로 높은 품질에 중점. 음성의 자연스러움과 선명도 강조"
      ]
    },
    {
      "cell_type": "code",
      "execution_count": null,
      "metadata": {
        "id": "eEEt7j8RMZES"
      },
      "outputs": [],
      "source": [
        "from openai import OpenAI\n",
        "client = OpenAI()\n",
        "\n",
        "input_text = '나는 오늘도 외롭다. 여자친구가 없기 때문이다. 그래서 슬프다.'\n",
        "\n",
        "with client.audio.speech.with_streaming_response.create(\n",
        "    model='tts-1',\n",
        "    voice='fable',\n",
        "    input = input_text\n",
        ") as response:\n",
        "  response.stream_to_file('tts_output.mp3')"
      ]
    },
    {
      "cell_type": "markdown",
      "metadata": {
        "id": "XmkQ0zolLSaS"
      },
      "source": [
        "# STT (Speech to Text)\n",
        "- Whisper는 OpenAI에서 개발한 범용 음성 인식 모델로, 다양한 오디오 데이터셋을 학습하여 다국어 음성 인식, 음성 번역, 언어 식별 등의 작업을 수행할 수 있다."
      ]
    },
    {
      "cell_type": "code",
      "execution_count": null,
      "metadata": {
        "colab": {
          "base_uri": "https://localhost:8080/"
        },
        "id": "WYGfhOrSOi40",
        "outputId": "22448cdf-1c90-440e-929c-b28302e017e5"
      },
      "outputs": [
        {
          "name": "stdout",
          "output_type": "stream",
          "text": [
            "Transcription(text='나는 오늘도 외롭다. 여자친구가 없기 때문이다. 그래서 슬프다.')\n"
          ]
        }
      ],
      "source": [
        "from openai import OpenAI\n",
        "\n",
        "client = OpenAI()\n",
        "\n",
        "with open('tts_output.mp3', 'rb')as f:\n",
        "  transcriptions = client.audio.transcriptions.create(\n",
        "      model='whisper-1',\n",
        "      file=f\n",
        "  )\n",
        "  print(transcriptions)"
      ]
    },
    {
      "cell_type": "markdown",
      "metadata": {
        "id": "xuUqfIPEoRk1"
      },
      "source": [
        "---"
      ]
    },
    {
      "cell_type": "markdown",
      "metadata": {
        "id": "VGKb3nepoSn0"
      },
      "source": [
        "# gTTS"
      ]
    },
    {
      "cell_type": "code",
      "execution_count": 2,
      "metadata": {
        "colab": {
          "base_uri": "https://localhost:8080/"
        },
        "id": "gPvRS4IWoUJn",
        "outputId": "ef955a24-1588-4ef4-db3a-dcac764f2e95"
      },
      "outputs": [
        {
          "name": "stdout",
          "output_type": "stream",
          "text": [
            "Collecting gtts\n",
            "  Downloading gTTS-2.5.4-py3-none-any.whl.metadata (4.1 kB)\n",
            "Requirement already satisfied: requests<3,>=2.27 in c:\\users\\ljh10\\anaconda3\\envs\\pystudy_env\\lib\\site-packages (from gtts) (2.32.3)\n",
            "Requirement already satisfied: click<8.2,>=7.1 in c:\\users\\ljh10\\anaconda3\\envs\\pystudy_env\\lib\\site-packages (from gtts) (8.1.7)\n",
            "Requirement already satisfied: colorama in c:\\users\\ljh10\\anaconda3\\envs\\pystudy_env\\lib\\site-packages (from click<8.2,>=7.1->gtts) (0.4.6)\n",
            "Requirement already satisfied: charset-normalizer<4,>=2 in c:\\users\\ljh10\\anaconda3\\envs\\pystudy_env\\lib\\site-packages (from requests<3,>=2.27->gtts) (3.4.0)\n",
            "Requirement already satisfied: idna<4,>=2.5 in c:\\users\\ljh10\\anaconda3\\envs\\pystudy_env\\lib\\site-packages (from requests<3,>=2.27->gtts) (3.10)\n",
            "Requirement already satisfied: urllib3<3,>=1.21.1 in c:\\users\\ljh10\\anaconda3\\envs\\pystudy_env\\lib\\site-packages (from requests<3,>=2.27->gtts) (2.2.3)\n",
            "Requirement already satisfied: certifi>=2017.4.17 in c:\\users\\ljh10\\anaconda3\\envs\\pystudy_env\\lib\\site-packages (from requests<3,>=2.27->gtts) (2024.12.14)\n",
            "Downloading gTTS-2.5.4-py3-none-any.whl (29 kB)\n",
            "Installing collected packages: gtts\n",
            "Successfully installed gtts-2.5.4\n"
          ]
        }
      ],
      "source": [
        "!pip install gtts"
      ]
    },
    {
      "cell_type": "code",
      "execution_count": null,
      "metadata": {
        "id": "wLx_xGoLorMK"
      },
      "outputs": [],
      "source": [
        "# Text -> Speech 음성저장\n",
        "from gtts import gTTS\n",
        "\n",
        "tts = gTTS(text='안녕하세요, 저는 다람쥐입니다. 좋은 아침입니다!', lang='ko')\n",
        "\n",
        "tts.save('gtts_output.mp3')"
      ]
    },
    {
      "cell_type": "markdown",
      "metadata": {},
      "source": [
        "# SpeechRecognition"
      ]
    },
    {
      "cell_type": "code",
      "execution_count": 3,
      "metadata": {
        "colab": {
          "base_uri": "https://localhost:8080/"
        },
        "id": "KC1jbzJip_5K",
        "outputId": "3ef9a008-83ce-4f5c-bba6-3a1d1992df23"
      },
      "outputs": [
        {
          "name": "stdout",
          "output_type": "stream",
          "text": [
            "Collecting SpeechRecognition\n",
            "  Downloading SpeechRecognition-3.14.1-py3-none-any.whl.metadata (31 kB)\n",
            "Requirement already satisfied: typing-extensions in c:\\users\\ljh10\\anaconda3\\envs\\pystudy_env\\lib\\site-packages (from SpeechRecognition) (4.12.2)\n",
            "Downloading SpeechRecognition-3.14.1-py3-none-any.whl (32.9 MB)\n",
            "   ---------------------------------------- 0.0/32.9 MB ? eta -:--:--\n",
            "   -- ------------------------------------- 2.4/32.9 MB 12.2 MB/s eta 0:00:03\n",
            "   --- ------------------------------------ 3.1/32.9 MB 12.3 MB/s eta 0:00:03\n",
            "   ----- ---------------------------------- 4.2/32.9 MB 7.0 MB/s eta 0:00:05\n",
            "   ------- -------------------------------- 6.6/32.9 MB 7.9 MB/s eta 0:00:04\n",
            "   ----------- ---------------------------- 9.2/32.9 MB 8.8 MB/s eta 0:00:03\n",
            "   -------------- ------------------------- 11.5/32.9 MB 9.2 MB/s eta 0:00:03\n",
            "   ---------------- ----------------------- 13.9/32.9 MB 9.6 MB/s eta 0:00:02\n",
            "   ------------------- -------------------- 16.0/32.9 MB 9.7 MB/s eta 0:00:02\n",
            "   ---------------------- ----------------- 18.6/32.9 MB 10.0 MB/s eta 0:00:02\n",
            "   ------------------------- -------------- 20.7/32.9 MB 10.0 MB/s eta 0:00:02\n",
            "   ---------------------------- ----------- 23.3/32.9 MB 10.2 MB/s eta 0:00:01\n",
            "   ------------------------------- -------- 25.7/32.9 MB 10.3 MB/s eta 0:00:01\n",
            "   ---------------------------------- ----- 28.3/32.9 MB 10.4 MB/s eta 0:00:01\n",
            "   ----------------------------------- ---- 29.1/32.9 MB 10.0 MB/s eta 0:00:01\n",
            "   -------------------------------------- - 31.5/32.9 MB 10.1 MB/s eta 0:00:01\n",
            "   ---------------------------------------- 32.9/32.9 MB 9.8 MB/s eta 0:00:00\n",
            "Installing collected packages: SpeechRecognition\n",
            "Successfully installed SpeechRecognition-3.14.1\n"
          ]
        }
      ],
      "source": [
        "!pip install SpeechRecognition"
      ]
    },
    {
      "cell_type": "code",
      "execution_count": 4,
      "metadata": {
        "colab": {
          "base_uri": "https://localhost:8080/"
        },
        "id": "vzDDtH5Vqag9",
        "outputId": "9fc136be-a8fa-4da1-eff4-5682e10b631b"
      },
      "outputs": [
        {
          "name": "stdout",
          "output_type": "stream",
          "text": [
            "Collecting pyaudio\n",
            "  Downloading PyAudio-0.2.14-cp312-cp312-win_amd64.whl.metadata (2.7 kB)\n",
            "Downloading PyAudio-0.2.14-cp312-cp312-win_amd64.whl (164 kB)\n",
            "Installing collected packages: pyaudio\n",
            "Successfully installed pyaudio-0.2.14\n"
          ]
        }
      ],
      "source": [
        "!pip install pyaudio"
      ]
    },
    {
      "cell_type": "code",
      "execution_count": 5,
      "metadata": {},
      "outputs": [
        {
          "name": "stdout",
          "output_type": "stream",
          "text": [
            "Collecting pydub\n",
            "  Downloading pydub-0.25.1-py2.py3-none-any.whl.metadata (1.4 kB)\n",
            "Downloading pydub-0.25.1-py2.py3-none-any.whl (32 kB)\n",
            "Installing collected packages: pydub\n",
            "Successfully installed pydub-0.25.1\n"
          ]
        }
      ],
      "source": [
        "!pip install pydub"
      ]
    },
    {
      "cell_type": "code",
      "execution_count": null,
      "metadata": {
        "colab": {
          "base_uri": "https://localhost:8080/",
          "height": 395
        },
        "id": "1OCOISY2pfxK",
        "outputId": "f42e0d6c-3b9d-4890-eb2f-6be90124ac11"
      },
      "outputs": [
        {
          "name": "stdout",
          "output_type": "stream",
          "text": [
            "말씀하세요\n"
          ]
        },
        {
          "ename": "UnknownValueError",
          "evalue": "",
          "output_type": "error",
          "traceback": [
            "\u001b[1;31m---------------------------------------------------------------------------\u001b[0m",
            "\u001b[1;31mUnknownValueError\u001b[0m                         Traceback (most recent call last)",
            "Cell \u001b[1;32mIn[8], line 9\u001b[0m\n\u001b[0;32m      7\u001b[0m \u001b[38;5;28mprint\u001b[39m(\u001b[38;5;124m'\u001b[39m\u001b[38;5;124m말씀하세요\u001b[39m\u001b[38;5;124m'\u001b[39m)\n\u001b[0;32m      8\u001b[0m audio \u001b[38;5;241m=\u001b[39m recognizer\u001b[38;5;241m.\u001b[39mlisten(source)\n\u001b[1;32m----> 9\u001b[0m txt \u001b[38;5;241m=\u001b[39m \u001b[43mrecognizer\u001b[49m\u001b[38;5;241;43m.\u001b[39;49m\u001b[43mrecognize_google\u001b[49m\u001b[43m(\u001b[49m\u001b[43maudio\u001b[49m\u001b[43m,\u001b[49m\u001b[43m \u001b[49m\u001b[43mlanguage\u001b[49m\u001b[38;5;241;43m=\u001b[39;49m\u001b[38;5;124;43m'\u001b[39;49m\u001b[38;5;124;43mko-KR\u001b[39;49m\u001b[38;5;124;43m'\u001b[39;49m\u001b[43m)\u001b[49m\n\u001b[0;32m     10\u001b[0m \u001b[38;5;28mprint\u001b[39m(txt)\n",
            "File \u001b[1;32mc:\\Users\\ljh10\\anaconda3\\envs\\pystudy_env\\Lib\\site-packages\\speech_recognition\\recognizers\\google.py:262\u001b[0m, in \u001b[0;36mrecognize_legacy\u001b[1;34m(recognizer, audio_data, key, language, pfilter, show_all, with_confidence, endpoint)\u001b[0m\n\u001b[0;32m    255\u001b[0m response_text \u001b[38;5;241m=\u001b[39m obtain_transcription(\n\u001b[0;32m    256\u001b[0m     request, timeout\u001b[38;5;241m=\u001b[39mrecognizer\u001b[38;5;241m.\u001b[39moperation_timeout\n\u001b[0;32m    257\u001b[0m )\n\u001b[0;32m    259\u001b[0m output_parser \u001b[38;5;241m=\u001b[39m OutputParser(\n\u001b[0;32m    260\u001b[0m     show_all\u001b[38;5;241m=\u001b[39mshow_all, with_confidence\u001b[38;5;241m=\u001b[39mwith_confidence\n\u001b[0;32m    261\u001b[0m )\n\u001b[1;32m--> 262\u001b[0m \u001b[38;5;28;01mreturn\u001b[39;00m \u001b[43moutput_parser\u001b[49m\u001b[38;5;241;43m.\u001b[39;49m\u001b[43mparse\u001b[49m\u001b[43m(\u001b[49m\u001b[43mresponse_text\u001b[49m\u001b[43m)\u001b[49m\n",
            "File \u001b[1;32mc:\\Users\\ljh10\\anaconda3\\envs\\pystudy_env\\Lib\\site-packages\\speech_recognition\\recognizers\\google.py:134\u001b[0m, in \u001b[0;36mOutputParser.parse\u001b[1;34m(self, response_text)\u001b[0m\n\u001b[0;32m    133\u001b[0m \u001b[38;5;28;01mdef\u001b[39;00m \u001b[38;5;21mparse\u001b[39m(\u001b[38;5;28mself\u001b[39m, response_text: \u001b[38;5;28mstr\u001b[39m):\n\u001b[1;32m--> 134\u001b[0m     actual_result \u001b[38;5;241m=\u001b[39m \u001b[38;5;28;43mself\u001b[39;49m\u001b[38;5;241;43m.\u001b[39;49m\u001b[43mconvert_to_result\u001b[49m\u001b[43m(\u001b[49m\u001b[43mresponse_text\u001b[49m\u001b[43m)\u001b[49m\n\u001b[0;32m    135\u001b[0m     \u001b[38;5;28;01mif\u001b[39;00m \u001b[38;5;28mself\u001b[39m\u001b[38;5;241m.\u001b[39mshow_all:\n\u001b[0;32m    136\u001b[0m         \u001b[38;5;28;01mreturn\u001b[39;00m actual_result\n",
            "File \u001b[1;32mc:\\Users\\ljh10\\anaconda3\\envs\\pystudy_env\\Lib\\site-packages\\speech_recognition\\recognizers\\google.py:183\u001b[0m, in \u001b[0;36mOutputParser.convert_to_result\u001b[1;34m(response_text)\u001b[0m\n\u001b[0;32m    181\u001b[0m             \u001b[38;5;28;01mraise\u001b[39;00m UnknownValueError()\n\u001b[0;32m    182\u001b[0m         \u001b[38;5;28;01mreturn\u001b[39;00m result[\u001b[38;5;241m0\u001b[39m]\n\u001b[1;32m--> 183\u001b[0m \u001b[38;5;28;01mraise\u001b[39;00m UnknownValueError()\n",
            "\u001b[1;31mUnknownValueError\u001b[0m: "
          ]
        }
      ],
      "source": [
        "# 음성입력 -> 텍스트\n",
        "import speech_recognition as sr\n",
        "\n",
        "recognizer = sr.Recognizer()\n",
        "\n",
        "while True: # 마이크로부터 음성을 계속 입력받기 위한 무한 루프\n",
        "  with sr.Microphone() as source: # 마이크로부터 음성 감지\n",
        "    print('말씀하세요')\n",
        "    audio = recognizer.listen(source) #음성 데이터 수집\n",
        "    txt = recognizer.recognize_google(audio, language='ko-KR')# 음성 -> 텍스트 변환환\n",
        "    print(txt)"
      ]
    },
    {
      "cell_type": "code",
      "execution_count": null,
      "metadata": {},
      "outputs": [
        {
          "name": "stdout",
          "output_type": "stream",
          "text": [
            "안녕하세요 저는 다람쥐입니다 좋은 아침입니다\n"
          ]
        }
      ],
      "source": [
        "from pydub import AudioSegment\n",
        "import speech_recognition as sr\n",
        "\n",
        "# mp3 -> wav 변환\n",
        "audio = AudioSegment.from_mp3('gtts_output.mp3')\n",
        "audio.export('gtts_output_wav.wav', format='wav')\n",
        "\n",
        "# 파일 로드\n",
        "r = sr.Recognizer() \n",
        "input_audio = sr.AudioFile('gtts_output_wav.wav')\n",
        "\n",
        "# 음성 데이터 읽기\n",
        "with input_audio as source:\n",
        "    audio = r.record(source)\n",
        "\n",
        "# 음성 데이터 -> 텍스트 변환\n",
        "result_txt = r.recognize_google(audio_data = audio, language='ko-KR')\n",
        "print(result_txt)\n"
      ]
    }
  ],
  "metadata": {
    "colab": {
      "provenance": []
    },
    "kernelspec": {
      "display_name": "pystudy_env",
      "language": "python",
      "name": "python3"
    },
    "language_info": {
      "codemirror_mode": {
        "name": "ipython",
        "version": 3
      },
      "file_extension": ".py",
      "mimetype": "text/x-python",
      "name": "python",
      "nbconvert_exporter": "python",
      "pygments_lexer": "ipython3",
      "version": "3.12.8"
    }
  },
  "nbformat": 4,
  "nbformat_minor": 0
}
