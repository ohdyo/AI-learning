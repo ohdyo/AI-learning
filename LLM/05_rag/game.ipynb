{
 "cells": [
  {
   "cell_type": "code",
   "execution_count": 2,
   "metadata": {},
   "outputs": [
    {
     "data": {
      "text/plain": [
       "True"
      ]
     },
     "execution_count": 2,
     "metadata": {},
     "output_type": "execute_result"
    }
   ],
   "source": [
    "from dotenv import load_dotenv\n",
    "load_dotenv()"
   ]
  },
  {
   "cell_type": "code",
   "execution_count": 9,
   "metadata": {},
   "outputs": [
    {
     "data": {
      "text/plain": [
       "{'단어장': ['코끼리', '마리 앙투아네트']}"
      ]
     },
     "execution_count": 9,
     "metadata": {},
     "output_type": "execute_result"
    }
   ],
   "source": [
    "import json\n",
    "from openai import OpenAI\n",
    "\n",
    "client_topic = OpenAI()\n",
    "\n",
    "# 지금까지 질문한 내용 + 정답 + 주제 저장 변수\n",
    "user_que_history = []\n",
    "ai_que_history = []\n",
    "\n",
    "user_to_ai_ans = ''\n",
    "ai_to_user_ans = ''\n",
    "\n",
    "topic = ''\n",
    "\n",
    "# 게임이 시작되기 전에 주제 선정을 위한 chat api 호출\n",
    "topic_response = client_topic.chat.completions.create(\n",
    "    model=\"gpt-4o\",\n",
    "    messages=[\n",
    "        {\n",
    "            \"role\": \"system\",\n",
    "            \"content\": [\n",
    "                {\n",
    "                    \"type\": \"text\",\n",
    "                    \"text\": \"\"\"너는 단어를 골라주는 챗봇이야.\n",
    "                                *** 지시 사항 ***\n",
    "                                - 단어장 형식으로 만들 것\n",
    "                                - 단어 2개만 뽑을 것\n",
    "                                - 중복되는 단어는 안됨\n",
    "                                - 사물, 사람 이름, 가리지 않고 다양하게 섞어서 만들것\n",
    "                                \n",
    "\n",
    "                                *** 출력 형식 ***\n",
    "                                - 단어장 : [단어1, 단어2]\n",
    "\n",
    "                                *** 예시 ***\n",
    "                                - 단어장 : ['율곡 이이', '로제']\n",
    "\n",
    "                    \"\"\"\n",
    "                }\n",
    "            ]\n",
    "        },\n",
    "        {\n",
    "            \"role\": \"user\",\n",
    "            \"content\": [\n",
    "                {\n",
    "                    \"type\": \"text\",\n",
    "                    \"text\": \"단어를 선정해서 json형식으로 넘겨줘 \"\n",
    "                }\n",
    "            ]\n",
    "        }\n",
    "    ],\n",
    "    response_format={\n",
    "        \"type\": \"json_object\"\n",
    "    },\n",
    "    temperature=0.5,\n",
    "    max_tokens=2048,\n",
    "    top_p=1,\n",
    "    frequency_penalty=0,\n",
    "    presence_penalty=0\n",
    ")\n",
    "\n",
    "response = json.loads(topic_response.choices[0].message.content)\n",
    "response"
   ]
  },
  {
   "cell_type": "code",
   "execution_count": 4,
   "metadata": {},
   "outputs": [
    {
     "data": {
      "text/plain": [
       "'영화 제목'"
      ]
     },
     "execution_count": 4,
     "metadata": {},
     "output_type": "execute_result"
    }
   ],
   "source": [
    "import random\n",
    "\n",
    "# 0~9까지 랜덤 돌려\n",
    "topic_num = random.randint(0,9)\n",
    "topic = response['단어장'][topic_num]\n",
    "topic\n"
   ]
  },
  {
   "cell_type": "code",
   "execution_count": null,
   "metadata": {},
   "outputs": [],
   "source": [
    "# 지금까지 질문한 내용 + 정답 + 주제 저장 변수\n",
    "user_que_history = []\n",
    "ai_que_history = []\n",
    "\n",
    "user_to_ai_ans = ''\n",
    "ai_to_user_ans = ''\n",
    "\n",
    "topic = ''"
   ]
  },
  {
   "cell_type": "code",
   "execution_count": null,
   "metadata": {},
   "outputs": [],
   "source": [
    "def choice_word():\n",
    "    client_topic = OpenAI()\n",
    "\n",
    "    # 게임이 시작되기 전에 주제 선정을 위한 chat api 호출\n",
    "    topic_response = client_topic.chat.completions.create(\n",
    "        model=\"gpt-4o\",\n",
    "        messages=[\n",
    "            {\n",
    "                \"role\": \"system\",\n",
    "                \"content\": [\n",
    "                    {\n",
    "                        \"type\": \"text\",\n",
    "                        \"text\": \"\"\"너는 단어를 골라주는 챗봇이야.\n",
    "                                    *** 지시 사항 ***\n",
    "                                    - 단어장 형식으로 만들 것\n",
    "                                    - 단어 2개만 뽑을 것\n",
    "                                    - 중복되는 단어는 안됨\n",
    "                                    - 사물, 사람 이름, 가리지 않고 다양하게 섞어서 만들것\n",
    "                                    \n",
    "\n",
    "                                    *** 출력 형식 ***\n",
    "                                    - 단어장 : [단어1, 단어2]\n",
    "\n",
    "                                    *** 예시 ***\n",
    "                                    - 단어장 : ['율곡 이이', '로제']\n",
    "\n",
    "                        \"\"\"\n",
    "                    }\n",
    "                ]\n",
    "            },\n",
    "            {\n",
    "                \"role\": \"user\",\n",
    "                \"content\": [\n",
    "                    {\n",
    "                        \"type\": \"text\",\n",
    "                        \"text\": \"단어를 선정해서 json형식으로 넘겨줘 \"\n",
    "                    }\n",
    "                ]\n",
    "            }\n",
    "        ],\n",
    "        response_format={\n",
    "            \"type\": \"json_object\"\n",
    "        },\n",
    "        temperature=0.5,\n",
    "        max_tokens=2048,\n",
    "        top_p=1,\n",
    "        frequency_penalty=0,\n",
    "        presence_penalty=0\n",
    "    )\n",
    "\n",
    "    response = json.loads(topic_response.choices[0].message.content)\n",
    "    return response['단어장'][0], response['단어장'][1]"
   ]
  },
  {
   "cell_type": "code",
   "execution_count": null,
   "metadata": {},
   "outputs": [
    {
     "data": {
      "text/plain": [
       "('바이올린', '아인슈타인')"
      ]
     },
     "execution_count": 11,
     "metadata": {},
     "output_type": "execute_result"
    }
   ],
   "source": [
    "word_for_user, word_for_bot = choice_word()\n",
    "word_for_user, word_for_bot"
   ]
  },
  {
   "cell_type": "code",
   "execution_count": null,
   "metadata": {},
   "outputs": [],
   "source": [
    "def chat_with_ai(user_question):\n",
    "    client_question_user_to_ai = OpenAI()\n",
    "    \n",
    "    # 사용자 질문에 대한 답변을 위한 chat api 호출\n",
    "    response = client_question_user_to_ai.chat.completions.create(\n",
    "        model = 'gpt-4o-mini',\n",
    "        messages=[\n",
    "            {\n",
    "                \"role\": \"system\",\n",
    "                \"content\": [\n",
    "                    {\n",
    "                        \"type\": \"text\",\n",
    "                        \"text\": f\"\"\n",
    "                    }\n",
    "                ]\n",
    "            },\n",
    "            {\n",
    "                \"role\": \"user\",\n",
    "                \"content\": [\n",
    "                    {\n",
    "                        \"type\": \"text\",\n",
    "                        \"text\": user_question\n",
    "                    }\n",
    "                ]\n",
    "            }\n",
    "        ],\n",
    "    )"
   ]
  },
  {
   "cell_type": "code",
   "execution_count": null,
   "metadata": {},
   "outputs": [],
   "source": []
  }
 ],
 "metadata": {
  "kernelspec": {
   "display_name": "vectordb_env",
   "language": "python",
   "name": "python3"
  },
  "language_info": {
   "codemirror_mode": {
    "name": "ipython",
    "version": 3
   },
   "file_extension": ".py",
   "mimetype": "text/x-python",
   "name": "python",
   "nbconvert_exporter": "python",
   "pygments_lexer": "ipython3",
   "version": "3.9.21"
  }
 },
 "nbformat": 4,
 "nbformat_minor": 2
}
