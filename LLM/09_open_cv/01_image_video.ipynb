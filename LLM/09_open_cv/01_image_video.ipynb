{
 "cells": [
  {
   "cell_type": "markdown",
   "metadata": {},
   "source": [
    "# OpenCV\n",
    "- 오픈소스 컴퓨터 비전 라이브러리\n",
    "\n",
    "**주요 기능**\n",
    "1. 이미지 처리\n",
    "2. 비디오 분석\n",
    "3. 컴퓨터 비전 알고리즘\n",
    "4. 딥러닝 통합"
   ]
  },
  {
   "cell_type": "code",
   "execution_count": null,
   "metadata": {},
   "outputs": [
    {
     "name": "stdout",
     "output_type": "stream",
     "text": [
      "Collecting opencv-python\n",
      "  Downloading opencv_python-4.11.0.86-cp37-abi3-win_amd64.whl.metadata (20 kB)\n",
      "Requirement already satisfied: numpy>=1.17.0 in c:\\users\\ljh10\\anaconda3\\envs\\vectordb_env\\lib\\site-packages (from opencv-python) (1.26.4)\n",
      "Downloading opencv_python-4.11.0.86-cp37-abi3-win_amd64.whl (39.5 MB)\n",
      "   ---------------------------------------- 0.0/39.5 MB ? eta -:--:--\n",
      "   -- ------------------------------------- 2.4/39.5 MB 12.3 MB/s eta 0:00:04\n",
      "   ----- ---------------------------------- 5.0/39.5 MB 12.1 MB/s eta 0:00:03\n",
      "   ------- -------------------------------- 7.3/39.5 MB 11.9 MB/s eta 0:00:03\n",
      "   --------- ------------------------------ 9.7/39.5 MB 11.9 MB/s eta 0:00:03\n",
      "   ------------ --------------------------- 12.3/39.5 MB 11.7 MB/s eta 0:00:03\n",
      "   -------------- ------------------------- 14.7/39.5 MB 11.8 MB/s eta 0:00:03\n",
      "   ----------------- ---------------------- 17.3/39.5 MB 11.9 MB/s eta 0:00:02\n",
      "   ------------------- -------------------- 19.7/39.5 MB 11.8 MB/s eta 0:00:02\n",
      "   ---------------------- ----------------- 22.0/39.5 MB 11.7 MB/s eta 0:00:02\n",
      "   ------------------------ --------------- 24.6/39.5 MB 11.7 MB/s eta 0:00:02\n",
      "   --------------------------- ------------ 27.3/39.5 MB 11.8 MB/s eta 0:00:02\n",
      "   ------------------------------ --------- 29.6/39.5 MB 11.7 MB/s eta 0:00:01\n",
      "   -------------------------------- ------- 32.0/39.5 MB 11.7 MB/s eta 0:00:01\n",
      "   ---------------------------------- ----- 34.3/39.5 MB 11.8 MB/s eta 0:00:01\n",
      "   ------------------------------------- -- 37.0/39.5 MB 11.7 MB/s eta 0:00:01\n",
      "   ---------------------------------------  39.3/39.5 MB 11.7 MB/s eta 0:00:01\n",
      "   ---------------------------------------- 39.5/39.5 MB 11.5 MB/s eta 0:00:00\n",
      "Installing collected packages: opencv-python\n",
      "Successfully installed opencv-python-4.11.0.86\n"
     ]
    }
   ],
   "source": [
    "# !pip install opencv-python"
   ]
  },
  {
   "cell_type": "code",
   "execution_count": 2,
   "metadata": {},
   "outputs": [],
   "source": [
    "import cv2\n",
    "\n",
    "img = cv2.imread('dog.png')\n",
    "img = cv2.imread('dog.png', cv2.IMREAD_COLOR) # 기본으로 IMREAD_COLOR이 값으로 들어가 있음\n",
    "img = cv2.imread('dog.png', cv2.IMREAD_GRAYSCALE)\n",
    "\n",
    "cv2.imshow('My Image', img)\n",
    "cv2.waitKey(0)\n",
    "cv2.destroyAllWindows()"
   ]
  },
  {
   "cell_type": "code",
   "execution_count": 3,
   "metadata": {},
   "outputs": [
    {
     "name": "stdout",
     "output_type": "stream",
     "text": [
      "<class 'numpy.ndarray'>\n",
      "(688, 999)\n"
     ]
    }
   ],
   "source": [
    "print(type(img))\n",
    "print(img.shape)"
   ]
  },
  {
   "cell_type": "markdown",
   "metadata": {},
   "source": [
    "### 2. 동영상처리"
   ]
  },
  {
   "cell_type": "code",
   "execution_count": 1,
   "metadata": {},
   "outputs": [
    {
     "name": "stdout",
     "output_type": "stream",
     "text": [
      "350.0 25.0 640.0 360.0\n",
      "<class 'cv2.VideoCapture'>\n"
     ]
    }
   ],
   "source": [
    "import cv2\n",
    "\n",
    "cap = cv2.VideoCapture('video.mp4')\n",
    "\n",
    "frame_count = cap.get(cv2.CAP_PROP_FRAME_COUNT)\n",
    "fps = cap.get(cv2.CAP_PROP_FPS)\n",
    "width = cap.get(cv2.CAP_PROP_FRAME_WIDTH)\n",
    "height = cap.get(cv2.CAP_PROP_FRAME_HEIGHT)\n",
    "\n",
    "print(frame_count, fps, width, height)\n",
    "print(type(cap))\n",
    "\n",
    "while cap.isOpened():\n",
    "    ret, frame = cap.read()     # ret = 성공여부, frame = 프레임\n",
    "\n",
    "    if not ret:\n",
    "        break\n",
    "\n",
    "    cv2.imshow('My Video', frame)\n",
    "\n",
    "    if cv2.waitKey(int(1000/fps)) == ord('q'):\n",
    "        break\n",
    "\n",
    "cap.release()\n",
    "cv2.destroyAllWindows()\n",
    "\n",
    "    #print(ret, frame)"
   ]
  },
  {
   "cell_type": "code",
   "execution_count": 2,
   "metadata": {},
   "outputs": [],
   "source": [
    "import cv2\n",
    "\n",
    "cap = cv2.VideoCapture(0)\n",
    "\n",
    "if not cap.isOpened():\n",
    "    print('error: 웹캠을 열 수 없습니다.')\n",
    "    exit()\n",
    "\n",
    "while True:\n",
    "    ret, frame = cap.read()     # ret = 성공여부, frame = 프레임\n",
    "\n",
    "    if not ret:\n",
    "        break\n",
    "\n",
    "    cv2.imshow('My Webcam', frame)\n",
    "\n",
    "    if cv2.waitKey(1) == ord('q'):\n",
    "        break\n",
    "\n",
    "cap.release()\n",
    "cv2.destroyAllWindows()\n",
    "\n",
    "    #print(ret, frame)"
   ]
  }
 ],
 "metadata": {
  "kernelspec": {
   "display_name": "vectordb_env",
   "language": "python",
   "name": "python3"
  },
  "language_info": {
   "codemirror_mode": {
    "name": "ipython",
    "version": 3
   },
   "file_extension": ".py",
   "mimetype": "text/x-python",
   "name": "python",
   "nbconvert_exporter": "python",
   "pygments_lexer": "ipython3",
   "version": "3.9.21"
  }
 },
 "nbformat": 4,
 "nbformat_minor": 2
}
