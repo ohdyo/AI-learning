{
 "cells": [
  {
   "cell_type": "code",
   "execution_count": null,
   "metadata": {},
   "outputs": [],
   "source": [
    "import requests\n",
    "\n",
    "API_URL = \"https://api-inference.huggingface.co/models/midjourney-community/midjourney-mini\"\n",
    "headers = {\"Authorization\": \"Bearer \"}\n",
    "\n",
    "def query(payload):\n",
    "    response = requests.post(API_URL, headers=headers, json=payload)\n",
    "    return response.content\n",
    "image_bytes = query({\n",
    "    \"inputs\": \"Astronaut riding a horse\",\n",
    "})"
   ]
  },
  {
   "cell_type": "code",
   "execution_count": null,
   "metadata": {},
   "outputs": [],
   "source": [
    "!pip install diffusers"
   ]
  },
  {
   "cell_type": "code",
   "execution_count": 7,
   "metadata": {},
   "outputs": [
    {
     "name": "stderr",
     "output_type": "stream",
     "text": [
      "c:\\Users\\ljh10\\anaconda3\\envs\\vectordb_env\\lib\\site-packages\\huggingface_hub\\file_download.py:142: UserWarning: `huggingface_hub` cache-system uses symlinks by default to efficiently store duplicated files but your machine does not support them in C:\\Users\\ljh10\\.cache\\huggingface\\hub\\models--midjourney-community--midjourney-mini. Caching files will still work but in a degraded version that might require more space on your disk. This warning can be disabled by setting the `HF_HUB_DISABLE_SYMLINKS_WARNING` environment variable. For more details, see https://huggingface.co/docs/huggingface_hub/how-to-cache#limitations.\n",
      "To support symlinks on Windows, you either need to activate Developer Mode or to run Python as an administrator. In order to activate developer mode, see this article: https://docs.microsoft.com/en-us/windows/apps/get-started/enable-your-device-for-development\n",
      "  warnings.warn(message)\n",
      "Fetching 12 files: 100%|██████████| 12/12 [04:32<00:00, 22.69s/it]\n",
      "Loading pipeline components...:  20%|██        | 1/5 [00:00<00:02,  1.80it/s]An error occurred while trying to fetch C:\\Users\\ljh10\\.cache\\huggingface\\hub\\models--midjourney-community--midjourney-mini\\snapshots\\87f7e660d8ca59c19f2f6e60792ce32492a0bffc\\vae: Error no file named diffusion_pytorch_model.safetensors found in directory C:\\Users\\ljh10\\.cache\\huggingface\\hub\\models--midjourney-community--midjourney-mini\\snapshots\\87f7e660d8ca59c19f2f6e60792ce32492a0bffc\\vae.\n",
      "Defaulting to unsafe serialization. Pass `allow_pickle=False` to raise an error instead.\n",
      "Loading pipeline components...:  40%|████      | 2/5 [00:00<00:01,  2.81it/s]An error occurred while trying to fetch C:\\Users\\ljh10\\.cache\\huggingface\\hub\\models--midjourney-community--midjourney-mini\\snapshots\\87f7e660d8ca59c19f2f6e60792ce32492a0bffc\\unet: Error no file named diffusion_pytorch_model.safetensors found in directory C:\\Users\\ljh10\\.cache\\huggingface\\hub\\models--midjourney-community--midjourney-mini\\snapshots\\87f7e660d8ca59c19f2f6e60792ce32492a0bffc\\unet.\n",
      "Defaulting to unsafe serialization. Pass `allow_pickle=False` to raise an error instead.\n",
      "Loading pipeline components...: 100%|██████████| 5/5 [00:02<00:00,  2.34it/s]\n"
     ]
    }
   ],
   "source": [
    "from diffusers import DiffusionPipeline\n",
    "import os\n",
    "from uuid import uuid4\n",
    "pipeline = DiffusionPipeline.from_pretrained(\"midjourney-community/midjourney-mini\")\n",
    "\n",
    "def generate_image(prompt:str, save_dir:str='./generated_img'):\n",
    "    try:\n",
    "        if not os.path.exists(save_dir):\n",
    "            os.makedirs(save_dir)\n",
    "            \n",
    "        file_name = f'{uuid4()}.png'\n",
    "        file_path = os.path.join(save_dir,file_name)\n",
    "        \n",
    "        image = pipeline(prompt).images[0]\n",
    "        image.save(file_path)\n",
    "\n",
    "        return file_path\n",
    "\n",
    "    except Exception as e:\n",
    "        print(f'이미지 생성 중 오류 발생 | {e}')\n"
   ]
  },
  {
   "cell_type": "code",
   "execution_count": 8,
   "metadata": {},
   "outputs": [
    {
     "name": "stderr",
     "output_type": "stream",
     "text": [
      "100%|██████████| 50/50 [01:58<00:00,  2.36s/it]\n"
     ]
    },
    {
     "data": {
      "text/plain": [
       "'./generated_img\\\\008d5856-b357-4025-8e46-aa7b3dc042f7.png'"
      ]
     },
     "execution_count": 8,
     "metadata": {},
     "output_type": "execute_result"
    }
   ],
   "source": [
    "generate_image(input('이미지로 만들 프롬프트를 입력하세요: '))"
   ]
  }
 ],
 "metadata": {
  "kernelspec": {
   "display_name": "vectordb_env",
   "language": "python",
   "name": "python3"
  },
  "language_info": {
   "codemirror_mode": {
    "name": "ipython",
    "version": 3
   },
   "file_extension": ".py",
   "mimetype": "text/x-python",
   "name": "python",
   "nbconvert_exporter": "python",
   "pygments_lexer": "ipython3",
   "version": "3.9.21"
  }
 },
 "nbformat": 4,
 "nbformat_minor": 2
}
