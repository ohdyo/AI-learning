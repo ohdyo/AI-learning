{
 "cells": [
  {
   "cell_type": "markdown",
   "metadata": {},
   "source": [
    "# MediaPipe"
   ]
  },
  {
   "cell_type": "markdown",
   "metadata": {},
   "source": [
    "1. 실시간 손 인식 및 추적"
   ]
  },
  {
   "cell_type": "code",
   "execution_count": 2,
   "metadata": {},
   "outputs": [],
   "source": [
    "import cv2\n",
    "import mediapipe as mp\n",
    "import numpy as np\n",
    "\n",
    "mp_hands = mp.solutions.hands\n",
    "hands = mp_hands.Hands() # 손 추적 객체 생성\n",
    "\n",
    "mp_drawing = mp.solutions.drawing_utils"
   ]
  },
  {
   "cell_type": "code",
   "execution_count": null,
   "metadata": {},
   "outputs": [
    {
     "data": {
      "text/plain": [
       "-1"
      ]
     },
     "execution_count": 6,
     "metadata": {},
     "output_type": "execute_result"
    }
   ],
   "source": [
    "cap = cv2.VideoCapture(0)\n",
    "\n",
    "while cap.isOpened():\n",
    "    ret, frame = cap.read()\n",
    "    \n",
    "    frame = cv2.flip(frame, 1)\n",
    "    img_rgb = cv2.cvtColor(frame, cv2.COLOR_BGR2RGB)\n",
    "    \n",
    "    results = hands.process(img_rgb)\n",
    "    \n",
    "    if results.multi_hand_landmarks:\n",
    "        for hand_landmarks, hand_lr in zip(results.multi_hand_landmarks, results.multi_handedness):\n",
    "            label = hand_lr.classification[0].label\n",
    "            \n",
    "            img_h, img_w, _ = frame.shape\n",
    "            \n",
    "            mp_drawing.draw_landmarks(frame, hand_landmarks, mp_hands.HAND_CONNECTIONS)\n",
    "            \n",
    "            if label == 'Left':\n",
    "                cv2.putText(frame, 'Left', (20, 40), cv2.FONT_HERSHEY_SIMPLEX, 1, (0, 0, 255), 2)\n",
    "            else:\n",
    "                cv2.putText(frame, 'Right', (20, 40), cv2.FONT_HERSHEY_SIMPLEX, 1, (0, 0, 255), 2)\n",
    "                \n",
    "    cv2.imshow('Hand Tracking', frame)\n",
    "    \n",
    "    if cv2.waitKey(1) & 0xFF == ord('q'):\n",
    "        break\n",
    "    \n",
    "cap.release()\n",
    "cv2.destroyAllWindows()\n",
    "cv2.waitKey(1)"
   ]
  },
  {
   "cell_type": "markdown",
   "metadata": {},
   "source": [
    "### 2. 손가락 사이 거리 측정"
   ]
  },
  {
   "cell_type": "code",
   "execution_count": null,
   "metadata": {},
   "outputs": [
    {
     "data": {
      "text/plain": [
       "-1"
      ]
     },
     "execution_count": 8,
     "metadata": {},
     "output_type": "execute_result"
    }
   ],
   "source": [
    "cap = cv2.VideoCapture(0)\n",
    "\n",
    "while cap.isOpened():\n",
    "    ret, frame = cap.read()\n",
    "    \n",
    "    frame = cv2.flip(frame, 1)\n",
    "    img_rgb = cv2.cvtColor(frame, cv2.COLOR_BGR2RGB)\n",
    "    \n",
    "    results = hands.process(img_rgb)\n",
    "    \n",
    "    if results.multi_hand_landmarks:\n",
    "        for hand_landmarks, hand_lr in zip(results.multi_hand_landmarks, results.multi_handedness):\n",
    "            \n",
    "            #손목 좌표\n",
    "            wrist = hand_landmarks.landmark[mp_hands.HandLandmark.WRIST]\n",
    "\n",
    "            label = hand_lr.classification[0].label\n",
    "            \n",
    "            img_h, img_w, _ = frame.shape\n",
    "            \n",
    "            mp_drawing.draw_landmarks(frame, hand_landmarks, mp_hands.HAND_CONNECTIONS)\n",
    "            \n",
    "            if label == 'Left':\n",
    "                cv2.putText(frame, 'Left', (20, 40), cv2.FONT_HERSHEY_SIMPLEX, 1, (0, 0, 255), 2)\n",
    "            elif label == 'Right':\n",
    "                cv2.putText(frame, 'Right', (20, 40), cv2.FONT_HERSHEY_SIMPLEX, 1, (0, 0, 255), 2)\n",
    "\n",
    "            if label == 'Right':\n",
    "                thumb_tip = hand_landmarks.landmark[mp_hands.HandLandmark.THUMB_TIP]    #THUMB_TIP 엄지 손가락 좌표\n",
    "                index_finger_tip = hand_landmarks.landmark[mp_hands.HandLandmark.INDEX_FINGER_TIP]  # INDEX_FINGER_TIP 검지 손가락 좌표\n",
    "                \n",
    "                thumb_x = thumb_tip.x*img_w\n",
    "                thumb_y = thumb_tip.y*img_h\n",
    "                idx_finger_x = index_finger_tip.x*img_w \n",
    "                idx_finger_y = index_finger_tip.y*img_h\n",
    "                \n",
    "                point1 = np.array([thumb_x, thumb_y])\n",
    "                point2 = np.array([idx_finger_x,idx_finger_y])\n",
    "\n",
    "                distance = np.linalg.norm(point2 - point1)  # 유클리드 거리 계산\n",
    "                \n",
    "                cv2.putText(frame,str(int(distance)),(300,100),cv2.FONT_HERSHEY_SIMPLEX,1,(0,0,255),2)\n",
    "                \n",
    "    cv2.imshow('Hand Tracking', frame)\n",
    "    \n",
    "    if cv2.waitKey(1) & 0xFF == ord('q'):\n",
    "        break\n",
    "    \n",
    "cap.release()\n",
    "cv2.destroyAllWindows()\n",
    "cv2.waitKey(1)"
   ]
  },
  {
   "cell_type": "markdown",
   "metadata": {},
   "source": [
    "### 3. 손가락 관절 각도 계산"
   ]
  },
  {
   "cell_type": "code",
   "execution_count": 3,
   "metadata": {},
   "outputs": [],
   "source": [
    "def calculate_angle(a,b,c):\n",
    "    a = np.array(a)\n",
    "    b = np.array(b)\n",
    "    c = np.array(c)\n",
    "\n",
    "    ba = a-b\n",
    "    bc = c-b\n",
    "\n",
    "    cosangle = np.dot(ba,bc)/(np.linalg.norm(ba)*np.linalg.norm(bc))\n",
    "    arccos = np.arccos(cosangle)\n",
    "    return np.degrees(arccos)"
   ]
  },
  {
   "cell_type": "code",
   "execution_count": 4,
   "metadata": {},
   "outputs": [],
   "source": [
    "cap = cv2.VideoCapture(0)\n",
    "\n",
    "while cap.isOpened():\n",
    "    ret, frame = cap.read()\n",
    "\n",
    "    frame = cv2.flip(frame, 1)      # 좌우반전\n",
    "    img_rgb = cv2.cvtColor(frame, cv2.COLOR_BGR2RGB)\n",
    "\n",
    "    results = hands.process(img_rgb)\n",
    "\n",
    "    if results.multi_hand_landmarks:\n",
    "        for hand_landmarks, hand_lr in zip(results.multi_hand_landmarks, results.multi_handedness):\n",
    "                        \n",
    "            if1 = hand_landmarks.landmark[mp_hands.HandLandmark.INDEX_FINGER_MCP]\n",
    "            if2 = hand_landmarks.landmark[mp_hands.HandLandmark.INDEX_FINGER_PIP]\n",
    "            if3 = hand_landmarks.landmark[mp_hands.HandLandmark.INDEX_FINGER_DIP]\n",
    "\n",
    "            if1_list = [if1.x, if1.y, if1.z]\n",
    "            if2_list = [if2.x, if2.y, if2.z]\n",
    "            if3_list = [if3.x, if3.y, if3.z]\n",
    "            index_finger_degree = calculate_angle(if1_list, if2_list, if3_list)\n",
    "\n",
    "            if not np.isnan(index_finger_degree):\n",
    "                mp_drawing.draw_landmarks(frame, hand_landmarks, mp_hands.HAND_CONNECTIONS)\n",
    "                cv2.putText(frame, f'Index Finger Angle: {int(index_finger_degree)}', (10,30),cv2.FONT_HERSHEY_SIMPLEX,1,(255,0,0),2,cv2.LINE_AA)\n",
    "            \n",
    "\n",
    "    cv2.imshow('hand', frame)\n",
    "\n",
    "    if cv2.waitKey(1) & 0xFF == ord('q'):\n",
    "        break\n",
    "\n",
    "cap.release()\n",
    "cv2.destroyAllWindows()"
   ]
  },
  {
   "cell_type": "code",
   "execution_count": null,
   "metadata": {},
   "outputs": [],
   "source": []
  }
 ],
 "metadata": {
  "kernelspec": {
   "display_name": "vectordb_env",
   "language": "python",
   "name": "python3"
  },
  "language_info": {
   "codemirror_mode": {
    "name": "ipython",
    "version": 3
   },
   "file_extension": ".py",
   "mimetype": "text/x-python",
   "name": "python",
   "nbconvert_exporter": "python",
   "pygments_lexer": "ipython3",
   "version": "3.9.21"
  }
 },
 "nbformat": 4,
 "nbformat_minor": 2
}
