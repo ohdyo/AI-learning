{
 "cells": [
  {
   "cell_type": "markdown",
   "metadata": {},
   "source": [
    "# OCR(Optical Character Recognition)"
   ]
  },
  {
   "cell_type": "code",
   "execution_count": 6,
   "metadata": {},
   "outputs": [],
   "source": [
    "# !pip uninstall easyocr"
   ]
  },
  {
   "cell_type": "code",
   "execution_count": 7,
   "metadata": {},
   "outputs": [
    {
     "name": "stdout",
     "output_type": "stream",
     "text": [
      "Requirement already satisfied: easyocr in c:\\users\\ljh10\\appdata\\roaming\\python\\python39\\site-packages (1.7.2)\n",
      "Requirement already satisfied: torch in c:\\users\\ljh10\\anaconda3\\envs\\vectordb_env\\lib\\site-packages (from easyocr) (2.6.0)\n",
      "Requirement already satisfied: torchvision>=0.5 in c:\\users\\ljh10\\appdata\\roaming\\python\\python39\\site-packages (from easyocr) (0.21.0)\n",
      "Requirement already satisfied: opencv-python-headless in c:\\users\\ljh10\\appdata\\roaming\\python\\python39\\site-packages (from easyocr) (4.11.0.86)\n",
      "Requirement already satisfied: scipy in c:\\users\\ljh10\\anaconda3\\envs\\vectordb_env\\lib\\site-packages (from easyocr) (1.13.1)\n",
      "Requirement already satisfied: numpy in c:\\users\\ljh10\\anaconda3\\envs\\vectordb_env\\lib\\site-packages (from easyocr) (1.26.4)\n",
      "Requirement already satisfied: Pillow in c:\\users\\ljh10\\anaconda3\\envs\\vectordb_env\\lib\\site-packages (from easyocr) (11.1.0)\n",
      "Requirement already satisfied: scikit-image in c:\\users\\ljh10\\appdata\\roaming\\python\\python39\\site-packages (from easyocr) (0.24.0)\n",
      "Requirement already satisfied: python-bidi in c:\\users\\ljh10\\appdata\\roaming\\python\\python39\\site-packages (from easyocr) (0.6.6)\n",
      "Requirement already satisfied: PyYAML in c:\\users\\ljh10\\anaconda3\\envs\\vectordb_env\\lib\\site-packages (from easyocr) (6.0.2)\n",
      "Requirement already satisfied: Shapely in c:\\users\\ljh10\\appdata\\roaming\\python\\python39\\site-packages (from easyocr) (2.0.7)\n",
      "Requirement already satisfied: pyclipper in c:\\users\\ljh10\\appdata\\roaming\\python\\python39\\site-packages (from easyocr) (1.3.0.post6)\n",
      "Requirement already satisfied: ninja in c:\\users\\ljh10\\appdata\\roaming\\python\\python39\\site-packages (from easyocr) (1.11.1.4)\n",
      "Requirement already satisfied: filelock in c:\\users\\ljh10\\anaconda3\\envs\\vectordb_env\\lib\\site-packages (from torch->easyocr) (3.17.0)\n",
      "Requirement already satisfied: typing-extensions>=4.10.0 in c:\\users\\ljh10\\anaconda3\\envs\\vectordb_env\\lib\\site-packages (from torch->easyocr) (4.12.2)\n",
      "Requirement already satisfied: networkx in c:\\users\\ljh10\\anaconda3\\envs\\vectordb_env\\lib\\site-packages (from torch->easyocr) (3.2.1)\n",
      "Requirement already satisfied: jinja2 in c:\\users\\ljh10\\anaconda3\\envs\\vectordb_env\\lib\\site-packages (from torch->easyocr) (3.1.6)\n",
      "Requirement already satisfied: fsspec in c:\\users\\ljh10\\anaconda3\\envs\\vectordb_env\\lib\\site-packages (from torch->easyocr) (2024.12.0)\n",
      "Requirement already satisfied: sympy==1.13.1 in c:\\users\\ljh10\\anaconda3\\envs\\vectordb_env\\lib\\site-packages (from torch->easyocr) (1.13.1)\n",
      "Requirement already satisfied: mpmath<1.4,>=1.1.0 in c:\\users\\ljh10\\anaconda3\\envs\\vectordb_env\\lib\\site-packages (from sympy==1.13.1->torch->easyocr) (1.3.0)\n",
      "Requirement already satisfied: imageio>=2.33 in c:\\users\\ljh10\\appdata\\roaming\\python\\python39\\site-packages (from scikit-image->easyocr) (2.37.0)\n",
      "Requirement already satisfied: tifffile>=2022.8.12 in c:\\users\\ljh10\\appdata\\roaming\\python\\python39\\site-packages (from scikit-image->easyocr) (2024.8.30)\n",
      "Requirement already satisfied: packaging>=21 in c:\\users\\ljh10\\anaconda3\\envs\\vectordb_env\\lib\\site-packages (from scikit-image->easyocr) (24.2)\n",
      "Requirement already satisfied: lazy-loader>=0.4 in c:\\users\\ljh10\\appdata\\roaming\\python\\python39\\site-packages (from scikit-image->easyocr) (0.4)\n",
      "Requirement already satisfied: MarkupSafe>=2.0 in c:\\users\\ljh10\\anaconda3\\envs\\vectordb_env\\lib\\site-packages (from jinja2->torch->easyocr) (3.0.2)\n"
     ]
    }
   ],
   "source": [
    "!pip install easyocr --user"
   ]
  },
  {
   "cell_type": "markdown",
   "metadata": {},
   "source": [
    "### 이미지 -> 텍스트 추출"
   ]
  },
  {
   "cell_type": "code",
   "execution_count": 8,
   "metadata": {},
   "outputs": [
    {
     "name": "stderr",
     "output_type": "stream",
     "text": [
      "Neither CUDA nor MPS are available - defaulting to CPU. Note: This module is much faster with a GPU.\n"
     ]
    },
    {
     "name": "stdout",
     "output_type": "stream",
     "text": [
      "서시(o#)\n",
      "~운동주\n",
      "죽는 날까지 하늘올 우러러\n",
      "한 점 부끄럼 없기틀\n",
      "잎새에 이논 바람에도\n",
      "나는 괴로위 햇다.\n",
      "별올 노래하는 마음으로\n",
      "모든 죽어가는 것을 사랑해야지\n",
      "그리고 나에게 주어진 길을\n",
      "걸어가야 깊다.\n",
      "오늘밤에도 별이 바람에 스치운다.\n"
     ]
    }
   ],
   "source": [
    "import easyocr\n",
    "\n",
    "reader = easyocr.Reader(['ko','en'])\n",
    "\n",
    "result = reader.readtext('poem.png')\n",
    "\n",
    "for box, text, conf in result:\n",
    "    print(text)\n"
   ]
  },
  {
   "cell_type": "markdown",
   "metadata": {},
   "source": [
    "### 이미지 텍스트 -> 번역"
   ]
  },
  {
   "cell_type": "code",
   "execution_count": 9,
   "metadata": {},
   "outputs": [],
   "source": [
    "# !include-system-site-packages = true"
   ]
  },
  {
   "cell_type": "code",
   "execution_count": 10,
   "metadata": {},
   "outputs": [],
   "source": [
    "# !python -m pip install --upgrade pip"
   ]
  },
  {
   "cell_type": "code",
   "execution_count": 11,
   "metadata": {},
   "outputs": [],
   "source": [
    "# !pip install paddlepaddle paddleocr"
   ]
  },
  {
   "cell_type": "code",
   "execution_count": 12,
   "metadata": {},
   "outputs": [
    {
     "name": "stderr",
     "output_type": "stream",
     "text": [
      "c:\\Users\\ljh10\\anaconda3\\envs\\vectordb_env\\lib\\site-packages\\tqdm\\auto.py:21: TqdmWarning: IProgress not found. Please update jupyter and ipywidgets. See https://ipywidgets.readthedocs.io/en/stable/user_install.html\n",
      "  from .autonotebook import tqdm as notebook_tqdm\n"
     ]
    }
   ],
   "source": [
    "from PIL import Image, ImageDraw\n",
    "import numpy as np\n",
    "from sklearn.cluster import DBSCAN\n",
    "from paddleocr import PaddleOCR"
   ]
  },
  {
   "cell_type": "code",
   "execution_count": 13,
   "metadata": {},
   "outputs": [
    {
     "name": "stdout",
     "output_type": "stream",
     "text": [
      "download https://paddleocr.bj.bcebos.com/PP-OCRv3/multilingual/Multilingual_PP-OCRv3_det_infer.tar to C:\\Users\\ljh10/.paddleocr/whl\\det\\ml\\Multilingual_PP-OCRv3_det_infer\\Multilingual_PP-OCRv3_det_infer.tar\n"
     ]
    },
    {
     "name": "stderr",
     "output_type": "stream",
     "text": [
      "100%|██████████| 3762/3762 [00:11<00:00, 327.80it/s]\n"
     ]
    },
    {
     "name": "stdout",
     "output_type": "stream",
     "text": [
      "download https://paddleocr.bj.bcebos.com/PP-OCRv4/multilingual/korean_PP-OCRv4_rec_infer.tar to C:\\Users\\ljh10/.paddleocr/whl\\rec\\korean\\korean_PP-OCRv4_rec_infer\\korean_PP-OCRv4_rec_infer.tar\n"
     ]
    },
    {
     "name": "stderr",
     "output_type": "stream",
     "text": [
      "100%|██████████| 23810/23810 [00:14<00:00, 1647.13it/s] \n"
     ]
    },
    {
     "name": "stdout",
     "output_type": "stream",
     "text": [
      "download https://paddleocr.bj.bcebos.com/dygraph_v2.0/ch/ch_ppocr_mobile_v2.0_cls_infer.tar to C:\\Users\\ljh10/.paddleocr/whl\\cls\\ch_ppocr_mobile_v2.0_cls_infer\\ch_ppocr_mobile_v2.0_cls_infer.tar\n"
     ]
    },
    {
     "name": "stderr",
     "output_type": "stream",
     "text": [
      "100%|██████████| 2138/2138 [00:03<00:00, 558.65it/s]"
     ]
    },
    {
     "name": "stdout",
     "output_type": "stream",
     "text": [
      "[2025/03/24 11:18:37] ppocr DEBUG: Namespace(help='==SUPPRESS==', use_gpu=False, use_xpu=False, use_npu=False, use_mlu=False, use_gcu=False, ir_optim=True, use_tensorrt=False, min_subgraph_size=15, precision='fp32', gpu_mem=500, gpu_id=0, image_dir=None, page_num=0, det_algorithm='DB', det_model_dir='C:\\\\Users\\\\ljh10/.paddleocr/whl\\\\det\\\\ml\\\\Multilingual_PP-OCRv3_det_infer', det_limit_side_len=960, det_limit_type='max', det_box_type='quad', det_db_thresh=0.3, det_db_box_thresh=0.6, det_db_unclip_ratio=1.5, max_batch_size=10, use_dilation=False, det_db_score_mode='fast', det_east_score_thresh=0.8, det_east_cover_thresh=0.1, det_east_nms_thresh=0.2, det_sast_score_thresh=0.5, det_sast_nms_thresh=0.2, det_pse_thresh=0, det_pse_box_thresh=0.85, det_pse_min_area=16, det_pse_scale=1, scales=[8, 16, 32], alpha=1.0, beta=1.0, fourier_degree=5, rec_algorithm='SVTR_LCNet', rec_model_dir='C:\\\\Users\\\\ljh10/.paddleocr/whl\\\\rec\\\\korean\\\\korean_PP-OCRv4_rec_infer', rec_image_inverse=True, rec_image_shape='3, 48, 320', rec_batch_num=6, max_text_length=25, rec_char_dict_path='C:\\\\Users\\\\ljh10\\\\AppData\\\\Roaming\\\\Python\\\\Python39\\\\site-packages\\\\paddleocr\\\\ppocr\\\\utils\\\\dict\\\\korean_dict.txt', use_space_char=True, vis_font_path='./doc/fonts/simfang.ttf', drop_score=0.5, e2e_algorithm='PGNet', e2e_model_dir=None, e2e_limit_side_len=768, e2e_limit_type='max', e2e_pgnet_score_thresh=0.5, e2e_char_dict_path='./ppocr/utils/ic15_dict.txt', e2e_pgnet_valid_set='totaltext', e2e_pgnet_mode='fast', use_angle_cls=False, cls_model_dir='C:\\\\Users\\\\ljh10/.paddleocr/whl\\\\cls\\\\ch_ppocr_mobile_v2.0_cls_infer', cls_image_shape='3, 48, 192', label_list=['0', '180'], cls_batch_num=6, cls_thresh=0.9, enable_mkldnn=False, cpu_threads=10, use_pdserving=False, warmup=False, sr_model_dir=None, sr_image_shape='3, 32, 128', sr_batch_num=1, draw_img_save_dir='./inference_results', save_crop_res=False, crop_res_save_dir='./output', use_mp=False, total_process_num=1, process_id=0, benchmark=False, save_log_path='./log_output/', show_log=True, use_onnx=False, onnx_providers=False, onnx_sess_options=False, return_word_box=False, output='./output', table_max_len=488, table_algorithm='TableAttn', table_model_dir=None, merge_no_span_structure=True, table_char_dict_path=None, formula_algorithm='LaTeXOCR', formula_model_dir=None, formula_char_dict_path=None, formula_batch_num=1, layout_model_dir=None, layout_dict_path=None, layout_score_threshold=0.5, layout_nms_threshold=0.5, kie_algorithm='LayoutXLM', ser_model_dir=None, re_model_dir=None, use_visual_backbone=True, ser_dict_path='../train_data/XFUND/class_list_xfun.txt', ocr_order_method=None, mode='structure', image_orientation=False, layout=True, table=True, formula=False, ocr=True, recovery=False, recovery_to_markdown=False, use_pdf2docx_api=False, invert=False, binarize=False, alphacolor=(255, 255, 255), lang='korean', det=True, rec=True, type='ocr', savefile=False, ocr_version='PP-OCRv4', structure_version='PP-StructureV2')\n"
     ]
    },
    {
     "name": "stderr",
     "output_type": "stream",
     "text": [
      "\n"
     ]
    },
    {
     "name": "stdout",
     "output_type": "stream",
     "text": [
      "[2025/03/24 11:18:39] ppocr DEBUG: dt_boxes num : 33, elapsed : 0.3200232982635498\n",
      "[2025/03/24 11:18:43] ppocr DEBUG: rec_res num  : 33, elapsed : 3.8790125846862793\n"
     ]
    }
   ],
   "source": [
    "img = Image.open('poem.png').convert('RGB')\n",
    "\n",
    "ocr = PaddleOCR(lang='korean')\n",
    "result = ocr.ocr('poem.png', cls=False)"
   ]
  },
  {
   "cell_type": "code",
   "execution_count": 14,
   "metadata": {},
   "outputs": [
    {
     "name": "stdout",
     "output_type": "stream",
     "text": [
      "[[[158.0, 23.0], [321.0, 21.0], [321.0, 58.0], [159.0, 60.0]], [[342.0, 65.0], [446.0, 65.0], [446.0, 100.0], [342.0, 100.0]], [[81.0, 103.0], [139.0, 103.0], [139.0, 140.0], [81.0, 140.0]], [[144.0, 105.0], [223.0, 105.0], [223.0, 137.0], [144.0, 137.0]], [[231.0, 105.0], [312.0, 105.0], [312.0, 137.0], [231.0, 137.0]], [[318.0, 105.0], [398.0, 105.0], [398.0, 137.0], [318.0, 137.0]], [[119.0, 139.0], [152.0, 136.0], [155.0, 169.0], [122.0, 173.0]], [[153.0, 140.0], [185.0, 140.0], [185.0, 171.0], [153.0, 171.0]], [[189.0, 138.0], [273.0, 138.0], [273.0, 174.0], [189.0, 174.0]], [[276.0, 138.0], [360.0, 138.0], [360.0, 173.0], [276.0, 173.0]], [[113.0, 173.0], [195.0, 173.0], [195.0, 209.0], [113.0, 209.0]], [[199.0, 174.0], [255.0, 174.0], [255.0, 209.0], [199.0, 209.0]], [[261.0, 176.0], [368.0, 174.0], [368.0, 205.0], [261.0, 207.0]], [[134.0, 207.0], [192.0, 210.0], [190.0, 245.0], [132.0, 242.0]], [[194.0, 209.0], [278.0, 209.0], [278.0, 244.0], [194.0, 244.0]], [[281.0, 209.0], [345.0, 209.0], [345.0, 243.0], [281.0, 243.0]], [[98.0, 242.0], [155.0, 242.0], [155.0, 281.0], [98.0, 281.0]], [[160.0, 247.0], [268.0, 247.0], [268.0, 278.0], [160.0, 278.0]], [[274.0, 246.0], [381.0, 243.0], [382.0, 276.0], [275.0, 278.0]], [[55.0, 280.0], [110.0, 280.0], [110.0, 315.0], [55.0, 315.0]], [[115.0, 279.0], [224.0, 279.0], [224.0, 313.0], [115.0, 313.0]], [[230.0, 280.0], [286.0, 280.0], [286.0, 314.0], [230.0, 314.0]], [[292.0, 282.0], [426.0, 282.0], [426.0, 312.0], [292.0, 312.0]], [[83.0, 316.0], [164.0, 316.0], [164.0, 347.0], [83.0, 347.0]], [[168.0, 316.0], [253.0, 316.0], [253.0, 348.0], [168.0, 348.0]], [[257.0, 316.0], [338.0, 316.0], [338.0, 348.0], [257.0, 348.0]], [[345.0, 314.0], [400.0, 314.0], [400.0, 350.0], [345.0, 350.0]], [[153.0, 350.0], [261.0, 350.0], [261.0, 384.0], [153.0, 384.0]], [[266.0, 350.0], [328.0, 350.0], [328.0, 384.0], [266.0, 384.0]], [[39.0, 422.0], [172.0, 422.0], [172.0, 452.0], [39.0, 452.0]], [[179.0, 419.0], [234.0, 419.0], [234.0, 454.0], [179.0, 454.0]], [[239.0, 421.0], [321.0, 421.0], [321.0, 453.0], [239.0, 453.0]], [[327.0, 422.0], [442.0, 422.0], [442.0, 452.0], [327.0, 452.0]]]\n",
      "['서시悖詩', '-윤동주', '죽는', '날까지', '하늘을', '우러러', '한', '점', '부끄럼', '없기를', '잎새에', '이는', '바람에도', '나는', '괴로워', '했다', '별을', '노래하는', '마음으로', '모든', '죽어가는', '것을', '사랑해야지', '그리고', '나에게', '주어진', '길을', '걸어가야', '겠다', '오늘밤에도', '별이', '바람에', '스치운다']\n",
      "[0.7873653173446655, 0.9981104731559753, 0.9999786615371704, 0.9999544024467468, 0.9999257922172546, 0.9998722076416016, 0.9999949932098389, 0.9999233484268188, 0.9999482035636902, 0.99995356798172, 0.9994583129882812, 0.9999712705612183, 0.9998772144317627, 0.999992311000824, 0.999722957611084, 0.999982476234436, 0.9997603893280029, 0.9999800324440002, 0.9999308586120605, 0.9999601244926453, 0.9999769926071167, 0.9999890923500061, 0.999926745891571, 0.9999847412109375, 0.999945342540741, 0.9999616146087646, 0.9999560713768005, 0.9999622106552124, 0.9996518492698669, 0.9999082684516907, 0.9998022317886353, 0.9998701214790344, 0.9999386668205261]\n"
     ]
    }
   ],
   "source": [
    "boxdata = [item[0] for item in result[0]]\n",
    "textdata = [item[1][0] for item in result[0]]\n",
    "confdata = [item[1][1] for item in result[0]]\n",
    "print(boxdata)\n",
    "print(textdata)\n",
    "print(confdata)"
   ]
  },
  {
   "cell_type": "code",
   "execution_count": 15,
   "metadata": {},
   "outputs": [],
   "source": [
    "def point_center(box):\n",
    "    x_center = box[0] + box[2] /2\n",
    "    y_center = box[1] + box[3] /2\n",
    "    \n",
    "    return np.array([x_center, y_center])"
   ]
  },
  {
   "cell_type": "code",
   "execution_count": 16,
   "metadata": {},
   "outputs": [],
   "source": [
    "def cluster_boxes(boxes,eps=100):\n",
    "    center = np.array([point_center(box) for box in boxes])\n",
    "    clustering = DBSCAN(eps=eps, min_samples=1).fit(center)\n",
    "    labels = clustering.labels_\n",
    "    clusters = {}\n",
    "    for i, label in enumerate(labels):\n",
    "        clusters.setdefault(label, []).append(i)\n",
    "\n",
    "    return list(clusters.values())"
   ]
  },
  {
   "cell_type": "code",
   "execution_count": 17,
   "metadata": {},
   "outputs": [],
   "source": [
    "box_point_data = [\n",
    "    [int(x1), int(y1), int(x2-x1), int(y2-y1)] for [[x1,y1],[x2,y2],_,_] in boxdata\n",
    "]\n",
    "cluster_result = cluster_boxes(box_point_data)"
   ]
  },
  {
   "cell_type": "code",
   "execution_count": 19,
   "metadata": {},
   "outputs": [],
   "source": [
    "from translate import Translator\n",
    "\n",
    "translator = Translator(from_lang='ko', to_lang='en')\n",
    "\n",
    "doc_result = [\" \".join([textdata[word_idx] for word_idx in cluster]) for cluster in cluster_result]\n",
    "eng_doc = [translator.translate(text) for text in doc_result]\n",
    "\n",
    "new_img = img.copy()\n",
    "draw = ImageDraw.Draw(new_img)\n",
    "font_height = 16\n",
    "\n",
    "for idx, text in enumerate(eng_doc):\n",
    "    line_height = font_height * 1.2\n",
    "    start_idx = cluster_result[idx][0]\n",
    "\n",
    "    for line in text.split():\n",
    "        text_position = box_point_data[start_idx][0], box_point_data[start_idx][1] + line_height\n",
    "        draw.text(text_position, line, fill='black')\n",
    "        line_height += font_height\n",
    "\n",
    "new_img.show()"
   ]
  }
 ],
 "metadata": {
  "kernelspec": {
   "display_name": "vectordb_env",
   "language": "python",
   "name": "python3"
  },
  "language_info": {
   "codemirror_mode": {
    "name": "ipython",
    "version": 3
   },
   "file_extension": ".py",
   "mimetype": "text/x-python",
   "name": "python",
   "nbconvert_exporter": "python",
   "pygments_lexer": "ipython3",
   "version": "3.9.21"
  }
 },
 "nbformat": 4,
 "nbformat_minor": 2
}
