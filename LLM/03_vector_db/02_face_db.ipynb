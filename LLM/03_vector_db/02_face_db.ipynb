{
 "cells": [
  {
   "cell_type": "markdown",
   "metadata": {},
   "source": [
    "# FAISS DB\n",
    "- Facebook AI Similarity Search"
   ]
  },
  {
   "cell_type": "code",
   "execution_count": 1,
   "metadata": {},
   "outputs": [
    {
     "name": "stdout",
     "output_type": "stream",
     "text": [
      "Collecting faiss-cpu\n",
      "  Downloading faiss_cpu-1.10.0-cp39-cp39-win_amd64.whl.metadata (4.5 kB)\n",
      "Requirement already satisfied: numpy<3.0,>=1.25.0 in c:\\users\\ljh10\\anaconda3\\envs\\vectordb_env\\lib\\site-packages (from faiss-cpu) (2.0.2)\n",
      "Requirement already satisfied: packaging in c:\\users\\ljh10\\anaconda3\\envs\\vectordb_env\\lib\\site-packages (from faiss-cpu) (24.2)\n",
      "Downloading faiss_cpu-1.10.0-cp39-cp39-win_amd64.whl (13.7 MB)\n",
      "   ---------------------------------------- 0.0/13.7 MB ? eta -:--:--\n",
      "   ------ --------------------------------- 2.4/13.7 MB 11.2 MB/s eta 0:00:02\n",
      "   ------------- -------------------------- 4.7/13.7 MB 11.9 MB/s eta 0:00:01\n",
      "   -------------------- ------------------- 7.1/13.7 MB 11.8 MB/s eta 0:00:01\n",
      "   --------------------------- ------------ 9.4/13.7 MB 11.7 MB/s eta 0:00:01\n",
      "   -------------------------------- ------- 11.3/13.7 MB 10.8 MB/s eta 0:00:01\n",
      "   ---------------------------------------- 13.7/13.7 MB 10.9 MB/s eta 0:00:00\n",
      "Installing collected packages: faiss-cpu\n",
      "Successfully installed faiss-cpu-1.10.0\n"
     ]
    }
   ],
   "source": [
    "!pip install faiss-cpu\n",
    "# !pip install faiss-gpu # gpu탑재시 "
   ]
  },
  {
   "cell_type": "markdown",
   "metadata": {},
   "source": [
    "### 영화 추천 시스템"
   ]
  },
  {
   "cell_type": "code",
   "execution_count": 6,
   "metadata": {},
   "outputs": [],
   "source": [
    "import faiss\n",
    "import numpy as np\n",
    "from sentence_transformers import SentenceTransformer\n",
    "\n",
    "model = SentenceTransformer('all-MiniLM-L6-v2')\n"
   ]
  },
  {
   "cell_type": "code",
   "execution_count": 5,
   "metadata": {},
   "outputs": [],
   "source": [
    "movies = [\n",
    "    {'id': 0, 'title': '인셉션', 'description': '꿈속에서 다른 사람의 생각을 조작하는 스토리'},\n",
    "    {'id': 1, 'title': '인터스텔라', 'description': '우주를 여행하며 인류의 미래를 찾는 이야기'},\n",
    "    {'id': 2, 'title': '기생충', 'description': '가난한 가족이 부잣집에 스며들며 벌어지는 사건'},\n",
    "    {'id': 3, 'title': '올드보이', 'description': '15년간 감금된 남자가 복수를 위해 나서는 이야기'},\n",
    "    {'id': 4, 'title': '어벤져스: 엔드게임', 'description': '어벤져스가 타노스를 막고 우주를 구하려는 이야기'},\n",
    "    {'id': 5, 'title': '다크 나이트', 'description': '배트맨과 조커의 숨막히는 대결'},\n",
    "    {'id': 6, 'title': '쇼생크 탈출', 'description': '억울한 누명을 쓰고 감옥에 갇힌 남자의 탈출 이야기'},\n",
    "    {'id': 7, 'title': '포레스트 검프', 'description': '순수한 마음을 가진 남자가 겪는 감동적인 인생 이야기'},\n",
    "    {'id': 8, 'title': '라라랜드', 'description': '꿈을 좇는 연인들의 아름다운 사랑 이야기'},\n",
    "    {'id': 9, 'title': '타이타닉', 'description': '호화 여객선에서 벌어지는 운명적인 사랑 이야기'},\n",
    "    {'id': 10, 'title': '매트릭스', 'description': '가상현실과 인간의 자유 의지를 다룬 SF 영화'},\n",
    "    {'id': 11, 'title': '위대한 쇼맨', 'description': '서커스단을 창립한 한 남자의 감동적인 이야기'},\n",
    "    {'id': 12, 'title': '해리 포터와 마법사의 돌', 'description': '마법 학교에서 펼쳐지는 소년 마법사의 성장 이야기'},\n",
    "    {'id': 13, 'title': '어바웃 타임', 'description': '시간여행을 통해 사랑과 삶을 배우는 이야기'},\n",
    "    {'id': 14, 'title': '토이 스토리', 'description': '장난감들이 벌이는 모험과 우정 이야기'},\n",
    "    {'id': 15, 'title': '아이언맨', 'description': '억만장자 기술자가 히어로가 되어 세상을 지키는 이야기'},\n",
    "    {'id': 16, 'title': '설국열차', 'description': '빙하기가 된 지구에서 생존자들이 기차 안에서 벌이는 이야기'},\n",
    "    {'id': 17, 'title': '반지의 제왕: 반지 원정대', 'description': '절대 반지를 파괴하기 위한 모험과 전투 이야기'},\n",
    "    {'id': 18, 'title': '킬 빌', 'description': '죽음에서 살아남은 여자의 복수극'},\n",
    "    {'id': 19, 'title': '스타워즈: 새로운 희망', 'description': '은하를 구하기 위한 반란군과 제국의 대결'}\n",
    "]"
   ]
  },
  {
   "cell_type": "code",
   "execution_count": 9,
   "metadata": {},
   "outputs": [],
   "source": [
    "\n",
    "descriptions = [movie['description'] for movie in movies]\n",
    "desc_embed = np.array([model.encode(description) for description in descriptions], dtype='float32') # chroma는 리스트의 형태를 요구하지만 face는 ndarry형식을 요구"
   ]
  },
  {
   "cell_type": "code",
   "execution_count": 10,
   "metadata": {},
   "outputs": [],
   "source": [
    "dim = desc_embed.shape[1]\n",
    "idx = faiss.IndexFlatL2(dim)    # chroma의 collection(=table)과 유사 : data를 가지고 있지만 구조에 더 가까운 의미를 가짐 \n",
    "idx.add(desc_embed)\n"
   ]
  },
  {
   "cell_type": "code",
   "execution_count": 13,
   "metadata": {},
   "outputs": [],
   "source": [
    "query_text = '탈출하는 이야기'\n",
    "query_embed = np.array([model.encode('query_text')],dtype='float32')\n"
   ]
  },
  {
   "cell_type": "code",
   "execution_count": 16,
   "metadata": {},
   "outputs": [],
   "source": [
    "top_n=5\n",
    "distances, indeices = idx.search(query_embed, top_n)"
   ]
  },
  {
   "cell_type": "code",
   "execution_count": 17,
   "metadata": {},
   "outputs": [
    {
     "name": "stdout",
     "output_type": "stream",
     "text": [
      "[[1.6643693 1.772795  1.7739822 1.7780049 1.8014685]]\n",
      "[[ 3  0  2  4 14]]\n"
     ]
    }
   ],
   "source": [
    "print(distances)\n",
    "print(indeices)"
   ]
  },
  {
   "cell_type": "code",
   "execution_count": 57,
   "metadata": {},
   "outputs": [
    {
     "ename": "SyntaxError",
     "evalue": "f-string: unmatched '[' (3314053379.py, line 4)",
     "output_type": "error",
     "traceback": [
      "\u001b[1;36m  Cell \u001b[1;32mIn[57], line 4\u001b[1;36m\u001b[0m\n\u001b[1;33m    print(f'{i+1}번째 {movies[movie_id]['title']} | 유사도 거리: {distances[0][i]:.2f}')\u001b[0m\n\u001b[1;37m                                       ^\u001b[0m\n\u001b[1;31mSyntaxError\u001b[0m\u001b[1;31m:\u001b[0m f-string: unmatched '['\n"
     ]
    }
   ],
   "source": [
    "for i in range(top_n):\n",
    "    movie_id = indeices[0][i]\n",
    "    # print(movies[movie_id]['title'])\n",
    "    print(f'{i+1}번째 {movies[movie_id]['title']} | 유사도 거리: {distances[0][i]:.2f}')"
   ]
  },
  {
   "cell_type": "markdown",
   "metadata": {},
   "source": [
    "### 사용자 맞춤 뉴스 추천"
   ]
  },
  {
   "cell_type": "code",
   "execution_count": 65,
   "metadata": {},
   "outputs": [
    {
     "data": {
      "text/plain": [
       "['동아일보 유튜브 라이브 ‘정치를 부탁해’ 10일 첫 방송',\n",
       " '주간 정치 핫뉴스…개헌론과 명태균특검법의 향방은? [한강로 AI정치데...',\n",
       " '다른 정치 성향 뉴스에…진보는 ‘싫어요’, 보수는 ‘반박 댓글’',\n",
       " '김민하 “한동훈, 계엄이 장난? 정치적으로 이용 말길” [김은지의 뉴스...',\n",
       " '[교육 돌아보기]유명 강사의 정치적 한마디, 그 무게감에 관하여',\n",
       " '중공중앙정치국, 시진핑 총서기 주재로 회의 열어 정부업무보고 논의',\n",
       " '[데스크 칼럼] 알고리즘 이겨내는 생활정치',\n",
       " \"'정치인 꼴 보기 싫다'…예민한 사람들 왜 그런가 봤더니 [이슈+]\",\n",
       " '중앙정치국 위원-서기처 서기 등 당 중앙 및 시진핑 총서기에게 업무 보...',\n",
       " '[손연우의 정치眼] 좋은 정치']"
      ]
     },
     "execution_count": 65,
     "metadata": {},
     "output_type": "execute_result"
    }
   ],
   "source": [
    "import requests\n",
    "from bs4 import BeautifulSoup\n",
    "\n",
    "url = 'https://search.naver.com/search.naver?ssc=tab.news.all&where=news&sm=tab_jum&query=%EC%A0%95%EC%B9%98+%EB%89%B4%EC%8A%A4'\n",
    "\n",
    "response = requests.get(url)\n",
    "\n",
    "html = response.text\n",
    "soup =  BeautifulSoup(html, 'html.parser')\n",
    "\n",
    "news = soup.select_one('#main_pack > section > div.api_subject_bx > div.group_news > ul')\n",
    "news_titles = news.select('li > div > div > div > a')\n",
    "\n",
    "title_list = []\n",
    "for news_title in news_titles:\n",
    "    title =news_title.get_text()\n",
    "    title_list.append(title)\n",
    "    \n",
    "for i, title in enumerate(title_list):\n",
    "    if title == '':\n",
    "       title_list.pop(i)\n",
    "       \n",
    "title_list\n",
    "\n"
   ]
  },
  {
   "cell_type": "code",
   "execution_count": 66,
   "metadata": {},
   "outputs": [],
   "source": [
    "\n",
    "descriptions = [title for title in title_list]\n",
    "desc_embed = np.array([model.encode(description) for description in descriptions], dtype='float32') # chroma는 리스트의 형태를 요구하지만 face는 ndarry형식을 요구"
   ]
  },
  {
   "cell_type": "code",
   "execution_count": 81,
   "metadata": {},
   "outputs": [],
   "source": [
    "dim = desc_embed.shape[1]\n",
    "idx = faiss.IndexFlatL2(dim)    # chroma의 collection(=table)과 유사 : data를 가지고 있지만 구조에 더 가까운 의미를 가짐 \n",
    "idx.add(desc_embed)"
   ]
  },
  {
   "cell_type": "code",
   "execution_count": 82,
   "metadata": {},
   "outputs": [],
   "source": [
    "query_text = '한동훈'\n",
    "query_embed = np.array([model.encode('query_text')],dtype='float32')"
   ]
  },
  {
   "cell_type": "code",
   "execution_count": 83,
   "metadata": {},
   "outputs": [],
   "source": [
    "top_n=3\n",
    "distances, indeices = idx.search(query_embed, top_n)"
   ]
  },
  {
   "cell_type": "code",
   "execution_count": 84,
   "metadata": {},
   "outputs": [
    {
     "name": "stdout",
     "output_type": "stream",
     "text": [
      "[[1.6792383 1.6918894 1.8351521]]\n",
      "[[3 2 7]]\n"
     ]
    }
   ],
   "source": [
    "print(distances)\n",
    "print(indeices)"
   ]
  },
  {
   "cell_type": "code",
   "execution_count": 85,
   "metadata": {},
   "outputs": [
    {
     "name": "stdout",
     "output_type": "stream",
     "text": [
      "1번째 김민하 “한동훈, 계엄이 장난? 정치적으로 이용 말길” [김은지의 뉴스... | 유사도 거리: 1.68\n",
      "2번째 다른 정치 성향 뉴스에…진보는 ‘싫어요’, 보수는 ‘반박 댓글’ | 유사도 거리: 1.69\n",
      "3번째 '정치인 꼴 보기 싫다'…예민한 사람들 왜 그런가 봤더니 [이슈+] | 유사도 거리: 1.84\n"
     ]
    }
   ],
   "source": [
    "for i in range(top_n):\n",
    "    title_id = indeices[0][i]\n",
    "    # print(movies[movie_id]['title'])\n",
    "    print(f'{i+1}번째 {title_list[title_id]} | 유사도 거리: {distances[0][i]:.2f}')"
   ]
  }
 ],
 "metadata": {
  "kernelspec": {
   "display_name": "vectordb_env",
   "language": "python",
   "name": "python3"
  },
  "language_info": {
   "codemirror_mode": {
    "name": "ipython",
    "version": 3
   },
   "file_extension": ".py",
   "mimetype": "text/x-python",
   "name": "python",
   "nbconvert_exporter": "python",
   "pygments_lexer": "ipython3",
   "version": "3.9.21"
  }
 },
 "nbformat": 4,
 "nbformat_minor": 2
}
