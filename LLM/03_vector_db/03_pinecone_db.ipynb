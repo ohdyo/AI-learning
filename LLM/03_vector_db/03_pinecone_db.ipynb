{
 "cells": [
  {
   "cell_type": "markdown",
   "metadata": {},
   "source": [
    "# Pinecone DB (프리티어 사용)"
   ]
  },
  {
   "cell_type": "code",
   "execution_count": 1,
   "metadata": {},
   "outputs": [
    {
     "name": "stdout",
     "output_type": "stream",
     "text": [
      "Collecting pinecone\n",
      "  Downloading pinecone-6.0.1-py3-none-any.whl.metadata (8.8 kB)\n",
      "Requirement already satisfied: certifi>=2019.11.17 in c:\\users\\ljh10\\anaconda3\\envs\\vectordb_env\\lib\\site-packages (from pinecone) (2025.1.31)\n",
      "Collecting pinecone-plugin-interface<0.0.8,>=0.0.7 (from pinecone)\n",
      "  Downloading pinecone_plugin_interface-0.0.7-py3-none-any.whl.metadata (1.2 kB)\n",
      "Requirement already satisfied: python-dateutil>=2.5.3 in c:\\users\\ljh10\\anaconda3\\envs\\vectordb_env\\lib\\site-packages (from pinecone) (2.9.0.post0)\n",
      "Requirement already satisfied: typing-extensions>=3.7.4 in c:\\users\\ljh10\\anaconda3\\envs\\vectordb_env\\lib\\site-packages (from pinecone) (4.12.2)\n",
      "Requirement already satisfied: urllib3>=1.26.0 in c:\\users\\ljh10\\anaconda3\\envs\\vectordb_env\\lib\\site-packages (from pinecone) (2.3.0)\n",
      "Requirement already satisfied: six>=1.5 in c:\\users\\ljh10\\anaconda3\\envs\\vectordb_env\\lib\\site-packages (from python-dateutil>=2.5.3->pinecone) (1.17.0)\n",
      "Downloading pinecone-6.0.1-py3-none-any.whl (421 kB)\n",
      "Downloading pinecone_plugin_interface-0.0.7-py3-none-any.whl (6.2 kB)\n",
      "Installing collected packages: pinecone-plugin-interface, pinecone\n",
      "Successfully installed pinecone-6.0.1 pinecone-plugin-interface-0.0.7\n"
     ]
    }
   ],
   "source": [
    "!pip install pinecone"
   ]
  },
  {
   "cell_type": "code",
   "execution_count": 3,
   "metadata": {},
   "outputs": [
    {
     "data": {
      "text/plain": [
       "{\n",
       "    \"name\": \"reviewtest\",\n",
       "    \"metric\": \"cosine\",\n",
       "    \"host\": \"reviewtest-2k5d0sk.svc.aped-4627-b74a.pinecone.io\",\n",
       "    \"spec\": {\n",
       "        \"serverless\": {\n",
       "            \"cloud\": \"aws\",\n",
       "            \"region\": \"us-east-1\"\n",
       "        }\n",
       "    },\n",
       "    \"status\": {\n",
       "        \"ready\": true,\n",
       "        \"state\": \"Ready\"\n",
       "    },\n",
       "    \"vector_type\": \"dense\",\n",
       "    \"dimension\": 384,\n",
       "    \"deletion_protection\": \"disabled\",\n",
       "    \"tags\": null\n",
       "}"
      ]
     },
     "execution_count": 3,
     "metadata": {},
     "output_type": "execute_result"
    }
   ],
   "source": [
    "from pinecone import Pinecone, ServerlessSpec\n",
    "\n",
    "pc = Pinecone(api_key='pcsk_5jr92H_5GMqqsEQUWCsZw7Z6dkWxvFUJa4trggYWvNGiRC1KwhH68hHmqQ8FUNhvhqxXgi')\n",
    "index_name= 'reviewtest'\n",
    "\n",
    "pc.create_index(\n",
    "    name=index_name,\n",
    "    dimension=384,\n",
    "    metric='cosine',\n",
    "    spec = ServerlessSpec(\n",
    "        cloud='aws',\n",
    "        region='us-east-1'\n",
    "    )\n",
    ")"
   ]
  },
  {
   "cell_type": "code",
   "execution_count": 4,
   "metadata": {},
   "outputs": [],
   "source": [
    "reviews = [\n",
    "    {'id': '1',\n",
    "     'text': '이 제품 정말 좋아요! 성능이 만족스러워요!', \n",
    "     'sentiment': 'positive'},\n",
    "\n",
    "    {'id': '2',\n",
    "     'text': '별로에요. 배터리가 너무 빨리 닳아요.', \n",
    "     'sentiment': 'negative'},    \n",
    "\n",
    "    {'id': '3',\n",
    "     'text': '디자인이 세련되고 가벼워서 휴대성이 좋아요.', \n",
    "     'sentiment': 'positive'},\n",
    "\n",
    "    {'id': '4',\n",
    "     'text': '화면이 너무 어두워서 야외에서는 사용이 어렵네요.', \n",
    "     'sentiment': 'negative'},\n",
    "\n",
    "    {'id': '5',\n",
    "     'text': '키보드 타건감이 좋아서 장시간 사용해도 불편하지 않아요.', \n",
    "     'sentiment': 'positive'},\n",
    "\n",
    "    {'id': '6',\n",
    "     'text': '팬 소음이 너무 커서 조용한 곳에서는 사용하기 힘들어요.', \n",
    "     'sentiment': 'negative'},\n",
    "\n",
    "    {'id': '7',\n",
    "     'text': '배터리 수명이 길어서 출장이나 외근 시에도 걱정 없어요.', \n",
    "     'sentiment': 'positive'},\n",
    "\n",
    "    {'id': '8',\n",
    "     'text': '화면 해상도가 낮아서 기대했던 선명함이 부족하네요.', \n",
    "     'sentiment': 'negative'},\n",
    "\n",
    "    {'id': '9',\n",
    "     'text': '부팅 속도가 빨라서 작업할 때 스트레스가 없어요.', \n",
    "     'sentiment': 'positive'},\n",
    "\n",
    "    {'id': '10',\n",
    "     'text': '충전기가 너무 크고 무거워서 들고 다니기 불편해요.', \n",
    "     'sentiment': 'negative'},\n",
    "\n",
    "    {'id': '11',\n",
    "     'text': '터치패드 감도가 좋아서 마우스 없이도 작업하기 편리해요.', \n",
    "     'sentiment': 'positive'},\n",
    "\n",
    "    {'id': '12',\n",
    "     'text': '노트북 발열이 심해서 오래 사용하면 불편해요.', \n",
    "     'sentiment': 'negative'},\n",
    "\n",
    "    {'id': '13',\n",
    "     'text': '화면 크기가 적당해서 작업할 때 시인성이 좋아요.', \n",
    "     'sentiment': 'positive'},\n",
    "\n",
    "    {'id': '14',\n",
    "     'text': '스피커 음질이 별로라서 음악 감상하기 아쉬워요.', \n",
    "     'sentiment': 'negative'},\n",
    "\n",
    "    {'id': '15',\n",
    "     'text': '가벼워서 백팩에 넣고 다니기에 부담이 없어요.', \n",
    "     'sentiment': 'positive'},\n",
    "\n",
    "    {'id': '16',\n",
    "     'text': 'USB 포트 개수가 적어서 확장성이 아쉬워요.', \n",
    "     'sentiment': 'negative'},\n",
    "\n",
    "    {'id': '17',\n",
    "     'text': '고해상도 디스플레이 덕분에 영상 시청할 때 몰입감이 좋아요.', \n",
    "     'sentiment': 'positive'},\n",
    "\n",
    "    {'id': '18',\n",
    "     'text': '충전 속도가 느려서 급할 때 사용하기 불편해요.', \n",
    "     'sentiment': 'negative'},\n",
    "\n",
    "    {'id': '19',\n",
    "     'text': 'SSD가 기본 탑재되어 있어 부팅과 프로그램 실행 속도가 빨라요.', \n",
    "     'sentiment': 'positive'},\n",
    "\n",
    "    {'id': '20',\n",
    "     'text': '웹캠 화질이 너무 낮아서 화상회의할 때 불편하네요.', \n",
    "     'sentiment': 'negative'}\n",
    "]"
   ]
  },
  {
   "cell_type": "code",
   "execution_count": 6,
   "metadata": {},
   "outputs": [],
   "source": [
    "from sentence_transformers import SentenceTransformer\n",
    "\n",
    "pc = Pinecone(api_key='pcsk_5jr92H_5GMqqsEQUWCsZw7Z6dkWxvFUJa4trggYWvNGiRC1KwhH68hHmqQ8FUNhvhqxXgi')\n",
    "idx = pc.Index(index_name)\n",
    "\n",
    "model = SentenceTransformer('all-MiniLM-L6-v2')\n"
   ]
  },
  {
   "cell_type": "code",
   "execution_count": 7,
   "metadata": {},
   "outputs": [],
   "source": [
    "for review in reviews:\n",
    "    review_embed = model.encode(review['text']).tolist()\n",
    "    idx.upsert([\n",
    "        (review['id'],review_embed,\n",
    "         {'text': review['text'], 'sentiment': review['sentiment']})\n",
    "    ])"
   ]
  },
  {
   "cell_type": "code",
   "execution_count": 9,
   "metadata": {},
   "outputs": [],
   "source": [
    "query_text = '이 노트북의 성은능 괜찮나요?'\n",
    "query_embed = model.encode(query_text).tolist()\n",
    "\n",
    "results =idx.query(\n",
    "    vector=query_embed,\n",
    "    top_k=3,\n",
    "    include_metadata=True\n",
    ")"
   ]
  },
  {
   "cell_type": "code",
   "execution_count": null,
   "metadata": {},
   "outputs": [],
   "source": []
  },
  {
   "cell_type": "code",
   "execution_count": 14,
   "metadata": {},
   "outputs": [
    {
     "name": "stdout",
     "output_type": "stream",
     "text": [
      "디자인이 세련되고 가벼워서 휴대성이 좋아요. 감성: positive\n",
      "별로에요. 배터리가 너무 빨리 닳아요. 감성: negative\n",
      "부팅 속도가 빨라서 작업할 때 스트레스가 없어요. 감성: positive\n"
     ]
    }
   ],
   "source": [
    "for review in results['matches']:\n",
    "    metadata = review['metadata']\n",
    "    print(metadata['text'],'감성:', metadata['sentiment'])"
   ]
  },
  {
   "cell_type": "code",
   "execution_count": 16,
   "metadata": {},
   "outputs": [
    {
     "name": "stdout",
     "output_type": "stream",
     "text": [
      "리뷰 분석 결과: positive\n"
     ]
    }
   ],
   "source": [
    "sentiment_counts = {\n",
    "    'positive': 0,\n",
    "    'negative': 0\n",
    "}\n",
    "\n",
    "for review in results['matches']:\n",
    "    sentiment = review['metadata']['sentiment']\n",
    "    sentiment_counts[sentiment] += 1\n",
    "    \n",
    "print(f\"리뷰 분석 결과: {'positive' if sentiment_counts['positive'] > sentiment_counts['negative'] else 'negative'}\")"
   ]
  }
 ],
 "metadata": {
  "kernelspec": {
   "display_name": "vectordb_env",
   "language": "python",
   "name": "python3"
  },
  "language_info": {
   "codemirror_mode": {
    "name": "ipython",
    "version": 3
   },
   "file_extension": ".py",
   "mimetype": "text/x-python",
   "name": "python",
   "nbconvert_exporter": "python",
   "pygments_lexer": "ipython3",
   "version": "3.9.21"
  }
 },
 "nbformat": 4,
 "nbformat_minor": 2
}
