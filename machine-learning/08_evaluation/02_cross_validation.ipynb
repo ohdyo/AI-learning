{
 "cells": [
  {
   "cell_type": "markdown",
   "metadata": {},
   "source": [
    "# 교차검증 (Cross Validation)\n",
    "- 모델을 더욱 신뢰성 있게 평가하는 방법\n",
    "- 데이터셋을 여러 개로 나누고, 각 부분이 한번씩 검증 데이터로 사용되도록 하는 방법\n",
    "- 훈련-검증을 반복하면서 학습을 진행\n",
    "- 과대적합 방지 효과"
   ]
  },
  {
   "cell_type": "code",
   "execution_count": 2,
   "metadata": {},
   "outputs": [],
   "source": [
    "import numpy as np\n",
    "import pandas as pd\n",
    "import matplotlib.pyplot as plt\n",
    "import seaborn as sns"
   ]
  },
  {
   "cell_type": "code",
   "execution_count": 3,
   "metadata": {},
   "outputs": [],
   "source": [
    "from sklearn.datasets import load_iris\n",
    "\n",
    "iris_input, iris_target = load_iris(return_X_y=True)\n"
   ]
  },
  {
   "cell_type": "code",
   "execution_count": null,
   "metadata": {},
   "outputs": [
    {
     "name": "stdout",
     "output_type": "stream",
     "text": [
      "훈련별 정확도:  [1.0, 1.0, 0.9333333333333333, 0.9666666666666667, 0.9666666666666667]\n",
      "분류모델 정확도:  0.9733333333333334\n"
     ]
    }
   ],
   "source": [
    "from sklearn.linear_model import LogisticRegression\n",
    "from sklearn.model_selection import KFold\n",
    "from sklearn.metrics import accuracy_score\n",
    "\n",
    "# 교차검증 KFold 객체 생성\n",
    "lr_clf = LogisticRegression()\n",
    "kfold = KFold(n_splits=5, shuffle=True, random_state=42) #n_splits : 폴드 개수, shuffles : 폴드로 나누기 전에 섞을건지 여부 (디폴트 : False)\n",
    "\n",
    "# k번 반복하면서 평가한 정확도를 저장할 배열\n",
    "cv_accuracy = []\n",
    "\n",
    "for train_index,val_index in kfold.split(iris_input):\n",
    "    X_train, y_train = iris_input[train_index], iris_target[train_index]\n",
    "    X_val , y_val = iris_input[val_index], iris_target[val_index]\n",
    "\n",
    "    print(np.unique)\n",
    "    \n",
    "    lr_clf.fit(X_train, y_train)    # 모델 학습\n",
    "    y_pred = lr_clf.predict(X_val)  # 검증 데이터로 예측\n",
    "    acc_score = accuracy_score(y_val, y_pred)   # 정확도 계산\n",
    "    cv_accuracy.append(acc_score)   # cv_accuracy 배열에 정확도 추가\n",
    "    \n",
    "print('훈련별 정확도: ', cv_accuracy)\n",
    "print('분류모델 정확도: ', np.mean(cv_accuracy))\n",
    "    "
   ]
  },
  {
   "cell_type": "code",
   "execution_count": 6,
   "metadata": {},
   "outputs": [
    {
     "name": "stdout",
     "output_type": "stream",
     "text": [
      "(array([0, 1, 2]), array([40, 40, 40]))\n",
      "(array([0, 1, 2]), array([10, 10, 10]))\n",
      "=================\n",
      "(array([0, 1, 2]), array([40, 40, 40]))\n",
      "(array([0, 1, 2]), array([10, 10, 10]))\n",
      "=================\n",
      "(array([0, 1, 2]), array([40, 40, 40]))\n",
      "(array([0, 1, 2]), array([10, 10, 10]))\n",
      "=================\n",
      "(array([0, 1, 2]), array([40, 40, 40]))\n",
      "(array([0, 1, 2]), array([10, 10, 10]))\n",
      "=================\n",
      "(array([0, 1, 2]), array([40, 40, 40]))\n",
      "(array([0, 1, 2]), array([10, 10, 10]))\n",
      "=================\n",
      "훈련별 정확도:  [0.9666666666666667, 1.0, 0.9333333333333333, 0.9666666666666667, 1.0]\n",
      "분류모델 정확도:  0.9733333333333334\n"
     ]
    },
    {
     "name": "stderr",
     "output_type": "stream",
     "text": [
      "c:\\Users\\ljh10\\anaconda3\\envs\\pystudy_env\\Lib\\site-packages\\sklearn\\linear_model\\_logistic.py:465: ConvergenceWarning: lbfgs failed to converge (status=1):\n",
      "STOP: TOTAL NO. OF ITERATIONS REACHED LIMIT.\n",
      "\n",
      "Increase the number of iterations (max_iter) or scale the data as shown in:\n",
      "    https://scikit-learn.org/stable/modules/preprocessing.html\n",
      "Please also refer to the documentation for alternative solver options:\n",
      "    https://scikit-learn.org/stable/modules/linear_model.html#logistic-regression\n",
      "  n_iter_i = _check_optimize_result(\n"
     ]
    }
   ],
   "source": [
    "# Stratified-K-Fold\n",
    "from sklearn.linear_model import LogisticRegression\n",
    "from sklearn.model_selection import StratifiedKFold\n",
    "from sklearn.metrics import accuracy_score\n",
    "\n",
    "# 교차검증 StratifiedKFold 객체 생성\n",
    "lr_clf = LogisticRegression()\n",
    "stratifiedKFold_kfold = StratifiedKFold(n_splits=5) #n_splits : 폴드 개수\n",
    "\n",
    "# k번 반복하면서 평가한 정확도를 저장할 배열\n",
    "cv_accuracy = []\n",
    "\n",
    "for train_index,val_index in stratifiedKFold_kfold.split(iris_input,iris_target):\n",
    "    X_train, y_train = iris_input[train_index], iris_target[train_index]\n",
    "    X_val , y_val = iris_input[val_index], iris_target[val_index]\n",
    "\n",
    "    print(np.unique(y_train, return_counts=True))\n",
    "    print(np.unique(y_val,return_counts=True))\n",
    "    print('=================')\n",
    "    \n",
    "    lr_clf.fit(X_train, y_train)    # 모델 학습\n",
    "    y_pred = lr_clf.predict(X_val)  # 검증 데이터로 예측\n",
    "    acc_score = accuracy_score(y_val, y_pred)   # 정확도 계산\n",
    "    cv_accuracy.append(acc_score)   # cv_accuracy 배열에 정확도 추가\n",
    "    \n",
    "print('훈련별 정확도: ', cv_accuracy)\n",
    "print('분류모델 정확도: ', np.mean(cv_accuracy))\n",
    "    "
   ]
  },
  {
   "cell_type": "markdown",
   "metadata": {},
   "source": [
    "## cross_val_score\n",
    "- 교차 검증을 통해 모델 성능을 평가하는 함수\n",
    "- 내부적으로 지정한 횟수만큼 학습/검증을 나누어 반복 처리"
   ]
  },
  {
   "cell_type": "code",
   "execution_count": null,
   "metadata": {},
   "outputs": [],
   "source": [
    "from sklearn.model_selection import cross_val_score\n",
    "\n",
    "lr_clf = LogisticRegression(max_iter=100)\n",
    "\n",
    "# 첫 번째 인자 : 모델\n",
    "# 두 번째 인자 : 입력 데이터\n",
    "# 세 번째 인자 : 라벨 데이터\n",
    "# scoreing: 평가 지표 (accuracy, precisdion, recall, f1)\n",
    "scores = cross_val_score(lr_clf,iris_input,iris_target,scoring='accurcy',cv=5)\n",
    "\n",
    "print('훈련별 정확도: ', scores)\n",
    "print('모델 정확도: ', np.mean(scores))\n",
    "\n"
   ]
  }
 ],
 "metadata": {
  "kernelspec": {
   "display_name": "pystudy_env",
   "language": "python",
   "name": "python3"
  },
  "language_info": {
   "codemirror_mode": {
    "name": "ipython",
    "version": 3
   },
   "file_extension": ".py",
   "mimetype": "text/x-python",
   "name": "python",
   "nbconvert_exporter": "python",
   "pygments_lexer": "ipython3",
   "version": "3.12.8"
  }
 },
 "nbformat": 4,
 "nbformat_minor": 2
}
