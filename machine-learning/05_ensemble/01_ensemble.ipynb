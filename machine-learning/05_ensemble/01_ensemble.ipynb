{
 "cells": [
  {
   "cell_type": "markdown",
   "metadata": {},
   "source": [
    "# 앙상블(ensemble)\n",
    "- 다양한 모델을 결합하여 예측 성능을 향상시키틑 방법\n",
    "- 투표(voting), 배깅(Bagging), 부스팅(Boosting), 스태킹(stacking) 네 가지로 구분"
   ]
  },
  {
   "cell_type": "code",
   "execution_count": 1,
   "metadata": {},
   "outputs": [],
   "source": [
    "import numpy as np\n",
    "import pandas as pd \n",
    "import matplotlib.pyplot as plt\n",
    "import seaborn as sns"
   ]
  },
  {
   "cell_type": "markdown",
   "metadata": {},
   "source": [
    "### voting\n",
    "- hard voting : 여러 개의 예측지에 대해 다수결로 결정\n",
    "- soft voting : 여러 개의 예측 확률을 평균내어 결정"
   ]
  },
  {
   "cell_type": "code",
   "execution_count": 5,
   "metadata": {},
   "outputs": [
    {
     "name": "stdout",
     "output_type": "stream",
     "text": [
      "<class 'pandas.core.frame.DataFrame'>\n",
      "RangeIndex: 569 entries, 0 to 568\n",
      "Data columns (total 31 columns):\n",
      " #   Column                   Non-Null Count  Dtype  \n",
      "---  ------                   --------------  -----  \n",
      " 0   mean radius              569 non-null    float64\n",
      " 1   mean texture             569 non-null    float64\n",
      " 2   mean perimeter           569 non-null    float64\n",
      " 3   mean area                569 non-null    float64\n",
      " 4   mean smoothness          569 non-null    float64\n",
      " 5   mean compactness         569 non-null    float64\n",
      " 6   mean concavity           569 non-null    float64\n",
      " 7   mean concave points      569 non-null    float64\n",
      " 8   mean symmetry            569 non-null    float64\n",
      " 9   mean fractal dimension   569 non-null    float64\n",
      " 10  radius error             569 non-null    float64\n",
      " 11  texture error            569 non-null    float64\n",
      " 12  perimeter error          569 non-null    float64\n",
      " 13  area error               569 non-null    float64\n",
      " 14  smoothness error         569 non-null    float64\n",
      " 15  compactness error        569 non-null    float64\n",
      " 16  concavity error          569 non-null    float64\n",
      " 17  concave points error     569 non-null    float64\n",
      " 18  symmetry error           569 non-null    float64\n",
      " 19  fractal dimension error  569 non-null    float64\n",
      " 20  worst radius             569 non-null    float64\n",
      " 21  worst texture            569 non-null    float64\n",
      " 22  worst perimeter          569 non-null    float64\n",
      " 23  worst area               569 non-null    float64\n",
      " 24  worst smoothness         569 non-null    float64\n",
      " 25  worst compactness        569 non-null    float64\n",
      " 26  worst concavity          569 non-null    float64\n",
      " 27  worst concave points     569 non-null    float64\n",
      " 28  worst symmetry           569 non-null    float64\n",
      " 29  worst fractal dimension  569 non-null    float64\n",
      " 30  target                   569 non-null    int64  \n",
      "dtypes: float64(30), int64(1)\n",
      "memory usage: 137.9 KB\n"
     ]
    }
   ],
   "source": [
    "from sklearn.datasets import load_breast_cancer\n",
    "data= load_breast_cancer()\n",
    "\n",
    "df = pd.DataFrame(data.data, columns=data.feature_names)\n",
    "df['target'] = data.target\n",
    "df.info()"
   ]
  },
  {
   "cell_type": "code",
   "execution_count": 6,
   "metadata": {},
   "outputs": [
    {
     "data": {
      "text/plain": [
       "target\n",
       "1    357\n",
       "0    212\n",
       "Name: count, dtype: int64"
      ]
     },
     "execution_count": 6,
     "metadata": {},
     "output_type": "execute_result"
    }
   ],
   "source": [
    "df['target'].value_counts()"
   ]
  },
  {
   "cell_type": "code",
   "execution_count": 7,
   "metadata": {},
   "outputs": [],
   "source": [
    "# 데이터 준비 (분리)\n",
    "from sklearn.model_selection import train_test_split\n",
    "\n",
    "X = data.data\n",
    "y = data.target\n",
    "\n",
    "X_train,X_test,y_train,y_test = train_test_split(X,y,random_state=0,test_size=0.2)\n"
   ]
  },
  {
   "cell_type": "markdown",
   "metadata": {},
   "source": [
    "### hard voting"
   ]
  },
  {
   "cell_type": "code",
   "execution_count": null,
   "metadata": {},
   "outputs": [
    {
     "name": "stdout",
     "output_type": "stream",
     "text": [
      "학습 점수 :  0.9714285714285714\n",
      "테스트  평가 점수 :  0.9649122807017544\n"
     ]
    },
    {
     "name": "stderr",
     "output_type": "stream",
     "text": [
      "c:\\Users\\ljh10\\anaconda3\\envs\\pystudy_env\\Lib\\site-packages\\sklearn\\linear_model\\_logistic.py:465: ConvergenceWarning: lbfgs failed to converge (status=1):\n",
      "STOP: TOTAL NO. OF ITERATIONS REACHED LIMIT.\n",
      "\n",
      "Increase the number of iterations (max_iter) or scale the data as shown in:\n",
      "    https://scikit-learn.org/stable/modules/preprocessing.html\n",
      "Please also refer to the documentation for alternative solver options:\n",
      "    https://scikit-learn.org/stable/modules/linear_model.html#logistic-regression\n",
      "  n_iter_i = _check_optimize_result(\n"
     ]
    }
   ],
   "source": [
    "from sklearn.neighbors import KNeighborsClassifier\n",
    "from sklearn.linear_model import LogisticRegression\n",
    "from sklearn.tree import DecisionTreeClassifier\n",
    "from sklearn.ensemble import VotingClassifier\n",
    "from sklearn.metrics import accuracy_score\n",
    "\n",
    "knn_clf = KNeighborsClassifier()\n",
    "lr_clf = LogisticRegression()\n",
    "dt_clf = DecisionTreeClassifier()\n",
    "\n",
    "voting_clf = VotingClassifier(\n",
    "    estimators=[\n",
    "        ('knn_clf', knn_clf),\n",
    "        ('lr_clf', lr_clf),\n",
    "        ('dt_clf', dt_clf)\n",
    "    ],\n",
    "    voting='hard' # 안쓸시 기본값으로 설정정\n",
    ")\n",
    "\n",
    "#앙상블 모델 학습\n",
    "voting_clf.fit(X_train,y_train)\n",
    "\n",
    "y_pred_train = voting_clf.predict(X_train)\n",
    "acc_score_train = accuracy_score(y_train, y_pred_train)\n",
    "print('학습 점수 : ', acc_score_train)\n",
    "\n",
    "y_pred_test = voting_clf.predict(X_test)\n",
    "acc_score_test = accuracy_score(y_test, y_pred_test)\n",
    "print('테스트  평가 점수 : ' , acc_score_test)"
   ]
  },
  {
   "cell_type": "code",
   "execution_count": 16,
   "metadata": {},
   "outputs": [
    {
     "name": "stdout",
     "output_type": "stream",
     "text": [
      "KNeighborsClassifier 개별 정확도: 0.9386\n",
      "KNeighborsClassifier 예측값 : [0 1 0 1 0 0 1 1 1 0]\n",
      "LogisticRegression 개별 정확도: 0.9561\n",
      "LogisticRegression 예측값 : [0 1 0 1 0 0 1 1 1 0]\n",
      "DecisionTreeClassifier 개별 정확도: 0.9035\n",
      "DecisionTreeClassifier 예측값 : [0 1 0 1 0 0 1 1 1 0]\n"
     ]
    },
    {
     "name": "stderr",
     "output_type": "stream",
     "text": [
      "c:\\Users\\ljh10\\anaconda3\\envs\\pystudy_env\\Lib\\site-packages\\sklearn\\linear_model\\_logistic.py:465: ConvergenceWarning: lbfgs failed to converge (status=1):\n",
      "STOP: TOTAL NO. OF ITERATIONS REACHED LIMIT.\n",
      "\n",
      "Increase the number of iterations (max_iter) or scale the data as shown in:\n",
      "    https://scikit-learn.org/stable/modules/preprocessing.html\n",
      "Please also refer to the documentation for alternative solver options:\n",
      "    https://scikit-learn.org/stable/modules/linear_model.html#logistic-regression\n",
      "  n_iter_i = _check_optimize_result(\n"
     ]
    }
   ],
   "source": [
    "# hard votin 작동 원리 == 다수결\n",
    "start, end = 40,50\n",
    "voting_clf_pred = voting_clf.predict(X_test[start:end])\n",
    "\n",
    "\n",
    "for classfier in [knn_clf,lr_clf,dt_clf]:\n",
    "    #개별 학습 및 예측\n",
    "    classfier.fit(X_train,y_train)\n",
    "    pred = classfier.predict(X_test)\n",
    "    acc_score = accuracy_score(y_test, pred)\n",
    "    \n",
    "    class_name = classfier.__class__.__name__ # 클래스의 이름 메타데이터 가져옴옴\n",
    "    print(f'{class_name} 개별 정확도: {acc_score:.4f}')\n",
    "    print(f'{class_name} 예측값 : {pred[start:end]}')"
   ]
  },
  {
   "cell_type": "code",
   "execution_count": 30,
   "metadata": {},
   "outputs": [
    {
     "name": "stdout",
     "output_type": "stream",
     "text": [
      "학습 점수 :  0.9912087912087912\n",
      "테스트  평가 점수 :  0.9649122807017544\n"
     ]
    },
    {
     "name": "stderr",
     "output_type": "stream",
     "text": [
      "c:\\Users\\ljh10\\anaconda3\\envs\\pystudy_env\\Lib\\site-packages\\sklearn\\linear_model\\_logistic.py:465: ConvergenceWarning: lbfgs failed to converge (status=1):\n",
      "STOP: TOTAL NO. OF ITERATIONS REACHED LIMIT.\n",
      "\n",
      "Increase the number of iterations (max_iter) or scale the data as shown in:\n",
      "    https://scikit-learn.org/stable/modules/preprocessing.html\n",
      "Please also refer to the documentation for alternative solver options:\n",
      "    https://scikit-learn.org/stable/modules/linear_model.html#logistic-regression\n",
      "  n_iter_i = _check_optimize_result(\n"
     ]
    }
   ],
   "source": [
    "from sklearn.neighbors import KNeighborsClassifier\n",
    "from sklearn.linear_model import LogisticRegression\n",
    "from sklearn.tree import DecisionTreeClassifier\n",
    "from sklearn.ensemble import VotingClassifier\n",
    "from sklearn.metrics import accuracy_score\n",
    "\n",
    "knn_clf = KNeighborsClassifier()\n",
    "lr_clf = LogisticRegression()\n",
    "dt_clf = DecisionTreeClassifier(random_state=0)\n",
    "\n",
    "voting_clf = VotingClassifier(\n",
    "    estimators=[\n",
    "        ('knn_clf', knn_clf),\n",
    "        ('lr_clf', lr_clf),\n",
    "        ('dt_clf', dt_clf)\n",
    "    ],\n",
    "    voting='soft' # 안쓸시 기본값으로 설정정\n",
    ")\n",
    "\n",
    "#앙상블 모델 학습\n",
    "voting_clf.fit(X_train,y_train)\n",
    "\n",
    "y_pred_train = voting_clf.predict(X_train)\n",
    "acc_score_train = accuracy_score(y_train, y_pred_train)\n",
    "print('학습 점수 : ', acc_score_train)\n",
    "\n",
    "y_pred_test = voting_clf.predict(X_test)\n",
    "acc_score_test = accuracy_score(y_test, y_pred_test)\n",
    "print('테스트  평가 점수 : ' , acc_score_test)"
   ]
  },
  {
   "cell_type": "code",
   "execution_count": 31,
   "metadata": {},
   "outputs": [
    {
     "name": "stdout",
     "output_type": "stream",
     "text": [
      "앙상블 예측값: [[5.76015572e-01 4.23984428e-01]\n",
      " [8.56528685e-04 9.99143471e-01]\n",
      " [9.99511890e-01 4.88110466e-04]\n",
      " [2.44233373e-04 9.99755767e-01]\n",
      " [9.13156643e-01 8.68433574e-02]\n",
      " [1.00000000e+00 6.67991763e-14]\n",
      " [6.73321806e-05 9.99932668e-01]\n",
      " [1.07083474e-02 9.89291653e-01]\n",
      " [6.09596883e-04 9.99390403e-01]\n",
      " [9.99899506e-01 1.00494433e-04]]\n"
     ]
    }
   ],
   "source": [
    "# soft voting 작동 원리 == 각 예측기의 확률값 평균\n",
    "start, end = 40,50\n",
    "\n",
    "voting_clf_pred_proba = voting_clf.predict_proba(X_test[start:end])\n",
    "print('앙상블 예측값:', voting_clf_pred_proba)\n"
   ]
  },
  {
   "cell_type": "code",
   "execution_count": 36,
   "metadata": {},
   "outputs": [
    {
     "name": "stdout",
     "output_type": "stream",
     "text": [
      "각 모델별 예측값 평균 : \n",
      " [[5.76015572e-01 4.23984428e-01]\n",
      " [8.56528685e-04 9.99143471e-01]\n",
      " [9.99511890e-01 4.88110466e-04]\n",
      " [2.44233373e-04 9.99755767e-01]\n",
      " [9.13156643e-01 8.68433574e-02]\n",
      " [1.00000000e+00 6.67991763e-14]\n",
      " [6.73321806e-05 9.99932668e-01]\n",
      " [1.07083474e-02 9.89291653e-01]\n",
      " [6.09596883e-04 9.99390403e-01]\n",
      " [9.99899506e-01 1.00494433e-04]]\n",
      "True\n"
     ]
    },
    {
     "name": "stderr",
     "output_type": "stream",
     "text": [
      "c:\\Users\\ljh10\\anaconda3\\envs\\pystudy_env\\Lib\\site-packages\\sklearn\\linear_model\\_logistic.py:465: ConvergenceWarning: lbfgs failed to converge (status=1):\n",
      "STOP: TOTAL NO. OF ITERATIONS REACHED LIMIT.\n",
      "\n",
      "Increase the number of iterations (max_iter) or scale the data as shown in:\n",
      "    https://scikit-learn.org/stable/modules/preprocessing.html\n",
      "Please also refer to the documentation for alternative solver options:\n",
      "    https://scikit-learn.org/stable/modules/linear_model.html#logistic-regression\n",
      "  n_iter_i = _check_optimize_result(\n"
     ]
    }
   ],
   "source": [
    "# hard votin 작동 원리 == 다수결\n",
    "start, end = 40,50\n",
    "voting_clf_pred_proba = voting_clf.predict_proba(X_test[start:end])\n",
    "\n",
    "averages = np.full_like(voting_clf_pred_proba, 0)\n",
    "\n",
    "\n",
    "for classfier in [knn_clf,lr_clf,dt_clf]:\n",
    "    #개별 학습 및 예측\n",
    "    classfier.fit(X_train,y_train)\n",
    "    pred = classfier.predict(X_test)\n",
    "    acc_score = accuracy_score(y_test, pred)\n",
    "    pred_proba = classfier.predict_proba(X_test[start:end])\n",
    "    \n",
    "    averages += pred_proba\n",
    "    \n",
    "    class_name = classfier.__class__.__name__ # 클래스의 이름 메타데이터 가져옴옴\n",
    "    # print(f'{class_name} 개별 정확도: {acc_score:.4f}')\n",
    "    # print(f'{class_name} 예측값 : {pred_proba}')\n",
    "    \n",
    "calc_averages = averages / 3\n",
    "print('각 모델별 예측값 평균 : \\n',calc_averages)\n",
    "print(np.array_equal(voting_clf_pred_proba, calc_averages))"
   ]
  },
  {
   "cell_type": "markdown",
   "metadata": {},
   "source": [
    "### Bagging\n",
    "- Bootstrap Aggregation\n",
    "- Bootstrap 방식의 샘플링 : 각 estimator 마다 훈련 데이터를 뽑을 때, 중복 값을 허용하는 방식\n",
    "- 분류 모델의 경우, 각 tree(estimator)의 예측값을 다수결(hard voting)결정\n",
    "- 회귀 모델의 경우, 각 tree(estimator)의 예측값을 평균내어 결정\n",
    "- 기본적으로 100개의 tree 사용"
   ]
  },
  {
   "cell_type": "code",
   "execution_count": 39,
   "metadata": {},
   "outputs": [
    {
     "name": "stdout",
     "output_type": "stream",
     "text": [
      "학습 점수:  0.9934065934065934\n",
      "테스트 평가 점수 :  0.9473684210526315\n"
     ]
    }
   ],
   "source": [
    "from sklearn.ensemble import RandomForestClassifier\n",
    "\n",
    "rt_clf = RandomForestClassifier(n_estimators=100,max_depth=5, random_state=0)\n",
    "# 학습\n",
    "rt_clf.fit(X_train,y_train)\n",
    "\n",
    "y_pred_train = rt_clf.predict(X_train)\n",
    "acc_score_train = accuracy_score(y_train, y_pred_train)\n",
    "print('학습 점수: ', acc_score_train)\n",
    "\n",
    "y_pred_test = rt_clf.predict(X_test)\n",
    "acc_score_test = accuracy_score(y_test, y_pred_test)\n",
    "print('테스트 평가 점수 : ', acc_score_test)\n",
    "\n"
   ]
  }
 ],
 "metadata": {
  "kernelspec": {
   "display_name": "pystudy_env",
   "language": "python",
   "name": "python3"
  },
  "language_info": {
   "codemirror_mode": {
    "name": "ipython",
    "version": 3
   },
   "file_extension": ".py",
   "mimetype": "text/x-python",
   "name": "python",
   "nbconvert_exporter": "python",
   "pygments_lexer": "ipython3",
   "version": "3.12.8"
  }
 },
 "nbformat": 4,
 "nbformat_minor": 2
}
