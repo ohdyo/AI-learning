{
 "cells": [
  {
   "cell_type": "markdown",
   "metadata": {},
   "source": [
    "### 분류 (Classification)\n",
    "- 입력 데이터를 미리 정외된 여러 클래스 중 하나로 예측하는 것(범주형 데이터)\n",
    "    - 이진 분류 : 양성(1), 음성(0) 중에 하나를 맞추는 것\n",
    "    - 다중 분류 : 여러 클래스 중 하나를 맞추는 것"
   ]
  },
  {
   "cell_type": "markdown",
   "metadata": {},
   "source": [
    "### Logisitc Regression\n",
    "- 선형 회귀 방식으로 분류 문제를 해결 하는 모델\n",
    "    - 이진 분류 : 이진 분류를 위한 로지스틱 함수(시그모이드)를 통해 확률값을 계산하고 0 또는 1로 분류 \n",
    "    - 다중 분류 : 다중 분류를 위한 소프트맥스 함수를 통해 각 클래스별 확률값을 계산해 다중 분류"
   ]
  },
  {
   "cell_type": "code",
   "execution_count": 1,
   "metadata": {},
   "outputs": [],
   "source": [
    "import numpy as np\n",
    "import matplotlib.pyplot as plt\n",
    "import pandas as pd\n",
    "import seaborn as sns"
   ]
  },
  {
   "cell_type": "markdown",
   "metadata": {},
   "source": [
    "#### 이진 분류를 위한 Sigmoid 함수\n",
    "- 선형회귀식을 통해 도출한 예측값(z)을 0과 1 사이의 수로 변환해주는 활성화 함수(Activation Function)\n",
    "$\n",
    "    시그모이드(z) = \\frac{1}{1+e^{-z}}\n",
    "$\n",
    "    - 시그모이드의 값은 ***z값의 크기와 반비례*** 한다."
   ]
  },
  {
   "cell_type": "code",
   "execution_count": 2,
   "metadata": {},
   "outputs": [
    {
     "data": {
      "image/png": "[encoded data removed]",
      "text/plain": [
       "<Figure size 640x480 with 1 Axes>"
      ]
     },
     "metadata": {},
     "output_type": "display_data"
    }
   ],
   "source": [
    "\n",
    "# z = 선형회귀 결과 모델\n",
    "# 시그모이드 시각화\n",
    "z = np.linspace(-5,5,100) # 선형회귀 결과값\n",
    "sigmoid_value = 1 /(1 + np.exp(-z)) # np.exp(-z) = e^-z\n",
    "\n",
    "plt.plot(z, sigmoid_value)\n",
    "plt.xlabel('Z')\n",
    "plt.ylabel('sigmoid(z)')\n",
    "plt.grid()\n",
    "plt.show() \n",
    "\n"
   ]
  },
  {
   "cell_type": "code",
   "execution_count": null,
   "metadata": {},
   "outputs": [],
   "source": [
    "fish_df = pd.read_csv('./data/fish.csv')\n",
    "# fish_df['Species'].value_counts()\n",
    "is_bream_orsmelt = (fish_df['Species'] == 'Bream') | (fish_df['Species'] == 'Smelt')\n",
    "fish_df = fish_df[is_bream_orsmelt].reset_index()\n",
    "fish_df\n"
   ]
  },
  {
   "cell_type": "code",
   "execution_count": 17,
   "metadata": {},
   "outputs": [],
   "source": [
    "from sklearn.model_selection import train_test_split\n",
    "from sklearn.preprocessing import StandardScaler\n",
    "\n",
    "X = fish_df.drop('Species', axis=1)\n",
    "y = fish_df['Species']\n",
    "\n",
    "X_train, X_test, y_train, y_test = train_test_split(X,y, random_state=42)\n",
    "\n",
    "scaler = StandardScaler()\n",
    "\n",
    "X_train_scaled = scaler.fit_transform(X_train)\n",
    "X_test_scaled = scaler.fit_transform(X_test)\n"
   ]
  },
  {
   "cell_type": "code",
   "execution_count": 19,
   "metadata": {},
   "outputs": [
    {
     "data": {
      "text/plain": [
       "(1.0, 1.0)"
      ]
     },
     "execution_count": 19,
     "metadata": {},
     "output_type": "execute_result"
    }
   ],
   "source": [
    "from sklearn.linear_model import LogisticRegression\n",
    "\n",
    "lr_clf = LogisticRegression()\n",
    "lr_clf.fit(X_train_scaled, y_train)\n",
    "\n",
    "lr_clf.score(X_train_scaled, y_train), lr_clf.score(X_test_scaled, y_test) \n"
   ]
  },
  {
   "cell_type": "code",
   "execution_count": 22,
   "metadata": {},
   "outputs": [
    {
     "name": "stdout",
     "output_type": "stream",
     "text": [
      "['Bream' 'Smelt']\n"
     ]
    },
    {
     "data": {
      "text/plain": [
       "array([[0.96120317, 0.03879683],\n",
       "       [0.00842591, 0.99157409],\n",
       "       [0.01439468, 0.98560532]])"
      ]
     },
     "execution_count": 22,
     "metadata": {},
     "output_type": "execute_result"
    }
   ],
   "source": [
    "y_pred = lr_clf.predict(X_test_scaled[:3])\n",
    "y_pred # 'Bream', 'Smelt', 'Smelt'\n",
    "\n",
    "print(lr_clf.classes_)\n",
    "lr_clf.predict_proba(X_test_scaled[:3])"
   ]
  },
  {
   "cell_type": "code",
   "execution_count": 23,
   "metadata": {},
   "outputs": [
    {
     "data": {
      "text/plain": [
       "(array([[ 0.8505655 , -0.47722821, -0.62802888, -0.64912199, -0.67112438,\n",
       "         -0.64381032]]),\n",
       " array([-2.2215244]))"
      ]
     },
     "execution_count": 23,
     "metadata": {},
     "output_type": "execute_result"
    }
   ],
   "source": [
    "lr_clf.coef_, lr_clf.intercept_"
   ]
  },
  {
   "cell_type": "code",
   "execution_count": 25,
   "metadata": {},
   "outputs": [
    {
     "data": {
      "text/plain": [
       "(array([-3.20984727,  4.76798194,  4.22639728]),\n",
       " array([-3.20984727,  4.76798194,  4.22639728]))"
      ]
     },
     "execution_count": 25,
     "metadata": {},
     "output_type": "execute_result"
    }
   ],
   "source": [
    "# 선형회귀값 직접 계산\n",
    "z1 = np.dot(X_test_scaled[:3], lr_clf.coef_[0]) + lr_clf.intercept_\n",
    "# 선형 회귀값 계산 함수 (decision_function)\n",
    "z2 = lr_clf.decision_function(X_test_scaled[:3])\n",
    "\n",
    "z1, z2"
   ]
  },
  {
   "cell_type": "code",
   "execution_count": 26,
   "metadata": {},
   "outputs": [
    {
     "data": {
      "text/plain": [
       "array([0.03879683, 0.99157409, 0.98560532])"
      ]
     },
     "execution_count": 26,
     "metadata": {},
     "output_type": "execute_result"
    }
   ],
   "source": [
    "# 시그모이드 함수 적용\n",
    "sigmoid_value = 1 / (1 + np.exp(-z1))\n",
    "sigmoid_value"
   ]
  },
  {
   "cell_type": "code",
   "execution_count": 27,
   "metadata": {},
   "outputs": [
    {
     "data": {
      "text/plain": [
       "['Bream', 'Smelt', 'Smelt']"
      ]
     },
     "execution_count": 27,
     "metadata": {},
     "output_type": "execute_result"
    }
   ],
   "source": [
    "['Smelt' if value >= 0.5 else 'Bream' for value in sigmoid_value]"
   ]
  },
  {
   "cell_type": "markdown",
   "metadata": {},
   "source": [
    "### 다중 분류를 위한 Softmax 함수\n",
    "- 다중 클래스 분류를 위한 활성화 함수로 각 클래스에 대한 확률값 계산\n",
    "- k 개의 클래스가 존재할 때 주어진 입력에 대해 다음과 같이 계산\n",
    "\n",
    "$\n",
    "    softma(z_i) = \\frac{e^{z_k}}{\\sum_{j=1}^{K} e^{z_j}}\n",
    "$\n",
    "\n",
    "- $z_k$ : 각 클래스에 대한 점수 (입력값)\n",
    "- $e^{z_k}$ : 해당 점수에 대한 지수 함수 적용\n",
    "- $\\sum_{j=1}^{K} e^{z_j}$ : 모든 클래스 점수에 대해 지수 함수 적용 후 총합"
   ]
  },
  {
   "cell_type": "markdown",
   "metadata": {},
   "source": [
    "**다중 클래스 확률 계산 순서**\n",
    "1. 샘플에 대한 회귀 결고 z 계산\n",
    "2. 소프트 맥스 함수 적용\n",
    "    - z를 e의 지수로 적용해 값을 확대(클래스별 z의 차이를 극대화)\n",
    "    - 합을 각 클래스의 값으로 나눠 비율을 계산하고 반환\n",
    "3. 가장 높은 확률 값을 가진 클래스를 선택"
   ]
  },
  {
   "cell_type": "code",
   "execution_count": 39,
   "metadata": {},
   "outputs": [],
   "source": [
    "# 데이터 셋 생성\n",
    "from sklearn.datasets import make_classification\n",
    "\n",
    "X,y = make_classification(    # 분류 문제 연습을 위한 가상 데이터셋 생성 함수\n",
    "    n_samples=100,      # 샘플 갯수\n",
    "    n_features=4,       # 전체 특성(=컬럼) 개수 \n",
    "    n_informative=3,    # 유의미한 특성 개수\n",
    "    n_redundant=0,      # 중복 특성 개수\n",
    "    n_classes=3,        # 클래스 수\n",
    "    random_state=42     # 랜덤 시드\n",
    ")\n",
    "df = pd.DataFrame(X, columns=['feat1','feat2','feat3','feat4'])\n",
    "df['target'] = y\n",
    "\n",
    "# 데이터 분리\n",
    "X_train,X_test, y_train,y_test = train_test_split(X,y,random_state=42)"
   ]
  },
  {
   "cell_type": "code",
   "execution_count": 40,
   "metadata": {},
   "outputs": [
    {
     "data": {
      "text/plain": [
       "(0.7066666666666667, 0.44)"
      ]
     },
     "execution_count": 40,
     "metadata": {},
     "output_type": "execute_result"
    }
   ],
   "source": [
    "# predict_proba = 클래스별 \n",
    "lr_clf = LogisticRegression(max_iter=1000)\n",
    "lr_clf.fit(X_train, y_train)\n",
    "lr_clf.score(X_train,y_train), lr_clf.score(X_test,y_test)"
   ]
  },
  {
   "cell_type": "code",
   "execution_count": 41,
   "metadata": {},
   "outputs": [
    {
     "data": {
      "text/plain": [
       "array([1, 0, 0, 1, 2])"
      ]
     },
     "execution_count": 41,
     "metadata": {},
     "output_type": "execute_result"
    }
   ],
   "source": [
    "y_pred = lr_clf.predict(X_test[:5])\n",
    "y_pred"
   ]
  },
  {
   "cell_type": "code",
   "execution_count": 43,
   "metadata": {},
   "outputs": [
    {
     "data": {
      "text/plain": [
       "(array([[0.22917118, 0.39960169, 0.37122713],\n",
       "        [0.83550691, 0.16166581, 0.00282727],\n",
       "        [0.573597  , 0.32484717, 0.10155583],\n",
       "        [0.20188375, 0.64427073, 0.15384551],\n",
       "        [0.02755811, 0.07287149, 0.8995704 ]]),\n",
       " array([1., 1., 1., 1., 1.]))"
      ]
     },
     "execution_count": 43,
     "metadata": {},
     "output_type": "execute_result"
    }
   ],
   "source": [
    "y_pred_proba = lr_clf.predict_proba(X_test[:5])\n",
    "y_pred_proba, y_pred_proba.sum(axis=1)"
   ]
  },
  {
   "cell_type": "code",
   "execution_count": 44,
   "metadata": {},
   "outputs": [
    {
     "data": {
      "text/plain": [
       "((3, 4), (3,))"
      ]
     },
     "execution_count": 44,
     "metadata": {},
     "output_type": "execute_result"
    }
   ],
   "source": [
    "# 직접 게산\n",
    "W = lr_clf.coef_\n",
    "B = lr_clf.intercept_\n",
    "\n",
    "W.shape, B.shape #((3,4) = (클래스수, 특성수), (3,) = (클래스수))"
   ]
  },
  {
   "cell_type": "code",
   "execution_count": 46,
   "metadata": {},
   "outputs": [
    {
     "data": {
      "text/plain": [
       "array([[-0.34611464,  0.20988442,  0.13623022],\n",
       "       [ 2.44374453,  0.80123723, -3.24498176],\n",
       "       [ 0.76663021,  0.19805797, -0.96468818],\n",
       "       [-0.29622795,  0.86419902, -0.56797107],\n",
       "       [-1.48600708, -0.51360637,  1.99961345]])"
      ]
     },
     "execution_count": 46,
     "metadata": {},
     "output_type": "execute_result"
    }
   ],
   "source": [
    "# 결정함수 (선형회귀값 계산)\n",
    "Z = lr_clf.decision_function(X_test[:5])\n",
    "Z"
   ]
  },
  {
   "cell_type": "code",
   "execution_count": 53,
   "metadata": {},
   "outputs": [
    {
     "data": {
      "text/plain": [
       "array([[0.22917118, 0.39960169, 0.37122713],\n",
       "       [0.83550691, 0.16166581, 0.00282727],\n",
       "       [0.573597  , 0.32484717, 0.10155583],\n",
       "       [0.20188375, 0.64427073, 0.15384551],\n",
       "       [0.02755811, 0.07287149, 0.8995704 ]])"
      ]
     },
     "execution_count": 53,
     "metadata": {},
     "output_type": "execute_result"
    }
   ],
   "source": [
    "# softmax 함수\n",
    "def softmax(z):\n",
    "    exp_z = np.exp(z)\n",
    "    # sum의 형식을 유지해야만 값을 계산 가능하다.\n",
    "    sum_exp_z = np.sum(exp_z, axis=1, keepdims=True)\n",
    "    \n",
    "    return exp_z / sum_exp_z\n",
    "\n",
    "y_pred_proba = softmax(Z)\n",
    "y_pred_proba"
   ]
  },
  {
   "cell_type": "code",
   "execution_count": 55,
   "metadata": {},
   "outputs": [
    {
     "data": {
      "text/plain": [
       "array([[0.22917118, 0.39960169, 0.37122713],\n",
       "       [0.83550691, 0.16166581, 0.00282727],\n",
       "       [0.573597  , 0.32484717, 0.10155583],\n",
       "       [0.20188375, 0.64427073, 0.15384551],\n",
       "       [0.02755811, 0.07287149, 0.8995704 ]])"
      ]
     },
     "execution_count": 55,
     "metadata": {},
     "output_type": "execute_result"
    }
   ],
   "source": [
    "# scipy의 softmax 함수 (다중분류를 위한 softmax함수를 구현해둔 라이브러리)\n",
    "import scipy\n",
    "import scipy.special\n",
    "\n",
    "y_pred_proba = scipy.special.softmax(Z, axis=1)\n",
    "y_pred_proba"
   ]
  },
  {
   "cell_type": "code",
   "execution_count": 56,
   "metadata": {},
   "outputs": [
    {
     "data": {
      "text/plain": [
       "array([1, 0, 0, 1, 2])"
      ]
     },
     "execution_count": 56,
     "metadata": {},
     "output_type": "execute_result"
    }
   ],
   "source": [
    "pred = np.argmax(y_pred_proba, axis=1)\n",
    "pred"
   ]
  },
  {
   "cell_type": "markdown",
   "metadata": {},
   "source": [
    "- 다중 생성 분류"
   ]
  },
  {
   "cell_type": "code",
   "execution_count": 57,
   "metadata": {},
   "outputs": [
    {
     "data": {
      "text/plain": [
       "Species\n",
       "Perch        56\n",
       "Bream        35\n",
       "Roach        20\n",
       "Pike         17\n",
       "Smelt        14\n",
       "Parkki       11\n",
       "Whitefish     6\n",
       "Name: count, dtype: int64"
      ]
     },
     "execution_count": 57,
     "metadata": {},
     "output_type": "execute_result"
    }
   ],
   "source": [
    "# 데이터 로드 ./data/fish.csv\n",
    "fish_df = pd.read_csv('./data/fish.csv')\n",
    "fish_df['Species'].value_counts()"
   ]
  },
  {
   "cell_type": "code",
   "execution_count": 58,
   "metadata": {},
   "outputs": [],
   "source": [
    "# 데이터 분리 및 정규화\n",
    "from sklearn.model_selection import train_test_split\n",
    "from sklearn.preprocessing import StandardScaler\n",
    "\n",
    "X = fish_df.drop('Species', axis=1)\n",
    "y = fish_df['Species']\n",
    "\n",
    "X_train, X_test, y_train, y_test = train_test_split(X,y, random_state=42)\n",
    "\n",
    "scaler = StandardScaler()\n",
    "X_train_scaled = scaler.fit_transform(X_train)\n",
    "X_test_scaled = scaler.fit_transform(X_test)"
   ]
  },
  {
   "cell_type": "code",
   "execution_count": 59,
   "metadata": {},
   "outputs": [
    {
     "data": {
      "text/plain": [
       "(0.8067226890756303, 0.85)"
      ]
     },
     "execution_count": 59,
     "metadata": {},
     "output_type": "execute_result"
    }
   ],
   "source": [
    "# 모델 훈련 및 평가\n",
    "from sklearn.linear_model import LogisticRegression\n",
    "\n",
    "lr_clf = LogisticRegression()\n",
    "lr_clf.fit(X_train_scaled,y_train)\n",
    "\n",
    "lr_clf.score(X_train_scaled, y_train), lr_clf.score(X_test_scaled, y_test)\n"
   ]
  },
  {
   "cell_type": "code",
   "execution_count": 60,
   "metadata": {},
   "outputs": [
    {
     "data": {
      "text/plain": [
       "array(['Perch', 'Smelt', 'Pike', 'Perch', 'Perch'], dtype=object)"
      ]
     },
     "execution_count": 60,
     "metadata": {},
     "output_type": "execute_result"
    }
   ],
   "source": [
    "# 예측\n",
    "lr_clf.predict(X_test_scaled[:5]) # 2, 5, 3, 2, 2"
   ]
  },
  {
   "cell_type": "code",
   "execution_count": 61,
   "metadata": {},
   "outputs": [
    {
     "data": {
      "text/plain": [
       "array(['Bream', 'Parkki', 'Perch', 'Pike', 'Roach', 'Smelt', 'Whitefish'],\n",
       "      dtype=object)"
      ]
     },
     "execution_count": 61,
     "metadata": {},
     "output_type": "execute_result"
    }
   ],
   "source": [
    "# 모델에 저장된 클래스 - 알파벳 순\n",
    "# 차례대로 0,1,2,3,4,5,6\n",
    "lr_clf.classes_"
   ]
  },
  {
   "cell_type": "code",
   "execution_count": 66,
   "metadata": {},
   "outputs": [
    {
     "name": "stdout",
     "output_type": "stream",
     "text": [
      "[1. 1. 1. 1. 1.]\n",
      "\n",
      "[2 5 3 2 2]\n"
     ]
    }
   ],
   "source": [
    "y_pred_proba = lr_clf.predict_proba(X_test_scaled[:5])\n",
    "print(y_pred_proba.sum(axis=1))\n",
    "print()\n",
    "\n",
    "pred = np.argmax(y_pred_proba, axis=1)\n",
    "print(pred)"
   ]
  },
  {
   "cell_type": "code",
   "execution_count": 69,
   "metadata": {},
   "outputs": [
    {
     "name": "stdout",
     "output_type": "stream",
     "text": [
      "(7, 5) \n",
      " (7,)\n"
     ]
    }
   ],
   "source": [
    "print(lr_clf.coef_.shape,'\\n', lr_clf.intercept_.shape)"
   ]
  },
  {
   "cell_type": "code",
   "execution_count": 81,
   "metadata": {},
   "outputs": [
    {
     "name": "stdout",
     "output_type": "stream",
     "text": [
      "-2.1950573063441587 \n",
      "\n",
      "0.7139490860866945 \n",
      "\n",
      "2.5645907861560397 \n",
      "\n",
      "-1.7196473106832175 \n",
      "\n",
      "1.9617300510826055 \n",
      "\n",
      "0.02219842185963916 \n",
      "\n",
      "-1.3477637281576118 \n",
      "\n",
      "P :  [[0.22917118 0.39960169 0.37122713]\n",
      " [0.83550691 0.16166581 0.00282727]\n",
      " [0.573597   0.32484717 0.10155583]\n",
      " [0.20188375 0.64427073 0.15384551]\n",
      " [0.02755811 0.07287149 0.8995704 ]]\n",
      "label :  ['Parkki' 'Bream' 'Bream' 'Parkki' 'Perch']\n"
     ]
    }
   ],
   "source": [
    "# 각 클래스 별 z 값 계산 : 직접 계산\n",
    "# w1x1 + w2x2 + w3x3 + w4x4 + w5x5 + 0\n",
    "print(np.dot(lr_clf.coef_[0], X_test_scaled[0]) + lr_clf.intercept_[0], '\\n')\n",
    "print(np.dot(lr_clf.coef_[1], X_test_scaled[0]) + lr_clf.intercept_[1], '\\n')\n",
    "print(np.dot(lr_clf.coef_[2], X_test_scaled[0]) + lr_clf.intercept_[2], '\\n')\n",
    "print(np.dot(lr_clf.coef_[3], X_test_scaled[0]) + lr_clf.intercept_[3], '\\n')\n",
    "print(np.dot(lr_clf.coef_[4], X_test_scaled[0]) + lr_clf.intercept_[4], '\\n')\n",
    "print(np.dot(lr_clf.coef_[5], X_test_scaled[0]) + lr_clf.intercept_[5], '\\n')\n",
    "print(np.dot(lr_clf.coef_[6], X_test_scaled[0]) + lr_clf.intercept_[6], '\\n')\n",
    "\n",
    "# 각 클래스별 Z 값 계산 : 결정 함수\n",
    "z = lr_clf.decision_function(X_test_scaled[:1])\n",
    "\n",
    "# softmax 함수 적용 -> 확률값 변환\n",
    "p = softmax(Z)\n",
    "print('P : '  , p)\n",
    "\n",
    "\n",
    "# 확률값이 가장 높은 클래스로 예측\n",
    "label = lr_clf.classes_[np.argmax(p, axis=1)]\n",
    "print('label : ', label)"
   ]
  },
  {
   "cell_type": "code",
   "execution_count": null,
   "metadata": {},
   "outputs": [],
   "source": []
  }
 ],
 "metadata": {
  "kernelspec": {
   "display_name": "pystudy_env",
   "language": "python",
   "name": "python3"
  },
  "language_info": {
   "codemirror_mode": {
    "name": "ipython",
    "version": 3
   },
   "file_extension": ".py",
   "mimetype": "text/x-python",
   "name": "python",
   "nbconvert_exporter": "python",
   "pygments_lexer": "ipython3",
   "version": "3.12.8"
  }
 },
 "nbformat": 4,
 "nbformat_minor": 2
}
