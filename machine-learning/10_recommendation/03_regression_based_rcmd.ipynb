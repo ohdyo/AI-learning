{
 "cells": [
  {
   "cell_type": "markdown",
   "metadata": {},
   "source": [
    "# 회귀 기반 추천 시스템"
   ]
  },
  {
   "cell_type": "code",
   "execution_count": 11,
   "metadata": {},
   "outputs": [
    {
     "name": "stdout",
     "output_type": "stream",
     "text": [
      "Requirement already satisfied: catboost in c:\\users\\ljh10\\anaconda3\\envs\\pystudy_env\\lib\\site-packages (1.2.7)\n",
      "Requirement already satisfied: graphviz in c:\\users\\ljh10\\anaconda3\\envs\\pystudy_env\\lib\\site-packages (from catboost) (0.20.3)\n",
      "Requirement already satisfied: matplotlib in c:\\users\\ljh10\\anaconda3\\envs\\pystudy_env\\lib\\site-packages (from catboost) (3.10.0)\n",
      "Requirement already satisfied: numpy<2.0,>=1.16.0 in c:\\users\\ljh10\\anaconda3\\envs\\pystudy_env\\lib\\site-packages (from catboost) (1.26.4)\n",
      "Requirement already satisfied: pandas>=0.24 in c:\\users\\ljh10\\anaconda3\\envs\\pystudy_env\\lib\\site-packages (from catboost) (2.2.3)\n",
      "Requirement already satisfied: scipy in c:\\users\\ljh10\\anaconda3\\envs\\pystudy_env\\lib\\site-packages (from catboost) (1.15.1)\n",
      "Requirement already satisfied: plotly in c:\\users\\ljh10\\anaconda3\\envs\\pystudy_env\\lib\\site-packages (from catboost) (6.0.0)\n",
      "Requirement already satisfied: six in c:\\users\\ljh10\\anaconda3\\envs\\pystudy_env\\lib\\site-packages (from catboost) (1.17.0)\n",
      "Requirement already satisfied: python-dateutil>=2.8.2 in c:\\users\\ljh10\\anaconda3\\envs\\pystudy_env\\lib\\site-packages (from pandas>=0.24->catboost) (2.9.0.post0)\n",
      "Requirement already satisfied: pytz>=2020.1 in c:\\users\\ljh10\\anaconda3\\envs\\pystudy_env\\lib\\site-packages (from pandas>=0.24->catboost) (2024.2)\n",
      "Requirement already satisfied: tzdata>=2022.7 in c:\\users\\ljh10\\anaconda3\\envs\\pystudy_env\\lib\\site-packages (from pandas>=0.24->catboost) (2024.2)\n",
      "Requirement already satisfied: contourpy>=1.0.1 in c:\\users\\ljh10\\anaconda3\\envs\\pystudy_env\\lib\\site-packages (from matplotlib->catboost) (1.3.1)\n",
      "Requirement already satisfied: cycler>=0.10 in c:\\users\\ljh10\\anaconda3\\envs\\pystudy_env\\lib\\site-packages (from matplotlib->catboost) (0.12.1)\n",
      "Requirement already satisfied: fonttools>=4.22.0 in c:\\users\\ljh10\\anaconda3\\envs\\pystudy_env\\lib\\site-packages (from matplotlib->catboost) (4.55.3)\n",
      "Requirement already satisfied: kiwisolver>=1.3.1 in c:\\users\\ljh10\\anaconda3\\envs\\pystudy_env\\lib\\site-packages (from matplotlib->catboost) (1.4.8)\n",
      "Requirement already satisfied: packaging>=20.0 in c:\\users\\ljh10\\anaconda3\\envs\\pystudy_env\\lib\\site-packages (from matplotlib->catboost) (24.2)\n",
      "Requirement already satisfied: pillow>=8 in c:\\users\\ljh10\\anaconda3\\envs\\pystudy_env\\lib\\site-packages (from matplotlib->catboost) (11.0.0)\n",
      "Requirement already satisfied: pyparsing>=2.3.1 in c:\\users\\ljh10\\anaconda3\\envs\\pystudy_env\\lib\\site-packages (from matplotlib->catboost) (3.2.0)\n",
      "Requirement already satisfied: narwhals>=1.15.1 in c:\\users\\ljh10\\anaconda3\\envs\\pystudy_env\\lib\\site-packages (from plotly->catboost) (1.19.1)\n"
     ]
    }
   ],
   "source": [
    "!pip install catboost"
   ]
  },
  {
   "cell_type": "code",
   "execution_count": 12,
   "metadata": {},
   "outputs": [],
   "source": [
    "import pandas as pd"
   ]
  },
  {
   "cell_type": "code",
   "execution_count": 13,
   "metadata": {},
   "outputs": [
    {
     "name": "stdout",
     "output_type": "stream",
     "text": [
      "(34572, 15)\n",
      "  GENDER  AGE_GRP  TRAVEL_STYL_1  TRAVEL_STYL_2  TRAVEL_STYL_3  TRAVEL_STYL_4  \\\n",
      "0      남     30.0            1.0            4.0            2.0            2.0   \n",
      "1      남     20.0            4.0            1.0            5.0            1.0   \n",
      "2      여     50.0            4.0            1.0            2.0            4.0   \n",
      "3      남     30.0            1.0            1.0            1.0            5.0   \n",
      "4      여     20.0            5.0            3.0            3.0            3.0   \n",
      "\n",
      "   TRAVEL_STYL_5  TRAVEL_STYL_6  TRAVEL_STYL_7  TRAVEL_STYL_8  \\\n",
      "0            6.0            2.0            2.0            7.0   \n",
      "1            1.0            4.0            1.0            6.0   \n",
      "2            3.0            3.0            2.0            3.0   \n",
      "3            6.0            3.0            5.0            7.0   \n",
      "4            3.0            3.0            3.0            5.0   \n",
      "\n",
      "   TRAVEL_MOTIVE_1  TRAVEL_COMPANIONS_NUM VISIT_AREA_NM MVMN_NM  DGSTFN  \n",
      "0              3.0                    3.0         미스틱3도     자가용     5.0  \n",
      "1              3.0                    1.0       에스제이렌트카  대중교통 등     4.0  \n",
      "2              1.0                    3.0          법환식당  대중교통 등     5.0  \n",
      "3              7.0                    3.0        에코랜드호텔     자가용     5.0  \n",
      "4              1.0                    2.0     윤스타피자앤파스타     자가용     4.0  \n"
     ]
    }
   ],
   "source": [
    "travel_df = pd.read_csv('./data/travel.csv')\n",
    "print(travel_df.shape)\n",
    "print(travel_df.head())"
   ]
  },
  {
   "cell_type": "code",
   "execution_count": 14,
   "metadata": {},
   "outputs": [],
   "source": [
    "travel_df[['AGE_GRP', 'TRAVEL_STYL_1', 'TRAVEL_STYL_2', 'TRAVEL_STYL_3', 'TRAVEL_STYL_4', 'TRAVEL_STYL_5', 'TRAVEL_STYL_6', 'TRAVEL_STYL_7', 'TRAVEL_STYL_8', 'TRAVEL_MOTIVE_1', 'TRAVEL_COMPANIONS_NUM']]\\\n",
    "    = travel_df[['AGE_GRP', 'TRAVEL_STYL_1', 'TRAVEL_STYL_2', 'TRAVEL_STYL_3', 'TRAVEL_STYL_4', 'TRAVEL_STYL_5', 'TRAVEL_STYL_6', 'TRAVEL_STYL_7', 'TRAVEL_STYL_8', 'TRAVEL_MOTIVE_1', 'TRAVEL_COMPANIONS_NUM']].astype(int)"
   ]
  },
  {
   "cell_type": "code",
   "execution_count": 15,
   "metadata": {},
   "outputs": [],
   "source": [
    "from sklearn.model_selection import train_test_split\n",
    "\n",
    "X = travel_df.drop('DGSTFN', axis=1)\n",
    "y = travel_df['DGSTFN']\n",
    "\n",
    "X_train,X_test, y_train,y_test = train_test_split(X,y, test_size=0.2, random_state=0)"
   ]
  },
  {
   "cell_type": "code",
   "execution_count": 17,
   "metadata": {},
   "outputs": [],
   "source": [
    "from catboost import Pool\n",
    "\n",
    "cat_features = [\n",
    "    'GENDER',\n",
    "    'AGE_GRP', 'TRAVEL_STYL_1', 'TRAVEL_STYL_2',\n",
    "    'TRAVEL_STYL_3', 'TRAVEL_STYL_4', 'TRAVEL_STYL_5',\n",
    "    'TRAVEL_STYL_6', 'TRAVEL_STYL_7', 'TRAVEL_STYL_8',\n",
    "    'TRAVEL_MOTIVE_1', 'TRAVEL_COMPANIONS_NUM',\n",
    "    'VISIT_AREA_NM', 'MVMN_NM'\n",
    "]\n",
    "\n",
    "X_train_pool = Pool(X_train,y_train, cat_features=cat_features)\n",
    "X_test_pool = Pool(X_test,y_test, cat_features=cat_features)"
   ]
  },
  {
   "cell_type": "code",
   "execution_count": 18,
   "metadata": {},
   "outputs": [
    {
     "name": "stdout",
     "output_type": "stream",
     "text": [
      "0:\tlearn: 0.8348252\ttest: 0.8360693\tbest: 0.8360693 (0)\ttotal: 223ms\tremaining: 22.1s\n",
      "10:\tlearn: 0.8309097\ttest: 0.8313066\tbest: 0.8313066 (10)\ttotal: 870ms\tremaining: 7.04s\n",
      "20:\tlearn: 0.8284089\ttest: 0.8281688\tbest: 0.8281688 (20)\ttotal: 1.39s\tremaining: 5.22s\n",
      "30:\tlearn: 0.8266281\ttest: 0.8259954\tbest: 0.8259954 (30)\ttotal: 1.9s\tremaining: 4.22s\n",
      "40:\tlearn: 0.8253390\ttest: 0.8242814\tbest: 0.8242814 (40)\ttotal: 2.37s\tremaining: 3.41s\n",
      "50:\tlearn: 0.8241862\ttest: 0.8230994\tbest: 0.8230994 (50)\ttotal: 2.87s\tremaining: 2.76s\n",
      "60:\tlearn: 0.8232098\ttest: 0.8221181\tbest: 0.8221181 (60)\ttotal: 3.36s\tremaining: 2.15s\n",
      "70:\tlearn: 0.8224472\ttest: 0.8213216\tbest: 0.8213216 (70)\ttotal: 3.85s\tremaining: 1.57s\n",
      "80:\tlearn: 0.8216428\ttest: 0.8205121\tbest: 0.8205121 (80)\ttotal: 4.36s\tremaining: 1.02s\n",
      "90:\tlearn: 0.8210018\ttest: 0.8198809\tbest: 0.8198809 (90)\ttotal: 4.83s\tremaining: 477ms\n",
      "99:\tlearn: 0.8203473\ttest: 0.8193664\tbest: 0.8193664 (99)\ttotal: 5.22s\tremaining: 0us\n",
      "\n",
      "bestTest = 0.8193664476\n",
      "bestIteration = 99\n",
      "\n"
     ]
    },
    {
     "data": {
      "text/plain": [
       "<catboost.core.CatBoostRegressor at 0x1907f37dd90>"
      ]
     },
     "execution_count": 18,
     "metadata": {},
     "output_type": "execute_result"
    }
   ],
   "source": [
    "from catboost import CatBoostRegressor\n",
    "\n",
    "cb_reg = CatBoostRegressor(\n",
    "    n_estimators= 100, # 반복횟수(내부 예측기 계수)\n",
    "    depth= 5,          # 개별 트리의 최대 깊이\n",
    "    learning_rate= 0.03, # \n",
    "    loss_function= 'RMSE', # 손실함수 (기본값)\n",
    "    eval_metric= 'RMSE' # 평가지표 (기본값)\n",
    ")\n",
    "\n",
    "cb_reg.fit(X_train_pool, eval_set=X_test_pool, verbose=10)\n"
   ]
  },
  {
   "cell_type": "code",
   "execution_count": 19,
   "metadata": {},
   "outputs": [
    {
     "data": {
      "text/html": [
       "<div>\n",
       "<style scoped>\n",
       "    .dataframe tbody tr th:only-of-type {\n",
       "        vertical-align: middle;\n",
       "    }\n",
       "\n",
       "    .dataframe tbody tr th {\n",
       "        vertical-align: top;\n",
       "    }\n",
       "\n",
       "    .dataframe thead th {\n",
       "        text-align: right;\n",
       "    }\n",
       "</style>\n",
       "<table border=\"1\" class=\"dataframe\">\n",
       "  <thead>\n",
       "    <tr style=\"text-align: right;\">\n",
       "      <th></th>\n",
       "      <th>column</th>\n",
       "      <th>importance</th>\n",
       "    </tr>\n",
       "  </thead>\n",
       "  <tbody>\n",
       "    <tr>\n",
       "      <th>0</th>\n",
       "      <td>GENDER</td>\n",
       "      <td>0.771593</td>\n",
       "    </tr>\n",
       "    <tr>\n",
       "      <th>1</th>\n",
       "      <td>AGE_GRP</td>\n",
       "      <td>14.510488</td>\n",
       "    </tr>\n",
       "    <tr>\n",
       "      <th>2</th>\n",
       "      <td>TRAVEL_STYL_1</td>\n",
       "      <td>5.528368</td>\n",
       "    </tr>\n",
       "    <tr>\n",
       "      <th>3</th>\n",
       "      <td>TRAVEL_STYL_2</td>\n",
       "      <td>8.485650</td>\n",
       "    </tr>\n",
       "    <tr>\n",
       "      <th>4</th>\n",
       "      <td>TRAVEL_STYL_3</td>\n",
       "      <td>6.954300</td>\n",
       "    </tr>\n",
       "    <tr>\n",
       "      <th>5</th>\n",
       "      <td>TRAVEL_STYL_4</td>\n",
       "      <td>3.464870</td>\n",
       "    </tr>\n",
       "    <tr>\n",
       "      <th>6</th>\n",
       "      <td>TRAVEL_STYL_5</td>\n",
       "      <td>4.786226</td>\n",
       "    </tr>\n",
       "    <tr>\n",
       "      <th>7</th>\n",
       "      <td>TRAVEL_STYL_6</td>\n",
       "      <td>7.467811</td>\n",
       "    </tr>\n",
       "    <tr>\n",
       "      <th>8</th>\n",
       "      <td>TRAVEL_STYL_7</td>\n",
       "      <td>1.247661</td>\n",
       "    </tr>\n",
       "    <tr>\n",
       "      <th>9</th>\n",
       "      <td>TRAVEL_STYL_8</td>\n",
       "      <td>11.272213</td>\n",
       "    </tr>\n",
       "    <tr>\n",
       "      <th>10</th>\n",
       "      <td>TRAVEL_MOTIVE_1</td>\n",
       "      <td>2.508772</td>\n",
       "    </tr>\n",
       "    <tr>\n",
       "      <th>11</th>\n",
       "      <td>TRAVEL_COMPANIONS_NUM</td>\n",
       "      <td>1.651526</td>\n",
       "    </tr>\n",
       "    <tr>\n",
       "      <th>12</th>\n",
       "      <td>VISIT_AREA_NM</td>\n",
       "      <td>30.972287</td>\n",
       "    </tr>\n",
       "    <tr>\n",
       "      <th>13</th>\n",
       "      <td>MVMN_NM</td>\n",
       "      <td>0.378235</td>\n",
       "    </tr>\n",
       "  </tbody>\n",
       "</table>\n",
       "</div>"
      ],
      "text/plain": [
       "                   column  importance\n",
       "0                  GENDER    0.771593\n",
       "1                 AGE_GRP   14.510488\n",
       "2           TRAVEL_STYL_1    5.528368\n",
       "3           TRAVEL_STYL_2    8.485650\n",
       "4           TRAVEL_STYL_3    6.954300\n",
       "5           TRAVEL_STYL_4    3.464870\n",
       "6           TRAVEL_STYL_5    4.786226\n",
       "7           TRAVEL_STYL_6    7.467811\n",
       "8           TRAVEL_STYL_7    1.247661\n",
       "9           TRAVEL_STYL_8   11.272213\n",
       "10        TRAVEL_MOTIVE_1    2.508772\n",
       "11  TRAVEL_COMPANIONS_NUM    1.651526\n",
       "12          VISIT_AREA_NM   30.972287\n",
       "13                MVMN_NM    0.378235"
      ]
     },
     "execution_count": 19,
     "metadata": {},
     "output_type": "execute_result"
    }
   ],
   "source": [
    "col_importance = pd.DataFrame({\n",
    "    'column': X_train.columns,\n",
    "    'importance' : cb_reg.feature_importances_\n",
    "})\n",
    "\n",
    "col_importance"
   ]
  },
  {
   "cell_type": "markdown",
   "metadata": {},
   "source": [
    "### 추천 시스템 구축\n",
    "1. 방문지 목록을 생성\n",
    "2. 사용자 특성 입력\n",
    "3. 가상 만족도 예측\n",
    "4. 만족도가 높은 순으로 추측"
   ]
  },
  {
   "cell_type": "code",
   "execution_count": 20,
   "metadata": {},
   "outputs": [
    {
     "data": {
      "text/plain": [
       "(10711,)"
      ]
     },
     "execution_count": 20,
     "metadata": {},
     "output_type": "execute_result"
    }
   ],
   "source": [
    "visit_ares = travel_df['VISIT_AREA_NM'].unique()\n",
    "visit_ares.shape"
   ]
  },
  {
   "cell_type": "code",
   "execution_count": 21,
   "metadata": {},
   "outputs": [
    {
     "data": {
      "text/plain": [
       "[4.306107212369755,\n",
       " 4.134672247211243,\n",
       " 4.256663752108525,\n",
       " 4.2466825925724025,\n",
       " 4.088213814198101,\n",
       " 4.0794092856928925,\n",
       " 4.088213814198101,\n",
       " 4.141207260897324,\n",
       " 4.256663752108525,\n",
       " 4.200830663195209]"
      ]
     },
     "execution_count": 21,
     "metadata": {},
     "output_type": "execute_result"
    }
   ],
   "source": [
    "user_input = ['여', 60,4,4,4,4,4,4,4,4,1,2,'방문지','자가용']\n",
    "pred_results = []\n",
    "\n",
    "for area in visit_ares:\n",
    "    user_input[-2] = area\n",
    "    dgstfn_pred = cb_reg.predict(user_input)\n",
    "    pred_results.append(dgstfn_pred)\n",
    "\n",
    "pred_results[:10]"
   ]
  },
  {
   "cell_type": "code",
   "execution_count": 22,
   "metadata": {},
   "outputs": [
    {
     "data": {
      "text/html": [
       "<div>\n",
       "<style scoped>\n",
       "    .dataframe tbody tr th:only-of-type {\n",
       "        vertical-align: middle;\n",
       "    }\n",
       "\n",
       "    .dataframe tbody tr th {\n",
       "        vertical-align: top;\n",
       "    }\n",
       "\n",
       "    .dataframe thead th {\n",
       "        text-align: right;\n",
       "    }\n",
       "</style>\n",
       "<table border=\"1\" class=\"dataframe\">\n",
       "  <thead>\n",
       "    <tr style=\"text-align: right;\">\n",
       "      <th></th>\n",
       "      <th>VISIT_AREA_NM</th>\n",
       "      <th>DGSTFN_PRED</th>\n",
       "    </tr>\n",
       "  </thead>\n",
       "  <tbody>\n",
       "    <tr>\n",
       "      <th>193</th>\n",
       "      <td>여울목게스트하우스</td>\n",
       "      <td>4.308569</td>\n",
       "    </tr>\n",
       "    <tr>\n",
       "      <th>3450</th>\n",
       "      <td>한라산국립공원 영실탐방로</td>\n",
       "      <td>4.308569</td>\n",
       "    </tr>\n",
       "    <tr>\n",
       "      <th>1037</th>\n",
       "      <td>올레길 21코스</td>\n",
       "      <td>4.308569</td>\n",
       "    </tr>\n",
       "    <tr>\n",
       "      <th>676</th>\n",
       "      <td>파라다이스시티</td>\n",
       "      <td>4.308569</td>\n",
       "    </tr>\n",
       "    <tr>\n",
       "      <th>216</th>\n",
       "      <td>제주신라호텔</td>\n",
       "      <td>4.308569</td>\n",
       "    </tr>\n",
       "    <tr>\n",
       "      <th>60</th>\n",
       "      <td>산지해장국</td>\n",
       "      <td>4.308569</td>\n",
       "    </tr>\n",
       "    <tr>\n",
       "      <th>3288</th>\n",
       "      <td>귤꽃다락</td>\n",
       "      <td>4.308569</td>\n",
       "    </tr>\n",
       "    <tr>\n",
       "      <th>1303</th>\n",
       "      <td>영종씨사이드 레일바이크</td>\n",
       "      <td>4.308569</td>\n",
       "    </tr>\n",
       "    <tr>\n",
       "      <th>78</th>\n",
       "      <td>제주1번가더테라스오피스텔</td>\n",
       "      <td>4.308569</td>\n",
       "    </tr>\n",
       "    <tr>\n",
       "      <th>3936</th>\n",
       "      <td>한라산국립공원 관음사탐방로</td>\n",
       "      <td>4.308569</td>\n",
       "    </tr>\n",
       "  </tbody>\n",
       "</table>\n",
       "</div>"
      ],
      "text/plain": [
       "       VISIT_AREA_NM  DGSTFN_PRED\n",
       "193        여울목게스트하우스     4.308569\n",
       "3450   한라산국립공원 영실탐방로     4.308569\n",
       "1037        올레길 21코스     4.308569\n",
       "676          파라다이스시티     4.308569\n",
       "216           제주신라호텔     4.308569\n",
       "60             산지해장국     4.308569\n",
       "3288            귤꽃다락     4.308569\n",
       "1303    영종씨사이드 레일바이크     4.308569\n",
       "78     제주1번가더테라스오피스텔     4.308569\n",
       "3936  한라산국립공원 관음사탐방로     4.308569"
      ]
     },
     "execution_count": 22,
     "metadata": {},
     "output_type": "execute_result"
    }
   ],
   "source": [
    "result_df = pd.DataFrame({\n",
    "    'VISIT_AREA_NM': visit_ares,\n",
    "    'DGSTFN_PRED' : pred_results\n",
    "})\n",
    "\n",
    "result_df.sort_values(by='DGSTFN_PRED', ascending=False).head(10)"
   ]
  }
 ],
 "metadata": {
  "kernelspec": {
   "display_name": "pystudy_env",
   "language": "python",
   "name": "python3"
  },
  "language_info": {
   "codemirror_mode": {
    "name": "ipython",
    "version": 3
   },
   "file_extension": ".py",
   "mimetype": "text/x-python",
   "name": "python",
   "nbconvert_exporter": "python",
   "pygments_lexer": "ipython3",
   "version": "3.12.8"
  }
 },
 "nbformat": 4,
 "nbformat_minor": 2
}
