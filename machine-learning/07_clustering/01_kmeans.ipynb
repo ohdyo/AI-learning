{
 "cells": [
  {
   "cell_type": "markdown",
   "metadata": {},
   "source": [
    "# KMeans\n",
    "- K개의 그룹(중심점을 기준)으로 데이터 포인트를 나눔\n",
    "\n",
    "**작동 단계**\n",
    "1. K개의 중심적 임의 선택\n",
    "2. 각 데이터 포인트를 가장 가까운 중심점에 할당 > 군집 형성\n",
    "3. 각 군집의 데이터 포인트 기반으로 새로운 중심점 계싼\n",
    "4. 2~3 단계를 중심점의 변화가 거의 없을 때까지 반복 실행\n",
    "\n",
    "**장단점**\n",
    "- 장점\n",
    "    - 간단한 개념과 구현\n",
    "    - 빠른 계산 속도\n",
    "    - 일반적인 군집화에서 가장 많이 활용되며 대용량 데이터에도 활용 가능\n",
    "- 단점\n",
    "    - 거리 기반 알고리즘으로 속성의 개수가 매우 많을 경우 군집화 정확도 떨어짐\n",
    "    - 반복적으로 수행하므로 반복 횟수가 많아지면 수행 시간 느려짐\n",
    "    - 이상치(outlier) 데이터에 취약\n",
    "    - 군집이 원형 구조가 아닐 경우 성능이 저하 가능성"
   ]
  },
  {
   "cell_type": "code",
   "execution_count": 27,
   "metadata": {},
   "outputs": [],
   "source": [
    "import numpy as np\n",
    "import pandas as pd\n",
    "import matplotlib.pyplot as plt\n",
    "import seaborn as sns"
   ]
  },
  {
   "cell_type": "code",
   "execution_count": 28,
   "metadata": {},
   "outputs": [
    {
     "data": {
      "text/html": [
       "<div>\n",
       "<style scoped>\n",
       "    .dataframe tbody tr th:only-of-type {\n",
       "        vertical-align: middle;\n",
       "    }\n",
       "\n",
       "    .dataframe tbody tr th {\n",
       "        vertical-align: top;\n",
       "    }\n",
       "\n",
       "    .dataframe thead th {\n",
       "        text-align: right;\n",
       "    }\n",
       "</style>\n",
       "<table border=\"1\" class=\"dataframe\">\n",
       "  <thead>\n",
       "    <tr style=\"text-align: right;\">\n",
       "      <th></th>\n",
       "      <th>sepal length (cm)</th>\n",
       "      <th>sepal width (cm)</th>\n",
       "      <th>petal length (cm)</th>\n",
       "      <th>petal width (cm)</th>\n",
       "      <th>Species</th>\n",
       "    </tr>\n",
       "  </thead>\n",
       "  <tbody>\n",
       "    <tr>\n",
       "      <th>0</th>\n",
       "      <td>5.1</td>\n",
       "      <td>3.5</td>\n",
       "      <td>1.4</td>\n",
       "      <td>0.2</td>\n",
       "      <td>0</td>\n",
       "    </tr>\n",
       "    <tr>\n",
       "      <th>1</th>\n",
       "      <td>4.9</td>\n",
       "      <td>3.0</td>\n",
       "      <td>1.4</td>\n",
       "      <td>0.2</td>\n",
       "      <td>0</td>\n",
       "    </tr>\n",
       "    <tr>\n",
       "      <th>2</th>\n",
       "      <td>4.7</td>\n",
       "      <td>3.2</td>\n",
       "      <td>1.3</td>\n",
       "      <td>0.2</td>\n",
       "      <td>0</td>\n",
       "    </tr>\n",
       "    <tr>\n",
       "      <th>3</th>\n",
       "      <td>4.6</td>\n",
       "      <td>3.1</td>\n",
       "      <td>1.5</td>\n",
       "      <td>0.2</td>\n",
       "      <td>0</td>\n",
       "    </tr>\n",
       "    <tr>\n",
       "      <th>4</th>\n",
       "      <td>5.0</td>\n",
       "      <td>3.6</td>\n",
       "      <td>1.4</td>\n",
       "      <td>0.2</td>\n",
       "      <td>0</td>\n",
       "    </tr>\n",
       "    <tr>\n",
       "      <th>...</th>\n",
       "      <td>...</td>\n",
       "      <td>...</td>\n",
       "      <td>...</td>\n",
       "      <td>...</td>\n",
       "      <td>...</td>\n",
       "    </tr>\n",
       "    <tr>\n",
       "      <th>145</th>\n",
       "      <td>6.7</td>\n",
       "      <td>3.0</td>\n",
       "      <td>5.2</td>\n",
       "      <td>2.3</td>\n",
       "      <td>2</td>\n",
       "    </tr>\n",
       "    <tr>\n",
       "      <th>146</th>\n",
       "      <td>6.3</td>\n",
       "      <td>2.5</td>\n",
       "      <td>5.0</td>\n",
       "      <td>1.9</td>\n",
       "      <td>2</td>\n",
       "    </tr>\n",
       "    <tr>\n",
       "      <th>147</th>\n",
       "      <td>6.5</td>\n",
       "      <td>3.0</td>\n",
       "      <td>5.2</td>\n",
       "      <td>2.0</td>\n",
       "      <td>2</td>\n",
       "    </tr>\n",
       "    <tr>\n",
       "      <th>148</th>\n",
       "      <td>6.2</td>\n",
       "      <td>3.4</td>\n",
       "      <td>5.4</td>\n",
       "      <td>2.3</td>\n",
       "      <td>2</td>\n",
       "    </tr>\n",
       "    <tr>\n",
       "      <th>149</th>\n",
       "      <td>5.9</td>\n",
       "      <td>3.0</td>\n",
       "      <td>5.1</td>\n",
       "      <td>1.8</td>\n",
       "      <td>2</td>\n",
       "    </tr>\n",
       "  </tbody>\n",
       "</table>\n",
       "<p>150 rows × 5 columns</p>\n",
       "</div>"
      ],
      "text/plain": [
       "     sepal length (cm)  sepal width (cm)  petal length (cm)  petal width (cm)  \\\n",
       "0                  5.1               3.5                1.4               0.2   \n",
       "1                  4.9               3.0                1.4               0.2   \n",
       "2                  4.7               3.2                1.3               0.2   \n",
       "3                  4.6               3.1                1.5               0.2   \n",
       "4                  5.0               3.6                1.4               0.2   \n",
       "..                 ...               ...                ...               ...   \n",
       "145                6.7               3.0                5.2               2.3   \n",
       "146                6.3               2.5                5.0               1.9   \n",
       "147                6.5               3.0                5.2               2.0   \n",
       "148                6.2               3.4                5.4               2.3   \n",
       "149                5.9               3.0                5.1               1.8   \n",
       "\n",
       "     Species  \n",
       "0          0  \n",
       "1          0  \n",
       "2          0  \n",
       "3          0  \n",
       "4          0  \n",
       "..       ...  \n",
       "145        2  \n",
       "146        2  \n",
       "147        2  \n",
       "148        2  \n",
       "149        2  \n",
       "\n",
       "[150 rows x 5 columns]"
      ]
     },
     "execution_count": 28,
     "metadata": {},
     "output_type": "execute_result"
    }
   ],
   "source": [
    "from sklearn.datasets import load_iris\n",
    "\n",
    "iris = load_iris()\n",
    "iris_df = pd.DataFrame(iris.data, columns=iris.feature_names)\n",
    "iris_df['Species'] = iris.target\n",
    "iris_df"
   ]
  },
  {
   "cell_type": "code",
   "execution_count": 29,
   "metadata": {},
   "outputs": [
    {
     "data": {
      "text/plain": [
       "Species  cluster\n",
       "0        1          50\n",
       "1        0          47\n",
       "         2           3\n",
       "2        2          36\n",
       "         0          14\n",
       "Name: count, dtype: int64"
      ]
     },
     "execution_count": 29,
     "metadata": {},
     "output_type": "execute_result"
    }
   ],
   "source": [
    "#KMeans\n",
    "from sklearn.cluster import KMeans\n",
    "\n",
    "kmeans = KMeans(\n",
    "    n_clusters=3, # 중심점(=클러스터) 개수\n",
    "    init='k-means++',   # 초기 클러스터 위치 설정(현재 기본값)\n",
    "    max_iter=300,\n",
    "    random_state=-0\n",
    ")\n",
    "kmeans.fit(iris.data)\n",
    "distances = kmeans.transform(iris.data)\n",
    "distances\n",
    "\n",
    "iris_df['cluster'] = kmeans.labels_\n",
    "iris_df.groupby('Species')['cluster'].value_counts()"
   ]
  },
  {
   "cell_type": "code",
   "execution_count": 30,
   "metadata": {},
   "outputs": [],
   "source": [
    "from sklearn.decomposition import PCA\n",
    "\n",
    "pca = PCA(n_components=2)\n",
    "pca_transformed = pca.fit_transform(iris.data)\n",
    "\n",
    "iris_df['pca1'] = pca_transformed[:,0]\n",
    "iris_df['pca2'] = pca_transformed[:,1]\n"
   ]
  },
  {
   "cell_type": "code",
   "execution_count": 31,
   "metadata": {},
   "outputs": [
    {
     "data": {
      "text/plain": [
       "array([[ 0.66567601, -0.3316042 ],\n",
       "       [-2.64241546,  0.19088505],\n",
       "       [ 2.34652659,  0.27393856]])"
      ]
     },
     "execution_count": 31,
     "metadata": {},
     "output_type": "execute_result"
    }
   ],
   "source": [
    "kmeans.cluster_centers_ # 클러스터의 중심점\n",
    "\n",
    "# pca 기반 2차원 변환\n",
    "centers = pca.transform(kmeans.cluster_centers_)\n",
    "centers"
   ]
  },
  {
   "cell_type": "code",
   "execution_count": 32,
   "metadata": {},
   "outputs": [
    {
     "data": {
      "image/png": "[encoded data removed]",
      "text/plain": [
       "<Figure size 640x480 with 1 Axes>"
      ]
     },
     "metadata": {},
     "output_type": "display_data"
    },
    {
     "data": {
      "image/png": "[encoded data removed]",
      "text/plain": [
       "<Figure size 640x480 with 1 Axes>"
      ]
     },
     "metadata": {},
     "output_type": "display_data"
    }
   ],
   "source": [
    "plt.scatter(x=iris_df['pca1'], y=iris_df['pca2'], c=iris_df['Species'])\n",
    "plt.title('Species')\n",
    "plt.show()\n",
    "\n",
    "\n",
    "plt.scatter(x=iris_df['pca1'], y=iris_df['pca2'], c=iris_df['cluster'])\n",
    "plt.scatter(x=centers[:,0],y=centers[:,1],c='r')\n",
    "plt.title('Cluster')\n",
    "plt.show()"
   ]
  },
  {
   "cell_type": "markdown",
   "metadata": {},
   "source": [
    "### 과일 데이터 군집"
   ]
  },
  {
   "cell_type": "code",
   "execution_count": 33,
   "metadata": {},
   "outputs": [
    {
     "data": {
      "text/plain": [
       "array([[[1, 1, 1, ..., 1, 1, 1],\n",
       "        [1, 1, 1, ..., 1, 1, 1],\n",
       "        [1, 1, 1, ..., 1, 1, 1],\n",
       "        ...,\n",
       "        [1, 1, 1, ..., 1, 1, 1],\n",
       "        [1, 1, 1, ..., 1, 1, 1],\n",
       "        [1, 1, 1, ..., 1, 1, 1]],\n",
       "\n",
       "       [[1, 1, 1, ..., 1, 1, 1],\n",
       "        [1, 1, 1, ..., 1, 1, 1],\n",
       "        [1, 1, 1, ..., 1, 1, 1],\n",
       "        ...,\n",
       "        [1, 1, 1, ..., 1, 1, 1],\n",
       "        [1, 1, 1, ..., 1, 1, 1],\n",
       "        [1, 1, 1, ..., 1, 1, 1]],\n",
       "\n",
       "       [[1, 1, 1, ..., 1, 1, 1],\n",
       "        [1, 1, 1, ..., 1, 1, 1],\n",
       "        [1, 1, 1, ..., 1, 1, 1],\n",
       "        ...,\n",
       "        [1, 1, 1, ..., 1, 1, 1],\n",
       "        [1, 1, 1, ..., 1, 1, 1],\n",
       "        [1, 1, 1, ..., 1, 1, 1]],\n",
       "\n",
       "       ...,\n",
       "\n",
       "       [[1, 1, 1, ..., 1, 1, 1],\n",
       "        [1, 1, 1, ..., 1, 1, 1],\n",
       "        [1, 1, 1, ..., 1, 1, 1],\n",
       "        ...,\n",
       "        [1, 1, 1, ..., 1, 1, 1],\n",
       "        [1, 1, 1, ..., 1, 1, 1],\n",
       "        [1, 1, 1, ..., 1, 1, 1]],\n",
       "\n",
       "       [[1, 1, 1, ..., 1, 1, 1],\n",
       "        [1, 1, 1, ..., 1, 1, 1],\n",
       "        [1, 1, 1, ..., 1, 1, 1],\n",
       "        ...,\n",
       "        [1, 1, 1, ..., 1, 1, 1],\n",
       "        [1, 1, 1, ..., 1, 1, 1],\n",
       "        [1, 1, 1, ..., 1, 1, 1]],\n",
       "\n",
       "       [[1, 1, 1, ..., 1, 1, 1],\n",
       "        [1, 1, 1, ..., 1, 1, 1],\n",
       "        [1, 1, 1, ..., 1, 1, 1],\n",
       "        ...,\n",
       "        [1, 1, 1, ..., 1, 1, 1],\n",
       "        [1, 1, 1, ..., 1, 1, 1],\n",
       "        [1, 1, 1, ..., 1, 1, 1]]], shape=(300, 100, 100), dtype=uint8)"
      ]
     },
     "execution_count": 33,
     "metadata": {},
     "output_type": "execute_result"
    }
   ],
   "source": [
    "fruits = np.load('./data/fruits_300.npy')\n",
    "fruits"
   ]
  },
  {
   "cell_type": "code",
   "execution_count": 34,
   "metadata": {},
   "outputs": [],
   "source": [
    "def draw_fruits(arr, ratio=1):\n",
    "    N = len(arr)\n",
    "    rows = int(np.ceil(N/10))\n",
    "    cols = N if rows < 2 else 10\n",
    "    fig, ax = plt.subplots(rows,cols,figsize=(cols*ratio,rows*ratio), squeeze=False)\n",
    "\n",
    "    for i in range(rows):\n",
    "        for j in range(cols):\n",
    "            if i*10 + j < N:\n",
    "                ax[i,j].imshow(arr[i*10 + j], cmap='gray_r')\n",
    "            ax[i,j].axis('off')\n",
    "               \n",
    "    plt.show()"
   ]
  },
  {
   "cell_type": "code",
   "execution_count": null,
   "metadata": {},
   "outputs": [
    {
     "data": {
      "text/plain": [
       "array([[ 4661.3649493 ,  8642.61845541,  3094.2021583 ],\n",
       "       [ 5353.49325819,  9030.55531495,  2621.1643038 ],\n",
       "       [ 4622.86793264,  8494.99543011,  3128.53032176],\n",
       "       [ 5300.22503847,  9132.8299753 ,  3038.30448273],\n",
       "       [ 5032.40691964,  8461.52728232,  2635.06533269],\n",
       "       [ 4350.11675063,  7855.57817995,  4900.64521339],\n",
       "       [ 4727.52939983,  8558.2291995 ,  2738.57038876],\n",
       "       [ 4656.52135963,  8677.20797817,  2636.52441605],\n",
       "       [ 5288.60342196,  8360.33405924,  2709.72461019],\n",
       "       [ 5514.77511468,  7956.78993771,  3869.39936723],\n",
       "       [ 4590.76940849,  8352.57326294,  3066.18213505],\n",
       "       [ 4780.73450474,  8636.78492775,  2627.86222723],\n",
       "       [ 4514.76430857,  8529.94261235,  2279.26277964],\n",
       "       [ 5119.22643024,  8334.41299737,  3243.70032469],\n",
       "       [ 5092.92077066,  8857.76766405,  2784.93156843],\n",
       "       [ 4017.0062117 ,  8037.67342153,  3573.76137312],\n",
       "       [ 5293.63820116,  8349.30637291,  2650.14999927],\n",
       "       [ 5330.38339326,  9291.31930344,  3124.17254766],\n",
       "       [ 4489.87288173,  8987.62070343,  5218.12036367],\n",
       "       [ 4709.12721984,  9412.19465778,  3457.24290227],\n",
       "       [ 5075.09989639,  9631.54363359,  3529.70760463],\n",
       "       [ 4973.619492  ,  8490.88025715,  3242.18615148],\n",
       "       [ 5037.07718479,  9097.76782841,  3020.10795554],\n",
       "       [ 4924.46066784,  8946.71787673,  2842.18763099],\n",
       "       [ 4819.12736927,  8620.9510822 ,  2677.70185395],\n",
       "       [ 4407.23992764,  8993.3244943 ,  3471.25455016],\n",
       "       [ 4510.95237741,  9098.13388303,  4523.31028203],\n",
       "       [ 5213.86486185,  8717.86436182,  2521.07752465],\n",
       "       [ 5049.3563463 ,  9390.12960347,  3127.237911  ],\n",
       "       [ 4047.81338827,  9030.80991184,  3792.76420698],\n",
       "       [ 4932.43111361,  8483.24929749,  2485.88586865],\n",
       "       [ 5291.17996169,  8339.29741636,  2641.8761172 ],\n",
       "       [ 4250.2448683 ,  8924.31761357,  2866.5257556 ],\n",
       "       [ 5203.16148343,  8974.16720316,  2501.95951135],\n",
       "       [ 5140.36997812,  9176.15200745,  3226.16788445],\n",
       "       [ 4775.20637114,  8614.47117607,  3284.34406723],\n",
       "       [ 4956.81322357,  9227.06626107,  2841.98260546],\n",
       "       [ 5320.11052126,  8207.9315828 ,  3603.60635055],\n",
       "       [ 4855.66578242,  8758.0508531 ,  2244.43082534],\n",
       "       [ 4930.74001377,  9065.40431072,  3195.5682153 ],\n",
       "       [ 5045.74008565,  8330.55719591,  2717.44630465],\n",
       "       [ 4955.18474081,  9321.78664285,  3074.62651332],\n",
       "       [ 4765.62956542,  8684.20483891,  5657.71348169],\n",
       "       [ 4544.533961  ,  8815.3840998 ,  3341.67801441],\n",
       "       [ 4741.54080154,  8627.32176916,  5586.69505728],\n",
       "       [ 5667.77566705,  8297.14667887,  3832.93325692],\n",
       "       [ 4010.17034878,  9036.61465026,  3546.28443065],\n",
       "       [ 5014.12652568,  8405.08822876,  2441.75068269],\n",
       "       [ 5152.66230886,  8933.1480745 ,  2498.6619123 ],\n",
       "       [ 5141.94343761,  8387.07405686,  2638.21526305],\n",
       "       [ 5376.81995546,  8923.65901036,  2649.44056082],\n",
       "       [ 4965.10356076,  9036.53346544,  3476.47587792],\n",
       "       [ 4532.12416626,  9106.32989147,  4917.11802864],\n",
       "       [ 4810.6786139 ,  8311.69462881,  2598.6590424 ],\n",
       "       [ 5261.81586776,  8329.7803797 ,  2618.96268201],\n",
       "       [ 4912.8600371 ,  8559.09964095,  3266.38479341],\n",
       "       [ 4879.58965757,  8518.49026281,  2645.71529433],\n",
       "       [ 5221.82111034,  8980.1727979 ,  2533.80353899],\n",
       "       [ 5438.09707341,  8414.79285705,  3483.8520438 ],\n",
       "       [ 5363.09404414,  9029.54019952,  2628.5253231 ],\n",
       "       [ 4971.81030854,  9549.13336011,  3598.7592363 ],\n",
       "       [ 4830.08304548,  8549.48522323,  2662.01534698],\n",
       "       [ 4539.52472471,  8103.70837324,  5106.59048646],\n",
       "       [ 4219.71519365,  7783.30165309,  4592.97467598],\n",
       "       [ 5080.93740766,  9399.51398497,  3142.74770734],\n",
       "       [ 4586.68263577,  8374.46754265,  3092.46177319],\n",
       "       [ 5012.74740157,  8549.33212516,  2478.83321047],\n",
       "       [ 5159.40831268,  9133.90520849,  3348.9772596 ],\n",
       "       [ 5256.50090308,  8757.02586909,  2545.54377879],\n",
       "       [ 4238.1764371 ,  8296.52160888,  2893.12200779],\n",
       "       [ 5228.38356725,  8988.28754606,  2518.94454457],\n",
       "       [ 4293.86712082,  8911.23294743,  2864.11901847],\n",
       "       [ 4345.91398958,  7818.26386272,  4898.36151027],\n",
       "       [ 4790.22993161,  8334.53082005,  2695.70426518],\n",
       "       [ 5365.86834051,  8982.2467424 ,  2526.41004343],\n",
       "       [ 4557.53706722,  8866.49053566,  3304.03450291],\n",
       "       [ 5105.00502426,  8556.58753209,  2475.37271644],\n",
       "       [ 4136.20772799,  8970.96625688,  2941.80831326],\n",
       "       [ 5351.0620469 ,  9042.66072741,  2613.68048646],\n",
       "       [ 4217.13760123,  9020.09133232,  3641.40658976],\n",
       "       [ 4622.30644667,  8507.73391197,  3140.5753112 ],\n",
       "       [ 5569.46439408,  8132.95846657,  3779.42633166],\n",
       "       [ 4528.73237678,  8734.58892357,  3430.78002092],\n",
       "       [ 5667.52691668,  8427.17885896,  3699.91995661],\n",
       "       [ 4962.86720424,  8379.38862234,  2468.91885848],\n",
       "       [ 5553.84134385,  8292.07213527,  3692.36497485],\n",
       "       [ 5385.71204118,  8971.84896482,  2534.99604137],\n",
       "       [ 5298.78355594,  8992.2444311 ,  2489.31761662],\n",
       "       [ 5633.87069218,  8018.92310766,  3917.63091631],\n",
       "       [ 4612.11298738,  8458.78760373,  3150.36861631],\n",
       "       [ 4904.92930936,  8915.41119901,  2777.06950995],\n",
       "       [ 4572.98973529,  8211.54337519,  5199.57629222],\n",
       "       [ 5377.47157074,  8911.1237885 ,  2628.21607787],\n",
       "       [ 5165.54200529,  8401.69456489,  2627.56143744],\n",
       "       [ 5298.26463111,  9141.68030989,  3060.17734359],\n",
       "       [ 4994.95431602,  9249.69400324,  2881.61843352],\n",
       "       [ 4868.92040078,  9231.85624261,  3086.4836585 ],\n",
       "       [ 5107.96728802,  9180.87856776,  3135.86128463],\n",
       "       [ 4373.54575355,  8323.65174046,  3001.76579825],\n",
       "       [ 4973.00381645,  8521.21480336,  3278.21178842],\n",
       "       [ 3400.24197319,  8837.37750892,  5279.33763699],\n",
       "       [ 3222.27763743,  7750.19840105,  4826.22915798],\n",
       "       [ 3478.68685885,  8638.9906387 ,  4655.54849577],\n",
       "       [ 3359.56178496,  8667.29689581,  5444.39530126],\n",
       "       [ 3403.47074866,  8888.25889326,  5528.25952486],\n",
       "       [ 3503.43291254,  8714.89026185,  5451.31612414],\n",
       "       [ 3497.18476745,  8617.02791881,  5584.92546223],\n",
       "       [ 3948.7138631 ,  8577.70006937,  5170.42846675],\n",
       "       [ 4055.71788755,  8689.80810775,  6148.68223613],\n",
       "       [ 3593.92281366,  8655.01227027,  4631.93489169],\n",
       "       [ 3428.2121894 ,  8220.09243397,  4506.17021388],\n",
       "       [ 3280.81544379,  8966.72679288,  5287.33385416],\n",
       "       [ 3363.54087891,  8121.65634751,  4747.97433027],\n",
       "       [ 3929.46877923,  8808.52525071,  5668.81967107],\n",
       "       [ 4280.66524509,  7771.26374238,  6229.94854239],\n",
       "       [ 3520.78105344,  9014.65623364,  5630.47531216],\n",
       "       [ 4132.61951618,  8855.40048821,  5854.66427131],\n",
       "       [ 3218.14952282,  7775.72797107,  4777.4960337 ],\n",
       "       [ 3448.69759751,  8851.17602647,  5488.1537208 ],\n",
       "       [ 3982.66893344,  8207.39484697,  5181.14122315],\n",
       "       [ 3245.59435089,  7976.95094239,  4546.82064949],\n",
       "       [ 3385.31070707,  8720.65236341,  5270.89645725],\n",
       "       [ 3339.1699211 ,  8564.86010051,  5613.46940619],\n",
       "       [ 3988.36404134,  8681.50734293,  5948.65170688],\n",
       "       [ 3481.40200276,  8884.25721692,  4564.31884133],\n",
       "       [ 3505.9801301 ,  8640.83615394,  5956.52414274],\n",
       "       [ 4318.51572069,  8763.60087035,  6604.74692229],\n",
       "       [ 3462.2977395 ,  8726.31314664,  5407.4776762 ],\n",
       "       [ 3792.93931599,  8287.82203428,  4996.13255059],\n",
       "       [ 3230.34906802,  8862.45986436,  5449.48141639],\n",
       "       [ 4271.37815596,  9007.4276884 ,  5608.62578502],\n",
       "       [ 3471.1806469 ,  8652.38570796,  5568.1396531 ],\n",
       "       [ 4325.82823958,  8686.73998352,  6674.9075147 ],\n",
       "       [ 3612.21860908,  9000.82147558,  5479.74607854],\n",
       "       [ 4318.02663194,  9112.68243011,  5634.17146396],\n",
       "       [ 4133.12895065,  8701.58273725,  5456.14614874],\n",
       "       [ 3309.26952899,  8761.85039227,  5398.92404268],\n",
       "       [ 3300.47871168,  8974.03981621,  5313.08684045],\n",
       "       [ 3328.70065188,  8545.4119884 ,  5594.75124229],\n",
       "       [ 3950.78895075,  8624.47001806,  5156.28913257],\n",
       "       [ 3231.36717436,  7779.85020385,  4725.28893611],\n",
       "       [ 3447.45751209,  8249.84884033,  4757.34176905],\n",
       "       [ 3766.35205203,  8457.66958848,  4785.16749234],\n",
       "       [ 3952.14039583,  7912.26164102,  5877.65465667],\n",
       "       [ 3309.95941567,  8516.0763296 ,  5509.96590802],\n",
       "       [ 3294.86508956,  8525.61894997,  5555.59006335],\n",
       "       [ 4210.92972782,  8545.50646154,  6563.06360177],\n",
       "       [ 3895.71035534,  8419.60613205,  5454.5492162 ],\n",
       "       [ 3256.49886674,  8888.53168188,  5461.43602979],\n",
       "       [ 3509.08002461,  8673.73829503,  5676.56566526],\n",
       "       [ 3317.71727319,  8644.37249588,  5454.474155  ],\n",
       "       [ 4086.52151388,  8783.91647985,  5411.92966785],\n",
       "       [ 3243.86253911,  8846.26899277,  5469.81320997],\n",
       "       [ 4426.90925854,  8728.4480755 ,  6803.24250607],\n",
       "       [ 3371.68023943,  8642.69947734,  5109.6190983 ],\n",
       "       [ 3419.95696942,  8680.85501117,  5414.03493368],\n",
       "       [ 3500.64864313,  8865.75709041,  5515.439549  ],\n",
       "       [ 3332.64694154,  8658.9327081 ,  5435.9710036 ],\n",
       "       [ 3553.77505938,  9004.1987672 ,  5345.94849466],\n",
       "       [ 3778.00129431,  8144.55323129,  5141.02740454],\n",
       "       [ 3317.24082223,  8533.1556542 ,  5560.22147808],\n",
       "       [ 3298.24915315,  8538.52128087,  5542.26463709],\n",
       "       [ 3333.80870153,  8986.81108174,  5530.53416516],\n",
       "       [ 3574.08553407,  8764.94304966,  6008.06363674],\n",
       "       [ 3281.43239811,  8800.76849674,  5375.57320528],\n",
       "       [ 3323.14364847,  8628.34237223,  5262.04331212],\n",
       "       [ 3318.29096414,  8721.93249454,  5443.71072551],\n",
       "       [ 3920.32541167,  8540.44882265,  5392.08362291],\n",
       "       [ 3956.56385613,  7594.44732915,  6228.94110466],\n",
       "       [ 4104.92502687,  8330.56530351,  5302.09072356],\n",
       "       [ 3585.53545431,  8751.59919558,  6006.03485919],\n",
       "       [ 3954.1104487 ,  7632.89438044,  6179.06035438],\n",
       "       [ 4161.94526477,  8686.78877697,  5328.0179822 ],\n",
       "       [ 4401.99981678,  8903.88840365,  6092.98645409],\n",
       "       [ 3321.17248463,  8970.52042552,  5361.24427688],\n",
       "       [ 3321.55705653,  8654.40411715,  5425.04414491],\n",
       "       [ 3349.2625832 ,  8540.86629636,  5608.84512739],\n",
       "       [ 3591.07765279,  8980.40051664,  5449.3599784 ],\n",
       "       [ 4482.91820746,  8980.12069089,  5615.54420206],\n",
       "       [ 4050.0033789 ,  8780.56939896,  4928.97649019],\n",
       "       [ 3537.01505427,  8678.43292603,  5966.39117397],\n",
       "       [ 3335.6471413 ,  8571.70004633,  5329.6866738 ],\n",
       "       [ 3301.99713558,  8623.76939287,  5425.86698211],\n",
       "       [ 3512.22990235,  8254.37554039,  4953.50715451],\n",
       "       [ 3351.02025421,  8622.77998229,  5095.74051938],\n",
       "       [ 3610.41086569,  9007.97503296,  5460.5412081 ],\n",
       "       [ 3438.25366198,  8710.13948496,  5449.76618222],\n",
       "       [ 3523.74925295,  8887.5016146 ,  5650.04433776],\n",
       "       [ 3598.50721448,  9008.69903009,  5306.47535635],\n",
       "       [ 3977.87616671,  8419.15691587,  5307.72505953],\n",
       "       [ 4057.9481261 ,  8825.81959832,  5424.24014308],\n",
       "       [ 3414.81632185,  8796.67464481,  5334.52163812],\n",
       "       [ 3286.52375421,  8669.80856664,  4661.56042744],\n",
       "       [ 3334.35582681,  8544.86881299,  5333.18712474],\n",
       "       [ 4283.37485783,  8893.15083568,  6225.75980698],\n",
       "       [ 3674.19996556,  8829.440946  ,  6073.94638296],\n",
       "       [ 4277.21114427,  8935.37929659,  6196.90724804],\n",
       "       [ 4089.63906605,  8847.32976842,  5854.67117558],\n",
       "       [ 3577.24675072,  8898.95075737,  5601.71487798],\n",
       "       [ 4277.06949004,  9143.51142695,  5768.43765838],\n",
       "       [ 9982.58049829,  3713.63284791, 10489.74113635],\n",
       "       [ 9617.36559347,  3776.09580669, 10119.61287121],\n",
       "       [ 9498.21531514,  5916.24389689,  9403.92428232],\n",
       "       [10057.17639537,  3678.33979999, 10586.64130438],\n",
       "       [ 7336.73326813,  6091.41736887,  7978.88392758],\n",
       "       [ 9167.1752754 ,  4762.28891444,  9394.52195796],\n",
       "       [ 7765.04256803,  5724.84424443,  8615.17088092],\n",
       "       [ 9889.82339387,  5301.06612212, 10766.33511341],\n",
       "       [ 9437.51747176,  3548.17798752,  9576.24173769],\n",
       "       [ 9364.99760952,  5287.28611865,  9382.05296396],\n",
       "       [ 9886.99187034,  5266.79516177, 10745.90990495],\n",
       "       [ 9682.3478324 ,  4209.26081912,  9893.77074936],\n",
       "       [ 9124.66317643,  3643.68505585,  9197.45005705],\n",
       "       [ 8951.71593055,  5579.89645417,  9357.44938163],\n",
       "       [ 7137.30525337,  6268.17497855,  6503.65424945],\n",
       "       [ 9691.87962445,  5477.40344884, 10639.05611502],\n",
       "       [ 9378.06407039,  6100.73221689,  9361.31794833],\n",
       "       [ 9317.36832353,  5093.25783943,  9417.3808978 ],\n",
       "       [ 9318.6917112 ,  5064.01659274,  9437.59298861],\n",
       "       [ 9876.64926523,  3696.5639134 , 10461.30808991],\n",
       "       [ 9396.76466137,  5352.34433574,  9389.43688862],\n",
       "       [ 9235.92358642,  6383.65215589,  9377.01358742],\n",
       "       [ 8425.23221985,  5666.52615667,  9375.46025399],\n",
       "       [ 8384.61645097,  7173.29703537,  8859.27705959],\n",
       "       [ 9083.33902447,  4983.2761753 ,  9314.08778958],\n",
       "       [ 9913.87032023,  4183.98699252, 10436.00010736],\n",
       "       [ 8641.74342185,  6396.9682129 ,  9082.75172675],\n",
       "       [ 9138.71285352,  6077.08694065,  8868.40481815],\n",
       "       [ 8545.01123115,  5565.09727169,  9532.00009073],\n",
       "       [ 9460.0239086 ,  5491.57741831,  9399.45319431],\n",
       "       [ 8970.47953077,  5242.38098952,  9206.39571872],\n",
       "       [ 7314.09565945,  7456.57094759,  8365.4328371 ],\n",
       "       [ 9239.81193732,  5031.96370669,  9104.4501034 ],\n",
       "       [ 9367.15759665,  5475.93257648, 10301.37431483],\n",
       "       [ 8664.27312988,  7864.84989221,  9048.86710508],\n",
       "       [ 9446.16699917,  5462.50336109, 10393.23987433],\n",
       "       [ 9125.01351337,  6195.25873276,  8832.4492109 ],\n",
       "       [ 6995.68616397,  6005.45583841,  7416.58605775],\n",
       "       [ 9339.30556809,  5144.22589628, 10249.03586884],\n",
       "       [ 9688.91073569,  4486.55839994,  9763.48074981],\n",
       "       [ 9348.04755271,  5510.88790121, 10255.63966458],\n",
       "       [ 9895.90387003,  5277.04063155, 10755.18192401],\n",
       "       [ 7954.88696457,  7275.33178783,  8783.78331022],\n",
       "       [ 8719.13114904,  5506.21834657,  9711.69381478],\n",
       "       [ 9588.06284404,  4692.49509698, 10332.68309227],\n",
       "       [ 9325.00752649,  5060.94327847,  9457.39341214],\n",
       "       [ 8341.43351917,  4759.17363674,  9483.52133831],\n",
       "       [ 9728.64636072,  4185.94319834,  9909.93441153],\n",
       "       [ 8881.88969061,  5455.91246886,  9875.28049091],\n",
       "       [ 9720.56788802,  5448.34037926, 10659.32037529],\n",
       "       [ 9806.87919239,  4348.6293349 , 10414.40257618],\n",
       "       [ 8105.38999642,  7174.91908583,  8936.15917475],\n",
       "       [ 9836.09996905,  3727.08390833, 10431.93753159],\n",
       "       [ 9868.93098284,  5248.52091804, 10730.522929  ],\n",
       "       [ 9744.59241494,  4265.35676314,  9884.70293134],\n",
       "       [ 9814.6331127 ,  3750.36398377, 10417.59888931],\n",
       "       [ 9698.28930945,  4190.13700649,  9900.34664583],\n",
       "       [ 8666.02410347,  6362.76749492,  8913.78664871],\n",
       "       [ 9756.10596596,  5428.51215856, 10685.77596084],\n",
       "       [ 8771.76090876,  5956.23281594,  9011.41729245],\n",
       "       [ 8724.91136536,  6173.62744644,  8965.2848388 ],\n",
       "       [ 9419.54219075,  3535.37911406,  9561.59467504],\n",
       "       [ 9352.36290012,  4913.17648513,  9661.14035924],\n",
       "       [ 9545.03944528,  4809.32781065, 10323.35184461],\n",
       "       [10012.68109491,  3664.78997791, 10560.14561541],\n",
       "       [ 9910.45995101,  4113.66013976,  9859.57828469],\n",
       "       [ 9965.83389159,  3718.77970858, 10471.14024868],\n",
       "       [ 9879.92341522,  5285.84265969, 10763.75214818],\n",
       "       [ 9528.55416505,  3825.75579441, 10024.89282053],\n",
       "       [ 9712.64931644,  4288.17722212,  9628.68959105],\n",
       "       [ 9556.22610029,  3908.59412725, 10219.63910304],\n",
       "       [ 9534.42496362,  5715.66608064,  9435.11511658],\n",
       "       [ 9891.43941359,  5323.21129587, 10777.08025687],\n",
       "       [ 7367.73691106,  8873.96586735,  7981.13867793],\n",
       "       [ 9250.09741712,  5498.03479645,  9164.85362536],\n",
       "       [ 7780.06790582,  5172.89305532,  7244.20080223],\n",
       "       [10037.0674428 ,  3662.17140206, 10574.97406967],\n",
       "       [ 9470.88623726,  5460.71862566, 10422.49186651],\n",
       "       [ 8857.86372249,  5706.68439161,  8890.2178274 ],\n",
       "       [ 9032.37033701,  5106.14102966,  9264.62677049],\n",
       "       [ 9141.96481272,  4392.56260459,  9671.37209597],\n",
       "       [ 9680.14142244,  4192.91250031,  9884.67500375],\n",
       "       [ 9363.35224394,  5506.0042987 , 10282.893837  ],\n",
       "       [ 9981.22266046,  3679.8352379 , 10544.11838666],\n",
       "       [ 8769.1978301 ,  3942.66126979,  8741.10394609],\n",
       "       [ 9049.15699474,  3651.44997905,  9117.15962816],\n",
       "       [ 9511.43363525,  3571.88532658,  9665.29644638],\n",
       "       [ 9410.75710924,  4886.00777006,  9817.76778866],\n",
       "       [ 9373.84480185,  4901.71457617,  9722.2911324 ],\n",
       "       [ 8991.0263057 ,  5490.00304919,  8930.78012125],\n",
       "       [10034.47387196,  3656.70730533, 10577.75286978],\n",
       "       [ 8930.57458425,  3774.01944158,  8960.57760147],\n",
       "       [ 8193.30555967,  6303.15669785,  8977.87645993],\n",
       "       [ 9412.07438392,  6035.30699814,  9372.76867887],\n",
       "       [ 9290.77902765,  5531.86542793, 10113.45253483],\n",
       "       [ 9327.04439354,  5158.40907789,  9397.46905152],\n",
       "       [ 9600.55334312,  5511.13770714, 10563.60530189],\n",
       "       [ 8954.51167376,  4766.7480305 ,  9544.85874622],\n",
       "       [ 9305.91628124,  6681.71050067,  9748.06155185],\n",
       "       [ 9665.40415483,  4535.50220995,  9734.51330729]])"
      ]
     },
     "execution_count": 36,
     "metadata": {},
     "output_type": "execute_result"
    }
   ],
   "source": [
    "fruits_1d = fruits.reshape(-1,100*100)\n",
    "\n",
    "kmeans = KMeans(n_clusters=3, random_state=42)\n",
    "kmeans.fit(fruits_1d)\n",
    "kmeans.transform(fruits_1d)\n"
   ]
  },
  {
   "cell_type": "code",
   "execution_count": 37,
   "metadata": {},
   "outputs": [
    {
     "data": {
      "text/plain": [
       "(array([0, 1, 2], dtype=int32), array([112,  98,  90]))"
      ]
     },
     "execution_count": 37,
     "metadata": {},
     "output_type": "execute_result"
    }
   ],
   "source": [
    "np.unique(kmeans.labels_, return_counts=True)"
   ]
  },
  {
   "cell_type": "code",
   "execution_count": null,
   "metadata": {},
   "outputs": [],
   "source": [
    "# 각 클러스터별 이미지 시각화\n",
    "draw_fruits(fruits[kmeans.labels_==0])\n",
    "draw_fruits(fruits[kmeans.labels_==1])\n",
    "draw_fruits(fruits[kmeans.labels_==2])"
   ]
  },
  {
   "cell_type": "code",
   "execution_count": 41,
   "metadata": {},
   "outputs": [
    {
     "data": {
      "image/png": "[encoded data removed]",
      "text/plain": [
       "<Figure size 300x100 with 3 Axes>"
      ]
     },
     "metadata": {},
     "output_type": "display_data"
    }
   ],
   "source": [
    "draw_fruits(kmeans.cluster_centers_.reshape(-1,100,100))"
   ]
  },
  {
   "cell_type": "code",
   "execution_count": 42,
   "metadata": {},
   "outputs": [
    {
     "data": {
      "text/plain": [
       "(300, 2)"
      ]
     },
     "execution_count": 42,
     "metadata": {},
     "output_type": "execute_result"
    }
   ],
   "source": [
    "pca = PCA(n_components=2)\n",
    "fruits_pca = pca.fit_transform(fruits_1d)\n",
    "fruits_pca.shape"
   ]
  },
  {
   "cell_type": "code",
   "execution_count": 43,
   "metadata": {},
   "outputs": [
    {
     "data": {
      "text/plain": [
       "array([2, 2, 2, 2, 2, 0, 2, 2, 2, 2, 2, 2, 2, 2, 2, 2, 2, 2, 0, 2, 2, 2,\n",
       "       2, 2, 2, 2, 2, 2, 2, 2, 2, 2, 2, 2, 2, 2, 2, 2, 2, 2, 2, 2, 0, 2,\n",
       "       0, 2, 2, 2, 2, 2, 2, 2, 0, 2, 2, 2, 2, 2, 2, 2, 2, 2, 0, 0, 2, 2,\n",
       "       2, 2, 2, 2, 2, 2, 0, 2, 2, 2, 2, 2, 2, 2, 2, 2, 2, 2, 2, 2, 2, 2,\n",
       "       2, 2, 2, 0, 2, 2, 2, 2, 2, 2, 2, 2, 0, 0, 0, 0, 0, 0, 0, 0, 0, 0,\n",
       "       0, 0, 0, 0, 0, 0, 0, 0, 0, 0, 0, 0, 0, 0, 0, 0, 0, 0, 0, 0, 0, 0,\n",
       "       0, 0, 0, 0, 0, 0, 0, 0, 0, 0, 0, 0, 0, 0, 0, 0, 0, 0, 0, 0, 0, 0,\n",
       "       0, 0, 0, 0, 0, 0, 0, 0, 0, 0, 0, 0, 0, 0, 0, 0, 0, 0, 0, 0, 0, 0,\n",
       "       0, 0, 0, 0, 0, 0, 0, 0, 0, 0, 0, 0, 0, 0, 0, 0, 0, 0, 0, 0, 0, 0,\n",
       "       0, 0, 1, 1, 1, 1, 1, 1, 1, 1, 1, 1, 1, 1, 1, 1, 1, 1, 1, 1, 1, 1,\n",
       "       1, 1, 1, 1, 1, 1, 1, 1, 1, 1, 1, 1, 1, 1, 1, 1, 1, 1, 1, 1, 1, 1,\n",
       "       1, 1, 1, 1, 1, 1, 1, 1, 1, 1, 1, 1, 1, 1, 1, 1, 1, 1, 1, 1, 1, 1,\n",
       "       1, 1, 1, 1, 1, 1, 1, 1, 1, 0, 1, 1, 1, 1, 1, 1, 1, 1, 1, 1, 1, 1,\n",
       "       1, 1, 1, 1, 1, 1, 1, 1, 1, 1, 1, 1, 1, 1], dtype=int32)"
      ]
     },
     "execution_count": 43,
     "metadata": {},
     "output_type": "execute_result"
    }
   ],
   "source": [
    "kmeans = KMeans(n_clusters=3, random_state=42)\n",
    "kmeans.fit(fruits_pca)\n",
    "kmeans.labels_"
   ]
  },
  {
   "cell_type": "code",
   "execution_count": 44,
   "metadata": {},
   "outputs": [
    {
     "data": {
      "text/plain": [
       "(array([0, 1, 2], dtype=int32), array([110,  99,  91]))"
      ]
     },
     "execution_count": 44,
     "metadata": {},
     "output_type": "execute_result"
    }
   ],
   "source": [
    "np.unique(kmeans.labels_, return_counts=True)"
   ]
  },
  {
   "cell_type": "code",
   "execution_count": null,
   "metadata": {},
   "outputs": [],
   "source": [
    "draw_fruits(fruits[kmeans.labels_==0])\n",
    "draw_fruits(fruits[kmeans.labels_==1])\n",
    "draw_fruits(fruits[kmeans.labels_==2])"
   ]
  },
  {
   "cell_type": "code",
   "execution_count": 48,
   "metadata": {},
   "outputs": [
    {
     "name": "stdout",
     "output_type": "stream",
     "text": [
      "[0]\n"
     ]
    },
    {
     "data": {
      "image/png": "[encoded data removed]",
      "text/plain": [
       "<Figure size 100x100 with 1 Axes>"
      ]
     },
     "metadata": {},
     "output_type": "display_data"
    }
   ],
   "source": [
    "pred = kmeans.predict(fruits_pca[100:101])\n",
    "\n",
    "print(pred)\n",
    "draw_fruits(fruits[100:101])"
   ]
  },
  {
   "cell_type": "markdown",
   "metadata": {},
   "source": [
    "### 최적의 k 값 찾기\n",
    "- inertia : 중심점으로부터 각 데이터포인트의 분산값\n",
    "    - 이너셔 값이 작을수록 군집이 잘 되어 있다고 볼 수 있음\n",
    "\n",
    "- Elbow 기법 : inertia값이 급격히 감소하는 kr값을 최적의 값으로 판단\n"
   ]
  },
  {
   "cell_type": "code",
   "execution_count": 53,
   "metadata": {},
   "outputs": [
    {
     "data": {
      "text/plain": [
       "[1207702120.5969849,\n",
       " 461196976.3137546,\n",
       " 322138106.6763312,\n",
       " 246026283.286007,\n",
       " 187383136.3143462,\n",
       " 152251955.5613401,\n",
       " 144887657.0783289,\n",
       " 120809362.88993698,\n",
       " 108134288.3432776,\n",
       " 98990244.2730245]"
      ]
     },
     "execution_count": 53,
     "metadata": {},
     "output_type": "execute_result"
    }
   ],
   "source": [
    "inertias = []\n",
    "for k in range(2,12):\n",
    "    kmeans = KMeans(n_clusters=k, random_state=42)\n",
    "    kmeans.fit(fruits_pca)\n",
    "    inertias.append(kmeans.inertia_) # inertia 속성 확인 가능\n",
    "    \n",
    "inertias"
   ]
  },
  {
   "cell_type": "code",
   "execution_count": 54,
   "metadata": {},
   "outputs": [
    {
     "data": {
      "image/png": "[encoded data removed]",
      "text/plain": [
       "<Figure size 640x480 with 1 Axes>"
      ]
     },
     "metadata": {},
     "output_type": "display_data"
    }
   ],
   "source": [
    "plt.plot(range(2,12), inertias)\n",
    "plt.xlabel('X')\n",
    "plt.ylabel('inertia')\n",
    "plt.show()"
   ]
  },
  {
   "cell_type": "markdown",
   "metadata": {},
   "source": [
    "# 작동 단계\n",
    "1. K개의 중심점 임의 선택\n",
    "2. 각 데이터 포인트를 가장 가까운 중심점에 할당 -> 군집 형성\n",
    "3. 각 군집의 데이터 포인트"
   ]
  }
 ],
 "metadata": {
  "kernelspec": {
   "display_name": "pystudy_env",
   "language": "python",
   "name": "python3"
  },
  "language_info": {
   "codemirror_mode": {
    "name": "ipython",
    "version": 3
   },
   "file_extension": ".py",
   "mimetype": "text/x-python",
   "name": "python",
   "nbconvert_exporter": "python",
   "pygments_lexer": "ipython3",
   "version": "3.12.8"
  }
 },
 "nbformat": 4,
 "nbformat_minor": 2
}
