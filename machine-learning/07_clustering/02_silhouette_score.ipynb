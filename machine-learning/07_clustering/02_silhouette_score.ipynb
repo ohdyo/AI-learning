{
 "cells": [
  {
   "cell_type": "markdown",
   "metadata": {},
   "source": [
    "### 군집 평가 : Silhouette Score\n",
    "- 실루엣 계수를 통해 군집화의 품질 평가\n",
    "- 실루엣 계수는 -1에서 1 사이의 값을 가짐\n",
    "    - 1에 가까울수록 군집도가 좋음 (다른 군집과 잘 분리되어 있음)\n",
    "    - 0은군집의 경계에 위치함\n",
    "    - -1은 다른 군집과 겹치거나 잘못 분류된 경우"
   ]
  },
  {
   "cell_type": "markdown",
   "metadata": {},
   "source": [
    "***주요 속성***\n",
    "- silhouette_sample : 개별 데이터의 포인트의 점수\n",
    "- silhouette_score : 전체 데이터포인트의 평균 값"
   ]
  },
  {
   "cell_type": "code",
   "execution_count": 1,
   "metadata": {},
   "outputs": [],
   "source": [
    "import numpy as np\n",
    "import pandas as pd\n",
    "import matplotlib.pyplot as plt\n",
    "import seaborn as sns"
   ]
  },
  {
   "cell_type": "code",
   "execution_count": 2,
   "metadata": {},
   "outputs": [],
   "source": [
    "from sklearn.datasets import load_iris\n",
    "\n",
    "iris = load_iris()\n",
    "\n",
    "iris_df = pd.DataFrame(iris.data, columns=iris.feature_names)\n",
    "iris_df['species'] = iris.target"
   ]
  },
  {
   "cell_type": "code",
   "execution_count": 5,
   "metadata": {},
   "outputs": [],
   "source": [
    "from sklearn.cluster import KMeans\n",
    "\n",
    "kmeans = KMeans(n_clusters=3, init='k-means++', max_iter=100, random_state=0)\n",
    "kmeans.fit(iris.data) # 입력 데이터를 통해 중심점 계산\n",
    "iris_df['cluter'] = kmeans.labels_"
   ]
  },
  {
   "cell_type": "code",
   "execution_count": 8,
   "metadata": {},
   "outputs": [],
   "source": [
    "#실루엣 계수 측정\n",
    "from sklearn.metrics import silhouette_samples,silhouette_score\n",
    "\n",
    "sil_samples = silhouette_samples(iris.data, kmeans.labels_)\n",
    "sil_samples.shape\n",
    "# silhouette_score(iris.data, kmeans.labels_)\n",
    "iris_df['sil_score'] = sil_samples"
   ]
  },
  {
   "cell_type": "code",
   "execution_count": 10,
   "metadata": {},
   "outputs": [
    {
     "data": {
      "text/plain": [
       "(np.float64(0.551191604619592), np.float64(0.551191604619592))"
      ]
     },
     "execution_count": 10,
     "metadata": {},
     "output_type": "execute_result"
    }
   ],
   "source": [
    "# 전체 클러스터의 실루엣 계수 = 개별 데이터 포이트의 실루엣 계수 평균\n",
    "sil_score = silhouette_score(iris.data, kmeans.labels_)\n",
    "sil_score, iris_df['sil_score'].mean()\n"
   ]
  },
  {
   "cell_type": "code",
   "execution_count": null,
   "metadata": {},
   "outputs": [],
   "source": []
  }
 ],
 "metadata": {
  "kernelspec": {
   "display_name": "pystudy_env",
   "language": "python",
   "name": "python3"
  },
  "language_info": {
   "codemirror_mode": {
    "name": "ipython",
    "version": 3
   },
   "file_extension": ".py",
   "mimetype": "text/x-python",
   "name": "python",
   "nbconvert_exporter": "python",
   "pygments_lexer": "ipython3",
   "version": "3.12.8"
  }
 },
 "nbformat": 4,
 "nbformat_minor": 2
}
